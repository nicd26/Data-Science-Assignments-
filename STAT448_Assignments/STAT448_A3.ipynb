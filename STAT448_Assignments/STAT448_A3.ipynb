{
  "nbformat": 4,
  "nbformat_minor": 0,
  "metadata": {
    "colab": {
      "provenance": []
    },
    "kernelspec": {
      "name": "python3",
      "display_name": "Python 3"
    }
  },
  "cells": [
    {
      "cell_type": "markdown",
      "metadata": {
        "id": "HzeboN1ONovT"
      },
      "source": [
        "# Importing needed libraries"
      ]
    },
    {
      "cell_type": "code",
      "metadata": {
        "id": "gQNaHkouNmcf"
      },
      "source": [
        "from __future__ import print_function\n",
        "%matplotlib inline\n",
        "\n",
        "import matplotlib.pyplot as plt\n",
        "import pandas as pd\n",
        "\n",
        "import numpy as np\n",
        "import seaborn as sns\n",
        "import warnings\n",
        "\n",
        "warnings.filterwarnings('ignore')\n",
        "pd.options.display.float_format = '{:,.2f}'.format\n",
        "pd.set_option('display.max_rows', 100)\n",
        "pd.set_option('display.max_columns', 200)\n",
        "\n",
        "import tensorflow as tf\n",
        "\n",
        "from datetime import datetime\n",
        "from matplotlib.colors import ListedColormap\n",
        "from sklearn.datasets import make_classification, make_moons, make_circles\n",
        "from sklearn.metrics import confusion_matrix, classification_report, mean_squared_error, mean_absolute_error, r2_score\n",
        "from sklearn.linear_model import LogisticRegression\n",
        "from sklearn.utils import shuffle\n",
        "from keras.models import Sequential\n",
        "from keras.layers import Dense, Dropout, BatchNormalization, Activation\n",
        "from keras.optimizers import *\n",
        "from tensorflow.keras.optimizers import *\n",
        "from keras.callbacks import EarlyStopping\n",
        "from keras.utils.np_utils import to_categorical\n",
        "from sklearn.preprocessing import StandardScaler, LabelEncoder, OneHotEncoder, MinMaxScaler\n",
        "from sklearn.model_selection import train_test_split, cross_val_score, StratifiedKFold, KFold\n",
        "import keras.backend as K\n",
        "from keras.wrappers.scikit_learn import KerasClassifier"
      ],
      "execution_count": null,
      "outputs": []
    },
    {
      "cell_type": "markdown",
      "metadata": {
        "id": "TGx2mjVyMwrY"
      },
      "source": [
        "# Utility functions"
      ]
    },
    {
      "cell_type": "code",
      "metadata": {
        "id": "k10fC-WcM1uQ"
      },
      "source": [
        "def plot_loss_accuracy(history):\n",
        "    historydf = pd.DataFrame(history.history, index=history.epoch)\n",
        "    plt.figure(figsize=(8, 6))\n",
        "    historydf.plot(ylim=(0, max(1, historydf.values.max())))\n",
        "    loss = history.history['loss'][-1]\n",
        "    acc = history.history['accuracy'][-1]\n",
        "    plt.title('Loss: %.3f, Accuracy: %.3f' % (loss, acc))"
      ],
      "execution_count": null,
      "outputs": []
    },
    {
      "cell_type": "markdown",
      "metadata": {
        "id": "0U7exqe5N7hT"
      },
      "source": [
        "# Main section"
      ]
    },
    {
      "cell_type": "code",
      "metadata": {
        "id": "bK9geVGkN5W1",
        "colab": {
          "base_uri": "https://localhost:8080/"
        },
        "outputId": "01beb7d4-867c-49d1-e4c4-b987eb505aa3"
      },
      "source": [
        "from keras.datasets import fashion_mnist\n",
        "\n",
        "\n",
        "(x_train, y_train), (x_test, y_test) = fashion_mnist.load_data()"
      ],
      "execution_count": null,
      "outputs": [
        {
          "output_type": "stream",
          "name": "stdout",
          "text": [
            "Downloading data from https://storage.googleapis.com/tensorflow/tf-keras-datasets/train-labels-idx1-ubyte.gz\n",
            "29515/29515 [==============================] - 0s 0us/step\n",
            "Downloading data from https://storage.googleapis.com/tensorflow/tf-keras-datasets/train-images-idx3-ubyte.gz\n",
            "26421880/26421880 [==============================] - 0s 0us/step\n",
            "Downloading data from https://storage.googleapis.com/tensorflow/tf-keras-datasets/t10k-labels-idx1-ubyte.gz\n",
            "5148/5148 [==============================] - 0s 0us/step\n",
            "Downloading data from https://storage.googleapis.com/tensorflow/tf-keras-datasets/t10k-images-idx3-ubyte.gz\n",
            "4422102/4422102 [==============================] - 0s 0us/step\n"
          ]
        }
      ]
    },
    {
      "cell_type": "code",
      "metadata": {
        "id": "dPwly-D1OQV8",
        "colab": {
          "base_uri": "https://localhost:8080/"
        },
        "outputId": "4e9e1493-f4b4-44b2-d15d-21cd7d5c4db2"
      },
      "source": [
        "print(\"Training data shape: \", x_train.shape) # (60000, 28, 28) -- 60000 images, each 28X28 pixels\n",
        "print(\"Test data shape\", x_test.shape) # (10000, 28, 28) -- 10000 images, each 28x28\n",
        "print(\"Training response shape:, \", y_train.shape)\n",
        "print(\"Testing response shape: \", y_test.shape)\n",
        "\n",
        "image_size = (x_train.shape[1], x_train.shape[2])"
      ],
      "execution_count": null,
      "outputs": [
        {
          "output_type": "stream",
          "name": "stdout",
          "text": [
            "Training data shape:  (60000, 28, 28)\n",
            "Test data shape (10000, 28, 28)\n",
            "Training response shape:,  (60000,)\n",
            "Testing response shape:  (10000,)\n"
          ]
        }
      ]
    },
    {
      "cell_type": "code",
      "metadata": {
        "id": "X6mAeu4Ihwql",
        "colab": {
          "base_uri": "https://localhost:8080/"
        },
        "outputId": "1ef72f10-a846-42cd-9be7-26689964b986"
      },
      "source": [
        "# Flatten the images\n",
        "image_vector_size = image_size[0] * image_size[1]\n",
        "x_train = x_train.reshape(x_train.shape[0], image_vector_size) /255.\n",
        "x_test = x_test.reshape(x_test.shape[0], image_vector_size) /255.\n",
        "print(x_train.shape)"
      ],
      "execution_count": null,
      "outputs": [
        {
          "output_type": "stream",
          "name": "stdout",
          "text": [
            "(60000, 784)\n"
          ]
        }
      ]
    },
    {
      "cell_type": "code",
      "metadata": {
        "id": "9SPj-f-tOa48",
        "colab": {
          "base_uri": "https://localhost:8080/"
        },
        "outputId": "3961065f-fdb3-4b18-a483-267fc65335c2"
      },
      "source": [
        "print(\"First 5 training labels: \", y_train[:5]) # [5, 0, 4, 1, 9]\n",
        "\n",
        "# Convert to \"one-hot\" vectors using the to_categorical function\n",
        "num_classes = 10\n",
        "y_train = to_categorical(y_train, num_classes)\n",
        "y_test = to_categorical(y_test, num_classes)\n",
        "print(\"First 5 training lables as one-hot encoded vectors:\\n\", y_train[:5])\n",
        "print(y_train.shape)"
      ],
      "execution_count": null,
      "outputs": [
        {
          "output_type": "stream",
          "name": "stdout",
          "text": [
            "First 5 training labels:  [9 0 0 3 0]\n",
            "First 5 training lables as one-hot encoded vectors:\n",
            " [[0. 0. 0. 0. 0. 0. 0. 0. 0. 1.]\n",
            " [1. 0. 0. 0. 0. 0. 0. 0. 0. 0.]\n",
            " [1. 0. 0. 0. 0. 0. 0. 0. 0. 0.]\n",
            " [0. 0. 0. 1. 0. 0. 0. 0. 0. 0.]\n",
            " [1. 0. 0. 0. 0. 0. 0. 0. 0. 0.]]\n",
            "(60000, 10)\n"
          ]
        }
      ]
    },
    {
      "cell_type": "code",
      "metadata": {
        "id": "FFsKU5w83FQn"
      },
      "source": [
        "def build_dropout_model():\n",
        "  model = Sequential()\n",
        "\n",
        "  # The input layer requires the special input_shape parameter which should match\n",
        "  # the shape of our training data.\n",
        "  model.add(Dense(units=32, activation='sigmoid', input_shape=(image_vector_size,)))\n",
        "  model.add(Dropout(0.2))\n",
        "  model.add(Dense(units=num_classes, activation='softmax'))\n",
        "  return model\n",
        "\n",
        "def build_deeper_model():\n",
        "  model = Sequential()\n",
        "  model.add(Dense(units=64, activation='sigmoid', input_shape=(image_vector_size,)))\n",
        "  model.add(Dense(units=32, activation='sigmoid'))\n",
        "  model.add(Dense(units=num_classes, activation='softmax'))\n",
        "  return model\n",
        "\n"
      ],
      "execution_count": null,
      "outputs": []
    },
    {
      "cell_type": "code",
      "metadata": {
        "id": "V_F2wCrW9VzC"
      },
      "source": [
        "opt_dict = {'nadam':tf.keras.optimizers.Nadam,\n",
        "            'adam':tf.keras.optimizers.Adam,\n",
        "            'sgd':tf.keras.optimizers.SGD,\n",
        "            'rmsprop':tf.keras.optimizers.RMSprop,\n",
        "            'adadelta':tf.keras.optimizers.Adadelta,\n",
        "            'adagrad':tf.keras.optimizers.Adagrad}"
      ],
      "execution_count": null,
      "outputs": []
    },
    {
      "cell_type": "code",
      "metadata": {
        "id": "uvYh3O-BWXfU",
        "colab": {
          "base_uri": "https://localhost:8080/",
          "height": 282
        },
        "outputId": "77439c42-7a07-40cd-c311-7f5fae5eb20a"
      },
      "source": [
        "# load data\n",
        "(x_train1, y_train1), (x_test1, y_test1) = tf.keras.datasets.fashion_mnist.load_data()\n",
        "\n",
        "x_train1[0].shape\n",
        "plt.imshow(x_train1[0], cmap='gray')"
      ],
      "execution_count": null,
      "outputs": [
        {
          "output_type": "execute_result",
          "data": {
            "text/plain": [
              "<matplotlib.image.AxesImage at 0x7fce350b42d0>"
            ]
          },
          "metadata": {},
          "execution_count": 30
        },
        {
          "output_type": "display_data",
          "data": {
            "text/plain": [
              "<Figure size 432x288 with 1 Axes>"
            ],
            "image/png": "[encoded data removed]"
          },
          "metadata": {
            "needs_background": "light"
          }
        }
      ]
    },
    {
      "cell_type": "code",
      "source": [
        "\n",
        "y_train = to_categorical(y_train, 10)\n",
        "y_test = to_categorical(y_test, 10)\n",
        "\n",
        "y_train[0]"
      ],
      "metadata": {
        "colab": {
          "base_uri": "https://localhost:8080/"
        },
        "id": "1vzVttYCXqOK",
        "outputId": "60049f9f-0454-4001-ec4f-eed1e0808a00"
      },
      "execution_count": null,
      "outputs": [
        {
          "output_type": "execute_result",
          "data": {
            "text/plain": [
              "array([0., 0., 0., 0., 0., 0., 0., 0., 0., 1.], dtype=float32)"
            ]
          },
          "metadata": {},
          "execution_count": 32
        }
      ]
    },
    {
      "cell_type": "code",
      "source": [
        "from keras.models import Sequential\n",
        "from tensorflow.keras import layers"
      ],
      "metadata": {
        "id": "K_TzaoAgX858"
      },
      "execution_count": null,
      "outputs": []
    },
    {
      "cell_type": "code",
      "metadata": {
        "id": "bAczwNaR5adn",
        "colab": {
          "base_uri": "https://localhost:8080/"
        },
        "outputId": "df084f6a-cb42-4066-a6ce-9c45eb88e0f3"
      },
      "source": [
        "#Model 1\n",
        "\n",
        "model1 = Sequential([\n",
        "    layers.Rescaling(scale=1./255, input_shape=(28,28)),\n",
        "    layers.Flatten(),\n",
        "    layers.Dense(32, activation=\"sigmoid\"),\n",
        "    layers.Dense(10, activation=\"softmax\")\n",
        "])\n",
        "\n",
        "model1.summary()\n"
      ],
      "execution_count": null,
      "outputs": [
        {
          "output_type": "stream",
          "name": "stdout",
          "text": [
            "Model: \"sequential_9\"\n",
            "_________________________________________________________________\n",
            " Layer (type)                Output Shape              Param #   \n",
            "=================================================================\n",
            " rescaling (Rescaling)       (None, 28, 28)            0         \n",
            "                                                                 \n",
            " flatten (Flatten)           (None, 784)               0         \n",
            "                                                                 \n",
            " dense_19 (Dense)            (None, 32)                25120     \n",
            "                                                                 \n",
            " dense_20 (Dense)            (None, 10)                330       \n",
            "                                                                 \n",
            "=================================================================\n",
            "Total params: 25,450\n",
            "Trainable params: 25,450\n",
            "Non-trainable params: 0\n",
            "_________________________________________________________________\n"
          ]
        }
      ]
    },
    {
      "cell_type": "code",
      "source": [
        "model1.compile(optimizer= tf.keras.optimizers.SGD(learning_rate = .0001), \n",
        "               loss='categorical_crossentropy',\n",
        "               metrics=['accuracy'])\n",
        "history1 = model1.fit(x_train, y_train, batch_size=16, epochs=5, verbose=True, validation_split=.1)\n"
      ],
      "metadata": {
        "colab": {
          "base_uri": "https://localhost:8080/"
        },
        "id": "ACnhaspaY-xq",
        "outputId": "db9e787d-b252-41ad-a80a-da7d66a5ae2f"
      },
      "execution_count": null,
      "outputs": [
        {
          "output_type": "stream",
          "name": "stdout",
          "text": [
            "Epoch 1/5\n",
            "3375/3375 [==============================] - 7s 2ms/step - loss: 2.4120 - accuracy: 0.0865 - val_loss: 2.3280 - val_accuracy: 0.1035\n",
            "Epoch 2/5\n",
            "3375/3375 [==============================] - 6s 2ms/step - loss: 2.2626 - accuracy: 0.1143 - val_loss: 2.2103 - val_accuracy: 0.1358\n",
            "Epoch 3/5\n",
            "3375/3375 [==============================] - 6s 2ms/step - loss: 2.1661 - accuracy: 0.1862 - val_loss: 2.1275 - val_accuracy: 0.2593\n",
            "Epoch 4/5\n",
            "3375/3375 [==============================] - 6s 2ms/step - loss: 2.0928 - accuracy: 0.3338 - val_loss: 2.0600 - val_accuracy: 0.4015\n",
            "Epoch 5/5\n",
            "3375/3375 [==============================] - 6s 2ms/step - loss: 2.0303 - accuracy: 0.4315 - val_loss: 2.0004 - val_accuracy: 0.4667\n"
          ]
        }
      ]
    },
    {
      "cell_type": "code",
      "source": [
        "plot_loss_accuracy(history1)\n",
        "loss, accuracy  = model1.evaluate(x_test, y_test, verbose=False)\n",
        "print(f'Test loss: {loss:.3}')\n",
        "print(f'Test accuracy: {accuracy:.3}')"
      ],
      "metadata": {
        "colab": {
          "base_uri": "https://localhost:8080/",
          "height": 333
        },
        "id": "4brFqj8gaN38",
        "outputId": "2447ddd0-69de-4ad0-a751-5db8d77105fe"
      },
      "execution_count": null,
      "outputs": [
        {
          "output_type": "stream",
          "name": "stdout",
          "text": [
            "Test loss: 2.0\n",
            "Test accuracy: 0.459\n"
          ]
        },
        {
          "output_type": "display_data",
          "data": {
            "text/plain": [
              "<Figure size 576x432 with 0 Axes>"
            ]
          },
          "metadata": {}
        },
        {
          "output_type": "display_data",
          "data": {
            "text/plain": [
              "<Figure size 432x288 with 1 Axes>"
            ],
            "image/png": "[encoded data removed]"
          },
          "metadata": {
            "needs_background": "light"
          }
        }
      ]
    },
    {
      "cell_type": "code",
      "source": [
        "#Model 2\n",
        "\n",
        "model2 = Sequential([\n",
        "    layers.Rescaling(scale=1./255, input_shape=(28,28,1)),\n",
        "    layers.Conv2D(16, kernel_size=3, activation='relu', padding='same'),\n",
        "    layers.Flatten(),\n",
        "    layers.Dense(32, activation=\"sigmoid\"),\n",
        "    layers.Dense(10, activation=\"softmax\")\n",
        "])\n",
        "\n",
        "model2.summary()\n",
        "\n"
      ],
      "metadata": {
        "colab": {
          "base_uri": "https://localhost:8080/"
        },
        "id": "93NU8GlSYCS9",
        "outputId": "7e0d9eb3-82d3-4fec-e5e2-d38f9674e5ff"
      },
      "execution_count": null,
      "outputs": [
        {
          "output_type": "stream",
          "name": "stdout",
          "text": [
            "Model: \"sequential_10\"\n",
            "_________________________________________________________________\n",
            " Layer (type)                Output Shape              Param #   \n",
            "=================================================================\n",
            " rescaling_1 (Rescaling)     (None, 28, 28, 1)         0         \n",
            "                                                                 \n",
            " conv2d (Conv2D)             (None, 28, 28, 16)        160       \n",
            "                                                                 \n",
            " flatten_1 (Flatten)         (None, 12544)             0         \n",
            "                                                                 \n",
            " dense_21 (Dense)            (None, 32)                401440    \n",
            "                                                                 \n",
            " dense_22 (Dense)            (None, 10)                330       \n",
            "                                                                 \n",
            "=================================================================\n",
            "Total params: 401,930\n",
            "Trainable params: 401,930\n",
            "Non-trainable params: 0\n",
            "_________________________________________________________________\n"
          ]
        }
      ]
    },
    {
      "cell_type": "code",
      "source": [
        "model2.compile(optimizer= tf.keras.optimizers.SGD(learning_rate = .0001), \n",
        "               loss='categorical_crossentropy',\n",
        "               metrics=['accuracy'])"
      ],
      "metadata": {
        "id": "unwboyH4YW3e"
      },
      "execution_count": null,
      "outputs": []
    },
    {
      "cell_type": "code",
      "source": [
        "history2 = model2.fit(x_train, y_train, batch_size=16, epochs=5, verbose=True, validation_split=.1)"
      ],
      "metadata": {
        "colab": {
          "base_uri": "https://localhost:8080/"
        },
        "id": "2jyLIDOgYYmt",
        "outputId": "070c879f-2960-4816-cc8f-5cb748a16977"
      },
      "execution_count": null,
      "outputs": [
        {
          "output_type": "stream",
          "name": "stdout",
          "text": [
            "Epoch 1/5\n",
            "3375/3375 [==============================] - 33s 10ms/step - loss: 2.3016 - accuracy: 0.1205 - val_loss: 2.2396 - val_accuracy: 0.1707\n",
            "Epoch 2/5\n",
            "3375/3375 [==============================] - 30s 9ms/step - loss: 2.1727 - accuracy: 0.3389 - val_loss: 2.1084 - val_accuracy: 0.4443\n",
            "Epoch 3/5\n",
            "3375/3375 [==============================] - 32s 10ms/step - loss: 2.0342 - accuracy: 0.4952 - val_loss: 1.9553 - val_accuracy: 0.5278\n",
            "Epoch 4/5\n",
            "3375/3375 [==============================] - 34s 10ms/step - loss: 1.8729 - accuracy: 0.5330 - val_loss: 1.7881 - val_accuracy: 0.5507\n",
            "Epoch 5/5\n",
            "3375/3375 [==============================] - 36s 11ms/step - loss: 1.7135 - accuracy: 0.5506 - val_loss: 1.6388 - val_accuracy: 0.5748\n"
          ]
        }
      ]
    },
    {
      "cell_type": "code",
      "source": [
        "plot_loss_accuracy(history2)\n",
        "loss, accuracy  = model2.evaluate(x_test, y_test, verbose=False)\n",
        "print(f'Test loss: {loss:.3}')\n",
        "print(f'Test accuracy: {accuracy:.3}')"
      ],
      "metadata": {
        "colab": {
          "base_uri": "https://localhost:8080/",
          "height": 333
        },
        "id": "cr-P19iCYLHI",
        "outputId": "1eb13607-2a89-4edd-a17e-3cd3691e21f3"
      },
      "execution_count": null,
      "outputs": [
        {
          "output_type": "stream",
          "name": "stdout",
          "text": [
            "Test loss: 1.65\n",
            "Test accuracy: 0.559\n"
          ]
        },
        {
          "output_type": "display_data",
          "data": {
            "text/plain": [
              "<Figure size 576x432 with 0 Axes>"
            ]
          },
          "metadata": {}
        },
        {
          "output_type": "display_data",
          "data": {
            "text/plain": [
              "<Figure size 432x288 with 1 Axes>"
            ],
            "image/png": "[encoded data removed]"
          },
          "metadata": {
            "needs_background": "light"
          }
        }
      ]
    },
    {
      "cell_type": "code",
      "source": [
        "#Model 3\n",
        "\n",
        "model3 = Sequential([\n",
        "    layers.Rescaling(scale=1./255, input_shape=(28,28,1)),\n",
        "    layers.Conv2D(16, kernel_size=5, activation='relu', padding='same'),\n",
        "    layers.Flatten(),\n",
        "    layers.Dense(32, activation=\"sigmoid\"),\n",
        "    layers.Dense(10, activation=\"softmax\")\n",
        "])\n",
        "\n",
        "model3.summary()"
      ],
      "metadata": {
        "colab": {
          "base_uri": "https://localhost:8080/"
        },
        "id": "7TsAwMVtcsdP",
        "outputId": "20e71d18-f101-4da9-80d8-0ba7a93517f1"
      },
      "execution_count": null,
      "outputs": [
        {
          "output_type": "stream",
          "name": "stdout",
          "text": [
            "Model: \"sequential_11\"\n",
            "_________________________________________________________________\n",
            " Layer (type)                Output Shape              Param #   \n",
            "=================================================================\n",
            " rescaling_2 (Rescaling)     (None, 28, 28, 1)         0         \n",
            "                                                                 \n",
            " conv2d_1 (Conv2D)           (None, 28, 28, 16)        416       \n",
            "                                                                 \n",
            " flatten_2 (Flatten)         (None, 12544)             0         \n",
            "                                                                 \n",
            " dense_23 (Dense)            (None, 32)                401440    \n",
            "                                                                 \n",
            " dense_24 (Dense)            (None, 10)                330       \n",
            "                                                                 \n",
            "=================================================================\n",
            "Total params: 402,186\n",
            "Trainable params: 402,186\n",
            "Non-trainable params: 0\n",
            "_________________________________________________________________\n"
          ]
        }
      ]
    },
    {
      "cell_type": "code",
      "source": [
        "model3.compile(optimizer= tf.keras.optimizers.Nadam(learning_rate = .0001), \n",
        "               loss='categorical_crossentropy',\n",
        "               metrics=['accuracy'])"
      ],
      "metadata": {
        "id": "XXtCjfkefpO4"
      },
      "execution_count": null,
      "outputs": []
    },
    {
      "cell_type": "code",
      "source": [
        "history3 = model3.fit(x_train, y_train, batch_size=16, epochs=10, verbose=True, validation_split=.1)"
      ],
      "metadata": {
        "colab": {
          "base_uri": "https://localhost:8080/"
        },
        "id": "wKyAyowEgDgr",
        "outputId": "1b50fbc0-f754-4427-f48b-68c0a7f5b655"
      },
      "execution_count": null,
      "outputs": [
        {
          "output_type": "stream",
          "name": "stdout",
          "text": [
            "Epoch 1/10\n",
            "3375/3375 [==============================] - 48s 14ms/step - loss: 0.3380 - accuracy: 0.8852 - val_loss: 0.3485 - val_accuracy: 0.8770\n",
            "Epoch 2/10\n",
            "3375/3375 [==============================] - 47s 14ms/step - loss: 0.3204 - accuracy: 0.8908 - val_loss: 0.3323 - val_accuracy: 0.8783\n",
            "Epoch 3/10\n",
            "3375/3375 [==============================] - 47s 14ms/step - loss: 0.3050 - accuracy: 0.8938 - val_loss: 0.3219 - val_accuracy: 0.8815\n",
            "Epoch 4/10\n",
            "3375/3375 [==============================] - 47s 14ms/step - loss: 0.2916 - accuracy: 0.8985 - val_loss: 0.3200 - val_accuracy: 0.8830\n",
            "Epoch 5/10\n",
            "3375/3375 [==============================] - 48s 14ms/step - loss: 0.2793 - accuracy: 0.9029 - val_loss: 0.3083 - val_accuracy: 0.8838\n",
            "Epoch 6/10\n",
            "3375/3375 [==============================] - 47s 14ms/step - loss: 0.2684 - accuracy: 0.9064 - val_loss: 0.3012 - val_accuracy: 0.8873\n",
            "Epoch 7/10\n",
            "3375/3375 [==============================] - 47s 14ms/step - loss: 0.2589 - accuracy: 0.9097 - val_loss: 0.2909 - val_accuracy: 0.8913\n",
            "Epoch 8/10\n",
            "3375/3375 [==============================] - 47s 14ms/step - loss: 0.2493 - accuracy: 0.9119 - val_loss: 0.2878 - val_accuracy: 0.8942\n",
            "Epoch 9/10\n",
            "3375/3375 [==============================] - 47s 14ms/step - loss: 0.2409 - accuracy: 0.9159 - val_loss: 0.2854 - val_accuracy: 0.8940\n",
            "Epoch 10/10\n",
            "3375/3375 [==============================] - 48s 14ms/step - loss: 0.2334 - accuracy: 0.9179 - val_loss: 0.2821 - val_accuracy: 0.8942\n"
          ]
        }
      ]
    },
    {
      "cell_type": "code",
      "source": [
        "plot_loss_accuracy(history3)\n",
        "loss, accuracy  = model3.evaluate(x_test, y_test, verbose=False)\n",
        "print(f'Test loss: {loss:.3}')\n",
        "print(f'Test accuracy: {accuracy:.3}')"
      ],
      "metadata": {
        "colab": {
          "base_uri": "https://localhost:8080/",
          "height": 333
        },
        "id": "-a38FFQKgQU1",
        "outputId": "cd468536-0ec7-4a1d-8657-4f170ac51278"
      },
      "execution_count": null,
      "outputs": [
        {
          "output_type": "stream",
          "name": "stdout",
          "text": [
            "Test loss: 0.299\n",
            "Test accuracy: 0.893\n"
          ]
        },
        {
          "output_type": "display_data",
          "data": {
            "text/plain": [
              "<Figure size 576x432 with 0 Axes>"
            ]
          },
          "metadata": {}
        },
        {
          "output_type": "display_data",
          "data": {
            "text/plain": [
              "<Figure size 432x288 with 1 Axes>"
            ],
            "image/png": "[encoded data removed]"
          },
          "metadata": {
            "needs_background": "light"
          }
        }
      ]
    },
    {
      "cell_type": "code",
      "source": [
        "#Model 4\n",
        "\n",
        "model4 = Sequential([\n",
        "    layers.Rescaling(scale=1./255, input_shape=(28,28,1)),\n",
        "    layers.Conv2D(16, kernel_size=5, activation='relu', padding='same'),\n",
        "    layers.Flatten(),\n",
        "    layers.Dense(32, activation=\"sigmoid\"),\n",
        "    layers.Dense(32, activation=\"relu\"),\n",
        "    layers.Dense(10, activation=\"softmax\")\n",
        "])\n",
        "\n",
        "model4.summary()"
      ],
      "metadata": {
        "colab": {
          "base_uri": "https://localhost:8080/"
        },
        "id": "X6K3qXdoiC2K",
        "outputId": "1b4c2d5d-b337-4431-c91d-d57068ac5d6a"
      },
      "execution_count": null,
      "outputs": [
        {
          "output_type": "stream",
          "name": "stdout",
          "text": [
            "Model: \"sequential_12\"\n",
            "_________________________________________________________________\n",
            " Layer (type)                Output Shape              Param #   \n",
            "=================================================================\n",
            " rescaling_3 (Rescaling)     (None, 28, 28, 1)         0         \n",
            "                                                                 \n",
            " conv2d_2 (Conv2D)           (None, 28, 28, 16)        416       \n",
            "                                                                 \n",
            " flatten_3 (Flatten)         (None, 12544)             0         \n",
            "                                                                 \n",
            " dense_25 (Dense)            (None, 32)                401440    \n",
            "                                                                 \n",
            " dense_26 (Dense)            (None, 32)                1056      \n",
            "                                                                 \n",
            " dense_27 (Dense)            (None, 10)                330       \n",
            "                                                                 \n",
            "=================================================================\n",
            "Total params: 403,242\n",
            "Trainable params: 403,242\n",
            "Non-trainable params: 0\n",
            "_________________________________________________________________\n"
          ]
        }
      ]
    },
    {
      "cell_type": "code",
      "source": [
        "model4.compile(optimizer= tf.keras.optimizers.Adam(learning_rate = .0001), \n",
        "               loss='categorical_crossentropy',\n",
        "               metrics=['accuracy'])"
      ],
      "metadata": {
        "id": "3vFPEHngiCwI"
      },
      "execution_count": null,
      "outputs": []
    },
    {
      "cell_type": "code",
      "source": [
        "history4 = model4.fit(x_train, y_train, batch_size=16, epochs=5, verbose=True, validation_split=.1)"
      ],
      "metadata": {
        "colab": {
          "base_uri": "https://localhost:8080/"
        },
        "id": "KPMGPqZ7iCiG",
        "outputId": "ab6f16db-52e1-4f18-9118-24eb5b14a58e"
      },
      "execution_count": null,
      "outputs": [
        {
          "output_type": "stream",
          "name": "stdout",
          "text": [
            "Epoch 1/5\n",
            "3375/3375 [==============================] - 41s 12ms/step - loss: 0.8670 - accuracy: 0.7593 - val_loss: 0.5157 - val_accuracy: 0.8287\n",
            "Epoch 2/5\n",
            "3375/3375 [==============================] - 42s 12ms/step - loss: 0.4590 - accuracy: 0.8449 - val_loss: 0.4384 - val_accuracy: 0.8425\n",
            "Epoch 3/5\n",
            "3375/3375 [==============================] - 40s 12ms/step - loss: 0.3973 - accuracy: 0.8610 - val_loss: 0.4091 - val_accuracy: 0.8517\n",
            "Epoch 4/5\n",
            "3375/3375 [==============================] - 40s 12ms/step - loss: 0.3635 - accuracy: 0.8717 - val_loss: 0.3733 - val_accuracy: 0.8675\n",
            "Epoch 5/5\n",
            "3375/3375 [==============================] - 40s 12ms/step - loss: 0.3382 - accuracy: 0.8806 - val_loss: 0.3538 - val_accuracy: 0.8715\n"
          ]
        }
      ]
    },
    {
      "cell_type": "code",
      "source": [
        "plot_loss_accuracy(history4)\n",
        "loss, accuracy  = model4.evaluate(x_test, y_test, verbose=False)\n",
        "print(f'Test loss: {loss:.3}')\n",
        "print(f'Test accuracy: {accuracy:.3}')"
      ],
      "metadata": {
        "colab": {
          "base_uri": "https://localhost:8080/",
          "height": 333
        },
        "id": "K15SnmpWmgu9",
        "outputId": "58512dd2-0c5d-4399-facc-7ebc45daf2b4"
      },
      "execution_count": null,
      "outputs": [
        {
          "output_type": "stream",
          "name": "stdout",
          "text": [
            "Test loss: 0.377\n",
            "Test accuracy: 0.865\n"
          ]
        },
        {
          "output_type": "display_data",
          "data": {
            "text/plain": [
              "<Figure size 576x432 with 0 Axes>"
            ]
          },
          "metadata": {}
        },
        {
          "output_type": "display_data",
          "data": {
            "text/plain": [
              "<Figure size 432x288 with 1 Axes>"
            ],
            "image/png": "[encoded data removed]"
          },
          "metadata": {
            "needs_background": "light"
          }
        }
      ]
    },
    {
      "cell_type": "code",
      "source": [
        "#Model 5\n",
        "\n",
        "model5 = Sequential([\n",
        "    layers.Rescaling(scale=1./255, input_shape=(28,28,1)),\n",
        "    layers.Conv2D(16, kernel_size=5, activation='relu', padding='valid'),\n",
        "    layers.Flatten(),\n",
        "    layers.Dense(32, activation=\"sigmoid\"),\n",
        "    layers.Dense(32, activation=\"relu\"),\n",
        "    layers.Dense(10, activation=\"softmax\")\n",
        "])\n",
        "\n",
        "model5.summary()"
      ],
      "metadata": {
        "colab": {
          "base_uri": "https://localhost:8080/"
        },
        "id": "UoPrgnEdkJoT",
        "outputId": "4670333f-372b-4c20-90a9-2c96fd06f12d"
      },
      "execution_count": null,
      "outputs": [
        {
          "output_type": "stream",
          "name": "stdout",
          "text": [
            "Model: \"sequential_15\"\n",
            "_________________________________________________________________\n",
            " Layer (type)                Output Shape              Param #   \n",
            "=================================================================\n",
            " rescaling_6 (Rescaling)     (None, 28, 28, 1)         0         \n",
            "                                                                 \n",
            " conv2d_5 (Conv2D)           (None, 24, 24, 16)        416       \n",
            "                                                                 \n",
            " flatten_6 (Flatten)         (None, 9216)              0         \n",
            "                                                                 \n",
            " dense_34 (Dense)            (None, 32)                294944    \n",
            "                                                                 \n",
            " dense_35 (Dense)            (None, 32)                1056      \n",
            "                                                                 \n",
            " dense_36 (Dense)            (None, 10)                330       \n",
            "                                                                 \n",
            "=================================================================\n",
            "Total params: 296,746\n",
            "Trainable params: 296,746\n",
            "Non-trainable params: 0\n",
            "_________________________________________________________________\n"
          ]
        }
      ]
    },
    {
      "cell_type": "code",
      "source": [
        "model5.compile(optimizer= tf.keras.optimizers.Adadelta(learning_rate = .0001), \n",
        "               loss='categorical_crossentropy',\n",
        "               metrics=['accuracy'])"
      ],
      "metadata": {
        "id": "N_EQff3akJls"
      },
      "execution_count": null,
      "outputs": []
    },
    {
      "cell_type": "code",
      "source": [
        "history5 = model5.fit(x_train, y_train, batch_size=16, epochs=5, verbose=True, validation_split=.1)"
      ],
      "metadata": {
        "colab": {
          "base_uri": "https://localhost:8080/"
        },
        "id": "5Gs-9o4jkJe5",
        "outputId": "00ba6a9e-0320-4ab9-c1ae-7adfcdfa0029"
      },
      "execution_count": null,
      "outputs": [
        {
          "output_type": "stream",
          "name": "stdout",
          "text": [
            "Epoch 1/5\n",
            "3375/3375 [==============================] - 36s 11ms/step - loss: 2.3987 - accuracy: 0.1012 - val_loss: 2.3693 - val_accuracy: 0.1030\n",
            "Epoch 2/5\n",
            "3375/3375 [==============================] - 36s 11ms/step - loss: 2.3551 - accuracy: 0.1429 - val_loss: 2.3280 - val_accuracy: 0.1753\n",
            "Epoch 3/5\n",
            "3375/3375 [==============================] - 35s 10ms/step - loss: 2.3167 - accuracy: 0.1837 - val_loss: 2.2919 - val_accuracy: 0.1868\n",
            "Epoch 4/5\n",
            "3375/3375 [==============================] - 39s 12ms/step - loss: 2.2831 - accuracy: 0.1824 - val_loss: 2.2604 - val_accuracy: 0.1860\n",
            "Epoch 5/5\n",
            "3375/3375 [==============================] - 36s 11ms/step - loss: 2.2539 - accuracy: 0.1979 - val_loss: 2.2332 - val_accuracy: 0.2180\n"
          ]
        }
      ]
    },
    {
      "cell_type": "code",
      "source": [
        "plot_loss_accuracy(history5)\n",
        "loss, accuracy  = model5.evaluate(x_test, y_test, verbose=False)\n",
        "print(f'Test loss: {loss:.3}')\n",
        "print(f'Test accuracy: {accuracy:.3}')"
      ],
      "metadata": {
        "colab": {
          "base_uri": "https://localhost:8080/",
          "height": 333
        },
        "id": "N_ceFMmOm3_U",
        "outputId": "7ee00b96-6815-4e5d-d6a9-8f0bba17b61f"
      },
      "execution_count": null,
      "outputs": [
        {
          "output_type": "stream",
          "name": "stdout",
          "text": [
            "Test loss: 2.24\n",
            "Test accuracy: 0.214\n"
          ]
        },
        {
          "output_type": "display_data",
          "data": {
            "text/plain": [
              "<Figure size 576x432 with 0 Axes>"
            ]
          },
          "metadata": {}
        },
        {
          "output_type": "display_data",
          "data": {
            "text/plain": [
              "<Figure size 432x288 with 1 Axes>"
            ],
            "image/png": "[encoded data removed]"
          },
          "metadata": {
            "needs_background": "light"
          }
        }
      ]
    },
    {
      "cell_type": "code",
      "metadata": {
        "id": "17kh8EaYPij4",
        "colab": {
          "base_uri": "https://localhost:8080/"
        },
        "outputId": "5f700cf8-eb96-4216-bf29-a5bad2b067ff"
      },
      "source": [
        "#Model 6\n",
        "\n",
        "image_size = 784 \n",
        "num_classes = 10 \n",
        "def build_basic_model():\n",
        "  model = Sequential()\n",
        "\n",
        "  # The input layer requires the special input_shape parameter which should match\n",
        "  # the shape of our training data.\n",
        "  model.add(Dense(units=32, activation='sigmoid', input_shape=(image_vector_size,)))\n",
        "  model.add(Dense(units=num_classes, activation='softmax'))\n",
        "  return model\n",
        "model = build_basic_model()\n",
        "model.summary()"
      ],
      "execution_count": null,
      "outputs": [
        {
          "output_type": "stream",
          "name": "stdout",
          "text": [
            "Model: \"sequential\"\n",
            "_________________________________________________________________\n",
            " Layer (type)                Output Shape              Param #   \n",
            "=================================================================\n",
            " dense (Dense)               (None, 32)                25120     \n",
            "                                                                 \n",
            " dense_1 (Dense)             (None, 10)                330       \n",
            "                                                                 \n",
            "=================================================================\n",
            "Total params: 25,450\n",
            "Trainable params: 25,450\n",
            "Non-trainable params: 0\n",
            "_________________________________________________________________\n"
          ]
        }
      ]
    },
    {
      "cell_type": "code",
      "metadata": {
        "id": "yHUQdR2upB6S"
      },
      "source": [
        "model.compile(optimizer=\"sgd\", loss='categorical_crossentropy', metrics=['accuracy'])"
      ],
      "execution_count": null,
      "outputs": []
    },
    {
      "cell_type": "code",
      "metadata": {
        "id": "6xYQwe9kQBlI",
        "colab": {
          "base_uri": "https://localhost:8080/"
        },
        "outputId": "36d6c5eb-c9f7-47fe-c36b-edb8a00b2f58"
      },
      "source": [
        "history = model.fit(x_train, y_train, batch_size=128, epochs=5, verbose=True, validation_split=.1)\n",
        "loss, accuracy  = model.evaluate(x_test, y_test, verbose=False)"
      ],
      "execution_count": null,
      "outputs": [
        {
          "output_type": "stream",
          "name": "stdout",
          "text": [
            "Epoch 1/5\n",
            "422/422 [==============================] - 2s 3ms/step - loss: 2.0292 - accuracy: 0.4783 - val_loss: 1.7589 - val_accuracy: 0.6388\n",
            "Epoch 2/5\n",
            "422/422 [==============================] - 1s 3ms/step - loss: 1.5804 - accuracy: 0.6353 - val_loss: 1.4176 - val_accuracy: 0.6680\n",
            "Epoch 3/5\n",
            "422/422 [==============================] - 1s 3ms/step - loss: 1.3155 - accuracy: 0.6680 - val_loss: 1.2107 - val_accuracy: 0.6948\n",
            "Epoch 4/5\n",
            "422/422 [==============================] - 2s 4ms/step - loss: 1.1507 - accuracy: 0.6931 - val_loss: 1.0769 - val_accuracy: 0.7115\n",
            "Epoch 5/5\n",
            "422/422 [==============================] - 2s 5ms/step - loss: 1.0395 - accuracy: 0.7092 - val_loss: 0.9823 - val_accuracy: 0.7262\n"
          ]
        }
      ]
    },
    {
      "cell_type": "code",
      "metadata": {
        "id": "mqAuQ7nTQSw-",
        "colab": {
          "base_uri": "https://localhost:8080/",
          "height": 333
        },
        "outputId": "3030665e-4c69-44c2-c4bf-ddaa310bb5e4"
      },
      "source": [
        "plot_loss_accuracy(history)\n",
        "print(f'Test loss: {loss:.3}')\n",
        "print(f'Test accuracy: {accuracy:.3}')"
      ],
      "execution_count": null,
      "outputs": [
        {
          "output_type": "stream",
          "name": "stdout",
          "text": [
            "Test loss: 1.0\n",
            "Test accuracy: 0.71\n"
          ]
        },
        {
          "output_type": "display_data",
          "data": {
            "text/plain": [
              "<Figure size 576x432 with 0 Axes>"
            ]
          },
          "metadata": {}
        },
        {
          "output_type": "display_data",
          "data": {
            "text/plain": [
              "<Figure size 432x288 with 1 Axes>"
            ],
            "image/png": "[encoded data removed]"
          },
          "metadata": {
            "needs_background": "light"
          }
        }
      ]
    },
    {
      "cell_type": "code",
      "metadata": {
        "id": "Cux24GXwQf1n",
        "colab": {
          "base_uri": "https://localhost:8080/"
        },
        "outputId": "32131749-4af8-4e51-e335-e1a310c771bd"
      },
      "source": [
        "#Model 7\n",
        "\n",
        "model = build_basic_model()\n",
        "model.compile(optimizer=\"sgd\", loss='categorical_crossentropy', metrics=['accuracy'])\n",
        "history = model.fit(x_train, y_train, batch_size=128, epochs=50, verbose=True, validation_split=.1)\n"
      ],
      "execution_count": null,
      "outputs": [
        {
          "output_type": "stream",
          "name": "stdout",
          "text": [
            "Epoch 1/50\n",
            "422/422 [==============================] - 3s 6ms/step - loss: 2.0270 - accuracy: 0.4630 - val_loss: 1.7471 - val_accuracy: 0.5935\n",
            "Epoch 2/50\n",
            "422/422 [==============================] - 2s 5ms/step - loss: 1.5665 - accuracy: 0.6200 - val_loss: 1.4083 - val_accuracy: 0.6705\n",
            "Epoch 3/50\n",
            "422/422 [==============================] - 2s 5ms/step - loss: 1.3065 - accuracy: 0.6652 - val_loss: 1.2072 - val_accuracy: 0.6872\n",
            "Epoch 4/50\n",
            "422/422 [==============================] - 2s 5ms/step - loss: 1.1469 - accuracy: 0.6868 - val_loss: 1.0755 - val_accuracy: 0.7165\n",
            "Epoch 5/50\n",
            "422/422 [==============================] - 2s 5ms/step - loss: 1.0388 - accuracy: 0.7059 - val_loss: 0.9834 - val_accuracy: 0.7242\n",
            "Epoch 6/50\n",
            "422/422 [==============================] - 2s 5ms/step - loss: 0.9602 - accuracy: 0.7176 - val_loss: 0.9157 - val_accuracy: 0.7275\n",
            "Epoch 7/50\n",
            "422/422 [==============================] - 2s 5ms/step - loss: 0.9007 - accuracy: 0.7271 - val_loss: 0.8626 - val_accuracy: 0.7410\n",
            "Epoch 8/50\n",
            "422/422 [==============================] - 2s 5ms/step - loss: 0.8541 - accuracy: 0.7359 - val_loss: 0.8212 - val_accuracy: 0.7438\n",
            "Epoch 9/50\n",
            "422/422 [==============================] - 2s 5ms/step - loss: 0.8165 - accuracy: 0.7414 - val_loss: 0.7877 - val_accuracy: 0.7503\n",
            "Epoch 10/50\n",
            "422/422 [==============================] - 1s 3ms/step - loss: 0.7853 - accuracy: 0.7485 - val_loss: 0.7596 - val_accuracy: 0.7528\n",
            "Epoch 11/50\n",
            "422/422 [==============================] - 1s 3ms/step - loss: 0.7591 - accuracy: 0.7534 - val_loss: 0.7359 - val_accuracy: 0.7592\n",
            "Epoch 12/50\n",
            "422/422 [==============================] - 1s 3ms/step - loss: 0.7367 - accuracy: 0.7600 - val_loss: 0.7150 - val_accuracy: 0.7625\n",
            "Epoch 13/50\n",
            "422/422 [==============================] - 1s 3ms/step - loss: 0.7169 - accuracy: 0.7641 - val_loss: 0.6975 - val_accuracy: 0.7632\n",
            "Epoch 14/50\n",
            "422/422 [==============================] - 1s 3ms/step - loss: 0.6996 - accuracy: 0.7684 - val_loss: 0.6807 - val_accuracy: 0.7707\n",
            "Epoch 15/50\n",
            "422/422 [==============================] - 1s 3ms/step - loss: 0.6841 - accuracy: 0.7721 - val_loss: 0.6667 - val_accuracy: 0.7747\n",
            "Epoch 16/50\n",
            "422/422 [==============================] - 1s 3ms/step - loss: 0.6701 - accuracy: 0.7762 - val_loss: 0.6540 - val_accuracy: 0.7762\n",
            "Epoch 17/50\n",
            "422/422 [==============================] - 1s 3ms/step - loss: 0.6572 - accuracy: 0.7801 - val_loss: 0.6421 - val_accuracy: 0.7808\n",
            "Epoch 18/50\n",
            "422/422 [==============================] - 1s 3ms/step - loss: 0.6455 - accuracy: 0.7839 - val_loss: 0.6315 - val_accuracy: 0.7808\n",
            "Epoch 19/50\n",
            "422/422 [==============================] - 1s 3ms/step - loss: 0.6347 - accuracy: 0.7865 - val_loss: 0.6215 - val_accuracy: 0.7840\n",
            "Epoch 20/50\n",
            "422/422 [==============================] - 1s 3ms/step - loss: 0.6246 - accuracy: 0.7900 - val_loss: 0.6120 - val_accuracy: 0.7887\n",
            "Epoch 21/50\n",
            "422/422 [==============================] - 1s 3ms/step - loss: 0.6153 - accuracy: 0.7926 - val_loss: 0.6038 - val_accuracy: 0.7915\n",
            "Epoch 22/50\n",
            "422/422 [==============================] - 1s 3ms/step - loss: 0.6064 - accuracy: 0.7961 - val_loss: 0.5950 - val_accuracy: 0.7935\n",
            "Epoch 23/50\n",
            "422/422 [==============================] - 1s 3ms/step - loss: 0.5982 - accuracy: 0.7990 - val_loss: 0.5876 - val_accuracy: 0.7970\n",
            "Epoch 24/50\n",
            "422/422 [==============================] - 1s 3ms/step - loss: 0.5905 - accuracy: 0.8013 - val_loss: 0.5802 - val_accuracy: 0.8002\n",
            "Epoch 25/50\n",
            "422/422 [==============================] - 1s 3ms/step - loss: 0.5831 - accuracy: 0.8034 - val_loss: 0.5740 - val_accuracy: 0.8020\n",
            "Epoch 26/50\n",
            "422/422 [==============================] - 1s 3ms/step - loss: 0.5764 - accuracy: 0.8062 - val_loss: 0.5671 - val_accuracy: 0.8035\n",
            "Epoch 27/50\n",
            "422/422 [==============================] - 1s 3ms/step - loss: 0.5698 - accuracy: 0.8082 - val_loss: 0.5610 - val_accuracy: 0.8057\n",
            "Epoch 28/50\n",
            "422/422 [==============================] - 1s 3ms/step - loss: 0.5637 - accuracy: 0.8099 - val_loss: 0.5557 - val_accuracy: 0.8073\n",
            "Epoch 29/50\n",
            "422/422 [==============================] - 1s 3ms/step - loss: 0.5579 - accuracy: 0.8121 - val_loss: 0.5507 - val_accuracy: 0.8092\n",
            "Epoch 30/50\n",
            "422/422 [==============================] - 1s 3ms/step - loss: 0.5524 - accuracy: 0.8141 - val_loss: 0.5460 - val_accuracy: 0.8105\n",
            "Epoch 31/50\n",
            "422/422 [==============================] - 1s 3ms/step - loss: 0.5472 - accuracy: 0.8155 - val_loss: 0.5414 - val_accuracy: 0.8113\n",
            "Epoch 32/50\n",
            "422/422 [==============================] - 1s 3ms/step - loss: 0.5423 - accuracy: 0.8174 - val_loss: 0.5360 - val_accuracy: 0.8148\n",
            "Epoch 33/50\n",
            "422/422 [==============================] - 1s 3ms/step - loss: 0.5376 - accuracy: 0.8182 - val_loss: 0.5320 - val_accuracy: 0.8173\n",
            "Epoch 34/50\n",
            "422/422 [==============================] - 1s 3ms/step - loss: 0.5331 - accuracy: 0.8200 - val_loss: 0.5270 - val_accuracy: 0.8163\n",
            "Epoch 35/50\n",
            "422/422 [==============================] - 1s 3ms/step - loss: 0.5290 - accuracy: 0.8208 - val_loss: 0.5240 - val_accuracy: 0.8195\n",
            "Epoch 36/50\n",
            "422/422 [==============================] - 1s 3ms/step - loss: 0.5249 - accuracy: 0.8219 - val_loss: 0.5199 - val_accuracy: 0.8213\n",
            "Epoch 37/50\n",
            "422/422 [==============================] - 1s 3ms/step - loss: 0.5211 - accuracy: 0.8225 - val_loss: 0.5161 - val_accuracy: 0.8215\n",
            "Epoch 38/50\n",
            "422/422 [==============================] - 1s 3ms/step - loss: 0.5174 - accuracy: 0.8239 - val_loss: 0.5133 - val_accuracy: 0.8230\n",
            "Epoch 39/50\n",
            "422/422 [==============================] - 1s 3ms/step - loss: 0.5139 - accuracy: 0.8247 - val_loss: 0.5097 - val_accuracy: 0.8253\n",
            "Epoch 40/50\n",
            "422/422 [==============================] - 1s 3ms/step - loss: 0.5106 - accuracy: 0.8258 - val_loss: 0.5063 - val_accuracy: 0.8252\n",
            "Epoch 41/50\n",
            "422/422 [==============================] - 1s 3ms/step - loss: 0.5075 - accuracy: 0.8267 - val_loss: 0.5037 - val_accuracy: 0.8253\n",
            "Epoch 42/50\n",
            "422/422 [==============================] - 1s 3ms/step - loss: 0.5043 - accuracy: 0.8275 - val_loss: 0.5019 - val_accuracy: 0.8247\n",
            "Epoch 43/50\n",
            "422/422 [==============================] - 1s 3ms/step - loss: 0.5014 - accuracy: 0.8285 - val_loss: 0.4979 - val_accuracy: 0.8245\n",
            "Epoch 44/50\n",
            "422/422 [==============================] - 1s 3ms/step - loss: 0.4986 - accuracy: 0.8292 - val_loss: 0.4952 - val_accuracy: 0.8268\n",
            "Epoch 45/50\n",
            "422/422 [==============================] - 1s 3ms/step - loss: 0.4958 - accuracy: 0.8300 - val_loss: 0.4933 - val_accuracy: 0.8280\n",
            "Epoch 46/50\n",
            "422/422 [==============================] - 1s 3ms/step - loss: 0.4932 - accuracy: 0.8306 - val_loss: 0.4917 - val_accuracy: 0.8267\n",
            "Epoch 47/50\n",
            "422/422 [==============================] - 1s 3ms/step - loss: 0.4908 - accuracy: 0.8316 - val_loss: 0.4879 - val_accuracy: 0.8280\n",
            "Epoch 48/50\n",
            "422/422 [==============================] - 1s 3ms/step - loss: 0.4883 - accuracy: 0.8321 - val_loss: 0.4855 - val_accuracy: 0.8287\n",
            "Epoch 49/50\n",
            "422/422 [==============================] - 1s 3ms/step - loss: 0.4859 - accuracy: 0.8330 - val_loss: 0.4840 - val_accuracy: 0.8292\n",
            "Epoch 50/50\n",
            "422/422 [==============================] - 1s 3ms/step - loss: 0.4836 - accuracy: 0.8334 - val_loss: 0.4814 - val_accuracy: 0.8290\n"
          ]
        }
      ]
    },
    {
      "cell_type": "code",
      "metadata": {
        "id": "IcfhV4C0Qwpy",
        "colab": {
          "base_uri": "https://localhost:8080/",
          "height": 298
        },
        "outputId": "84ff6f18-5e2a-4103-bce1-632fa47c6a87"
      },
      "source": [
        "plot_loss_accuracy(history)"
      ],
      "execution_count": null,
      "outputs": [
        {
          "output_type": "display_data",
          "data": {
            "text/plain": [
              "<Figure size 576x432 with 0 Axes>"
            ]
          },
          "metadata": {}
        },
        {
          "output_type": "display_data",
          "data": {
            "text/plain": [
              "<Figure size 432x288 with 1 Axes>"
            ],
            "image/png": "[encoded data removed]"
          },
          "metadata": {
            "needs_background": "light"
          }
        }
      ]
    },
    {
      "cell_type": "code",
      "metadata": {
        "id": "UHFMwBNyRAOt",
        "colab": {
          "base_uri": "https://localhost:8080/"
        },
        "outputId": "f07004e3-6e35-4794-db28-da545fe9b7c2"
      },
      "source": [
        "loss, accuracy  = model.evaluate(x_test, y_test, verbose=False)\n",
        "print(f'Test loss: {loss:.3}')\n",
        "print(f'Test accuracy: {accuracy:.3}')"
      ],
      "execution_count": null,
      "outputs": [
        {
          "output_type": "stream",
          "name": "stdout",
          "text": [
            "Test loss: 0.511\n",
            "Test accuracy: 0.819\n"
          ]
        }
      ]
    },
    {
      "cell_type": "code",
      "metadata": {
        "id": "snYH2BqRR-BK",
        "colab": {
          "base_uri": "https://localhost:8080/"
        },
        "outputId": "9620c978-7ec8-410e-e5b4-f1661a3f7d24"
      },
      "source": [
        "#Model 8\n",
        "\n",
        "model = build_basic_model()\n",
        "model.compile(optimizer=\"sgd\", loss='categorical_crossentropy', metrics=['accuracy'])\n",
        "history = model.fit(x_train, y_train, batch_size=54000, epochs=50, verbose=True, validation_split=.1)\n"
      ],
      "execution_count": null,
      "outputs": [
        {
          "output_type": "stream",
          "name": "stdout",
          "text": [
            "Epoch 1/50\n",
            "1/1 [==============================] - 1s 1s/step - loss: 2.4748 - accuracy: 0.0957 - val_loss: 2.4564 - val_accuracy: 0.1008\n",
            "Epoch 2/50\n",
            "1/1 [==============================] - 0s 360ms/step - loss: 2.4693 - accuracy: 0.0954 - val_loss: 2.4511 - val_accuracy: 0.1010\n",
            "Epoch 3/50\n",
            "1/1 [==============================] - 0s 309ms/step - loss: 2.4638 - accuracy: 0.0951 - val_loss: 2.4459 - val_accuracy: 0.1000\n",
            "Epoch 4/50\n",
            "1/1 [==============================] - 0s 337ms/step - loss: 2.4584 - accuracy: 0.0950 - val_loss: 2.4409 - val_accuracy: 0.0995\n",
            "Epoch 5/50\n",
            "1/1 [==============================] - 0s 281ms/step - loss: 2.4532 - accuracy: 0.0948 - val_loss: 2.4359 - val_accuracy: 0.0998\n",
            "Epoch 6/50\n",
            "1/1 [==============================] - 0s 310ms/step - loss: 2.4480 - accuracy: 0.0946 - val_loss: 2.4310 - val_accuracy: 0.0990\n",
            "Epoch 7/50\n",
            "1/1 [==============================] - 0s 294ms/step - loss: 2.4430 - accuracy: 0.0946 - val_loss: 2.4262 - val_accuracy: 0.0983\n",
            "Epoch 8/50\n",
            "1/1 [==============================] - 0s 282ms/step - loss: 2.4380 - accuracy: 0.0944 - val_loss: 2.4215 - val_accuracy: 0.0985\n",
            "Epoch 9/50\n",
            "1/1 [==============================] - 0s 290ms/step - loss: 2.4332 - accuracy: 0.0943 - val_loss: 2.4169 - val_accuracy: 0.0987\n",
            "Epoch 10/50\n",
            "1/1 [==============================] - 0s 303ms/step - loss: 2.4284 - accuracy: 0.0943 - val_loss: 2.4124 - val_accuracy: 0.0990\n",
            "Epoch 11/50\n",
            "1/1 [==============================] - 0s 294ms/step - loss: 2.4237 - accuracy: 0.0945 - val_loss: 2.4080 - val_accuracy: 0.0992\n",
            "Epoch 12/50\n",
            "1/1 [==============================] - 0s 283ms/step - loss: 2.4191 - accuracy: 0.0944 - val_loss: 2.4036 - val_accuracy: 0.0997\n",
            "Epoch 13/50\n",
            "1/1 [==============================] - 0s 297ms/step - loss: 2.4146 - accuracy: 0.0944 - val_loss: 2.3993 - val_accuracy: 0.0995\n",
            "Epoch 14/50\n",
            "1/1 [==============================] - 0s 286ms/step - loss: 2.4101 - accuracy: 0.0946 - val_loss: 2.3951 - val_accuracy: 0.0990\n",
            "Epoch 15/50\n",
            "1/1 [==============================] - 0s 287ms/step - loss: 2.4058 - accuracy: 0.0948 - val_loss: 2.3910 - val_accuracy: 0.0998\n",
            "Epoch 16/50\n",
            "1/1 [==============================] - 0s 283ms/step - loss: 2.4015 - accuracy: 0.0948 - val_loss: 2.3869 - val_accuracy: 0.1003\n",
            "Epoch 17/50\n",
            "1/1 [==============================] - 0s 307ms/step - loss: 2.3973 - accuracy: 0.0953 - val_loss: 2.3829 - val_accuracy: 0.1010\n",
            "Epoch 18/50\n",
            "1/1 [==============================] - 0s 286ms/step - loss: 2.3931 - accuracy: 0.0959 - val_loss: 2.3789 - val_accuracy: 0.1022\n",
            "Epoch 19/50\n",
            "1/1 [==============================] - 0s 286ms/step - loss: 2.3890 - accuracy: 0.0965 - val_loss: 2.3751 - val_accuracy: 0.1028\n",
            "Epoch 20/50\n",
            "1/1 [==============================] - 0s 332ms/step - loss: 2.3850 - accuracy: 0.0970 - val_loss: 2.3712 - val_accuracy: 0.1027\n",
            "Epoch 21/50\n",
            "1/1 [==============================] - 0s 290ms/step - loss: 2.3810 - accuracy: 0.0979 - val_loss: 2.3675 - val_accuracy: 0.1028\n",
            "Epoch 22/50\n",
            "1/1 [==============================] - 0s 289ms/step - loss: 2.3771 - accuracy: 0.0990 - val_loss: 2.3638 - val_accuracy: 0.1038\n",
            "Epoch 23/50\n",
            "1/1 [==============================] - 0s 290ms/step - loss: 2.3733 - accuracy: 0.0999 - val_loss: 2.3601 - val_accuracy: 0.1063\n",
            "Epoch 24/50\n",
            "1/1 [==============================] - 0s 298ms/step - loss: 2.3695 - accuracy: 0.1007 - val_loss: 2.3565 - val_accuracy: 0.1070\n",
            "Epoch 25/50\n",
            "1/1 [==============================] - 0s 288ms/step - loss: 2.3658 - accuracy: 0.1015 - val_loss: 2.3529 - val_accuracy: 0.1082\n",
            "Epoch 26/50\n",
            "1/1 [==============================] - 0s 292ms/step - loss: 2.3621 - accuracy: 0.1026 - val_loss: 2.3494 - val_accuracy: 0.1090\n",
            "Epoch 27/50\n",
            "1/1 [==============================] - 0s 298ms/step - loss: 2.3585 - accuracy: 0.1042 - val_loss: 2.3460 - val_accuracy: 0.1112\n",
            "Epoch 28/50\n",
            "1/1 [==============================] - 0s 290ms/step - loss: 2.3549 - accuracy: 0.1057 - val_loss: 2.3426 - val_accuracy: 0.1127\n",
            "Epoch 29/50\n",
            "1/1 [==============================] - 0s 293ms/step - loss: 2.3514 - accuracy: 0.1069 - val_loss: 2.3392 - val_accuracy: 0.1153\n",
            "Epoch 30/50\n",
            "1/1 [==============================] - 0s 289ms/step - loss: 2.3479 - accuracy: 0.1088 - val_loss: 2.3359 - val_accuracy: 0.1170\n",
            "Epoch 31/50\n",
            "1/1 [==============================] - 0s 301ms/step - loss: 2.3444 - accuracy: 0.1109 - val_loss: 2.3326 - val_accuracy: 0.1183\n",
            "Epoch 32/50\n",
            "1/1 [==============================] - 0s 292ms/step - loss: 2.3411 - accuracy: 0.1129 - val_loss: 2.3294 - val_accuracy: 0.1208\n",
            "Epoch 33/50\n",
            "1/1 [==============================] - 0s 290ms/step - loss: 2.3377 - accuracy: 0.1151 - val_loss: 2.3262 - val_accuracy: 0.1233\n",
            "Epoch 34/50\n",
            "1/1 [==============================] - 0s 298ms/step - loss: 2.3344 - accuracy: 0.1176 - val_loss: 2.3231 - val_accuracy: 0.1257\n",
            "Epoch 35/50\n",
            "1/1 [==============================] - 0s 284ms/step - loss: 2.3312 - accuracy: 0.1199 - val_loss: 2.3200 - val_accuracy: 0.1280\n",
            "Epoch 36/50\n",
            "1/1 [==============================] - 0s 287ms/step - loss: 2.3279 - accuracy: 0.1227 - val_loss: 2.3169 - val_accuracy: 0.1313\n",
            "Epoch 37/50\n",
            "1/1 [==============================] - 0s 324ms/step - loss: 2.3248 - accuracy: 0.1257 - val_loss: 2.3139 - val_accuracy: 0.1333\n",
            "Epoch 38/50\n",
            "1/1 [==============================] - 0s 300ms/step - loss: 2.3216 - accuracy: 0.1289 - val_loss: 2.3109 - val_accuracy: 0.1370\n",
            "Epoch 39/50\n",
            "1/1 [==============================] - 0s 294ms/step - loss: 2.3185 - accuracy: 0.1320 - val_loss: 2.3079 - val_accuracy: 0.1390\n",
            "Epoch 40/50\n",
            "1/1 [==============================] - 0s 286ms/step - loss: 2.3154 - accuracy: 0.1347 - val_loss: 2.3050 - val_accuracy: 0.1418\n",
            "Epoch 41/50\n",
            "1/1 [==============================] - 0s 298ms/step - loss: 2.3124 - accuracy: 0.1374 - val_loss: 2.3021 - val_accuracy: 0.1458\n",
            "Epoch 42/50\n",
            "1/1 [==============================] - 0s 288ms/step - loss: 2.3094 - accuracy: 0.1405 - val_loss: 2.2992 - val_accuracy: 0.1488\n",
            "Epoch 43/50\n",
            "1/1 [==============================] - 0s 290ms/step - loss: 2.3065 - accuracy: 0.1437 - val_loss: 2.2963 - val_accuracy: 0.1508\n",
            "Epoch 44/50\n",
            "1/1 [==============================] - 0s 297ms/step - loss: 2.3035 - accuracy: 0.1465 - val_loss: 2.2935 - val_accuracy: 0.1525\n",
            "Epoch 45/50\n",
            "1/1 [==============================] - 0s 290ms/step - loss: 2.3006 - accuracy: 0.1500 - val_loss: 2.2908 - val_accuracy: 0.1553\n",
            "Epoch 46/50\n",
            "1/1 [==============================] - 0s 288ms/step - loss: 2.2978 - accuracy: 0.1532 - val_loss: 2.2880 - val_accuracy: 0.1583\n",
            "Epoch 47/50\n",
            "1/1 [==============================] - 0s 288ms/step - loss: 2.2949 - accuracy: 0.1561 - val_loss: 2.2853 - val_accuracy: 0.1617\n",
            "Epoch 48/50\n",
            "1/1 [==============================] - 0s 300ms/step - loss: 2.2921 - accuracy: 0.1588 - val_loss: 2.2826 - val_accuracy: 0.1653\n",
            "Epoch 49/50\n",
            "1/1 [==============================] - 0s 252ms/step - loss: 2.2893 - accuracy: 0.1620 - val_loss: 2.2799 - val_accuracy: 0.1678\n",
            "Epoch 50/50\n",
            "1/1 [==============================] - 0s 256ms/step - loss: 2.2866 - accuracy: 0.1645 - val_loss: 2.2773 - val_accuracy: 0.1702\n"
          ]
        }
      ]
    },
    {
      "cell_type": "code",
      "metadata": {
        "id": "3WcMBPvns-QG",
        "colab": {
          "base_uri": "https://localhost:8080/",
          "height": 298
        },
        "outputId": "7a18ee5e-d5a6-467f-8eb1-7692522dc333"
      },
      "source": [
        "plot_loss_accuracy(history)"
      ],
      "execution_count": null,
      "outputs": [
        {
          "output_type": "display_data",
          "data": {
            "text/plain": [
              "<Figure size 576x432 with 0 Axes>"
            ]
          },
          "metadata": {}
        },
        {
          "output_type": "display_data",
          "data": {
            "text/plain": [
              "<Figure size 432x288 with 1 Axes>"
            ],
            "image/png": "[encoded data removed]"
          },
          "metadata": {
            "needs_background": "light"
          }
        }
      ]
    },
    {
      "cell_type": "code",
      "metadata": {
        "id": "X280afTnvPMK",
        "colab": {
          "base_uri": "https://localhost:8080/"
        },
        "outputId": "5e053fcf-6db2-4f8f-b725-a4e6ff57d598"
      },
      "source": [
        "#Model 9\n",
        "\n",
        "model = build_basic_model()\n",
        "model.compile(tf.keras.optimizers.SGD(lr=0.1), loss='categorical_crossentropy', metrics=['accuracy'])\n",
        "history = model.fit(x_train, y_train, batch_size=54000, epochs=50, verbose=True, validation_split=.1)\n"
      ],
      "execution_count": null,
      "outputs": [
        {
          "output_type": "stream",
          "name": "stdout",
          "text": [
            "Epoch 1/50\n",
            "1/1 [==============================] - 1s 849ms/step - loss: 2.4804 - accuracy: 0.1045 - val_loss: 2.3857 - val_accuracy: 0.1332\n",
            "Epoch 2/50\n",
            "1/1 [==============================] - 0s 316ms/step - loss: 2.3966 - accuracy: 0.1233 - val_loss: 2.3347 - val_accuracy: 0.1355\n",
            "Epoch 3/50\n",
            "1/1 [==============================] - 0s 322ms/step - loss: 2.3441 - accuracy: 0.1234 - val_loss: 2.2971 - val_accuracy: 0.1348\n",
            "Epoch 4/50\n",
            "1/1 [==============================] - 0s 304ms/step - loss: 2.3055 - accuracy: 0.1244 - val_loss: 2.2664 - val_accuracy: 0.1473\n",
            "Epoch 5/50\n",
            "1/1 [==============================] - 0s 317ms/step - loss: 2.2742 - accuracy: 0.1344 - val_loss: 2.2398 - val_accuracy: 0.1617\n",
            "Epoch 6/50\n",
            "1/1 [==============================] - 0s 313ms/step - loss: 2.2472 - accuracy: 0.1470 - val_loss: 2.2159 - val_accuracy: 0.1747\n",
            "Epoch 7/50\n",
            "1/1 [==============================] - 0s 290ms/step - loss: 2.2230 - accuracy: 0.1616 - val_loss: 2.1937 - val_accuracy: 0.2015\n",
            "Epoch 8/50\n",
            "1/1 [==============================] - 0s 323ms/step - loss: 2.2006 - accuracy: 0.1894 - val_loss: 2.1728 - val_accuracy: 0.2393\n",
            "Epoch 9/50\n",
            "1/1 [==============================] - 0s 293ms/step - loss: 2.1797 - accuracy: 0.2318 - val_loss: 2.1528 - val_accuracy: 0.2988\n",
            "Epoch 10/50\n",
            "1/1 [==============================] - 0s 311ms/step - loss: 2.1597 - accuracy: 0.2877 - val_loss: 2.1337 - val_accuracy: 0.3518\n",
            "Epoch 11/50\n",
            "1/1 [==============================] - 0s 301ms/step - loss: 2.1406 - accuracy: 0.3400 - val_loss: 2.1152 - val_accuracy: 0.3988\n",
            "Epoch 12/50\n",
            "1/1 [==============================] - 0s 313ms/step - loss: 2.1221 - accuracy: 0.3819 - val_loss: 2.0972 - val_accuracy: 0.4348\n",
            "Epoch 13/50\n",
            "1/1 [==============================] - 0s 300ms/step - loss: 2.1042 - accuracy: 0.4175 - val_loss: 2.0798 - val_accuracy: 0.4697\n",
            "Epoch 14/50\n",
            "1/1 [==============================] - 0s 293ms/step - loss: 2.0868 - accuracy: 0.4544 - val_loss: 2.0627 - val_accuracy: 0.5002\n",
            "Epoch 15/50\n",
            "1/1 [==============================] - 0s 308ms/step - loss: 2.0697 - accuracy: 0.4881 - val_loss: 2.0460 - val_accuracy: 0.5267\n",
            "Epoch 16/50\n",
            "1/1 [==============================] - 0s 302ms/step - loss: 2.0531 - accuracy: 0.5137 - val_loss: 2.0297 - val_accuracy: 0.5470\n",
            "Epoch 17/50\n",
            "1/1 [==============================] - 0s 308ms/step - loss: 2.0368 - accuracy: 0.5348 - val_loss: 2.0137 - val_accuracy: 0.5630\n",
            "Epoch 18/50\n",
            "1/1 [==============================] - 0s 314ms/step - loss: 2.0209 - accuracy: 0.5512 - val_loss: 1.9980 - val_accuracy: 0.5758\n",
            "Epoch 19/50\n",
            "1/1 [==============================] - 0s 299ms/step - loss: 2.0052 - accuracy: 0.5649 - val_loss: 1.9825 - val_accuracy: 0.5883\n",
            "Epoch 20/50\n",
            "1/1 [==============================] - 0s 315ms/step - loss: 1.9898 - accuracy: 0.5774 - val_loss: 1.9674 - val_accuracy: 0.5998\n",
            "Epoch 21/50\n",
            "1/1 [==============================] - 0s 298ms/step - loss: 1.9747 - accuracy: 0.5892 - val_loss: 1.9525 - val_accuracy: 0.6115\n",
            "Epoch 22/50\n",
            "1/1 [==============================] - 0s 306ms/step - loss: 1.9598 - accuracy: 0.5992 - val_loss: 1.9378 - val_accuracy: 0.6192\n",
            "Epoch 23/50\n",
            "1/1 [==============================] - 0s 312ms/step - loss: 1.9452 - accuracy: 0.6077 - val_loss: 1.9233 - val_accuracy: 0.6263\n",
            "Epoch 24/50\n",
            "1/1 [==============================] - 0s 320ms/step - loss: 1.9308 - accuracy: 0.6146 - val_loss: 1.9091 - val_accuracy: 0.6332\n",
            "Epoch 25/50\n",
            "1/1 [==============================] - 0s 305ms/step - loss: 1.9166 - accuracy: 0.6207 - val_loss: 1.8951 - val_accuracy: 0.6385\n",
            "Epoch 26/50\n",
            "1/1 [==============================] - 0s 307ms/step - loss: 1.9026 - accuracy: 0.6265 - val_loss: 1.8813 - val_accuracy: 0.6400\n",
            "Epoch 27/50\n",
            "1/1 [==============================] - 0s 298ms/step - loss: 1.8889 - accuracy: 0.6313 - val_loss: 1.8677 - val_accuracy: 0.6453\n",
            "Epoch 28/50\n",
            "1/1 [==============================] - 0s 303ms/step - loss: 1.8754 - accuracy: 0.6349 - val_loss: 1.8544 - val_accuracy: 0.6493\n",
            "Epoch 29/50\n",
            "1/1 [==============================] - 0s 302ms/step - loss: 1.8621 - accuracy: 0.6381 - val_loss: 1.8413 - val_accuracy: 0.6543\n",
            "Epoch 30/50\n",
            "1/1 [==============================] - 0s 298ms/step - loss: 1.8491 - accuracy: 0.6418 - val_loss: 1.8284 - val_accuracy: 0.6558\n",
            "Epoch 31/50\n",
            "1/1 [==============================] - 0s 298ms/step - loss: 1.8363 - accuracy: 0.6448 - val_loss: 1.8158 - val_accuracy: 0.6590\n",
            "Epoch 32/50\n",
            "1/1 [==============================] - 0s 302ms/step - loss: 1.8237 - accuracy: 0.6479 - val_loss: 1.8035 - val_accuracy: 0.6618\n",
            "Epoch 33/50\n",
            "1/1 [==============================] - 0s 307ms/step - loss: 1.8114 - accuracy: 0.6502 - val_loss: 1.7914 - val_accuracy: 0.6643\n",
            "Epoch 34/50\n",
            "1/1 [==============================] - 0s 297ms/step - loss: 1.7993 - accuracy: 0.6524 - val_loss: 1.7795 - val_accuracy: 0.6670\n",
            "Epoch 35/50\n",
            "1/1 [==============================] - 0s 297ms/step - loss: 1.7874 - accuracy: 0.6546 - val_loss: 1.7678 - val_accuracy: 0.6702\n",
            "Epoch 36/50\n",
            "1/1 [==============================] - 0s 305ms/step - loss: 1.7758 - accuracy: 0.6565 - val_loss: 1.7564 - val_accuracy: 0.6702\n",
            "Epoch 37/50\n",
            "1/1 [==============================] - 0s 292ms/step - loss: 1.7644 - accuracy: 0.6582 - val_loss: 1.7452 - val_accuracy: 0.6728\n",
            "Epoch 38/50\n",
            "1/1 [==============================] - 0s 307ms/step - loss: 1.7532 - accuracy: 0.6598 - val_loss: 1.7342 - val_accuracy: 0.6740\n",
            "Epoch 39/50\n",
            "1/1 [==============================] - 0s 306ms/step - loss: 1.7423 - accuracy: 0.6612 - val_loss: 1.7234 - val_accuracy: 0.6750\n",
            "Epoch 40/50\n",
            "1/1 [==============================] - 0s 301ms/step - loss: 1.7315 - accuracy: 0.6627 - val_loss: 1.7128 - val_accuracy: 0.6758\n",
            "Epoch 41/50\n",
            "1/1 [==============================] - 0s 302ms/step - loss: 1.7209 - accuracy: 0.6642 - val_loss: 1.7024 - val_accuracy: 0.6778\n",
            "Epoch 42/50\n",
            "1/1 [==============================] - 0s 319ms/step - loss: 1.7105 - accuracy: 0.6653 - val_loss: 1.6922 - val_accuracy: 0.6792\n",
            "Epoch 43/50\n",
            "1/1 [==============================] - 0s 300ms/step - loss: 1.7002 - accuracy: 0.6670 - val_loss: 1.6821 - val_accuracy: 0.6795\n",
            "Epoch 44/50\n",
            "1/1 [==============================] - 0s 301ms/step - loss: 1.6902 - accuracy: 0.6684 - val_loss: 1.6722 - val_accuracy: 0.6792\n",
            "Epoch 45/50\n",
            "1/1 [==============================] - 0s 314ms/step - loss: 1.6803 - accuracy: 0.6694 - val_loss: 1.6624 - val_accuracy: 0.6793\n",
            "Epoch 46/50\n",
            "1/1 [==============================] - 0s 316ms/step - loss: 1.6705 - accuracy: 0.6700 - val_loss: 1.6528 - val_accuracy: 0.6795\n",
            "Epoch 47/50\n",
            "1/1 [==============================] - 0s 297ms/step - loss: 1.6609 - accuracy: 0.6710 - val_loss: 1.6433 - val_accuracy: 0.6803\n",
            "Epoch 48/50\n",
            "1/1 [==============================] - 0s 306ms/step - loss: 1.6515 - accuracy: 0.6716 - val_loss: 1.6340 - val_accuracy: 0.6805\n",
            "Epoch 49/50\n",
            "1/1 [==============================] - 0s 254ms/step - loss: 1.6422 - accuracy: 0.6725 - val_loss: 1.6248 - val_accuracy: 0.6808\n",
            "Epoch 50/50\n",
            "1/1 [==============================] - 0s 252ms/step - loss: 1.6330 - accuracy: 0.6732 - val_loss: 1.6157 - val_accuracy: 0.6817\n"
          ]
        }
      ]
    },
    {
      "cell_type": "code",
      "metadata": {
        "id": "VwE7ucdlxC8p",
        "colab": {
          "base_uri": "https://localhost:8080/",
          "height": 298
        },
        "outputId": "bd711589-892c-4fd3-93c2-9860b550fa4a"
      },
      "source": [
        "plot_loss_accuracy(history)"
      ],
      "execution_count": null,
      "outputs": [
        {
          "output_type": "display_data",
          "data": {
            "text/plain": [
              "<Figure size 576x432 with 0 Axes>"
            ]
          },
          "metadata": {}
        },
        {
          "output_type": "display_data",
          "data": {
            "text/plain": [
              "<Figure size 432x288 with 1 Axes>"
            ],
            "image/png": "[encoded data removed]"
          },
          "metadata": {
            "needs_background": "light"
          }
        }
      ]
    },
    {
      "cell_type": "code",
      "metadata": {
        "id": "t9MzCUPU5QEb",
        "colab": {
          "base_uri": "https://localhost:8080/"
        },
        "outputId": "49ec9dc4-a292-4969-a3ae-aac1253bbf74"
      },
      "source": [
        "loss, accuracy  = model.evaluate(x_test, y_test, verbose=False)\n",
        "print(f'Test loss: {loss:.3}')\n",
        "print(f'Test accuracy: {accuracy:.3}')"
      ],
      "execution_count": null,
      "outputs": [
        {
          "output_type": "stream",
          "name": "stdout",
          "text": [
            "Test loss: 1.63\n",
            "Test accuracy: 0.667\n"
          ]
        }
      ]
    },
    {
      "cell_type": "code",
      "metadata": {
        "id": "-qu69X96xTNq",
        "colab": {
          "base_uri": "https://localhost:8080/"
        },
        "outputId": "4c07692b-10c2-48ed-b713-d1c7f8a901f6"
      },
      "source": [
        "#Model 10\n",
        "\n",
        "model = build_basic_model()\n",
        "model.compile('adam', loss='categorical_crossentropy', metrics=['accuracy'])\n",
        "history = model.fit(x_train, y_train, batch_size=256, epochs=50, verbose=True, validation_split=.1)"
      ],
      "execution_count": null,
      "outputs": [
        {
          "output_type": "stream",
          "name": "stdout",
          "text": [
            "Epoch 1/50\n",
            "211/211 [==============================] - 2s 7ms/step - loss: 1.1842 - accuracy: 0.6839 - val_loss: 0.7859 - val_accuracy: 0.7780\n",
            "Epoch 2/50\n",
            "211/211 [==============================] - 1s 4ms/step - loss: 0.6821 - accuracy: 0.8003 - val_loss: 0.5926 - val_accuracy: 0.8133\n",
            "Epoch 3/50\n",
            "211/211 [==============================] - 1s 4ms/step - loss: 0.5485 - accuracy: 0.8268 - val_loss: 0.5089 - val_accuracy: 0.8320\n",
            "Epoch 4/50\n",
            "211/211 [==============================] - 1s 4ms/step - loss: 0.4854 - accuracy: 0.8392 - val_loss: 0.4684 - val_accuracy: 0.8393\n",
            "Epoch 5/50\n",
            "211/211 [==============================] - 1s 4ms/step - loss: 0.4510 - accuracy: 0.8479 - val_loss: 0.4418 - val_accuracy: 0.8473\n",
            "Epoch 6/50\n",
            "211/211 [==============================] - 1s 4ms/step - loss: 0.4274 - accuracy: 0.8530 - val_loss: 0.4196 - val_accuracy: 0.8507\n",
            "Epoch 7/50\n",
            "211/211 [==============================] - 1s 4ms/step - loss: 0.4107 - accuracy: 0.8587 - val_loss: 0.4090 - val_accuracy: 0.8538\n",
            "Epoch 8/50\n",
            "211/211 [==============================] - 1s 4ms/step - loss: 0.3978 - accuracy: 0.8618 - val_loss: 0.4019 - val_accuracy: 0.8538\n",
            "Epoch 9/50\n",
            "211/211 [==============================] - 1s 4ms/step - loss: 0.3869 - accuracy: 0.8657 - val_loss: 0.3938 - val_accuracy: 0.8533\n",
            "Epoch 10/50\n",
            "211/211 [==============================] - 1s 4ms/step - loss: 0.3782 - accuracy: 0.8682 - val_loss: 0.3813 - val_accuracy: 0.8617\n",
            "Epoch 11/50\n",
            "211/211 [==============================] - 1s 4ms/step - loss: 0.3704 - accuracy: 0.8713 - val_loss: 0.3735 - val_accuracy: 0.8630\n",
            "Epoch 12/50\n",
            "211/211 [==============================] - 1s 5ms/step - loss: 0.3632 - accuracy: 0.8725 - val_loss: 0.3706 - val_accuracy: 0.8667\n",
            "Epoch 13/50\n",
            "211/211 [==============================] - 1s 6ms/step - loss: 0.3574 - accuracy: 0.8739 - val_loss: 0.3688 - val_accuracy: 0.8675\n",
            "Epoch 14/50\n",
            "211/211 [==============================] - 1s 6ms/step - loss: 0.3511 - accuracy: 0.8763 - val_loss: 0.3638 - val_accuracy: 0.8683\n",
            "Epoch 15/50\n",
            "211/211 [==============================] - 1s 4ms/step - loss: 0.3461 - accuracy: 0.8772 - val_loss: 0.3599 - val_accuracy: 0.8680\n",
            "Epoch 16/50\n",
            "211/211 [==============================] - 1s 4ms/step - loss: 0.3408 - accuracy: 0.8804 - val_loss: 0.3572 - val_accuracy: 0.8735\n",
            "Epoch 17/50\n",
            "211/211 [==============================] - 1s 4ms/step - loss: 0.3352 - accuracy: 0.8823 - val_loss: 0.3532 - val_accuracy: 0.8745\n",
            "Epoch 18/50\n",
            "211/211 [==============================] - 1s 4ms/step - loss: 0.3317 - accuracy: 0.8827 - val_loss: 0.3554 - val_accuracy: 0.8722\n",
            "Epoch 19/50\n",
            "211/211 [==============================] - 1s 4ms/step - loss: 0.3277 - accuracy: 0.8845 - val_loss: 0.3523 - val_accuracy: 0.8743\n",
            "Epoch 20/50\n",
            "211/211 [==============================] - 1s 4ms/step - loss: 0.3233 - accuracy: 0.8856 - val_loss: 0.3490 - val_accuracy: 0.8753\n",
            "Epoch 21/50\n",
            "211/211 [==============================] - 1s 3ms/step - loss: 0.3195 - accuracy: 0.8878 - val_loss: 0.3480 - val_accuracy: 0.8762\n",
            "Epoch 22/50\n",
            "211/211 [==============================] - 1s 4ms/step - loss: 0.3154 - accuracy: 0.8885 - val_loss: 0.3473 - val_accuracy: 0.8763\n",
            "Epoch 23/50\n",
            "211/211 [==============================] - 1s 4ms/step - loss: 0.3130 - accuracy: 0.8892 - val_loss: 0.3398 - val_accuracy: 0.8788\n",
            "Epoch 24/50\n",
            "211/211 [==============================] - 1s 4ms/step - loss: 0.3095 - accuracy: 0.8915 - val_loss: 0.3409 - val_accuracy: 0.8788\n",
            "Epoch 25/50\n",
            "211/211 [==============================] - 1s 4ms/step - loss: 0.3064 - accuracy: 0.8914 - val_loss: 0.3387 - val_accuracy: 0.8793\n",
            "Epoch 26/50\n",
            "211/211 [==============================] - 1s 4ms/step - loss: 0.3035 - accuracy: 0.8923 - val_loss: 0.3411 - val_accuracy: 0.8785\n",
            "Epoch 27/50\n",
            "211/211 [==============================] - 1s 4ms/step - loss: 0.3005 - accuracy: 0.8938 - val_loss: 0.3354 - val_accuracy: 0.8818\n",
            "Epoch 28/50\n",
            "211/211 [==============================] - 1s 4ms/step - loss: 0.2986 - accuracy: 0.8943 - val_loss: 0.3329 - val_accuracy: 0.8830\n",
            "Epoch 29/50\n",
            "211/211 [==============================] - 1s 4ms/step - loss: 0.2939 - accuracy: 0.8961 - val_loss: 0.3368 - val_accuracy: 0.8815\n",
            "Epoch 30/50\n",
            "211/211 [==============================] - 1s 4ms/step - loss: 0.2921 - accuracy: 0.8968 - val_loss: 0.3348 - val_accuracy: 0.8822\n",
            "Epoch 31/50\n",
            "211/211 [==============================] - 1s 4ms/step - loss: 0.2907 - accuracy: 0.8963 - val_loss: 0.3339 - val_accuracy: 0.8802\n",
            "Epoch 32/50\n",
            "211/211 [==============================] - 1s 4ms/step - loss: 0.2875 - accuracy: 0.8980 - val_loss: 0.3306 - val_accuracy: 0.8830\n",
            "Epoch 33/50\n",
            "211/211 [==============================] - 1s 4ms/step - loss: 0.2852 - accuracy: 0.8987 - val_loss: 0.3328 - val_accuracy: 0.8807\n",
            "Epoch 34/50\n",
            "211/211 [==============================] - 1s 4ms/step - loss: 0.2831 - accuracy: 0.8993 - val_loss: 0.3287 - val_accuracy: 0.8830\n",
            "Epoch 35/50\n",
            "211/211 [==============================] - 1s 4ms/step - loss: 0.2812 - accuracy: 0.9012 - val_loss: 0.3290 - val_accuracy: 0.8843\n",
            "Epoch 36/50\n",
            "211/211 [==============================] - 1s 4ms/step - loss: 0.2782 - accuracy: 0.9007 - val_loss: 0.3325 - val_accuracy: 0.8817\n",
            "Epoch 37/50\n",
            "211/211 [==============================] - 1s 4ms/step - loss: 0.2765 - accuracy: 0.9022 - val_loss: 0.3276 - val_accuracy: 0.8802\n",
            "Epoch 38/50\n",
            "211/211 [==============================] - 1s 4ms/step - loss: 0.2745 - accuracy: 0.9028 - val_loss: 0.3236 - val_accuracy: 0.8843\n",
            "Epoch 39/50\n",
            "211/211 [==============================] - 1s 4ms/step - loss: 0.2733 - accuracy: 0.9031 - val_loss: 0.3294 - val_accuracy: 0.8807\n",
            "Epoch 40/50\n",
            "211/211 [==============================] - 1s 4ms/step - loss: 0.2715 - accuracy: 0.9043 - val_loss: 0.3304 - val_accuracy: 0.8823\n",
            "Epoch 41/50\n",
            "211/211 [==============================] - 1s 4ms/step - loss: 0.2688 - accuracy: 0.9052 - val_loss: 0.3229 - val_accuracy: 0.8835\n",
            "Epoch 42/50\n",
            "211/211 [==============================] - 1s 4ms/step - loss: 0.2678 - accuracy: 0.9053 - val_loss: 0.3243 - val_accuracy: 0.8873\n",
            "Epoch 43/50\n",
            "211/211 [==============================] - 1s 4ms/step - loss: 0.2657 - accuracy: 0.9061 - val_loss: 0.3250 - val_accuracy: 0.8853\n",
            "Epoch 44/50\n",
            "211/211 [==============================] - 1s 4ms/step - loss: 0.2644 - accuracy: 0.9069 - val_loss: 0.3229 - val_accuracy: 0.8850\n",
            "Epoch 45/50\n",
            "211/211 [==============================] - 1s 4ms/step - loss: 0.2626 - accuracy: 0.9078 - val_loss: 0.3245 - val_accuracy: 0.8830\n",
            "Epoch 46/50\n",
            "211/211 [==============================] - 1s 4ms/step - loss: 0.2609 - accuracy: 0.9074 - val_loss: 0.3227 - val_accuracy: 0.8855\n",
            "Epoch 47/50\n",
            "211/211 [==============================] - 1s 4ms/step - loss: 0.2598 - accuracy: 0.9082 - val_loss: 0.3307 - val_accuracy: 0.8832\n",
            "Epoch 48/50\n",
            "211/211 [==============================] - 1s 4ms/step - loss: 0.2573 - accuracy: 0.9087 - val_loss: 0.3244 - val_accuracy: 0.8847\n",
            "Epoch 49/50\n",
            "211/211 [==============================] - 1s 4ms/step - loss: 0.2560 - accuracy: 0.9096 - val_loss: 0.3231 - val_accuracy: 0.8853\n",
            "Epoch 50/50\n",
            "211/211 [==============================] - 1s 4ms/step - loss: 0.2541 - accuracy: 0.9116 - val_loss: 0.3210 - val_accuracy: 0.8855\n"
          ]
        }
      ]
    },
    {
      "cell_type": "code",
      "metadata": {
        "id": "BHoEbmKmyPym",
        "colab": {
          "base_uri": "https://localhost:8080/",
          "height": 298
        },
        "outputId": "7d079d3d-5301-4541-b0f2-09c946b9520e"
      },
      "source": [
        "plot_loss_accuracy(history)"
      ],
      "execution_count": null,
      "outputs": [
        {
          "output_type": "display_data",
          "data": {
            "text/plain": [
              "<Figure size 576x432 with 0 Axes>"
            ]
          },
          "metadata": {}
        },
        {
          "output_type": "display_data",
          "data": {
            "text/plain": [
              "<Figure size 432x288 with 1 Axes>"
            ],
            "image/png": "[encoded data removed]"
          },
          "metadata": {
            "needs_background": "light"
          }
        }
      ]
    },
    {
      "cell_type": "code",
      "metadata": {
        "id": "uOQf7zp45TTK",
        "colab": {
          "base_uri": "https://localhost:8080/"
        },
        "outputId": "40d1fc32-2c13-469f-8996-abeb8cc9b650"
      },
      "source": [
        "loss, accuracy  = model.evaluate(x_test, y_test, verbose=False)\n",
        "print(f'Test loss: {loss:.3}')\n",
        "print(f'Test accuracy: {accuracy:.3}')"
      ],
      "execution_count": null,
      "outputs": [
        {
          "output_type": "stream",
          "name": "stdout",
          "text": [
            "Test loss: 0.354\n",
            "Test accuracy: 0.875\n"
          ]
        }
      ]
    },
    {
      "cell_type": "code",
      "metadata": {
        "id": "6Qgyjp1dyYJk",
        "colab": {
          "base_uri": "https://localhost:8080/"
        },
        "outputId": "a978301c-0fc0-4e2b-97ad-5990ac00b92e"
      },
      "source": [
        "#Model 11\n",
        "\n",
        "model = build_basic_model()\n",
        "model.compile(tf.keras.optimizers.Adam(lr=5), loss='categorical_crossentropy', metrics=['accuracy'])\n",
        "history = model.fit(x_train, y_train, batch_size=256, epochs=50, verbose=True, validation_split=.1)"
      ],
      "execution_count": null,
      "outputs": [
        {
          "output_type": "stream",
          "name": "stdout",
          "text": [
            "Epoch 1/50\n",
            "211/211 [==============================] - 1s 4ms/step - loss: 15.4289 - accuracy: 0.1704 - val_loss: 17.1296 - val_accuracy: 0.0963\n",
            "Epoch 2/50\n",
            "211/211 [==============================] - 1s 4ms/step - loss: 18.3800 - accuracy: 0.1304 - val_loss: 32.3547 - val_accuracy: 0.1340\n",
            "Epoch 3/50\n",
            "211/211 [==============================] - 1s 4ms/step - loss: 13.9624 - accuracy: 0.1575 - val_loss: 8.1343 - val_accuracy: 0.1852\n",
            "Epoch 4/50\n",
            "211/211 [==============================] - 1s 4ms/step - loss: 12.4682 - accuracy: 0.1656 - val_loss: 19.0987 - val_accuracy: 0.1033\n",
            "Epoch 5/50\n",
            "211/211 [==============================] - 1s 4ms/step - loss: 11.1949 - accuracy: 0.1659 - val_loss: 14.1611 - val_accuracy: 0.1043\n",
            "Epoch 6/50\n",
            "211/211 [==============================] - 1s 4ms/step - loss: 11.1242 - accuracy: 0.1682 - val_loss: 14.8766 - val_accuracy: 0.1862\n",
            "Epoch 7/50\n",
            "211/211 [==============================] - 1s 4ms/step - loss: 10.1154 - accuracy: 0.1685 - val_loss: 7.1459 - val_accuracy: 0.1912\n",
            "Epoch 8/50\n",
            "211/211 [==============================] - 1s 4ms/step - loss: 19.7128 - accuracy: 0.1571 - val_loss: 31.3707 - val_accuracy: 0.1585\n",
            "Epoch 9/50\n",
            "211/211 [==============================] - 1s 4ms/step - loss: 11.2599 - accuracy: 0.1766 - val_loss: 11.0168 - val_accuracy: 0.1797\n",
            "Epoch 10/50\n",
            "211/211 [==============================] - 1s 4ms/step - loss: 7.7209 - accuracy: 0.1866 - val_loss: 5.5021 - val_accuracy: 0.1990\n",
            "Epoch 11/50\n",
            "211/211 [==============================] - 1s 4ms/step - loss: 8.9070 - accuracy: 0.1846 - val_loss: 15.4535 - val_accuracy: 0.1928\n",
            "Epoch 12/50\n",
            "211/211 [==============================] - 1s 4ms/step - loss: 7.8255 - accuracy: 0.1859 - val_loss: 3.5060 - val_accuracy: 0.1220\n",
            "Epoch 13/50\n",
            "211/211 [==============================] - 1s 4ms/step - loss: 10.5455 - accuracy: 0.1814 - val_loss: 8.0912 - val_accuracy: 0.1713\n",
            "Epoch 14/50\n",
            "211/211 [==============================] - 1s 4ms/step - loss: 8.2157 - accuracy: 0.1909 - val_loss: 7.5933 - val_accuracy: 0.1865\n",
            "Epoch 15/50\n",
            "211/211 [==============================] - 1s 3ms/step - loss: 8.8248 - accuracy: 0.1933 - val_loss: 11.2735 - val_accuracy: 0.1832\n",
            "Epoch 16/50\n",
            "211/211 [==============================] - 1s 4ms/step - loss: 9.2442 - accuracy: 0.1892 - val_loss: 4.1090 - val_accuracy: 0.1933\n",
            "Epoch 17/50\n",
            "211/211 [==============================] - 1s 4ms/step - loss: 11.1018 - accuracy: 0.1837 - val_loss: 16.8279 - val_accuracy: 0.1748\n",
            "Epoch 18/50\n",
            "211/211 [==============================] - 1s 4ms/step - loss: 10.7887 - accuracy: 0.1870 - val_loss: 10.0692 - val_accuracy: 0.1915\n",
            "Epoch 19/50\n",
            "211/211 [==============================] - 1s 4ms/step - loss: 10.0750 - accuracy: 0.1861 - val_loss: 8.2267 - val_accuracy: 0.1930\n",
            "Epoch 20/50\n",
            "211/211 [==============================] - 1s 4ms/step - loss: 9.7636 - accuracy: 0.1864 - val_loss: 11.8599 - val_accuracy: 0.1865\n",
            "Epoch 21/50\n",
            "211/211 [==============================] - 1s 4ms/step - loss: 10.0510 - accuracy: 0.1871 - val_loss: 9.1559 - val_accuracy: 0.1950\n",
            "Epoch 22/50\n",
            "211/211 [==============================] - 1s 4ms/step - loss: 9.3769 - accuracy: 0.1875 - val_loss: 5.4972 - val_accuracy: 0.1590\n",
            "Epoch 23/50\n",
            "211/211 [==============================] - 1s 3ms/step - loss: 7.9042 - accuracy: 0.1810 - val_loss: 9.0301 - val_accuracy: 0.1820\n",
            "Epoch 24/50\n",
            "211/211 [==============================] - 1s 4ms/step - loss: 9.5880 - accuracy: 0.1874 - val_loss: 11.6090 - val_accuracy: 0.1972\n",
            "Epoch 25/50\n",
            "211/211 [==============================] - 1s 4ms/step - loss: 9.4692 - accuracy: 0.1806 - val_loss: 8.5468 - val_accuracy: 0.1893\n",
            "Epoch 26/50\n",
            "211/211 [==============================] - 1s 4ms/step - loss: 8.4189 - accuracy: 0.1794 - val_loss: 4.7511 - val_accuracy: 0.2013\n",
            "Epoch 27/50\n",
            "211/211 [==============================] - 1s 4ms/step - loss: 6.6730 - accuracy: 0.1825 - val_loss: 6.9848 - val_accuracy: 0.2022\n",
            "Epoch 28/50\n",
            "211/211 [==============================] - 1s 4ms/step - loss: 8.4685 - accuracy: 0.1900 - val_loss: 11.4197 - val_accuracy: 0.1993\n",
            "Epoch 29/50\n",
            "211/211 [==============================] - 1s 4ms/step - loss: 15.1954 - accuracy: 0.1732 - val_loss: 18.1849 - val_accuracy: 0.1110\n",
            "Epoch 30/50\n",
            "211/211 [==============================] - 1s 4ms/step - loss: 8.7930 - accuracy: 0.2040 - val_loss: 8.5630 - val_accuracy: 0.2642\n",
            "Epoch 31/50\n",
            "211/211 [==============================] - 1s 3ms/step - loss: 6.0775 - accuracy: 0.2253 - val_loss: 9.3045 - val_accuracy: 0.2290\n",
            "Epoch 32/50\n",
            "211/211 [==============================] - 1s 4ms/step - loss: 5.6310 - accuracy: 0.2229 - val_loss: 6.3674 - val_accuracy: 0.2030\n",
            "Epoch 33/50\n",
            "211/211 [==============================] - 1s 4ms/step - loss: 6.2787 - accuracy: 0.2383 - val_loss: 9.6056 - val_accuracy: 0.2477\n",
            "Epoch 34/50\n",
            "211/211 [==============================] - 1s 4ms/step - loss: 6.9956 - accuracy: 0.2436 - val_loss: 10.0904 - val_accuracy: 0.2015\n",
            "Epoch 35/50\n",
            "211/211 [==============================] - 1s 4ms/step - loss: 6.6014 - accuracy: 0.2136 - val_loss: 5.4198 - val_accuracy: 0.2093\n",
            "Epoch 36/50\n",
            "211/211 [==============================] - 1s 4ms/step - loss: 6.9362 - accuracy: 0.2050 - val_loss: 6.6306 - val_accuracy: 0.2190\n",
            "Epoch 37/50\n",
            "211/211 [==============================] - 1s 4ms/step - loss: 7.9256 - accuracy: 0.2152 - val_loss: 7.7064 - val_accuracy: 0.2155\n",
            "Epoch 38/50\n",
            "211/211 [==============================] - 1s 4ms/step - loss: 8.6162 - accuracy: 0.1971 - val_loss: 8.6392 - val_accuracy: 0.2088\n",
            "Epoch 39/50\n",
            "211/211 [==============================] - 1s 4ms/step - loss: 10.4223 - accuracy: 0.1920 - val_loss: 16.0714 - val_accuracy: 0.1942\n",
            "Epoch 40/50\n",
            "211/211 [==============================] - 1s 4ms/step - loss: 9.4728 - accuracy: 0.1902 - val_loss: 6.3790 - val_accuracy: 0.1925\n",
            "Epoch 41/50\n",
            "211/211 [==============================] - 1s 4ms/step - loss: 7.7197 - accuracy: 0.2047 - val_loss: 6.1444 - val_accuracy: 0.2085\n",
            "Epoch 42/50\n",
            "211/211 [==============================] - 1s 4ms/step - loss: 12.5132 - accuracy: 0.1802 - val_loss: 13.2940 - val_accuracy: 0.1895\n",
            "Epoch 43/50\n",
            "211/211 [==============================] - 1s 4ms/step - loss: 12.1262 - accuracy: 0.1814 - val_loss: 10.0377 - val_accuracy: 0.1990\n",
            "Epoch 44/50\n",
            "211/211 [==============================] - 1s 4ms/step - loss: 12.5202 - accuracy: 0.1793 - val_loss: 14.7964 - val_accuracy: 0.1915\n",
            "Epoch 45/50\n",
            "211/211 [==============================] - 1s 4ms/step - loss: 16.3150 - accuracy: 0.1759 - val_loss: 5.5639 - val_accuracy: 0.2142\n",
            "Epoch 46/50\n",
            "211/211 [==============================] - 1s 4ms/step - loss: 8.0160 - accuracy: 0.1883 - val_loss: 4.8062 - val_accuracy: 0.2152\n",
            "Epoch 47/50\n",
            "211/211 [==============================] - 1s 4ms/step - loss: 6.2144 - accuracy: 0.2044 - val_loss: 3.7928 - val_accuracy: 0.2215\n",
            "Epoch 48/50\n",
            "211/211 [==============================] - 1s 4ms/step - loss: 5.5405 - accuracy: 0.2059 - val_loss: 5.5829 - val_accuracy: 0.2108\n",
            "Epoch 49/50\n",
            "211/211 [==============================] - 1s 4ms/step - loss: 7.2428 - accuracy: 0.2021 - val_loss: 5.7900 - val_accuracy: 0.2188\n",
            "Epoch 50/50\n",
            "211/211 [==============================] - 1s 4ms/step - loss: 8.1209 - accuracy: 0.2053 - val_loss: 8.8914 - val_accuracy: 0.2042\n"
          ]
        }
      ]
    },
    {
      "cell_type": "code",
      "metadata": {
        "id": "NSsFFwaB1Hb4",
        "colab": {
          "base_uri": "https://localhost:8080/",
          "height": 298
        },
        "outputId": "d2c9f637-e460-41e4-b3d6-6601d7463b00"
      },
      "source": [
        "plot_loss_accuracy(history)"
      ],
      "execution_count": null,
      "outputs": [
        {
          "output_type": "display_data",
          "data": {
            "text/plain": [
              "<Figure size 576x432 with 0 Axes>"
            ]
          },
          "metadata": {}
        },
        {
          "output_type": "display_data",
          "data": {
            "text/plain": [
              "<Figure size 432x288 with 1 Axes>"
            ],
            "image/png": "[encoded data removed]"
          },
          "metadata": {
            "needs_background": "light"
          }
        }
      ]
    },
    {
      "cell_type": "code",
      "metadata": {
        "id": "Ju5SQ2x81W0U",
        "colab": {
          "base_uri": "https://localhost:8080/"
        },
        "outputId": "64a9ef31-2ec6-4af5-c0b7-0fc9a76c9cc6"
      },
      "source": [
        "#Model 12\n",
        "\n",
        "model = build_basic_model()\n",
        "model.compile('nadam', loss='categorical_crossentropy', metrics=['accuracy'])\n",
        "history = model.fit(x_train, y_train, batch_size=256, epochs=50, verbose=True, validation_split=.1)"
      ],
      "execution_count": null,
      "outputs": [
        {
          "output_type": "stream",
          "name": "stdout",
          "text": [
            "Epoch 1/50\n",
            "211/211 [==============================] - 2s 5ms/step - loss: 1.2388 - accuracy: 0.6609 - val_loss: 0.8196 - val_accuracy: 0.7752\n",
            "Epoch 2/50\n",
            "211/211 [==============================] - 1s 4ms/step - loss: 0.7041 - accuracy: 0.7959 - val_loss: 0.6043 - val_accuracy: 0.8122\n",
            "Epoch 3/50\n",
            "211/211 [==============================] - 1s 4ms/step - loss: 0.5609 - accuracy: 0.8233 - val_loss: 0.5151 - val_accuracy: 0.8313\n",
            "Epoch 4/50\n",
            "211/211 [==============================] - 1s 4ms/step - loss: 0.4941 - accuracy: 0.8371 - val_loss: 0.4685 - val_accuracy: 0.8347\n",
            "Epoch 5/50\n",
            "211/211 [==============================] - 1s 4ms/step - loss: 0.4559 - accuracy: 0.8460 - val_loss: 0.4412 - val_accuracy: 0.8443\n",
            "Epoch 6/50\n",
            "211/211 [==============================] - 1s 4ms/step - loss: 0.4303 - accuracy: 0.8527 - val_loss: 0.4240 - val_accuracy: 0.8500\n",
            "Epoch 7/50\n",
            "211/211 [==============================] - 1s 4ms/step - loss: 0.4121 - accuracy: 0.8581 - val_loss: 0.4107 - val_accuracy: 0.8527\n",
            "Epoch 8/50\n",
            "211/211 [==============================] - 1s 4ms/step - loss: 0.3983 - accuracy: 0.8618 - val_loss: 0.3976 - val_accuracy: 0.8567\n",
            "Epoch 9/50\n",
            "211/211 [==============================] - 1s 4ms/step - loss: 0.3868 - accuracy: 0.8649 - val_loss: 0.3890 - val_accuracy: 0.8572\n",
            "Epoch 10/50\n",
            "211/211 [==============================] - 1s 4ms/step - loss: 0.3771 - accuracy: 0.8675 - val_loss: 0.3822 - val_accuracy: 0.8582\n",
            "Epoch 11/50\n",
            "211/211 [==============================] - 1s 4ms/step - loss: 0.3688 - accuracy: 0.8699 - val_loss: 0.3799 - val_accuracy: 0.8603\n",
            "Epoch 12/50\n",
            "211/211 [==============================] - 1s 4ms/step - loss: 0.3618 - accuracy: 0.8721 - val_loss: 0.3744 - val_accuracy: 0.8623\n",
            "Epoch 13/50\n",
            "211/211 [==============================] - 1s 4ms/step - loss: 0.3551 - accuracy: 0.8758 - val_loss: 0.3662 - val_accuracy: 0.8662\n",
            "Epoch 14/50\n",
            "211/211 [==============================] - 1s 4ms/step - loss: 0.3492 - accuracy: 0.8765 - val_loss: 0.3640 - val_accuracy: 0.8668\n",
            "Epoch 15/50\n",
            "211/211 [==============================] - 1s 4ms/step - loss: 0.3437 - accuracy: 0.8779 - val_loss: 0.3610 - val_accuracy: 0.8692\n",
            "Epoch 16/50\n",
            "211/211 [==============================] - 1s 4ms/step - loss: 0.3383 - accuracy: 0.8806 - val_loss: 0.3590 - val_accuracy: 0.8698\n",
            "Epoch 17/50\n",
            "211/211 [==============================] - 1s 4ms/step - loss: 0.3340 - accuracy: 0.8822 - val_loss: 0.3608 - val_accuracy: 0.8678\n",
            "Epoch 18/50\n",
            "211/211 [==============================] - 1s 4ms/step - loss: 0.3293 - accuracy: 0.8839 - val_loss: 0.3528 - val_accuracy: 0.8727\n",
            "Epoch 19/50\n",
            "211/211 [==============================] - 1s 4ms/step - loss: 0.3256 - accuracy: 0.8843 - val_loss: 0.3483 - val_accuracy: 0.8727\n",
            "Epoch 20/50\n",
            "211/211 [==============================] - 1s 4ms/step - loss: 0.3215 - accuracy: 0.8861 - val_loss: 0.3461 - val_accuracy: 0.8743\n",
            "Epoch 21/50\n",
            "211/211 [==============================] - 1s 4ms/step - loss: 0.3177 - accuracy: 0.8880 - val_loss: 0.3434 - val_accuracy: 0.8762\n",
            "Epoch 22/50\n",
            "211/211 [==============================] - 1s 4ms/step - loss: 0.3136 - accuracy: 0.8888 - val_loss: 0.3407 - val_accuracy: 0.8780\n",
            "Epoch 23/50\n",
            "211/211 [==============================] - 1s 4ms/step - loss: 0.3101 - accuracy: 0.8904 - val_loss: 0.3396 - val_accuracy: 0.8800\n",
            "Epoch 24/50\n",
            "211/211 [==============================] - 1s 4ms/step - loss: 0.3071 - accuracy: 0.8908 - val_loss: 0.3376 - val_accuracy: 0.8770\n",
            "Epoch 25/50\n",
            "211/211 [==============================] - 1s 4ms/step - loss: 0.3036 - accuracy: 0.8924 - val_loss: 0.3354 - val_accuracy: 0.8788\n",
            "Epoch 26/50\n",
            "211/211 [==============================] - 1s 4ms/step - loss: 0.3005 - accuracy: 0.8932 - val_loss: 0.3345 - val_accuracy: 0.8817\n",
            "Epoch 27/50\n",
            "211/211 [==============================] - 1s 4ms/step - loss: 0.2980 - accuracy: 0.8938 - val_loss: 0.3358 - val_accuracy: 0.8787\n",
            "Epoch 28/50\n",
            "211/211 [==============================] - 1s 4ms/step - loss: 0.2945 - accuracy: 0.8948 - val_loss: 0.3361 - val_accuracy: 0.8782\n",
            "Epoch 29/50\n",
            "211/211 [==============================] - 1s 4ms/step - loss: 0.2921 - accuracy: 0.8965 - val_loss: 0.3341 - val_accuracy: 0.8790\n",
            "Epoch 30/50\n",
            "211/211 [==============================] - 1s 5ms/step - loss: 0.2893 - accuracy: 0.8974 - val_loss: 0.3293 - val_accuracy: 0.8788\n",
            "Epoch 31/50\n",
            "211/211 [==============================] - 1s 5ms/step - loss: 0.2866 - accuracy: 0.8975 - val_loss: 0.3279 - val_accuracy: 0.8807\n",
            "Epoch 32/50\n",
            "211/211 [==============================] - 1s 5ms/step - loss: 0.2843 - accuracy: 0.8989 - val_loss: 0.3307 - val_accuracy: 0.8793\n",
            "Epoch 33/50\n",
            "211/211 [==============================] - 1s 5ms/step - loss: 0.2814 - accuracy: 0.9002 - val_loss: 0.3293 - val_accuracy: 0.8780\n",
            "Epoch 34/50\n",
            "211/211 [==============================] - 1s 5ms/step - loss: 0.2795 - accuracy: 0.9001 - val_loss: 0.3263 - val_accuracy: 0.8837\n",
            "Epoch 35/50\n",
            "211/211 [==============================] - 1s 5ms/step - loss: 0.2770 - accuracy: 0.9013 - val_loss: 0.3245 - val_accuracy: 0.8830\n",
            "Epoch 36/50\n",
            "211/211 [==============================] - 1s 5ms/step - loss: 0.2745 - accuracy: 0.9022 - val_loss: 0.3267 - val_accuracy: 0.8798\n",
            "Epoch 37/50\n",
            "211/211 [==============================] - 1s 5ms/step - loss: 0.2724 - accuracy: 0.9029 - val_loss: 0.3239 - val_accuracy: 0.8818\n",
            "Epoch 38/50\n",
            "211/211 [==============================] - 1s 5ms/step - loss: 0.2702 - accuracy: 0.9041 - val_loss: 0.3253 - val_accuracy: 0.8805\n",
            "Epoch 39/50\n",
            "211/211 [==============================] - 1s 5ms/step - loss: 0.2684 - accuracy: 0.9049 - val_loss: 0.3245 - val_accuracy: 0.8810\n",
            "Epoch 40/50\n",
            "211/211 [==============================] - 1s 5ms/step - loss: 0.2665 - accuracy: 0.9045 - val_loss: 0.3234 - val_accuracy: 0.8808\n",
            "Epoch 41/50\n",
            "211/211 [==============================] - 1s 5ms/step - loss: 0.2643 - accuracy: 0.9060 - val_loss: 0.3234 - val_accuracy: 0.8817\n",
            "Epoch 42/50\n",
            "211/211 [==============================] - 1s 5ms/step - loss: 0.2625 - accuracy: 0.9067 - val_loss: 0.3221 - val_accuracy: 0.8815\n",
            "Epoch 43/50\n",
            "211/211 [==============================] - 1s 5ms/step - loss: 0.2608 - accuracy: 0.9067 - val_loss: 0.3200 - val_accuracy: 0.8838\n",
            "Epoch 44/50\n",
            "211/211 [==============================] - 1s 5ms/step - loss: 0.2591 - accuracy: 0.9076 - val_loss: 0.3229 - val_accuracy: 0.8810\n",
            "Epoch 45/50\n",
            "211/211 [==============================] - 1s 5ms/step - loss: 0.2573 - accuracy: 0.9086 - val_loss: 0.3217 - val_accuracy: 0.8805\n",
            "Epoch 46/50\n",
            "211/211 [==============================] - 1s 5ms/step - loss: 0.2557 - accuracy: 0.9090 - val_loss: 0.3252 - val_accuracy: 0.8835\n",
            "Epoch 47/50\n",
            "211/211 [==============================] - 1s 5ms/step - loss: 0.2537 - accuracy: 0.9094 - val_loss: 0.3205 - val_accuracy: 0.8837\n",
            "Epoch 48/50\n",
            "211/211 [==============================] - 1s 5ms/step - loss: 0.2518 - accuracy: 0.9112 - val_loss: 0.3241 - val_accuracy: 0.8818\n",
            "Epoch 49/50\n",
            "211/211 [==============================] - 1s 5ms/step - loss: 0.2505 - accuracy: 0.9109 - val_loss: 0.3217 - val_accuracy: 0.8837\n",
            "Epoch 50/50\n",
            "211/211 [==============================] - 1s 5ms/step - loss: 0.2487 - accuracy: 0.9117 - val_loss: 0.3221 - val_accuracy: 0.8807\n"
          ]
        }
      ]
    },
    {
      "cell_type": "code",
      "metadata": {
        "id": "t_2Goipm2KZU",
        "colab": {
          "base_uri": "https://localhost:8080/",
          "height": 333
        },
        "outputId": "02b9fabb-4f9f-40aa-ad89-d12016a52fcf"
      },
      "source": [
        "plot_loss_accuracy(history)\n",
        "loss, accuracy  = model.evaluate(x_test, y_test, verbose=False)\n",
        "print(f'Test loss: {loss:.3}')\n",
        "print(f'Test accuracy: {accuracy:.3}')"
      ],
      "execution_count": null,
      "outputs": [
        {
          "output_type": "stream",
          "name": "stdout",
          "text": [
            "Test loss: 0.349\n",
            "Test accuracy: 0.876\n"
          ]
        },
        {
          "output_type": "display_data",
          "data": {
            "text/plain": [
              "<Figure size 576x432 with 0 Axes>"
            ]
          },
          "metadata": {}
        },
        {
          "output_type": "display_data",
          "data": {
            "text/plain": [
              "<Figure size 432x288 with 1 Axes>"
            ],
            "image/png": "[encoded data removed]"
          },
          "metadata": {
            "needs_background": "light"
          }
        }
      ]
    }
  ]
}