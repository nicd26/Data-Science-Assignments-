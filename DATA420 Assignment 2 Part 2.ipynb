{
 "cells": [
  {
   "cell_type": "markdown",
   "metadata": {},
   "source": [
    "**Spark notebook**\n",
    "\n",
    "This notebook will only work in a Jupyter session running on `mathmadslinux2p`.\n",
    "\n",
    "You can start your own Jupyter session on `mathmadslinux2p` and open this notebook in Chrome on the MADS Windows server by\n",
    "\n",
    "1. Login to the MADS Windows server using https://mathportal.canterbury.ac.nz/.\n",
    "2. Download or copy this notebook to your home directory.\n",
    "3. Open powershell and run `ssh mathmadslinux2p`.\n",
    "4. Run `start_pyspark_notebook` or `/opt/anaconda3/bin/jupyter-notebook --ip 132.181.129.68 --port $((8000 + $((RANDOM % 999))))`.\n",
    "5. Copy / paste the url provided in the shell window into Chrome on the MADS Windows server.\n",
    "6. Open the notebook from the Jupyter root directory (which is your home directory).\n",
    "7. Run `start_spark()` to start a spark session in the notebook.\n",
    "8. Run `stop_spark()` before closing the notebook or kill your spark application by hand using the link in the Spark UI."
   ]
  },
  {
   "cell_type": "code",
   "execution_count": 610,
   "metadata": {},
   "outputs": [
    {
     "data": {
      "text/html": [
       "<style>pre { white-space: pre !important; }table.dataframe td { white-space: nowrap !important; }table.dataframe thead th:first-child, table.dataframe tbody th { display: none; }</style>"
      ],
      "text/plain": [
       "<IPython.core.display.HTML object>"
      ]
     },
     "metadata": {},
     "output_type": "display_data"
    },
    {
     "name": "stdout",
     "output_type": "stream",
     "text": [
      "Help on function start_spark in module __main__:\n",
      "\n",
      "start_spark(executor_instances=2, executor_cores=1, worker_memory=1, master_memory=1)\n",
      "    Start a new Spark session and define globals for SparkSession (spark) and SparkContext (sc).\n",
      "    \n",
      "    Args:\n",
      "        executor_instances (int): number of executors (default: 2)\n",
      "        executor_cores (int): number of cores per executor (default: 1)\n",
      "        worker_memory (float): worker memory (default: 1)\n",
      "        master_memory (float): master memory (default: 1)\n",
      "\n",
      "Help on function stop_spark in module __main__:\n",
      "\n",
      "stop_spark()\n",
      "    Stop the active Spark session and delete globals for SparkSession (spark) and SparkContext (sc).\n",
      "\n",
      "Help on function display_spark in module __main__:\n",
      "\n",
      "display_spark()\n",
      "    Display the status of the active Spark session if one is currently running.\n",
      "\n",
      "Help on function show_as_html in module __main__:\n",
      "\n",
      "show_as_html(df, n=20)\n",
      "    Leverage existing pandas jupyter integration to show a spark dataframe as html.\n",
      "    \n",
      "    Args:\n",
      "        n (int): number of rows to show (default: 20)\n",
      "\n"
     ]
    }
   ],
   "source": [
    "# Run this cell to import pyspark and to define start_spark() and stop_spark()\n",
    "\n",
    "import findspark\n",
    "\n",
    "findspark.init()\n",
    "\n",
    "import getpass\n",
    "import pandas\n",
    "import pyspark\n",
    "import random\n",
    "import re\n",
    "\n",
    "from IPython.display import display, HTML\n",
    "from pyspark import SparkContext\n",
    "from pyspark.sql import SparkSession\n",
    "\n",
    "\n",
    "# Functions used below\n",
    "\n",
    "def username():\n",
    "    \"\"\"Get username with any domain information removed.\n",
    "    \"\"\"\n",
    "\n",
    "    return re.sub('@.*', '', getpass.getuser())\n",
    "\n",
    "\n",
    "def dict_to_html(d):\n",
    "    \"\"\"Convert a Python dictionary into a two column table for display.\n",
    "    \"\"\"\n",
    "\n",
    "    html = []\n",
    "\n",
    "    html.append(f'<table width=\"100%\" style=\"width:100%; font-family: monospace;\">')\n",
    "    for k, v in d.items():\n",
    "        html.append(f'<tr><td style=\"text-align:left;\">{k}</td><td>{v}</td></tr>')\n",
    "    html.append(f'</table>')\n",
    "\n",
    "    return ''.join(html)\n",
    "\n",
    "\n",
    "def show_as_html(df, n=20):\n",
    "    \"\"\"Leverage existing pandas jupyter integration to show a spark dataframe as html.\n",
    "    \n",
    "    Args:\n",
    "        n (int): number of rows to show (default: 20)\n",
    "    \"\"\"\n",
    "\n",
    "    display(df.limit(n).toPandas())\n",
    "\n",
    "    \n",
    "def display_spark():\n",
    "    \"\"\"Display the status of the active Spark session if one is currently running.\n",
    "    \"\"\"\n",
    "    \n",
    "    if 'spark' in globals() and 'sc' in globals():\n",
    "\n",
    "        name = sc.getConf().get(\"spark.app.name\")\n",
    "        \n",
    "        html = [\n",
    "            f'<p><b>Spark</b></p>',\n",
    "            f'<p>The spark session is <b><span style=\"color:green\">active</span></b>, look for <code>{name}</code> under the running applications section in the Spark UI.</p>',\n",
    "            f'<ul>',\n",
    "            f'<li><a href=\"http://mathmadslinux2p.canterbury.ac.nz:8080/\" target=\"_blank\">Spark UI</a></li>',\n",
    "            f'<li><a href=\"{sc.uiWebUrl}\" target=\"_blank\">Spark Application UI</a></li>',\n",
    "            f'</ul>',\n",
    "            f'<p><b>Config</b></p>',\n",
    "            dict_to_html(dict(sc.getConf().getAll())),\n",
    "            f'<p><b>Notes</b></p>',\n",
    "            f'<ul>',\n",
    "            f'<li>The spark session <code>spark</code> and spark context <code>sc</code> global variables have been defined by <code>start_spark()</code>.</li>',\n",
    "            f'<li>Please run <code>stop_spark()</code> before closing the notebook or restarting the kernel or kill <code>{name}</code> by hand using the link in the Spark UI.</li>',\n",
    "            f'</ul>',\n",
    "        ]\n",
    "        display(HTML(''.join(html)))\n",
    "        \n",
    "    else:\n",
    "        \n",
    "        html = [\n",
    "            f'<p><b>Spark</b></p>',\n",
    "            f'<p>The spark session is <b><span style=\"color:red\">stopped</span></b>, confirm that <code>{username() + \" (jupyter)\"}</code> is under the completed applications section in the Spark UI.</p>',\n",
    "            f'<ul>',\n",
    "            f'<li><a href=\"http://mathmadslinux2p.canterbury.ac.nz:8080/\" target=\"_blank\">Spark UI</a></li>',\n",
    "            f'</ul>',\n",
    "        ]\n",
    "        display(HTML(''.join(html)))\n",
    "\n",
    "\n",
    "# Functions to start and stop spark\n",
    "\n",
    "def start_spark(executor_instances=2, executor_cores=1, worker_memory=1, master_memory=1):\n",
    "    \"\"\"Start a new Spark session and define globals for SparkSession (spark) and SparkContext (sc).\n",
    "    \n",
    "    Args:\n",
    "        executor_instances (int): number of executors (default: 2)\n",
    "        executor_cores (int): number of cores per executor (default: 1)\n",
    "        worker_memory (float): worker memory (default: 1)\n",
    "        master_memory (float): master memory (default: 1)\n",
    "    \"\"\"\n",
    "\n",
    "    global spark\n",
    "    global sc\n",
    "\n",
    "    user = username()\n",
    "    \n",
    "    cores = executor_instances * executor_cores\n",
    "    partitions = cores * 4\n",
    "    port = 4000 + random.randint(1, 999)\n",
    "\n",
    "    spark = (\n",
    "        SparkSession.builder\n",
    "        .master(\"spark://masternode2:7077\")\n",
    "        .config(\"spark.driver.extraJavaOptions\", f\"-Dderby.system.home=/tmp/{user}/spark/\")\n",
    "        .config(\"spark.dynamicAllocation.enabled\", \"false\")\n",
    "        .config(\"spark.executor.instances\", str(executor_instances))\n",
    "        .config(\"spark.executor.cores\", str(executor_cores))\n",
    "        .config(\"spark.cores.max\", str(cores))\n",
    "        .config(\"spark.executor.memory\", f\"{worker_memory}g\")\n",
    "        .config(\"spark.driver.memory\", f\"{master_memory}g\")\n",
    "        .config(\"spark.driver.maxResultSize\", \"0\")\n",
    "        .config(\"spark.sql.shuffle.partitions\", str(partitions))\n",
    "        .config(\"spark.ui.port\", str(port))\n",
    "        .appName(user + \" (jupyter)\")\n",
    "        .getOrCreate()\n",
    "    )\n",
    "    sc = SparkContext.getOrCreate()\n",
    "    \n",
    "    display_spark()\n",
    "\n",
    "    \n",
    "def stop_spark():\n",
    "    \"\"\"Stop the active Spark session and delete globals for SparkSession (spark) and SparkContext (sc).\n",
    "    \"\"\"\n",
    "\n",
    "    global spark\n",
    "    global sc\n",
    "\n",
    "    if 'spark' in globals() and 'sc' in globals():\n",
    "\n",
    "        spark.stop()\n",
    "\n",
    "        del spark\n",
    "        del sc\n",
    "\n",
    "    display_spark()\n",
    "\n",
    "\n",
    "# Make css changes to improve spark output readability\n",
    "\n",
    "html = [\n",
    "    '<style>',\n",
    "    'pre { white-space: pre !important; }',\n",
    "    'table.dataframe td { white-space: nowrap !important; }',\n",
    "    'table.dataframe thead th:first-child, table.dataframe tbody th { display: none; }',\n",
    "    '</style>',\n",
    "]\n",
    "display(HTML(''.join(html)))\n",
    "\n",
    "\n",
    "# Print function docstrings\n",
    "\n",
    "help(start_spark)\n",
    "help(stop_spark)\n",
    "help(display_spark)\n",
    "help(show_as_html)"
   ]
  },
  {
   "cell_type": "code",
   "execution_count": 687,
   "metadata": {
    "scrolled": true
   },
   "outputs": [
    {
     "data": {
      "text/html": [
       "<p><b>Spark</b></p><p>The spark session is <b><span style=\"color:green\">active</span></b>, look for <code>ndu31 (jupyter)</code> under the running applications section in the Spark UI.</p><ul><li><a href=\"http://mathmadslinux2p.canterbury.ac.nz:8080/\" target=\"_blank\">Spark UI</a></li><li><a href=\"http://mathmadslinux2p.canterbury.ac.nz:4344\" target=\"_blank\">Spark Application UI</a></li></ul><p><b>Config</b></p><table width=\"100%\" style=\"width:100%; font-family: monospace;\"><tr><td style=\"text-align:left;\">spark.sql.shuffle.partitions</td><td>64</td></tr><tr><td style=\"text-align:left;\">spark.dynamicAllocation.enabled</td><td>false</td></tr><tr><td style=\"text-align:left;\">spark.executor.instances</td><td>4</td></tr><tr><td style=\"text-align:left;\">spark.driver.extraJavaOptions</td><td>-Dderby.system.home=/tmp/ndu31/spark/</td></tr><tr><td style=\"text-align:left;\">spark.master</td><td>spark://masternode2:7077</td></tr><tr><td style=\"text-align:left;\">spark.cores.max</td><td>16</td></tr><tr><td style=\"text-align:left;\">spark.executor.id</td><td>driver</td></tr><tr><td style=\"text-align:left;\">spark.sql.warehouse.dir</td><td>file:/users/home/ndu31/spark-warehouse</td></tr><tr><td style=\"text-align:left;\">spark.driver.host</td><td>mathmadslinux2p.canterbury.ac.nz</td></tr><tr><td style=\"text-align:left;\">spark.executor.cores</td><td>4</td></tr><tr><td style=\"text-align:left;\">spark.app.startTime</td><td>1667176776269</td></tr><tr><td style=\"text-align:left;\">spark.rdd.compress</td><td>True</td></tr><tr><td style=\"text-align:left;\">spark.driver.port</td><td>37611</td></tr><tr><td style=\"text-align:left;\">spark.driver.memory</td><td>8g</td></tr><tr><td style=\"text-align:left;\">spark.ui.port</td><td>4344</td></tr><tr><td style=\"text-align:left;\">spark.driver.maxResultSize</td><td>0</td></tr><tr><td style=\"text-align:left;\">spark.app.id</td><td>app-20221031133936-0307</td></tr><tr><td style=\"text-align:left;\">spark.serializer.objectStreamReset</td><td>100</td></tr><tr><td style=\"text-align:left;\">spark.executor.memory</td><td>8g</td></tr><tr><td style=\"text-align:left;\">spark.submit.pyFiles</td><td></td></tr><tr><td style=\"text-align:left;\">spark.submit.deployMode</td><td>client</td></tr><tr><td style=\"text-align:left;\">spark.ui.showConsoleProgress</td><td>true</td></tr><tr><td style=\"text-align:left;\">spark.app.name</td><td>ndu31 (jupyter)</td></tr></table><p><b>Notes</b></p><ul><li>The spark session <code>spark</code> and spark context <code>sc</code> global variables have been defined by <code>start_spark()</code>.</li><li>Please run <code>stop_spark()</code> before closing the notebook or restarting the kernel or kill <code>ndu31 (jupyter)</code> by hand using the link in the Spark UI.</li></ul>"
      ],
      "text/plain": [
       "<IPython.core.display.HTML object>"
      ]
     },
     "metadata": {},
     "output_type": "display_data"
    }
   ],
   "source": [
    "# Run this cell to start a spark session in this notebook\n",
    "\n",
    "start_spark(executor_instances=4, executor_cores=4, worker_memory=8, master_memory=8)"
   ]
  },
  {
   "cell_type": "code",
   "execution_count": 811,
   "metadata": {},
   "outputs": [],
   "source": [
    "# Write your imports and code here or insert cells below\n",
    "\n",
    "from pyspark.sql import functions as F\n",
    "from pyspark.sql.types import *\n",
    "import os\n",
    "import subprocess\n",
    "from pyspark.mllib.stat import Statistics\n",
    "import pandas as pd\n",
    "import matplotlib.pyplot as plt\n",
    "import numpy as np\n",
    "import scipy as sp\n",
    "import io\n",
    "from pyspark.ml import Pipeline \n",
    "from pyspark.ml.feature import StringIndexer \n",
    "from pyspark.ml.classification import NaiveBayes \n",
    "from pyspark.ml.evaluation import MulticlassClassificationEvaluator\n",
    "from pyspark.ml.feature import StringIndexer, VectorAssembler\n",
    "from pyspark.ml.classification import LogisticRegression\n",
    "from pyspark.ml.evaluation import BinaryClassificationEvaluator\n",
    "from pyspark.ml.tuning import ParamGridBuilder, CrossValidator\n",
    "from pyspark.ml.recommendation import ALS\n",
    "from pyspark.ml.feature import StringIndexer\n",
    "from pyspark.ml.evaluation import RegressionEvaluator"
   ]
  },
  {
   "cell_type": "code",
   "execution_count": 281,
   "metadata": {},
   "outputs": [],
   "source": [
    "#Question 2"
   ]
  },
  {
   "cell_type": "code",
   "execution_count": 132,
   "metadata": {},
   "outputs": [],
   "source": [
    "schema = StructType([\n",
    "    StructField(\"SONG_ID\", StringType(),True),\n",
    "    StructField(\"TRACK_ID\", StringType(),True),\n",
    "    StructField(\"SONG_ARTIST\", StringType(),True),\n",
    "    StructField(\"SONG_TITLE\", StringType(),True),\n",
    "    StructField(\"TRACK_ARTIST\", StringType(),True),\n",
    "    StructField(\"SONG_TITLE\", StringType(),True)\n",
    "])"
   ]
  },
  {
   "cell_type": "code",
   "execution_count": 261,
   "metadata": {},
   "outputs": [],
   "source": [
    "matches_manually = (\n",
    "    spark.read.format(\"text\")\n",
    "    .load(\"hdfs:///data/msd/tasteprofile/mismatches/sid_matches_manually_accepted.txt\")\n",
    ")"
   ]
  },
  {
   "cell_type": "code",
   "execution_count": 263,
   "metadata": {},
   "outputs": [],
   "source": [
    "file = matches_manually.toPandas()\n",
    "sid_matches_manually_accepted = []\n",
    "for i in range(len(file)-1):\n",
    "    line =  file.iloc[i+1,0]\n",
    "    if line.startswith(\"< ERROR: \"):\n",
    "        songid = line[10:28]\n",
    "        trackid = line[29:47]\n",
    "        first, second = line[49:].split(\"  !=  \")\n",
    "        artist1, name1 = first.split(\"  -  \")\n",
    "        artist2, name2 = second.split(\"  -  \")\n",
    "        sid_matches_manually_accepted.append((songid,trackid,artist1,name1,artist2,name2))"
   ]
  },
  {
   "cell_type": "code",
   "execution_count": 267,
   "metadata": {
    "scrolled": true
   },
   "outputs": [
    {
     "name": "stdout",
     "output_type": "stream",
     "text": [
      "+------------------+------------------+-----------------+------------------------------------------------------------------------------------------+----------------------------------------------------------------------------------------------------+----------------------------------------------------------------------------------------------+\n",
      "|SONG_ID           |TRACK_ID          |SONG_ARTIST      |SONG_TITLE                                                                                |TRACK_ARTIST                                                                                        |SONG_TITLE                                                                                    |\n",
      "+------------------+------------------+-----------------+------------------------------------------------------------------------------------------+----------------------------------------------------------------------------------------------------+----------------------------------------------------------------------------------------------+\n",
      "|SOFQHZM12A8C142342|TRMWMFG128F92FFEF2|Josipa Lisac     |razloga                                                                                   |Lisac Josipa                                                                                        |1000 razloga                                                                                  |\n",
      "|SODXUTF12AB018A3DA|TRMWPCD12903CCE5ED|Lutan Fyah       |Nuh Matter the Crisis Feat. Midnite                                                       |Midnite                                                                                             |Nah Matter the Crisis                                                                         |\n",
      "|SOASCRF12A8C1372E6|TRMHIPJ128F426A2E2|Gaetano Donizetti|L'Elisir d'Amore: Act Two: Come sen va contento!                                          |Gianandrea Gavazzeni_ Orchestra E Coro Del Maggio Musicale Fiorentino_ Carlo Bergonzi_ Renata Scotto|L'Elisir D'Amore_ Act 2: Come Sen Va Contento (Adina) (Donizetti)                             |\n",
      "|SOITDUN12A58A7AACA|TRMHXGK128F42446AB|C.J. Chenier     |Ay, Ai Ai                                                                                 |Clifton Chenier                                                                                     |Ay_ Ai Ai                                                                                     |\n",
      "|SOLZXUM12AB018BE39|TRMRSOF12903CCF516|許志安           |男人最痛                                                                                  |Andy Hui                                                                                            |Nan Ren Zui Tong                                                                              |\n",
      "|SOTJTDT12A8C13A8A6|TRMNKQE128F427C4D8|S                |h                                                                                         |Sammy Hagar                                                                                         |20th Century Man (Live)                                                                       |\n",
      "|SOGCVWB12AB0184CE2|TRMUNCZ128F932A95D|H                |Y                                                                                         |Hawkwind                                                                                            |25 Years (Alternate Mix)                                                                      |\n",
      "|SOKDKGD12AB0185E9C|TRMOOAH12903CB4B29|影山ヒロノブ     |Cha-La Head-Cha-La (2005 ver./DRAGON BALL Z Opening Theme)                                |Takahashi Hiroki                                                                                    |Maka fushigi adventure! (2005 Version/DRAGON BALL Opening Theme)                              |\n",
      "|SOPPBXP12A8C141194|TRMXJDS128F42AE7CF|Αντώνης Ρέμος    |O Trellos - Live                                                                          |Antonis Remos                                                                                       |O Trellos                                                                                     |\n",
      "|SODQSLR12A8C133A01|TRWHMXN128F426E03C|John Williams    |Concerto No. 1 for Guitar and String Orchestra in A Major, Op. 30/II.  Andantino siciliano|English Chamber Orchestra                                                                           |II. Andantino siciliano from Concerto No. 1 for Guitar and String Orchestra in A Major_ Op. 30|\n",
      "+------------------+------------------+-----------------+------------------------------------------------------------------------------------------+----------------------------------------------------------------------------------------------------+----------------------------------------------------------------------------------------------+\n",
      "only showing top 10 rows\n",
      "\n"
     ]
    }
   ],
   "source": [
    "matches_manually_accepted = spark.createDataFrame(sc.parallelize(sid_matches_manually_accepted,3), schema = schema)\n",
    "matches_manually_accepted.show(10,False)"
   ]
  },
  {
   "cell_type": "code",
   "execution_count": 266,
   "metadata": {
    "scrolled": true
   },
   "outputs": [
    {
     "data": {
      "text/plain": [
       "488"
      ]
     },
     "execution_count": 266,
     "metadata": {},
     "output_type": "execute_result"
    }
   ],
   "source": [
    "matches_manually_accepted.count()"
   ]
  },
  {
   "cell_type": "code",
   "execution_count": 268,
   "metadata": {
    "scrolled": true
   },
   "outputs": [],
   "source": [
    "mismatches_text = (\n",
    "    spark.read.format(\"text\")\n",
    "    .load(\"hdfs:///data/msd/tasteprofile/mismatches/sid_mismatches.txt\")\n",
    ")"
   ]
  },
  {
   "cell_type": "code",
   "execution_count": 269,
   "metadata": {
    "scrolled": true
   },
   "outputs": [],
   "source": [
    "misfile = mismatches_text.toPandas()\n",
    "mismatches_list= []\n",
    "for i in range(len(misfile)-1):\n",
    "    line =  misfile.iloc[i+1,0]\n",
    "    if line.startswith(\"ERROR: \"):\n",
    "        songid = line[8:26]\n",
    "        trackid = line[27:45]\n",
    "        first, second = line[47:].split(\"  !=  \")\n",
    "        artist1, song1 = first.split(\"  -  \")\n",
    "        artist2, song2 = second.split(\"  -  \")\n",
    "        mismatches_list.append((songid,trackid,artist1,song1,artist2,song2))"
   ]
  },
  {
   "cell_type": "code",
   "execution_count": 271,
   "metadata": {},
   "outputs": [
    {
     "name": "stdout",
     "output_type": "stream",
     "text": [
      "+------------------+------------------+--------------------------+-----------------------------------------+--------------+------------------------------------------------------+\n",
      "|SONG_ID           |TRACK_ID          |SONG_ARTIST               |SONG_TITLE                               |TRACK_ARTIST  |SONG_TITLE                                            |\n",
      "+------------------+------------------+--------------------------+-----------------------------------------+--------------+------------------------------------------------------+\n",
      "|SOCMRBE12AB018C546|TRMMREB12903CEB1B1|Jimmy Reed                |The Sun Is Shining (Digitally Remastered)|Slim Harpo    |I Got Love If You Want It                             |\n",
      "|SOLPHZY12AC468ABA8|TRMMBOC12903CEB46E|Africa HiTech             |Footstep                                 |Marcus Worgull|Drumstern (BONUS TRACK)                               |\n",
      "|SONGHTM12A8C1374EF|TRMMITP128F425D8D0|Death in Vegas            |Anita Berber                             |Valen Hsu     |Shi Yi                                                |\n",
      "|SONGXCA12A8C13E82E|TRMMAYZ128F429ECE6|Grupo Exterminador        |El Triunfador                            |I Ribelli     |Lei M'Ama                                             |\n",
      "|SOMBCRC12A67ADA435|TRMMNVU128EF343EED|Fading Friend             |Get us out!                              |Masterboy     |Feel The Heat 2000                                    |\n",
      "|SOTDWDK12A8C13617B|TRMMNCZ128F426FF0E|Daevid Allen              |Past Lives                               |Bhimsen Joshi |Raga - Shuddha Sarang_ Aalap                          |\n",
      "|SOEBURP12AB018C2FB|TRMMPBS12903CE90E1|Cristian Paduraru         |Born Again                               |Yespiring     |Journey Stages                                        |\n",
      "|SOSRJHS12A6D4FDAA3|TRMWMEL128F421DA68|Jeff Mills                |Basic Human Design                       |M&T           |Drumsettester                                         |\n",
      "|SOIYAAQ12A6D4F954A|TRMWHRI128F147EA8E|Excepter                  |OG                                       |The Fevers    |Não Tenho Nada (Natchs Scheint Die Sonne)             |\n",
      "|SOUQUOG12A6D4F5965|TRMWCQW128F147DE05|The Amalgamation of Soundz|31                                       |Yvonne Loriod |Messiaen : 8 Préludes : V Les sons impalpables du rêve|\n",
      "+------------------+------------------+--------------------------+-----------------------------------------+--------------+------------------------------------------------------+\n",
      "only showing top 10 rows\n",
      "\n"
     ]
    }
   ],
   "source": [
    "mismatches = spark.createDataFrame(sc.parallelize(mismatches_list,3), schema = schema)\n",
    "mismatches.show(10,False)"
   ]
  },
  {
   "cell_type": "code",
   "execution_count": 272,
   "metadata": {},
   "outputs": [
    {
     "data": {
      "text/plain": [
       "19093"
      ]
     },
     "execution_count": 272,
     "metadata": {},
     "output_type": "execute_result"
    }
   ],
   "source": [
    "mismatches.count()\n"
   ]
  },
  {
   "cell_type": "code",
   "execution_count": 273,
   "metadata": {
    "scrolled": true
   },
   "outputs": [],
   "source": [
    "schema_triplets = StructType([\n",
    "    StructField('USER_ID', StringType()),\n",
    "    StructField('SONG_ID', StringType()),\n",
    "    StructField('COUNT', IntegerType())\n",
    "])"
   ]
  },
  {
   "cell_type": "code",
   "execution_count": 748,
   "metadata": {
    "scrolled": true
   },
   "outputs": [],
   "source": [
    "triplets = (\n",
    "    spark.read.format(\"com.databricks.spark.csv\")\n",
    "    .option(\"header\", \"false\")\n",
    "    .option(\"inferSchema\", \"false\")\n",
    "    .option(\"delimiter\", \"\\t\")\n",
    "    .schema(schema_triplets)\n",
    "    .load(\"hdfs:///data/msd/tasteprofile/triplets.tsv\")\n",
    ")\n"
   ]
  },
  {
   "cell_type": "code",
   "execution_count": 275,
   "metadata": {},
   "outputs": [
    {
     "name": "stdout",
     "output_type": "stream",
     "text": [
      "+----------------------------------------+------------------+-----+\n",
      "|USER_ID                                 |SONG_ID           |COUNT|\n",
      "+----------------------------------------+------------------+-----+\n",
      "|f1bfc2a4597a3642f232e7a4e5d5ab2a99cf80e5|SOQEFDN12AB017C52B|1    |\n",
      "|f1bfc2a4597a3642f232e7a4e5d5ab2a99cf80e5|SOQOIUJ12A6701DAA7|2    |\n",
      "|f1bfc2a4597a3642f232e7a4e5d5ab2a99cf80e5|SOQOKKD12A6701F92E|4    |\n",
      "|f1bfc2a4597a3642f232e7a4e5d5ab2a99cf80e5|SOSDVHO12AB01882C7|1    |\n",
      "|f1bfc2a4597a3642f232e7a4e5d5ab2a99cf80e5|SOSKICX12A6701F932|1    |\n",
      "|f1bfc2a4597a3642f232e7a4e5d5ab2a99cf80e5|SOSNUPV12A8C13939B|1    |\n",
      "|f1bfc2a4597a3642f232e7a4e5d5ab2a99cf80e5|SOSVMII12A6701F92D|1    |\n",
      "|f1bfc2a4597a3642f232e7a4e5d5ab2a99cf80e5|SOTUNHI12B0B80AFE2|1    |\n",
      "|f1bfc2a4597a3642f232e7a4e5d5ab2a99cf80e5|SOTXLTZ12AB017C535|1    |\n",
      "|f1bfc2a4597a3642f232e7a4e5d5ab2a99cf80e5|SOTZDDX12A6701F935|1    |\n",
      "+----------------------------------------+------------------+-----+\n",
      "only showing top 10 rows\n",
      "\n"
     ]
    }
   ],
   "source": [
    "triplets.show(10,False)"
   ]
  },
  {
   "cell_type": "code",
   "execution_count": 145,
   "metadata": {},
   "outputs": [
    {
     "data": {
      "text/plain": [
       "48373586"
      ]
     },
     "execution_count": 145,
     "metadata": {},
     "output_type": "execute_result"
    }
   ],
   "source": [
    "triplets.count()"
   ]
  },
  {
   "cell_type": "code",
   "execution_count": 276,
   "metadata": {},
   "outputs": [],
   "source": [
    "mismatches_total = (\n",
    "    mismatches\n",
    "    .join(\n",
    "        matches_manually_accepted,\n",
    "        on = \"SONG_ID\",\n",
    "        how = \"left_anti\"\n",
    "    )\n",
    ")"
   ]
  },
  {
   "cell_type": "code",
   "execution_count": 749,
   "metadata": {},
   "outputs": [],
   "source": [
    "triplets_matches = (\n",
    "    triplets\n",
    "    .join(\n",
    "        mismatches_total,\n",
    "        on = \"SONG_ID\",\n",
    "        how = \"left_anti\"\n",
    "    )\n",
    ")"
   ]
  },
  {
   "cell_type": "code",
   "execution_count": 279,
   "metadata": {
    "scrolled": false
   },
   "outputs": [
    {
     "name": "stdout",
     "output_type": "stream",
     "text": [
      "+------------------+----------------------------------------+-----+\n",
      "|SONG_ID           |USER_ID                                 |COUNT|\n",
      "+------------------+----------------------------------------+-----+\n",
      "|SOAAADE12A6D4F80CC|edfc4dea143a03f061d7f834775b2d8119094cae|1    |\n",
      "|SOAAADE12A6D4F80CC|ae6b5e9dbfdd799f23fb1a5887de42d02338e2e4|1    |\n",
      "|SOAAADE12A6D4F80CC|992fa95473cc053aa8cd689bcadec43d17cdc760|1    |\n",
      "|SOAAADE12A6D4F80CC|736f40dcc9e45e2f03ffc0edb90ebb1954d8f9d6|2    |\n",
      "|SOAAADE12A6D4F80CC|21cd3a6311fc6820e086b864139e631ec602f69e|1    |\n",
      "|SOAAADE12A6D4F80CC|a9777925ab522473c1bc01c1f0b9d64f24fc69dc|1    |\n",
      "|SOAAADE12A6D4F80CC|f4058a3849ba9ef1a23884a5274ec92cb9d52649|3    |\n",
      "|SOAAADE12A6D4F80CC|335253b4d6f0baedd75bcffc834d2862aec29289|1    |\n",
      "|SOAAADE12A6D4F80CC|1c21e65e0e67ecc08f2da4856decda7e6cf6de2e|1    |\n",
      "|SOAACBK12A67ADD198|d56dfbde5a3d7b3d06bceac0257020c14726c829|4    |\n",
      "+------------------+----------------------------------------+-----+\n",
      "only showing top 10 rows\n",
      "\n"
     ]
    }
   ],
   "source": [
    "triplets_matches.show(10,False)"
   ]
  },
  {
   "cell_type": "code",
   "execution_count": 280,
   "metadata": {},
   "outputs": [
    {
     "data": {
      "text/plain": [
       "45795111"
      ]
     },
     "execution_count": 280,
     "metadata": {},
     "output_type": "execute_result"
    }
   ],
   "source": [
    "triplets_matches.count()"
   ]
  },
  {
   "cell_type": "code",
   "execution_count": 282,
   "metadata": {},
   "outputs": [],
   "source": [
    "filenames = ['msd-jmir-area-of-moments-all-v1.0.attributes',\n",
    " 'msd-jmir-lpc-all-v1.0.attributes',\n",
    " 'msd-jmir-methods-of-moments-all-v1.0.attributes',\n",
    " 'msd-jmir-mfcc-all-v1.0.attributes',\n",
    " 'msd-jmir-spectral-all-all-v1.0.attributes',\n",
    " 'msd-jmir-spectral-derivatives-all-all-v1.0.attributes',\n",
    " 'msd-marsyas-timbral-v1.0.attributes',\n",
    " 'msd-mvd-v1.0.attributes',\n",
    " 'msd-rh-v1.0.attributes',\n",
    " 'msd-rp-v1.0.attributes',\n",
    " 'msd-ssd-v1.0.attributes',\n",
    " 'msd-trh-v1.0.attributes',\n",
    " 'msd-tssd-v1.0.attributes']"
   ]
  },
  {
   "cell_type": "code",
   "execution_count": 283,
   "metadata": {},
   "outputs": [],
   "source": [
    "def create_schema(filename):    \n",
    "    attributes = (\n",
    "        spark.read\n",
    "        .format(\"com.databricks.spark.csv\")\n",
    "        .option(\"header\", \"false\")\n",
    "        .option(\"inferSchema\", \"true\")\n",
    "        .load(\"hdfs:///data/msd/audio/attributes/\"+filename+\".csv\")\n",
    "    )\n",
    "    schema_df = (\n",
    "        attributes\n",
    "        .withColumn('datatype', \n",
    "            F.when((attributes._c1 == 'string') | (attributes._c1 == 'STRING'), \"StringType()\")\n",
    "            .when((attributes._c1 == 'NUMERIC') | (attributes._c1 == 'real'), \"DoubleType()\")\n",
    "            .otherwise(\"StringType()\"))\n",
    "        .select(['_c0','datatype'])\n",
    "    )\n",
    "\n",
    "    \n",
    "    schema= StructType(\n",
    "        [StructField(schema_df._c0, eval(schema_df.datatype)) \\\n",
    "        for (schema_df._c0, schema_df.datatype) in  schema_df.rdd.collect()]\n",
    "    )\n",
    "\n",
    "    return schema"
   ]
  },
  {
   "cell_type": "code",
   "execution_count": 284,
   "metadata": {},
   "outputs": [],
   "source": [
    "schema_names = []\n",
    "for filename in filenames:\n",
    "\n",
    "    name = filename.replace(\"-\",\"_\").replace(\"_v1.0.attributes\",\"\")\n",
    "    schema_names.append(name+\"_schema\")\n",
    "\n",
    "    locals()[name+'_schema'] = create_schema(filename)"
   ]
  },
  {
   "cell_type": "code",
   "execution_count": 154,
   "metadata": {},
   "outputs": [
    {
     "data": {
      "text/plain": [
       "['msd_jmir_area_of_moments_all_schema',\n",
       " 'msd_jmir_lpc_all_schema',\n",
       " 'msd_jmir_methods_of_moments_all_schema',\n",
       " 'msd_jmir_mfcc_all_schema',\n",
       " 'msd_jmir_spectral_all_all_schema',\n",
       " 'msd_jmir_spectral_derivatives_all_all_schema',\n",
       " 'msd_marsyas_timbral_schema',\n",
       " 'msd_mvd_schema',\n",
       " 'msd_rh_schema',\n",
       " 'msd_rp_schema',\n",
       " 'msd_ssd_schema',\n",
       " 'msd_trh_schema',\n",
       " 'msd_tssd_schema']"
      ]
     },
     "execution_count": 154,
     "metadata": {},
     "output_type": "execute_result"
    }
   ],
   "source": [
    "schema_names"
   ]
  },
  {
   "cell_type": "code",
   "execution_count": null,
   "metadata": {},
   "outputs": [],
   "source": [
    "# Audio processing Q1"
   ]
  },
  {
   "cell_type": "code",
   "execution_count": 690,
   "metadata": {},
   "outputs": [
    {
     "name": "stdout",
     "output_type": "stream",
     "text": [
      "+----------------------------------------------+----------------------------------------------+----------------------------------------------+----------------------------------------------+----------------------------------------------+-----------------------------------+-----------------------------------+-----------------------------------+-----------------------------------+-----------------------------------+--------------------+\n",
      "|Method_of_Moments_Overall_Standard_Deviation_1|Method_of_Moments_Overall_Standard_Deviation_2|Method_of_Moments_Overall_Standard_Deviation_3|Method_of_Moments_Overall_Standard_Deviation_4|Method_of_Moments_Overall_Standard_Deviation_5|Method_of_Moments_Overall_Average_1|Method_of_Moments_Overall_Average_2|Method_of_Moments_Overall_Average_3|Method_of_Moments_Overall_Average_4|Method_of_Moments_Overall_Average_5|MSD_TRACKID         |\n",
      "+----------------------------------------------+----------------------------------------------+----------------------------------------------+----------------------------------------------+----------------------------------------------+-----------------------------------+-----------------------------------+-----------------------------------+-----------------------------------+-----------------------------------+--------------------+\n",
      "|0.1545                                        |13.11                                         |840.0                                         |41080.0                                       |7108000.0                                     |0.319                              |33.41                              |1371.0                             |64240.0                            |8398000.0                          |'TRHFHQZ12903C9E2D5'|\n",
      "|0.1195                                        |13.02                                         |611.9                                         |43880.0                                       |7226000.0                                     |0.2661                             |30.26                              |1829.0                             |183800.0                           |3.123E7                            |'TRHFHYX12903CAF953'|\n",
      "|0.2326                                        |7.185                                         |362.2                                         |19890.0                                       |3030000.0                                     |0.8854                             |32.68                              |1384.0                             |79190.0                            |9862000.0                          |'TRHFHAU128F9341A0E'|\n",
      "|0.2283                                        |10.3                                          |463.8                                         |24730.0                                       |3336000.0                                     |0.4321                             |37.56                              |2047.0                             |197200.0                           |3.293E7                            |'TRHFHLP128F14947A7'|\n",
      "|0.1841                                        |8.544                                         |359.4                                         |21900.0                                       |3359000.0                                     |0.8438                             |36.36                              |2008.0                             |205400.0                           |3.539E7                            |'TRHFHFF128F930AC11'|\n",
      "+----------------------------------------------+----------------------------------------------+----------------------------------------------+----------------------------------------------+----------------------------------------------+-----------------------------------+-----------------------------------+-----------------------------------+-----------------------------------+-----------------------------------+--------------------+\n",
      "only showing top 5 rows\n",
      "\n"
     ]
    }
   ],
   "source": [
    "audio_sim = (\n",
    "    spark.read\n",
    "    .format(\"com.databricks.spark.csv\")  \n",
    "    .option(\"header\", \"false\")\n",
    "    .option(\"inferSchema\", \"false\")\n",
    "    .schema(msd_jmir_methods_of_moments_all_schema)\n",
    "    .load(\"hdfs:///data/msd/audio/features/msd-jmir-methods-of-moments-all-v1.0.csv\")\n",
    ")\n",
    "audio_sim.show(5,False)"
   ]
  },
  {
   "cell_type": "code",
   "execution_count": 616,
   "metadata": {},
   "outputs": [
    {
     "data": {
      "text/plain": [
       "994623"
      ]
     },
     "execution_count": 616,
     "metadata": {},
     "output_type": "execute_result"
    }
   ],
   "source": [
    "audio_sim.count() "
   ]
  },
  {
   "cell_type": "code",
   "execution_count": 314,
   "metadata": {},
   "outputs": [
    {
     "name": "stdout",
     "output_type": "stream",
     "text": [
      "        Method_of_Moments_Overall_Standard_Deviation_1  \\\n",
      "summary                                                  \n",
      "count                                           994623   \n",
      "mean                               0.15498176001746336   \n",
      "stddev                             0.06646213086143025   \n",
      "min                                                0.0   \n",
      "max                                              0.959   \n",
      "\n",
      "        Method_of_Moments_Overall_Standard_Deviation_2  \\\n",
      "summary                                                  \n",
      "count                                           994623   \n",
      "mean                                10.384550576952307   \n",
      "stddev                               3.868001393874683   \n",
      "min                                                0.0   \n",
      "max                                              55.42   \n",
      "\n",
      "        Method_of_Moments_Overall_Standard_Deviation_3  \\\n",
      "summary                                                  \n",
      "count                                           994623   \n",
      "mean                                 526.8139724398096   \n",
      "stddev                               180.4377549977526   \n",
      "min                                                0.0   \n",
      "max                                             2919.0   \n",
      "\n",
      "        Method_of_Moments_Overall_Standard_Deviation_4  \\\n",
      "summary                                                  \n",
      "count                                           994623   \n",
      "mean                                 35071.97543290272   \n",
      "stddev                               12806.81627295556   \n",
      "min                                                0.0   \n",
      "max                                           407100.0   \n",
      "\n",
      "        Method_of_Moments_Overall_Standard_Deviation_5  \\\n",
      "summary                                                  \n",
      "count                                           994623   \n",
      "mean                                 5297870.369577217   \n",
      "stddev                              2089356.4364558063   \n",
      "min                                                0.0   \n",
      "max                                            4.657E7   \n",
      "\n",
      "        Method_of_Moments_Overall_Average_1  \\\n",
      "summary                                       \n",
      "count                                994623   \n",
      "mean                     0.3508444432531317   \n",
      "stddev                  0.18557956834383815   \n",
      "min                                     0.0   \n",
      "max                                   2.647   \n",
      "\n",
      "        Method_of_Moments_Overall_Average_2  \\\n",
      "summary                                       \n",
      "count                                994623   \n",
      "mean                      27.46386798784071   \n",
      "stddev                    8.352648595163766   \n",
      "min                                     0.0   \n",
      "max                                   117.0   \n",
      "\n",
      "        Method_of_Moments_Overall_Average_3  \\\n",
      "summary                                       \n",
      "count                                994623   \n",
      "mean                     1495.8091812075545   \n",
      "stddev                   505.89376391902306   \n",
      "min                                     0.0   \n",
      "max                                  5834.0   \n",
      "\n",
      "        Method_of_Moments_Overall_Average_4  \\\n",
      "summary                                       \n",
      "count                                994623   \n",
      "mean                     143165.46163257834   \n",
      "stddev                    50494.27617103227   \n",
      "min                               -146300.0   \n",
      "max                                452500.0   \n",
      "\n",
      "        Method_of_Moments_Overall_Average_5  \n",
      "summary                                      \n",
      "count                                994623  \n",
      "mean                    2.396783048473542E7  \n",
      "stddev                    9307340.299219666  \n",
      "min                                     0.0  \n",
      "max                                 9.477E7  \n"
     ]
    }
   ],
   "source": [
    "statistics = (\n",
    "    audio_sim\n",
    "    .drop('MSD_TRACKID')\n",
    "    .describe()\n",
    "    .toPandas()\n",
    "    .set_index(\"summary\")\n",
    ")\n",
    "print(statistics)"
   ]
  },
  {
   "cell_type": "code",
   "execution_count": 691,
   "metadata": {
    "scrolled": true
   },
   "outputs": [],
   "source": [
    "data = audio_sim.drop('MSD_TRACKID')\n",
    "col_names = data.columns"
   ]
  },
  {
   "cell_type": "code",
   "execution_count": 327,
   "metadata": {},
   "outputs": [],
   "source": [
    "from pyspark.ml.feature import VectorAssembler\n",
    "\n",
    "def correlation_matrix(df, corr_columns, method='pearson'):\n",
    "    vector_col = \"corr_features\"\n",
    "    assembler = VectorAssembler(inputCols=corr_columns, outputCol=vector_col)\n",
    "    df_vector = assembler.transform(df).select(vector_col)\n",
    "    matrix = Correlation.corr(df_vector, vector_col, method)\n",
    "\n",
    "    result = matrix.collect()[0][\"pearson({})\".format(vector_col)].values\n",
    "    return pd.DataFrame(result.reshape(-1, len(corr_columns)), columns=corr_columns, index=corr_columns)\n",
    "\n",
    "\n",
    "#Reference Here: https://stackoverflow.com/questions/51831874/how-to-get-correlation-matrix-values-pyspark"
   ]
  },
  {
   "cell_type": "code",
   "execution_count": 328,
   "metadata": {},
   "outputs": [
    {
     "data": {
      "text/html": [
       "<div>\n",
       "<style scoped>\n",
       "    .dataframe tbody tr th:only-of-type {\n",
       "        vertical-align: middle;\n",
       "    }\n",
       "\n",
       "    .dataframe tbody tr th {\n",
       "        vertical-align: top;\n",
       "    }\n",
       "\n",
       "    .dataframe thead th {\n",
       "        text-align: right;\n",
       "    }\n",
       "</style>\n",
       "<table border=\"1\" class=\"dataframe\">\n",
       "  <thead>\n",
       "    <tr style=\"text-align: right;\">\n",
       "      <th></th>\n",
       "      <th>Method_of_Moments_Overall_Standard_Deviation_1</th>\n",
       "      <th>Method_of_Moments_Overall_Standard_Deviation_2</th>\n",
       "      <th>Method_of_Moments_Overall_Standard_Deviation_3</th>\n",
       "      <th>Method_of_Moments_Overall_Standard_Deviation_4</th>\n",
       "      <th>Method_of_Moments_Overall_Standard_Deviation_5</th>\n",
       "      <th>Method_of_Moments_Overall_Average_1</th>\n",
       "      <th>Method_of_Moments_Overall_Average_2</th>\n",
       "      <th>Method_of_Moments_Overall_Average_3</th>\n",
       "      <th>Method_of_Moments_Overall_Average_4</th>\n",
       "      <th>Method_of_Moments_Overall_Average_5</th>\n",
       "    </tr>\n",
       "  </thead>\n",
       "  <tbody>\n",
       "    <tr>\n",
       "      <th>Method_of_Moments_Overall_Standard_Deviation_1</th>\n",
       "      <td>1.000000</td>\n",
       "      <td>0.426280</td>\n",
       "      <td>0.296306</td>\n",
       "      <td>0.061039</td>\n",
       "      <td>-0.055336</td>\n",
       "      <td>0.754208</td>\n",
       "      <td>0.497929</td>\n",
       "      <td>0.447565</td>\n",
       "      <td>0.167466</td>\n",
       "      <td>0.100407</td>\n",
       "    </tr>\n",
       "    <tr>\n",
       "      <th>Method_of_Moments_Overall_Standard_Deviation_2</th>\n",
       "      <td>0.426280</td>\n",
       "      <td>1.000000</td>\n",
       "      <td>0.857549</td>\n",
       "      <td>0.609521</td>\n",
       "      <td>0.433797</td>\n",
       "      <td>0.025228</td>\n",
       "      <td>0.406923</td>\n",
       "      <td>0.396354</td>\n",
       "      <td>0.015607</td>\n",
       "      <td>-0.040902</td>\n",
       "    </tr>\n",
       "    <tr>\n",
       "      <th>Method_of_Moments_Overall_Standard_Deviation_3</th>\n",
       "      <td>0.296306</td>\n",
       "      <td>0.857549</td>\n",
       "      <td>1.000000</td>\n",
       "      <td>0.803010</td>\n",
       "      <td>0.682909</td>\n",
       "      <td>-0.082415</td>\n",
       "      <td>0.125910</td>\n",
       "      <td>0.184962</td>\n",
       "      <td>-0.088174</td>\n",
       "      <td>-0.135056</td>\n",
       "    </tr>\n",
       "    <tr>\n",
       "      <th>Method_of_Moments_Overall_Standard_Deviation_4</th>\n",
       "      <td>0.061039</td>\n",
       "      <td>0.609521</td>\n",
       "      <td>0.803010</td>\n",
       "      <td>1.000000</td>\n",
       "      <td>0.942244</td>\n",
       "      <td>-0.327691</td>\n",
       "      <td>-0.223220</td>\n",
       "      <td>-0.158231</td>\n",
       "      <td>-0.245034</td>\n",
       "      <td>-0.220873</td>\n",
       "    </tr>\n",
       "    <tr>\n",
       "      <th>Method_of_Moments_Overall_Standard_Deviation_5</th>\n",
       "      <td>-0.055336</td>\n",
       "      <td>0.433797</td>\n",
       "      <td>0.682909</td>\n",
       "      <td>0.942244</td>\n",
       "      <td>1.000000</td>\n",
       "      <td>-0.392551</td>\n",
       "      <td>-0.355019</td>\n",
       "      <td>-0.285966</td>\n",
       "      <td>-0.260198</td>\n",
       "      <td>-0.211813</td>\n",
       "    </tr>\n",
       "    <tr>\n",
       "      <th>Method_of_Moments_Overall_Average_1</th>\n",
       "      <td>0.754208</td>\n",
       "      <td>0.025228</td>\n",
       "      <td>-0.082415</td>\n",
       "      <td>-0.327691</td>\n",
       "      <td>-0.392551</td>\n",
       "      <td>1.000000</td>\n",
       "      <td>0.549015</td>\n",
       "      <td>0.518503</td>\n",
       "      <td>0.347112</td>\n",
       "      <td>0.278513</td>\n",
       "    </tr>\n",
       "    <tr>\n",
       "      <th>Method_of_Moments_Overall_Average_2</th>\n",
       "      <td>0.497929</td>\n",
       "      <td>0.406923</td>\n",
       "      <td>0.125910</td>\n",
       "      <td>-0.223220</td>\n",
       "      <td>-0.355019</td>\n",
       "      <td>0.549015</td>\n",
       "      <td>1.000000</td>\n",
       "      <td>0.903367</td>\n",
       "      <td>0.516499</td>\n",
       "      <td>0.422549</td>\n",
       "    </tr>\n",
       "    <tr>\n",
       "      <th>Method_of_Moments_Overall_Average_3</th>\n",
       "      <td>0.447565</td>\n",
       "      <td>0.396354</td>\n",
       "      <td>0.184962</td>\n",
       "      <td>-0.158231</td>\n",
       "      <td>-0.285966</td>\n",
       "      <td>0.518503</td>\n",
       "      <td>0.903367</td>\n",
       "      <td>1.000000</td>\n",
       "      <td>0.772807</td>\n",
       "      <td>0.685645</td>\n",
       "    </tr>\n",
       "    <tr>\n",
       "      <th>Method_of_Moments_Overall_Average_4</th>\n",
       "      <td>0.167466</td>\n",
       "      <td>0.015607</td>\n",
       "      <td>-0.088174</td>\n",
       "      <td>-0.245034</td>\n",
       "      <td>-0.260198</td>\n",
       "      <td>0.347112</td>\n",
       "      <td>0.516499</td>\n",
       "      <td>0.772807</td>\n",
       "      <td>1.000000</td>\n",
       "      <td>0.984867</td>\n",
       "    </tr>\n",
       "    <tr>\n",
       "      <th>Method_of_Moments_Overall_Average_5</th>\n",
       "      <td>0.100407</td>\n",
       "      <td>-0.040902</td>\n",
       "      <td>-0.135056</td>\n",
       "      <td>-0.220873</td>\n",
       "      <td>-0.211813</td>\n",
       "      <td>0.278513</td>\n",
       "      <td>0.422549</td>\n",
       "      <td>0.685645</td>\n",
       "      <td>0.984867</td>\n",
       "      <td>1.000000</td>\n",
       "    </tr>\n",
       "  </tbody>\n",
       "</table>\n",
       "</div>"
      ],
      "text/plain": [
       "                                                Method_of_Moments_Overall_Standard_Deviation_1  \\\n",
       "Method_of_Moments_Overall_Standard_Deviation_1                                        1.000000   \n",
       "Method_of_Moments_Overall_Standard_Deviation_2                                        0.426280   \n",
       "Method_of_Moments_Overall_Standard_Deviation_3                                        0.296306   \n",
       "Method_of_Moments_Overall_Standard_Deviation_4                                        0.061039   \n",
       "Method_of_Moments_Overall_Standard_Deviation_5                                       -0.055336   \n",
       "Method_of_Moments_Overall_Average_1                                                   0.754208   \n",
       "Method_of_Moments_Overall_Average_2                                                   0.497929   \n",
       "Method_of_Moments_Overall_Average_3                                                   0.447565   \n",
       "Method_of_Moments_Overall_Average_4                                                   0.167466   \n",
       "Method_of_Moments_Overall_Average_5                                                   0.100407   \n",
       "\n",
       "                                                Method_of_Moments_Overall_Standard_Deviation_2  \\\n",
       "Method_of_Moments_Overall_Standard_Deviation_1                                        0.426280   \n",
       "Method_of_Moments_Overall_Standard_Deviation_2                                        1.000000   \n",
       "Method_of_Moments_Overall_Standard_Deviation_3                                        0.857549   \n",
       "Method_of_Moments_Overall_Standard_Deviation_4                                        0.609521   \n",
       "Method_of_Moments_Overall_Standard_Deviation_5                                        0.433797   \n",
       "Method_of_Moments_Overall_Average_1                                                   0.025228   \n",
       "Method_of_Moments_Overall_Average_2                                                   0.406923   \n",
       "Method_of_Moments_Overall_Average_3                                                   0.396354   \n",
       "Method_of_Moments_Overall_Average_4                                                   0.015607   \n",
       "Method_of_Moments_Overall_Average_5                                                  -0.040902   \n",
       "\n",
       "                                                Method_of_Moments_Overall_Standard_Deviation_3  \\\n",
       "Method_of_Moments_Overall_Standard_Deviation_1                                        0.296306   \n",
       "Method_of_Moments_Overall_Standard_Deviation_2                                        0.857549   \n",
       "Method_of_Moments_Overall_Standard_Deviation_3                                        1.000000   \n",
       "Method_of_Moments_Overall_Standard_Deviation_4                                        0.803010   \n",
       "Method_of_Moments_Overall_Standard_Deviation_5                                        0.682909   \n",
       "Method_of_Moments_Overall_Average_1                                                  -0.082415   \n",
       "Method_of_Moments_Overall_Average_2                                                   0.125910   \n",
       "Method_of_Moments_Overall_Average_3                                                   0.184962   \n",
       "Method_of_Moments_Overall_Average_4                                                  -0.088174   \n",
       "Method_of_Moments_Overall_Average_5                                                  -0.135056   \n",
       "\n",
       "                                                Method_of_Moments_Overall_Standard_Deviation_4  \\\n",
       "Method_of_Moments_Overall_Standard_Deviation_1                                        0.061039   \n",
       "Method_of_Moments_Overall_Standard_Deviation_2                                        0.609521   \n",
       "Method_of_Moments_Overall_Standard_Deviation_3                                        0.803010   \n",
       "Method_of_Moments_Overall_Standard_Deviation_4                                        1.000000   \n",
       "Method_of_Moments_Overall_Standard_Deviation_5                                        0.942244   \n",
       "Method_of_Moments_Overall_Average_1                                                  -0.327691   \n",
       "Method_of_Moments_Overall_Average_2                                                  -0.223220   \n",
       "Method_of_Moments_Overall_Average_3                                                  -0.158231   \n",
       "Method_of_Moments_Overall_Average_4                                                  -0.245034   \n",
       "Method_of_Moments_Overall_Average_5                                                  -0.220873   \n",
       "\n",
       "                                                Method_of_Moments_Overall_Standard_Deviation_5  \\\n",
       "Method_of_Moments_Overall_Standard_Deviation_1                                       -0.055336   \n",
       "Method_of_Moments_Overall_Standard_Deviation_2                                        0.433797   \n",
       "Method_of_Moments_Overall_Standard_Deviation_3                                        0.682909   \n",
       "Method_of_Moments_Overall_Standard_Deviation_4                                        0.942244   \n",
       "Method_of_Moments_Overall_Standard_Deviation_5                                        1.000000   \n",
       "Method_of_Moments_Overall_Average_1                                                  -0.392551   \n",
       "Method_of_Moments_Overall_Average_2                                                  -0.355019   \n",
       "Method_of_Moments_Overall_Average_3                                                  -0.285966   \n",
       "Method_of_Moments_Overall_Average_4                                                  -0.260198   \n",
       "Method_of_Moments_Overall_Average_5                                                  -0.211813   \n",
       "\n",
       "                                                Method_of_Moments_Overall_Average_1  \\\n",
       "Method_of_Moments_Overall_Standard_Deviation_1                             0.754208   \n",
       "Method_of_Moments_Overall_Standard_Deviation_2                             0.025228   \n",
       "Method_of_Moments_Overall_Standard_Deviation_3                            -0.082415   \n",
       "Method_of_Moments_Overall_Standard_Deviation_4                            -0.327691   \n",
       "Method_of_Moments_Overall_Standard_Deviation_5                            -0.392551   \n",
       "Method_of_Moments_Overall_Average_1                                        1.000000   \n",
       "Method_of_Moments_Overall_Average_2                                        0.549015   \n",
       "Method_of_Moments_Overall_Average_3                                        0.518503   \n",
       "Method_of_Moments_Overall_Average_4                                        0.347112   \n",
       "Method_of_Moments_Overall_Average_5                                        0.278513   \n",
       "\n",
       "                                                Method_of_Moments_Overall_Average_2  \\\n",
       "Method_of_Moments_Overall_Standard_Deviation_1                             0.497929   \n",
       "Method_of_Moments_Overall_Standard_Deviation_2                             0.406923   \n",
       "Method_of_Moments_Overall_Standard_Deviation_3                             0.125910   \n",
       "Method_of_Moments_Overall_Standard_Deviation_4                            -0.223220   \n",
       "Method_of_Moments_Overall_Standard_Deviation_5                            -0.355019   \n",
       "Method_of_Moments_Overall_Average_1                                        0.549015   \n",
       "Method_of_Moments_Overall_Average_2                                        1.000000   \n",
       "Method_of_Moments_Overall_Average_3                                        0.903367   \n",
       "Method_of_Moments_Overall_Average_4                                        0.516499   \n",
       "Method_of_Moments_Overall_Average_5                                        0.422549   \n",
       "\n",
       "                                                Method_of_Moments_Overall_Average_3  \\\n",
       "Method_of_Moments_Overall_Standard_Deviation_1                             0.447565   \n",
       "Method_of_Moments_Overall_Standard_Deviation_2                             0.396354   \n",
       "Method_of_Moments_Overall_Standard_Deviation_3                             0.184962   \n",
       "Method_of_Moments_Overall_Standard_Deviation_4                            -0.158231   \n",
       "Method_of_Moments_Overall_Standard_Deviation_5                            -0.285966   \n",
       "Method_of_Moments_Overall_Average_1                                        0.518503   \n",
       "Method_of_Moments_Overall_Average_2                                        0.903367   \n",
       "Method_of_Moments_Overall_Average_3                                        1.000000   \n",
       "Method_of_Moments_Overall_Average_4                                        0.772807   \n",
       "Method_of_Moments_Overall_Average_5                                        0.685645   \n",
       "\n",
       "                                                Method_of_Moments_Overall_Average_4  \\\n",
       "Method_of_Moments_Overall_Standard_Deviation_1                             0.167466   \n",
       "Method_of_Moments_Overall_Standard_Deviation_2                             0.015607   \n",
       "Method_of_Moments_Overall_Standard_Deviation_3                            -0.088174   \n",
       "Method_of_Moments_Overall_Standard_Deviation_4                            -0.245034   \n",
       "Method_of_Moments_Overall_Standard_Deviation_5                            -0.260198   \n",
       "Method_of_Moments_Overall_Average_1                                        0.347112   \n",
       "Method_of_Moments_Overall_Average_2                                        0.516499   \n",
       "Method_of_Moments_Overall_Average_3                                        0.772807   \n",
       "Method_of_Moments_Overall_Average_4                                        1.000000   \n",
       "Method_of_Moments_Overall_Average_5                                        0.984867   \n",
       "\n",
       "                                                Method_of_Moments_Overall_Average_5  \n",
       "Method_of_Moments_Overall_Standard_Deviation_1                             0.100407  \n",
       "Method_of_Moments_Overall_Standard_Deviation_2                            -0.040902  \n",
       "Method_of_Moments_Overall_Standard_Deviation_3                            -0.135056  \n",
       "Method_of_Moments_Overall_Standard_Deviation_4                            -0.220873  \n",
       "Method_of_Moments_Overall_Standard_Deviation_5                            -0.211813  \n",
       "Method_of_Moments_Overall_Average_1                                        0.278513  \n",
       "Method_of_Moments_Overall_Average_2                                        0.422549  \n",
       "Method_of_Moments_Overall_Average_3                                        0.685645  \n",
       "Method_of_Moments_Overall_Average_4                                        0.984867  \n",
       "Method_of_Moments_Overall_Average_5                                        1.000000  "
      ]
     },
     "execution_count": 328,
     "metadata": {},
     "output_type": "execute_result"
    }
   ],
   "source": [
    "correlation_matrix(data, col_names)"
   ]
  },
  {
   "cell_type": "code",
   "execution_count": 692,
   "metadata": {},
   "outputs": [],
   "source": [
    "genre_schema = StructType([\n",
    "    StructField('TRACK_ID', StringType()),\n",
    "    StructField('GENRE_LABEL', StringType())\n",
    "])   "
   ]
  },
  {
   "cell_type": "code",
   "execution_count": 693,
   "metadata": {},
   "outputs": [],
   "source": [
    "genres = (\n",
    "    spark.read\n",
    "    .format(\"com.databricks.spark.csv\")\n",
    "    .option(\"header\", \"true\")\n",
    "    .option(\"inferSchema\", \"false\")\n",
    "    .schema(genre_schema)\n",
    "    .option(\"delimiter\", \"\\t\")\n",
    "    .load(\"hdfs:///data/msd/genre/msd-MAGD-genreAssignment.tsv\")\n",
    ")"
   ]
  },
  {
   "cell_type": "code",
   "execution_count": 694,
   "metadata": {},
   "outputs": [
    {
     "name": "stdout",
     "output_type": "stream",
     "text": [
      "+------------------+--------------+\n",
      "|          TRACK_ID|   GENRE_LABEL|\n",
      "+------------------+--------------+\n",
      "|TRAAAAV128F421A322|      Pop_Rock|\n",
      "|TRAAAAW128F429D538|           Rap|\n",
      "|TRAAABD128F429CF47|      Pop_Rock|\n",
      "|TRAAACV128F423E09E|      Pop_Rock|\n",
      "|TRAAADT12903CCC339|Easy_Listening|\n",
      "|TRAAAED128E0783FAB|         Vocal|\n",
      "|TRAAAEF128F4273421|      Pop_Rock|\n",
      "|TRAAAEM128F93347B9|    Electronic|\n",
      "|TRAAAFD128F92F423A|      Pop_Rock|\n",
      "|TRAAAFP128F931B4E3|           Rap|\n",
      "+------------------+--------------+\n",
      "only showing top 10 rows\n",
      "\n"
     ]
    }
   ],
   "source": [
    "genres.show(10)"
   ]
  },
  {
   "cell_type": "code",
   "execution_count": 695,
   "metadata": {},
   "outputs": [],
   "source": [
    "genres = (\n",
    "    genres\n",
    "    .join(\n",
    "        mismatches,\n",
    "        on = \"TRACK_ID\",\n",
    "        how = \"left_anti\"\n",
    "    )\n",
    ")"
   ]
  },
  {
   "cell_type": "code",
   "execution_count": 696,
   "metadata": {},
   "outputs": [],
   "source": [
    "genre_count = (\n",
    "    genres\n",
    "    .groupBy(\"GENRE_LABEL\")\n",
    "    .agg({\"GENRE_LABEL\":\"count\"})\n",
    "    .select(\n",
    "        F.col(\"GENRE_LABEL\"),\n",
    "        F.col(\"count(GENRE_LABEL)\").alias(\"COUNT\")\n",
    "    )\n",
    "    .orderBy('COUNT', ascending=False)\n",
    ")"
   ]
  },
  {
   "cell_type": "code",
   "execution_count": 697,
   "metadata": {},
   "outputs": [
    {
     "name": "stdout",
     "output_type": "stream",
     "text": [
      "+--------------+------+\n",
      "|   GENRE_LABEL| COUNT|\n",
      "+--------------+------+\n",
      "|      Pop_Rock|234106|\n",
      "|    Electronic| 40431|\n",
      "|           Rap| 20606|\n",
      "|          Jazz| 17673|\n",
      "|         Latin| 17475|\n",
      "| International| 14094|\n",
      "|           RnB| 13874|\n",
      "|       Country| 11492|\n",
      "|     Religious|  8754|\n",
      "|        Reggae|  6885|\n",
      "|         Blues|  6776|\n",
      "|         Vocal|  6076|\n",
      "|          Folk|  5777|\n",
      "|       New Age|  3935|\n",
      "| Comedy_Spoken|  2051|\n",
      "|        Stage |  1604|\n",
      "|Easy_Listening|  1533|\n",
      "|   Avant_Garde|  1000|\n",
      "|     Classical|   542|\n",
      "|      Children|   468|\n",
      "|       Holiday|   198|\n",
      "+--------------+------+\n",
      "\n"
     ]
    }
   ],
   "source": [
    "genre_count.show(21)"
   ]
  },
  {
   "cell_type": "code",
   "execution_count": 359,
   "metadata": {},
   "outputs": [
    {
     "data": {
      "image/png": "[encoded data removed]",
      "text/plain": [
       "<Figure size 864x720 with 1 Axes>"
      ]
     },
     "metadata": {
      "needs_background": "light"
     },
     "output_type": "display_data"
    }
   ],
   "source": [
    "genres_graph = genres_count.toPandas()\n",
    "\n",
    "plt.figure(figsize=(12, 10))\n",
    "\n",
    "i = np.arange(len(genres))\n",
    "width = 0.8\n",
    "\n",
    "names = genres_graph.GENRE_LABEL.tolist()\n",
    "values = genres_graph.COUNT.tolist()\n",
    "\n",
    "plt.bar(i, values,width, color=\"#bde3db\")\n",
    "\n",
    "plt.xlabel('Genres')\n",
    "plt.ylabel('Genre (counts)')\n",
    "plt.title('Distribution of Genres')\n",
    "plt.xticks(i, names,rotation=90)\n",
    "\n",
    "plt.show()"
   ]
  },
  {
   "cell_type": "code",
   "execution_count": 698,
   "metadata": {},
   "outputs": [],
   "source": [
    "audio_sim2 = (\n",
    "    audio_sim\n",
    "    .withColumn(\"MSD_TRACKID\",F.regexp_replace(\"MSD_TRACKID\",\"'\",\"\"))\n",
    "    .withColumnRenamed(\"MSD_TRACKID\",\"TRACK_ID\")\n",
    ")"
   ]
  },
  {
   "cell_type": "code",
   "execution_count": 699,
   "metadata": {},
   "outputs": [],
   "source": [
    "audio = (\n",
    "    audio_sim2\n",
    "    .join(\n",
    "        genres,\n",
    "        on = \"TRACK_ID\",\n",
    "        how = \"left\"\n",
    "    )\n",
    "    .where(F.col(\"GENRE_LABEL\").isNotNull())\n",
    "    .dropDuplicates()\n",
    ")"
   ]
  },
  {
   "cell_type": "code",
   "execution_count": 700,
   "metadata": {},
   "outputs": [
    {
     "name": "stdout",
     "output_type": "stream",
     "text": [
      "+------------------+----------------------------------------------+----------------------------------------------+----------------------------------------------+----------------------------------------------+----------------------------------------------+-----------------------------------+-----------------------------------+-----------------------------------+-----------------------------------+-----------------------------------+-----------+\n",
      "|TRACK_ID          |Method_of_Moments_Overall_Standard_Deviation_1|Method_of_Moments_Overall_Standard_Deviation_2|Method_of_Moments_Overall_Standard_Deviation_3|Method_of_Moments_Overall_Standard_Deviation_4|Method_of_Moments_Overall_Standard_Deviation_5|Method_of_Moments_Overall_Average_1|Method_of_Moments_Overall_Average_2|Method_of_Moments_Overall_Average_3|Method_of_Moments_Overall_Average_4|Method_of_Moments_Overall_Average_5|GENRE_LABEL|\n",
      "+------------------+----------------------------------------------+----------------------------------------------+----------------------------------------------+----------------------------------------------+----------------------------------------------+-----------------------------------+-----------------------------------+-----------------------------------+-----------------------------------+-----------------------------------+-----------+\n",
      "|TRAAGTO128F1497E3C|0.1069                                        |8.987                                         |562.6                                         |43100.0                                       |7057000.0                                     |0.1007                             |22.9                               |1346.0                             |157700.0                           |2.738E7                            |Pop_Rock   |\n",
      "|TRAAMFF12903CE8107|0.1385                                        |9.699                                         |581.6                                         |31590.0                                       |4569000.0                                     |0.3706                             |23.63                              |1554.0                             |163800.0                           |2.72E7                             |Pop_Rock   |\n",
      "|TRAAUIH128F4254C9D|0.2276                                        |15.73                                         |639.9                                         |44820.0                                       |5118000.0                                     |0.4739                             |34.46                              |1963.0                             |174800.0                           |2.986E7                            |Reggae     |\n",
      "|TRAAZNZ128F429EF86|0.06115                                       |6.73                                          |481.1                                         |47190.0                                       |7788000.0                                     |0.09972                            |10.13                              |556.9                              |74060.0                            |1.348E7                            |Pop_Rock   |\n",
      "|TRAAZOZ12903C9CABF|0.1603                                        |11.84                                         |637.0                                         |34400.0                                       |5035000.0                                     |0.343                              |35.43                              |1511.0                             |84780.0                            |1.13E7                             |Pop_Rock   |\n",
      "+------------------+----------------------------------------------+----------------------------------------------+----------------------------------------------+----------------------------------------------+----------------------------------------------+-----------------------------------+-----------------------------------+-----------------------------------+-----------------------------------+-----------------------------------+-----------+\n",
      "only showing top 5 rows\n",
      "\n"
     ]
    }
   ],
   "source": [
    "audio.show(5,False)"
   ]
  },
  {
   "cell_type": "code",
   "execution_count": 702,
   "metadata": {},
   "outputs": [
    {
     "data": {
      "text/plain": [
       "413293"
      ]
     },
     "execution_count": 702,
     "metadata": {},
     "output_type": "execute_result"
    }
   ],
   "source": [
    "audio.count() "
   ]
  },
  {
   "cell_type": "code",
   "execution_count": null,
   "metadata": {},
   "outputs": [],
   "source": [
    "#Question 2"
   ]
  },
  {
   "cell_type": "code",
   "execution_count": 703,
   "metadata": {},
   "outputs": [],
   "source": [
    "binary_data = (\n",
    "    audio\n",
    "    .withColumn('Electronic', \\\n",
    "        F.when(audio.GENRE_LABEL == 'Electronic', 1)\n",
    "         .otherwise(0)\n",
    "    )\n",
    ")"
   ]
  },
  {
   "cell_type": "code",
   "execution_count": 704,
   "metadata": {},
   "outputs": [
    {
     "name": "stdout",
     "output_type": "stream",
     "text": [
      "+------------------+-------------+----------+\n",
      "|          TRACK_ID|  GENRE_LABEL|Electronic|\n",
      "+------------------+-------------+----------+\n",
      "|TRAAGTO128F1497E3C|     Pop_Rock|         0|\n",
      "|TRAAMFF12903CE8107|     Pop_Rock|         0|\n",
      "|TRAAUIH128F4254C9D|       Reggae|         0|\n",
      "|TRAAZNZ128F429EF86|     Pop_Rock|         0|\n",
      "|TRAAZOZ12903C9CABF|     Pop_Rock|         0|\n",
      "|TRABGUX12903CD11FF|          Rap|         0|\n",
      "|TRABHCK128F423E15A|International|         0|\n",
      "|TRABIRM128F92CA303|     Pop_Rock|         0|\n",
      "|TRABMLM128F429BFA2|        Vocal|         0|\n",
      "|TRABMSR128F428E581|     Pop_Rock|         0|\n",
      "+------------------+-------------+----------+\n",
      "only showing top 10 rows\n",
      "\n"
     ]
    }
   ],
   "source": [
    "binary_data.select(['TRACK_ID','GENRE_LABEL','Electronic']).show(10)"
   ]
  },
  {
   "cell_type": "code",
   "execution_count": 705,
   "metadata": {},
   "outputs": [],
   "source": [
    "class_balance = (\n",
    "    binary_data\n",
    "    .groupBy(\"Electronic\")\n",
    "    .count()\n",
    ")"
   ]
  },
  {
   "cell_type": "code",
   "execution_count": 706,
   "metadata": {},
   "outputs": [
    {
     "name": "stdout",
     "output_type": "stream",
     "text": [
      "+----------+------+\n",
      "|Electronic| count|\n",
      "+----------+------+\n",
      "|         0|373265|\n",
      "|         1| 40028|\n",
      "+----------+------+\n",
      "\n"
     ]
    }
   ],
   "source": [
    "class_balance.show()"
   ]
  },
  {
   "cell_type": "code",
   "execution_count": 707,
   "metadata": {},
   "outputs": [
    {
     "name": "stdout",
     "output_type": "stream",
     "text": [
      "+------------------+----------------------------------------------+----------------------------------------------+----------------------------------------------+----------------------------------------------+----------------------------------------------+-----------------------------------+-----------------------------------+-----------------------------------+-----------------------------------+-----------------------------------+-----------+----------+\n",
      "|          TRACK_ID|Method_of_Moments_Overall_Standard_Deviation_1|Method_of_Moments_Overall_Standard_Deviation_2|Method_of_Moments_Overall_Standard_Deviation_3|Method_of_Moments_Overall_Standard_Deviation_4|Method_of_Moments_Overall_Standard_Deviation_5|Method_of_Moments_Overall_Average_1|Method_of_Moments_Overall_Average_2|Method_of_Moments_Overall_Average_3|Method_of_Moments_Overall_Average_4|Method_of_Moments_Overall_Average_5|GENRE_LABEL|Electronic|\n",
      "+------------------+----------------------------------------------+----------------------------------------------+----------------------------------------------+----------------------------------------------+----------------------------------------------+-----------------------------------+-----------------------------------+-----------------------------------+-----------------------------------+-----------------------------------+-----------+----------+\n",
      "|TRAAGTO128F1497E3C|                                        0.1069|                                         8.987|                                         562.6|                                       43100.0|                                     7057000.0|                             0.1007|                               22.9|                             1346.0|                           157700.0|                            2.738E7|   Pop_Rock|         0|\n",
      "|TRAAMFF12903CE8107|                                        0.1385|                                         9.699|                                         581.6|                                       31590.0|                                     4569000.0|                             0.3706|                              23.63|                             1554.0|                           163800.0|                             2.72E7|   Pop_Rock|         0|\n",
      "|TRAAUIH128F4254C9D|                                        0.2276|                                         15.73|                                         639.9|                                       44820.0|                                     5118000.0|                             0.4739|                              34.46|                             1963.0|                           174800.0|                            2.986E7|     Reggae|         0|\n",
      "|TRAAZNZ128F429EF86|                                       0.06115|                                          6.73|                                         481.1|                                       47190.0|                                     7788000.0|                            0.09972|                              10.13|                              556.9|                            74060.0|                            1.348E7|   Pop_Rock|         0|\n",
      "|TRAAZOZ12903C9CABF|                                        0.1603|                                         11.84|                                         637.0|                                       34400.0|                                     5035000.0|                              0.343|                              35.43|                             1511.0|                            84780.0|                             1.13E7|   Pop_Rock|         0|\n",
      "+------------------+----------------------------------------------+----------------------------------------------+----------------------------------------------+----------------------------------------------+----------------------------------------------+-----------------------------------+-----------------------------------+-----------------------------------+-----------------------------------+-----------------------------------+-----------+----------+\n",
      "only showing top 5 rows\n",
      "\n"
     ]
    }
   ],
   "source": [
    "binary_data.show(5)"
   ]
  },
  {
   "cell_type": "code",
   "execution_count": 708,
   "metadata": {},
   "outputs": [],
   "source": [
    "\n"
   ]
  },
  {
   "cell_type": "code",
   "execution_count": 709,
   "metadata": {},
   "outputs": [],
   "source": [
    "indexers = [\n",
    "    StringIndexer(inputCol=\"Method_of_Moments_Overall_Standard_Deviation_1\", outputCol = 'sd_1'),\n",
    "    StringIndexer(inputCol=\"Method_of_Moments_Overall_Standard_Deviation_2\", outputCol = 'sd_2'),\n",
    "    StringIndexer(inputCol=\"Method_of_Moments_Overall_Standard_Deviation_3\", outputCol = 'sd_3'),\n",
    "    StringIndexer(inputCol=\"Method_of_Moments_Overall_Standard_Deviation_4\", outputCol = 'sd_4'),\n",
    "    StringIndexer(inputCol=\"Method_of_Moments_Overall_Standard_Deviation_5\", outputCol = 'sd_5'),\n",
    "    StringIndexer(inputCol=\"Method_of_Moments_Overall_Average_1\", outputCol = 'a_1'),\n",
    "    StringIndexer(inputCol=\"Method_of_Moments_Overall_Average_2\", outputCol = 'a_2'),\n",
    "    StringIndexer(inputCol=\"Method_of_Moments_Overall_Average_3\", outputCol = 'a_3'),\n",
    "    StringIndexer(inputCol=\"Method_of_Moments_Overall_Average_4\", outputCol = 'a_4'),\n",
    "    StringIndexer(inputCol=\"Method_of_Moments_Overall_Average_5\", outputCol = 'a_5'),\n",
    "    StringIndexer(inputCol=\"Electronic\", outputCol = 'label')\n",
    "]"
   ]
  },
  {
   "cell_type": "code",
   "execution_count": 710,
   "metadata": {
    "scrolled": true
   },
   "outputs": [
    {
     "name": "stdout",
     "output_type": "stream",
     "text": [
      "+------------------+----------------------------------------------+----------------------------------------------+----------------------------------------------+----------------------------------------------+----------------------------------------------+-----------------------------------+-----------------------------------+-----------------------------------+-----------------------------------+-----------------------------------+-----------+----------+------+------+------+------+------+------+------+------+------+------+-----+\n",
      "|TRACK_ID          |Method_of_Moments_Overall_Standard_Deviation_1|Method_of_Moments_Overall_Standard_Deviation_2|Method_of_Moments_Overall_Standard_Deviation_3|Method_of_Moments_Overall_Standard_Deviation_4|Method_of_Moments_Overall_Standard_Deviation_5|Method_of_Moments_Overall_Average_1|Method_of_Moments_Overall_Average_2|Method_of_Moments_Overall_Average_3|Method_of_Moments_Overall_Average_4|Method_of_Moments_Overall_Average_5|GENRE_LABEL|Electronic|sd_1  |sd_2  |sd_3  |sd_4  |sd_5  |a_1   |a_2   |a_3   |a_4   |a_5   |label|\n",
      "+------------------+----------------------------------------------+----------------------------------------------+----------------------------------------------+----------------------------------------------+----------------------------------------------+-----------------------------------+-----------------------------------+-----------------------------------+-----------------------------------+-----------------------------------+-----------+----------+------+------+------+------+------+------+------+------+------+------+-----+\n",
      "|TRAAGTO128F1497E3C|0.1069                                        |8.987                                         |562.6                                         |43100.0                                       |7057000.0                                     |0.1007                             |22.9                               |1346.0                             |157700.0                           |2.738E7                            |Pop_Rock   |0         |822.0 |1174.0|1160.0|1732.0|4061.0|4779.0|1189.0|588.0 |439.0 |786.0 |0.0  |\n",
      "|TRAAMFF12903CE8107|0.1385                                        |9.699                                         |581.6                                         |31590.0                                       |4569000.0                                     |0.3706                             |23.63                              |1554.0                             |163800.0                           |2.72E7                             |Pop_Rock   |0         |342.0 |1511.0|2312.0|369.0 |937.0 |2458.0|1261.0|557.0 |481.0 |801.0 |0.0  |\n",
      "|TRAAUIH128F4254C9D|0.2276                                        |15.73                                         |639.9                                         |44820.0                                       |5118000.0                                     |0.4739                             |34.46                              |1963.0                             |174800.0                           |2.986E7                            |Reggae     |0         |1376.0|547.0 |3176.0|1309.0|216.0 |2930.0|965.0 |406.0 |323.0 |278.0 |0.0  |\n",
      "|TRAAZNZ128F429EF86|0.06115                                       |6.73                                          |481.1                                         |47190.0                                       |7788000.0                                     |0.09972                            |10.13                              |556.9                              |74060.0                            |1.348E7                            |Pop_Rock   |0         |4548.0|2819.0|218.0 |2732.0|6415.0|6966.0|3372.0|4004.0|2742.0|1782.0|0.0  |\n",
      "|TRAAZOZ12903C9CABF|0.1603                                        |11.84                                         |637.0                                         |34400.0                                       |5035000.0                                     |0.343                              |35.43                              |1511.0                             |84780.0                            |1.13E7                             |Pop_Rock   |0         |331.0 |141.0 |2570.0|37.0  |153.0 |706.0 |1214.0|456.0 |3189.0|1008.0|0.0  |\n",
      "+------------------+----------------------------------------------+----------------------------------------------+----------------------------------------------+----------------------------------------------+----------------------------------------------+-----------------------------------+-----------------------------------+-----------------------------------+-----------------------------------+-----------------------------------+-----------+----------+------+------+------+------+------+------+------+------+------+------+-----+\n",
      "only showing top 5 rows\n",
      "\n"
     ]
    }
   ],
   "source": [
    "pipeline = Pipeline(stages=indexers)\n",
    "\n",
    "indexed_df = pipeline.fit(binary_data).transform(binary_data)\n",
    "\n",
    "indexed_df.show(5, False)\n"
   ]
  },
  {
   "cell_type": "code",
   "execution_count": 711,
   "metadata": {},
   "outputs": [
    {
     "name": "stdout",
     "output_type": "stream",
     "text": [
      "+------------------+----------------------------------------------+----------------------------------------------+----------------------------------------------+----------------------------------------------+----------------------------------------------+-----------------------------------+-----------------------------------+-----------------------------------+-----------------------------------+-----------------------------------+-----------+----------+------+------+------+------+------+------+------+------+------+------+-----+----------------------------------------------------------------------+\n",
      "|TRACK_ID          |Method_of_Moments_Overall_Standard_Deviation_1|Method_of_Moments_Overall_Standard_Deviation_2|Method_of_Moments_Overall_Standard_Deviation_3|Method_of_Moments_Overall_Standard_Deviation_4|Method_of_Moments_Overall_Standard_Deviation_5|Method_of_Moments_Overall_Average_1|Method_of_Moments_Overall_Average_2|Method_of_Moments_Overall_Average_3|Method_of_Moments_Overall_Average_4|Method_of_Moments_Overall_Average_5|GENRE_LABEL|Electronic|sd_1  |sd_2  |sd_3  |sd_4  |sd_5  |a_1   |a_2   |a_3   |a_4   |a_5   |label|features                                                              |\n",
      "+------------------+----------------------------------------------+----------------------------------------------+----------------------------------------------+----------------------------------------------+----------------------------------------------+-----------------------------------+-----------------------------------+-----------------------------------+-----------------------------------+-----------------------------------+-----------+----------+------+------+------+------+------+------+------+------+------+------+-----+----------------------------------------------------------------------+\n",
      "|TRAAGTO128F1497E3C|0.1069                                        |8.987                                         |562.6                                         |43100.0                                       |7057000.0                                     |0.1007                             |22.9                               |1346.0                             |157700.0                           |2.738E7                            |Pop_Rock   |0         |822.0 |1174.0|1160.0|1732.0|4061.0|4779.0|1189.0|588.0 |439.0 |786.0 |0.0  |[822.0,1174.0,1160.0,1732.0,4061.0,4779.0,1189.0,588.0,439.0,786.0]   |\n",
      "|TRAAMFF12903CE8107|0.1385                                        |9.699                                         |581.6                                         |31590.0                                       |4569000.0                                     |0.3706                             |23.63                              |1554.0                             |163800.0                           |2.72E7                             |Pop_Rock   |0         |342.0 |1511.0|2312.0|369.0 |937.0 |2458.0|1261.0|557.0 |481.0 |801.0 |0.0  |[342.0,1511.0,2312.0,369.0,937.0,2458.0,1261.0,557.0,481.0,801.0]     |\n",
      "|TRAAUIH128F4254C9D|0.2276                                        |15.73                                         |639.9                                         |44820.0                                       |5118000.0                                     |0.4739                             |34.46                              |1963.0                             |174800.0                           |2.986E7                            |Reggae     |0         |1376.0|547.0 |3176.0|1309.0|216.0 |2930.0|965.0 |406.0 |323.0 |278.0 |0.0  |[1376.0,547.0,3176.0,1309.0,216.0,2930.0,965.0,406.0,323.0,278.0]     |\n",
      "|TRAAZNZ128F429EF86|0.06115                                       |6.73                                          |481.1                                         |47190.0                                       |7788000.0                                     |0.09972                            |10.13                              |556.9                              |74060.0                            |1.348E7                            |Pop_Rock   |0         |4548.0|2819.0|218.0 |2732.0|6415.0|6966.0|3372.0|4004.0|2742.0|1782.0|0.0  |[4548.0,2819.0,218.0,2732.0,6415.0,6966.0,3372.0,4004.0,2742.0,1782.0]|\n",
      "|TRAAZOZ12903C9CABF|0.1603                                        |11.84                                         |637.0                                         |34400.0                                       |5035000.0                                     |0.343                              |35.43                              |1511.0                             |84780.0                            |1.13E7                             |Pop_Rock   |0         |331.0 |141.0 |2570.0|37.0  |153.0 |706.0 |1214.0|456.0 |3189.0|1008.0|0.0  |[331.0,141.0,2570.0,37.0,153.0,706.0,1214.0,456.0,3189.0,1008.0]      |\n",
      "+------------------+----------------------------------------------+----------------------------------------------+----------------------------------------------+----------------------------------------------+----------------------------------------------+-----------------------------------+-----------------------------------+-----------------------------------+-----------------------------------+-----------------------------------+-----------+----------+------+------+------+------+------+------+------+------+------+------+-----+----------------------------------------------------------------------+\n",
      "only showing top 5 rows\n",
      "\n"
     ]
    }
   ],
   "source": [
    "vectorAssembler = VectorAssembler(inputCols = ['sd_1', 'sd_2', 'sd_3','sd_4','sd_5','a_1','a_2','a_3','a_4','a_5'],\n",
    "                                  outputCol = 'features')\n",
    "vindexed_df = vectorAssembler.transform(indexed_df)\n",
    "vindexed_df.show(5, False)"
   ]
  },
  {
   "cell_type": "code",
   "execution_count": 712,
   "metadata": {},
   "outputs": [
    {
     "name": "stdout",
     "output_type": "stream",
     "text": [
      "{0: 0.7, 1: 0.7}\n"
     ]
    }
   ],
   "source": [
    "from pyspark.sql.functions import lit\n",
    "\n",
    "fractions = binary_data.select(\"Electronic\").distinct().withColumn(\"fraction\", lit(0.7)).rdd.collectAsMap()\n",
    "print(fractions)                                                            \n"
   ]
  },
  {
   "cell_type": "code",
   "execution_count": 713,
   "metadata": {
    "scrolled": true
   },
   "outputs": [
    {
     "name": "stdout",
     "output_type": "stream",
     "text": [
      "+------------------+----------------------------------------------+----------------------------------------------+----------------------------------------------+----------------------------------------------+----------------------------------------------+-----------------------------------+-----------------------------------+-----------------------------------+-----------------------------------+-----------------------------------+-------------+----------+-------+------+------+------+------+-------+------+------+------+------+-----+--------------------+\n",
      "|          TRACK_ID|Method_of_Moments_Overall_Standard_Deviation_1|Method_of_Moments_Overall_Standard_Deviation_2|Method_of_Moments_Overall_Standard_Deviation_3|Method_of_Moments_Overall_Standard_Deviation_4|Method_of_Moments_Overall_Standard_Deviation_5|Method_of_Moments_Overall_Average_1|Method_of_Moments_Overall_Average_2|Method_of_Moments_Overall_Average_3|Method_of_Moments_Overall_Average_4|Method_of_Moments_Overall_Average_5|  GENRE_LABEL|Electronic|   sd_1|  sd_2|  sd_3|  sd_4|  sd_5|    a_1|   a_2|   a_3|   a_4|   a_5|label|            features|\n",
      "+------------------+----------------------------------------------+----------------------------------------------+----------------------------------------------+----------------------------------------------+----------------------------------------------+-----------------------------------+-----------------------------------+-----------------------------------+-----------------------------------+-----------------------------------+-------------+----------+-------+------+------+------+------+-------+------+------+------+------+-----+--------------------+\n",
      "|TRAAGTO128F1497E3C|                                        0.1069|                                         8.987|                                         562.6|                                       43100.0|                                     7057000.0|                             0.1007|                               22.9|                             1346.0|                           157700.0|                            2.738E7|     Pop_Rock|         0|  822.0|1174.0|1160.0|1732.0|4061.0| 4779.0|1189.0| 588.0| 439.0| 786.0|  0.0|[822.0,1174.0,116...|\n",
      "|TRAAZNZ128F429EF86|                                       0.06115|                                          6.73|                                         481.1|                                       47190.0|                                     7788000.0|                            0.09972|                              10.13|                              556.9|                            74060.0|                            1.348E7|     Pop_Rock|         0| 4548.0|2819.0| 218.0|2732.0|6415.0| 6966.0|3372.0|4004.0|2742.0|1782.0|  0.0|[4548.0,2819.0,21...|\n",
      "|TRAAZOZ12903C9CABF|                                        0.1603|                                         11.84|                                         637.0|                                       34400.0|                                     5035000.0|                              0.343|                              35.43|                             1511.0|                            84780.0|                             1.13E7|     Pop_Rock|         0|  331.0| 141.0|2570.0|  37.0| 153.0|  706.0|1214.0| 456.0|3189.0|1008.0|  0.0|[331.0,141.0,2570...|\n",
      "|TRABGUX12903CD11FF|                                       0.06124|                                         16.94|                                        1038.0|                                       59810.0|                                     9514000.0|                            0.08601|                              23.44|                             1589.0|                           115500.0|                            1.615E7|          Rap|         0| 7293.0| 685.0|4748.0|4618.0|7697.0| 9279.0|1072.0| 510.0| 926.0|2045.0|  0.0|[7293.0,685.0,474...|\n",
      "|TRABHCK128F423E15A|                                        0.1139|                                         7.864|                                         457.5|                                       28750.0|                                     4186000.0|                             0.2653|                              26.54|                             1556.0|                           176500.0|                             3.03E7|International|         0|  684.0|1069.0| 516.0|1291.0|2447.0|  760.0| 914.0| 379.0| 283.0| 222.0|  0.0|[684.0,1069.0,516...|\n",
      "|TRABMLM128F429BFA2|                                       0.09902|                                         8.125|                                         480.5|                                       42040.0|                                     7012000.0|                             0.1099|                              18.15|                              825.1|                           118800.0|                            2.317E7|        Vocal|         0| 2337.0|2712.0|1136.0|1875.0|4375.0| 5318.0|1915.0|2674.0|1015.0|1711.0|  0.0|[2337.0,2712.0,11...|\n",
      "|TRABMSR128F428E581|                                        0.1483|                                         13.11|                                         670.0|                                       37980.0|                                     5542000.0|                             0.2686|                               28.7|                             1792.0|                           169800.0|                            2.752E7|     Pop_Rock|         0|  126.0| 303.0|3823.0| 476.0|2768.0| 1314.0| 196.0|  62.0| 377.0| 821.0|  0.0|[126.0,303.0,3823...|\n",
      "|TRABNRG128F425E087|                                        0.0491|                                         9.883|                                         537.8|                                       46590.0|                                     8246000.0|                            0.05087|                              24.06|                             1338.0|                           164500.0|                            2.963E7|     Pop_Rock|         0|10528.0|2279.0|1566.0|2542.0|6104.0|12085.0| 998.0| 747.0| 423.0|  51.0|  0.0|[10528.0,2279.0,1...|\n",
      "|TRABPRT128F1495762|                                        0.1363|                                          7.96|                                         437.1|                                       26650.0|                                     4064000.0|                             0.3431|                              27.25|                             1602.0|                           180200.0|                            3.088E7|      Country|         0|  262.0|2892.0|1405.0|1555.0| 732.0|  789.0| 507.0| 368.0| 132.0|  13.0|  0.0|[262.0,2892.0,140...|\n",
      "|TRABTFI128F14905F6|                                       0.05468|                                         12.85|                                         618.1|                                       32160.0|                                     4746000.0|                            0.08177|                              34.18|                             2011.0|                           184200.0|                            3.062E7|International|         0| 6201.0| 277.0|2126.0|1207.0|1046.0| 8177.0| 480.0| 725.0|  46.0|  84.0|  0.0|[6201.0,277.0,212...|\n",
      "|TRABUAU128F42B6DFB|                                        0.2083|                                         12.71|                                         533.6|                                       29580.0|                                     3583000.0|                             0.3244|                               25.4|                             1026.0|                            44340.0|                          4768000.0|     Pop_Rock|         0| 1229.0| 208.0| 398.0|1108.0| 806.0| 1467.0|1143.0|1121.0|7365.0|4799.0|  0.0|[1229.0,208.0,398...|\n",
      "|TRABUDE128F4281A28|                                        0.1206|                                         10.07|                                         655.0|                                       45920.0|                                     6683000.0|                             0.2719|                              21.41|                             1380.0|                           149300.0|                            2.492E7|     Pop_Rock|         0|  838.0|  15.0|3059.0|2464.0|4650.0| 1086.0|1515.0| 635.0| 625.0| 968.0|  0.0|[838.0,15.0,3059....|\n",
      "|TRACARQ128F933B5CD|                                         0.175|                                         13.96|                                         721.3|                                       43790.0|                                     6142000.0|                             0.4182|                              27.71|                             1718.0|                           166500.0|                            2.807E7|     Pop_Rock|         0|  458.0| 365.0|4047.0|2373.0|3535.0| 2487.0| 179.0| 446.0| 425.0| 702.0|  0.0|[458.0,365.0,4047...|\n",
      "|TRACBJC128F427EAAA|                                        0.2077|                                         14.39|                                         837.8|                                       55910.0|                                     8996000.0|                             0.5096|                              31.18|                             1506.0|                            97120.0|                            1.371E7|     Pop_Rock|         0| 1132.0| 460.0|7313.0|4454.0|6949.0| 3252.0| 575.0| 389.0|4509.0|1377.0|  0.0|[1132.0,460.0,731...|\n",
      "|TRACEPD128F429B0CB|                                        0.2876|                                         10.25|                                         463.4|                                       29060.0|                                     4406000.0|                             0.5082|                              31.75|                             1929.0|                           191900.0|                            3.202E7|     Pop_Rock|         0| 1858.0|  65.0| 665.0| 328.0|  61.0| 4726.0|  59.0| 498.0| 206.0| 358.0|  0.0|[1858.0,65.0,665....|\n",
      "|TRACJVT12903CB0F49|                                        0.1206|                                         6.866|                                         338.5|                                       23180.0|                                     3882000.0|                             0.4164|                               29.5|                             1770.0|                           195300.0|                             3.35E7|     Pop_Rock|         0|  838.0|3166.0|3874.0|1955.0|  34.0| 2699.0|  15.0| 104.0|  42.0| 256.0|  0.0|[838.0,3166.0,387...|\n",
      "|TRACLBD12903CECA9E|                                        0.1119|                                         10.33|                                         552.8|                                       50970.0|                                     8363000.0|                             0.1771|                              22.53|                             1193.0|                           151300.0|                             2.78E7|      Country|         0|  445.0|  10.0| 832.0|3767.0|6111.0| 2173.0|1393.0| 872.0| 561.0| 621.0|  0.0|[445.0,10.0,832.0...|\n",
      "|TRACUFS128F42AB248|                                       0.04754|                                          4.61|                                         384.0|                                       41480.0|                                     7508000.0|                            0.05217|                              8.857|                              398.1|                            47340.0|                          7114000.0|      New Age|         0| 7671.0|6965.0|2017.0|1921.0|4802.0|12119.0|8127.0|8142.0|4944.0|2957.0|  0.0|[7671.0,6965.0,20...|\n",
      "|TRACUJD128F427314E|                                        0.1973|                                         6.871|                                         413.1|                                       28000.0|                                     4408000.0|                             0.7095|                              33.67|                             1374.0|                            74040.0|                          9640000.0|   Electronic|         1|  801.0|4656.0| 457.0|1198.0| 243.0| 6242.0| 622.0| 730.0|2741.0|3857.0|  1.0|[801.0,4656.0,457...|\n",
      "|TRACZEC128F933AF1D|                                        0.1664|                                          12.8|                                         838.5|                                       70640.0|                                       1.135E7|                             0.2628|                              13.38|                              891.3|                            95090.0|                            1.584E7|     Pop_Rock|         0|   85.0| 312.0|8065.0|5673.0|6122.0| 1571.0|2890.0|5277.0|1801.0|2163.0|  0.0|[85.0,312.0,8065....|\n",
      "+------------------+----------------------------------------------+----------------------------------------------+----------------------------------------------+----------------------------------------------+----------------------------------------------+-----------------------------------+-----------------------------------+-----------------------------------+-----------------------------------+-----------------------------------+-------------+----------+-------+------+------+------+------+-------+------+------+------+------+-----+--------------------+\n",
      "only showing top 20 rows\n",
      "\n"
     ]
    }
   ],
   "source": [
    "train_df = vindexed_df.stat.sampleBy(\"Electronic\", fractions, 12)\n",
    "train_df.show()"
   ]
  },
  {
   "cell_type": "code",
   "execution_count": 638,
   "metadata": {
    "scrolled": true
   },
   "outputs": [
    {
     "name": "stdout",
     "output_type": "stream",
     "text": [
      "+----------+------+\n",
      "|Electronic| count|\n",
      "+----------+------+\n",
      "|         1| 27993|\n",
      "|         0|261044|\n",
      "+----------+------+\n",
      "\n"
     ]
    }
   ],
   "source": [
    "train_df.groupBy(\"Electronic\").count().show()"
   ]
  },
  {
   "cell_type": "code",
   "execution_count": 714,
   "metadata": {},
   "outputs": [],
   "source": [
    "majority_df = train_df.filter(F.col(\"Electronic\") == 0)\n",
    "minority_df = train_df.filter(F.col(\"Electronic\") == 1)"
   ]
  },
  {
   "cell_type": "code",
   "execution_count": 715,
   "metadata": {},
   "outputs": [
    {
     "data": {
      "text/plain": [
       "28570"
      ]
     },
     "execution_count": 715,
     "metadata": {},
     "output_type": "execute_result"
    }
   ],
   "source": [
    "under_train = majority_df.sample(False, 0.11, seed=12)\n",
    "under_train.count()"
   ]
  },
  {
   "cell_type": "code",
   "execution_count": 716,
   "metadata": {},
   "outputs": [
    {
     "name": "stdout",
     "output_type": "stream",
     "text": [
      "+----------+-----+\n",
      "|Electronic|count|\n",
      "+----------+-----+\n",
      "|         0|28570|\n",
      "|         1|27954|\n",
      "+----------+-----+\n",
      "\n"
     ]
    }
   ],
   "source": [
    "combined_train = under_train.unionAll(minority_df)\n",
    "combined_train.groupBy(\"Electronic\").count().show()"
   ]
  },
  {
   "cell_type": "code",
   "execution_count": 717,
   "metadata": {},
   "outputs": [],
   "source": [
    "test_df = (\n",
    "    vindexed_df\n",
    "    .join(\n",
    "      train_df,\n",
    "      on = \"TRACK_ID\",\n",
    "      how = \"left_anti\")\n",
    ")"
   ]
  },
  {
   "cell_type": "code",
   "execution_count": 645,
   "metadata": {},
   "outputs": [],
   "source": [
    "nb = NaiveBayes(modelType = \"gaussian\")"
   ]
  },
  {
   "cell_type": "code",
   "execution_count": 646,
   "metadata": {},
   "outputs": [],
   "source": [
    "nbmodel = nb.fit(combined_train)"
   ]
  },
  {
   "cell_type": "code",
   "execution_count": 647,
   "metadata": {},
   "outputs": [
    {
     "name": "stdout",
     "output_type": "stream",
     "text": [
      "+------------------+----------------------------------------------+----------------------------------------------+----------------------------------------------+----------------------------------------------+----------------------------------------------+-----------------------------------+-----------------------------------+-----------------------------------+-----------------------------------+-----------------------------------+-----------+----------+------+------+------+------+------+------+------+-----+-----+------+-----+--------------------+--------------------+--------------------+----------+\n",
      "|          TRACK_ID|Method_of_Moments_Overall_Standard_Deviation_1|Method_of_Moments_Overall_Standard_Deviation_2|Method_of_Moments_Overall_Standard_Deviation_3|Method_of_Moments_Overall_Standard_Deviation_4|Method_of_Moments_Overall_Standard_Deviation_5|Method_of_Moments_Overall_Average_1|Method_of_Moments_Overall_Average_2|Method_of_Moments_Overall_Average_3|Method_of_Moments_Overall_Average_4|Method_of_Moments_Overall_Average_5|GENRE_LABEL|Electronic|  sd_1|  sd_2|  sd_3|  sd_4|  sd_5|   a_1|   a_2|  a_3|  a_4|   a_5|label|            features|       rawPrediction|         probability|prediction|\n",
      "+------------------+----------------------------------------------+----------------------------------------------+----------------------------------------------+----------------------------------------------+----------------------------------------------+-----------------------------------+-----------------------------------+-----------------------------------+-----------------------------------+-----------------------------------+-----------+----------+------+------+------+------+------+------+------+-----+-----+------+-----+--------------------+--------------------+--------------------+----------+\n",
      "|TRAAGTO128F1497E3C|                                        0.1069|                                         8.987|                                         562.6|                                       43100.0|                                     7057000.0|                             0.1007|                               22.9|                             1346.0|                           157700.0|                            2.738E7|   Pop_Rock|         0| 822.0|1174.0|1160.0|1732.0|4061.0|4779.0|1189.0|588.0|439.0| 786.0|  0.0|[822.0,1174.0,116...|[-76.687195875893...|[0.69169221584540...|       0.0|\n",
      "|TRAAHAU128F9313A3D|                                       0.08485|                                         9.031|                                         445.9|                                       23750.0|                                     3274000.0|                             0.2583|                              35.59|                             2015.0|                           198400.0|                            3.336E7|   Pop_Rock|         0|6433.0|2577.0| 185.0|2494.0|2629.0| 181.0|1163.0|365.0|222.0| 172.0|  0.0|[6433.0,2577.0,18...|[-80.524263150579...|[0.65105557165821...|       0.0|\n",
      "|TRAAROH128F42604B0|                                        0.1192|                                          16.4|                                         737.3|                                       41670.0|                                     6295000.0|                             0.2284|                              31.04|                             1878.0|                           169100.0|                            2.829E7| Electronic|         1| 670.0| 643.0|4845.0|1383.0|3246.0|2427.0| 268.0|187.0|396.0| 573.0|  1.0|[670.0,643.0,4845...|[-77.712819211649...|[0.49688124513626...|       1.0|\n",
      "|TRABGNE128F9337445|                                        0.1592|                                         7.923|                                         397.7|                                       17560.0|                                     2552000.0|                             0.4653|                              32.65|                             1954.0|                           195100.0|                            3.212E7|   Pop_Rock|         0| 363.0|1838.0|1672.0|2775.0|4136.0|2261.0| 792.0|278.0|161.0| 271.0|  0.0|[363.0,1838.0,167...|[-77.086123650903...|[0.58150791419175...|       0.0|\n",
      "|TRABGUX12903CD11FF|                                       0.06124|                                         16.94|                                        1038.0|                                       59810.0|                                     9514000.0|                            0.08601|                              23.44|                             1589.0|                           115500.0|                            1.615E7|        Rap|         0|7293.0| 685.0|4748.0|4618.0|7697.0|9279.0|1072.0|510.0|926.0|2045.0|  0.0|[7293.0,685.0,474...|[-88.624589834128...|[0.14046985647840...|       1.0|\n",
      "+------------------+----------------------------------------------+----------------------------------------------+----------------------------------------------+----------------------------------------------+----------------------------------------------+-----------------------------------+-----------------------------------+-----------------------------------+-----------------------------------+-----------------------------------+-----------+----------+------+------+------+------+------+------+------+-----+-----+------+-----+--------------------+--------------------+--------------------+----------+\n",
      "only showing top 5 rows\n",
      "\n"
     ]
    }
   ],
   "source": [
    "predictions_df = nbmodel.transform(test_df)\n",
    "predictions_df.show(5, True)"
   ]
  },
  {
   "cell_type": "code",
   "execution_count": 648,
   "metadata": {},
   "outputs": [
    {
     "name": "stdout",
     "output_type": "stream",
     "text": [
      "Test accuracy = 0.7218725856296678\n",
      "Test recall = 0.7471685335186818\n",
      "Test precision = 0.9312926227869471\n"
     ]
    }
   ],
   "source": [
    "accuracy = MulticlassClassificationEvaluator(labelCol=\"label\",\n",
    "                                        predictionCol=\"prediction\", metricName=\"accuracy\") \n",
    "recall = MulticlassClassificationEvaluator(labelCol=\"label\",\n",
    "                                        predictionCol=\"prediction\", metricName=\"recallByLabel\") \n",
    "precision = MulticlassClassificationEvaluator(labelCol=\"label\",\n",
    "                                        predictionCol=\"prediction\", metricName=\"precisionByLabel\") \n",
    "nbaccuracy = accuracy.evaluate(predictions_df) \n",
    "\n",
    "nbrecall = recall.evaluate(predictions_df)\n",
    "\n",
    "nbprecision = precision.evaluate(predictions_df)\n",
    "\n",
    "print(\"Test accuracy = \" + str(nbaccuracy))\n",
    "print(\"Test recall = \" + str(nbrecall))\n",
    "print(\"Test precision = \" + str(nbprecision))"
   ]
  },
  {
   "cell_type": "code",
   "execution_count": 673,
   "metadata": {},
   "outputs": [],
   "source": [
    "lr = LogisticRegression(maxIter=100, regParam=0.8, elasticNetParam=0.1)\n",
    "lrModel = lr.fit(combined_train)"
   ]
  },
  {
   "cell_type": "code",
   "execution_count": 674,
   "metadata": {},
   "outputs": [
    {
     "name": "stdout",
     "output_type": "stream",
     "text": [
      "+------------------+----------------------------------------------+----------------------------------------------+----------------------------------------------+----------------------------------------------+----------------------------------------------+-----------------------------------+-----------------------------------+-----------------------------------+-----------------------------------+-----------------------------------+-----------+----------+------+------+------+------+------+------+------+-----+-----+------+-----+--------------------+--------------------+--------------------+----------+\n",
      "|          TRACK_ID|Method_of_Moments_Overall_Standard_Deviation_1|Method_of_Moments_Overall_Standard_Deviation_2|Method_of_Moments_Overall_Standard_Deviation_3|Method_of_Moments_Overall_Standard_Deviation_4|Method_of_Moments_Overall_Standard_Deviation_5|Method_of_Moments_Overall_Average_1|Method_of_Moments_Overall_Average_2|Method_of_Moments_Overall_Average_3|Method_of_Moments_Overall_Average_4|Method_of_Moments_Overall_Average_5|GENRE_LABEL|Electronic|  sd_1|  sd_2|  sd_3|  sd_4|  sd_5|   a_1|   a_2|  a_3|  a_4|   a_5|label|            features|       rawPrediction|         probability|prediction|\n",
      "+------------------+----------------------------------------------+----------------------------------------------+----------------------------------------------+----------------------------------------------+----------------------------------------------+-----------------------------------+-----------------------------------+-----------------------------------+-----------------------------------+-----------------------------------+-----------+----------+------+------+------+------+------+------+------+-----+-----+------+-----+--------------------+--------------------+--------------------+----------+\n",
      "|TRAAGTO128F1497E3C|                                        0.1069|                                         8.987|                                         562.6|                                       43100.0|                                     7057000.0|                             0.1007|                               22.9|                             1346.0|                           157700.0|                            2.738E7|   Pop_Rock|         0| 822.0|1174.0|1160.0|1732.0|4061.0|4779.0|1189.0|588.0|439.0| 786.0|  0.0|[822.0,1174.0,116...|[0.03859716396155...|[0.50964809325673...|       0.0|\n",
      "|TRAAHAU128F9313A3D|                                       0.08485|                                         9.031|                                         445.9|                                       23750.0|                                     3274000.0|                             0.2583|                              35.59|                             2015.0|                           198400.0|                            3.336E7|   Pop_Rock|         0|6433.0|2577.0| 185.0|2494.0|2629.0| 181.0|1163.0|365.0|222.0| 172.0|  0.0|[6433.0,2577.0,18...|[0.04600420591414...|[0.51149902351811...|       0.0|\n",
      "|TRAAROH128F42604B0|                                        0.1192|                                          16.4|                                         737.3|                                       41670.0|                                     6295000.0|                             0.2284|                              31.04|                             1878.0|                           169100.0|                            2.829E7| Electronic|         1| 670.0| 643.0|4845.0|1383.0|3246.0|2427.0| 268.0|187.0|396.0| 573.0|  1.0|[670.0,643.0,4845...|[0.01623862742169...|[0.50405956764917...|       0.0|\n",
      "|TRABGNE128F9337445|                                        0.1592|                                         7.923|                                         397.7|                                       17560.0|                                     2552000.0|                             0.4653|                              32.65|                             1954.0|                           195100.0|                            3.212E7|   Pop_Rock|         0| 363.0|1838.0|1672.0|2775.0|4136.0|2261.0| 792.0|278.0|161.0| 271.0|  0.0|[363.0,1838.0,167...|[0.03058323538613...|[0.50764521295334...|       0.0|\n",
      "|TRABGUX12903CD11FF|                                       0.06124|                                         16.94|                                        1038.0|                                       59810.0|                                     9514000.0|                            0.08601|                              23.44|                             1589.0|                           115500.0|                            1.615E7|        Rap|         0|7293.0| 685.0|4748.0|4618.0|7697.0|9279.0|1072.0|510.0|926.0|2045.0|  0.0|[7293.0,685.0,474...|[-0.0075664459726...|[0.49810839753153...|       1.0|\n",
      "+------------------+----------------------------------------------+----------------------------------------------+----------------------------------------------+----------------------------------------------+----------------------------------------------+-----------------------------------+-----------------------------------+-----------------------------------+-----------------------------------+-----------------------------------+-----------+----------+------+------+------+------+------+------+------+-----+-----+------+-----+--------------------+--------------------+--------------------+----------+\n",
      "only showing top 5 rows\n",
      "\n"
     ]
    }
   ],
   "source": [
    "predictions = lrModel.transform(test_df)\n",
    "predictions.show(5, True)"
   ]
  },
  {
   "cell_type": "code",
   "execution_count": 675,
   "metadata": {},
   "outputs": [
    {
     "name": "stdout",
     "output_type": "stream",
     "text": [
      "Test accuracy = 0.8520473860417204\n",
      "Test recall = 0.9186337672984557\n",
      "Test precision = 0.917636167807518\n"
     ]
    }
   ],
   "source": [
    "accuracy1 = MulticlassClassificationEvaluator(labelCol=\"label\",\n",
    "                                        predictionCol=\"prediction\", metricName=\"accuracy\") \n",
    "recall1 = MulticlassClassificationEvaluator(labelCol=\"label\",\n",
    "                                        predictionCol=\"prediction\", metricName=\"recallByLabel\") \n",
    "precision1 = MulticlassClassificationEvaluator(labelCol=\"label\",\n",
    "                                        predictionCol=\"prediction\", metricName=\"precisionByLabel\") \n",
    "lraccuracy = accuracy1.evaluate(predictions) \n",
    "\n",
    "lrrecall = recall1.evaluate(predictions)\n",
    "\n",
    "lrprecision = precision1.evaluate(predictions)\n",
    "\n",
    "print(\"Test accuracy = \" + str(lraccuracy))\n",
    "print(\"Test recall = \" + str(lrrecall))\n",
    "print(\"Test precision = \" + str(lrprecision))"
   ]
  },
  {
   "cell_type": "code",
   "execution_count": 672,
   "metadata": {},
   "outputs": [
    {
     "name": "stdout",
     "output_type": "stream",
     "text": [
      "+----------+-----+\n",
      "|prediction|count|\n",
      "+----------+-----+\n",
      "|       1.0|37148|\n",
      "|       0.0|87108|\n",
      "+----------+-----+\n",
      "\n"
     ]
    }
   ],
   "source": [
    "predictions.groupBy(\"prediction\").count().show()"
   ]
  },
  {
   "cell_type": "code",
   "execution_count": 569,
   "metadata": {},
   "outputs": [],
   "source": [
    "from pyspark.ml.classification import LinearSVC\n",
    "lsvc = LinearSVC(maxIter=10, regParam=0.1)"
   ]
  },
  {
   "cell_type": "code",
   "execution_count": 573,
   "metadata": {},
   "outputs": [],
   "source": [
    "lsvcModel = lsvc.fit(combined_train)"
   ]
  },
  {
   "cell_type": "code",
   "execution_count": 574,
   "metadata": {},
   "outputs": [
    {
     "name": "stdout",
     "output_type": "stream",
     "text": [
      "+------------------+----------------------------------------------+----------------------------------------------+----------------------------------------------+----------------------------------------------+----------------------------------------------+-----------------------------------+-----------------------------------+-----------------------------------+-----------------------------------+-----------------------------------+-----------+----------+------+------+------+------+------+------+------+-----+-----+------+-----+--------------------+--------------------+----------+\n",
      "|          TRACK_ID|Method_of_Moments_Overall_Standard_Deviation_1|Method_of_Moments_Overall_Standard_Deviation_2|Method_of_Moments_Overall_Standard_Deviation_3|Method_of_Moments_Overall_Standard_Deviation_4|Method_of_Moments_Overall_Standard_Deviation_5|Method_of_Moments_Overall_Average_1|Method_of_Moments_Overall_Average_2|Method_of_Moments_Overall_Average_3|Method_of_Moments_Overall_Average_4|Method_of_Moments_Overall_Average_5|GENRE_LABEL|Electronic|  sd_1|  sd_2|  sd_3|  sd_4|  sd_5|   a_1|   a_2|  a_3|  a_4|   a_5|label|            features|       rawPrediction|prediction|\n",
      "+------------------+----------------------------------------------+----------------------------------------------+----------------------------------------------+----------------------------------------------+----------------------------------------------+-----------------------------------+-----------------------------------+-----------------------------------+-----------------------------------+-----------------------------------+-----------+----------+------+------+------+------+------+------+------+-----+-----+------+-----+--------------------+--------------------+----------+\n",
      "|TRAAGTO128F1497E3C|                                        0.1069|                                         8.987|                                         562.6|                                       43100.0|                                     7057000.0|                             0.1007|                               22.9|                             1346.0|                           157700.0|                            2.738E7|   Pop_Rock|         0| 822.0|1174.0|1160.0|1732.0|4061.0|4779.0|1189.0|588.0|439.0| 786.0|  0.0|[822.0,1174.0,116...|[0.49463949672806...|       0.0|\n",
      "|TRAAHAU128F9313A3D|                                       0.08485|                                         9.031|                                         445.9|                                       23750.0|                                     3274000.0|                             0.2583|                              35.59|                             2015.0|                           198400.0|                            3.336E7|   Pop_Rock|         0|6433.0|2577.0| 185.0|2494.0|2629.0| 181.0|1163.0|365.0|222.0| 172.0|  0.0|[6433.0,2577.0,18...|[0.01300690412080...|       0.0|\n",
      "|TRAAROH128F42604B0|                                        0.1192|                                          16.4|                                         737.3|                                       41670.0|                                     6295000.0|                             0.2284|                              31.04|                             1878.0|                           169100.0|                            2.829E7| Electronic|         1| 670.0| 643.0|4845.0|1383.0|3246.0|2427.0| 268.0|187.0|396.0| 573.0|  1.0|[670.0,643.0,4845...|[-0.2287245827148...|       1.0|\n",
      "|TRABGNE128F9337445|                                        0.1592|                                         7.923|                                         397.7|                                       17560.0|                                     2552000.0|                             0.4653|                              32.65|                             1954.0|                           195100.0|                            3.212E7|   Pop_Rock|         0| 363.0|1838.0|1672.0|2775.0|4136.0|2261.0| 792.0|278.0|161.0| 271.0|  0.0|[363.0,1838.0,167...|[0.15787535969542...|       0.0|\n",
      "|TRABGUX12903CD11FF|                                       0.06124|                                         16.94|                                        1038.0|                                       59810.0|                                     9514000.0|                            0.08601|                              23.44|                             1589.0|                           115500.0|                            1.615E7|        Rap|         0|7293.0| 685.0|4748.0|4618.0|7697.0|9279.0|1072.0|510.0|926.0|2045.0|  0.0|[7293.0,685.0,474...|[-0.0576269469984...|       1.0|\n",
      "+------------------+----------------------------------------------+----------------------------------------------+----------------------------------------------+----------------------------------------------+----------------------------------------------+-----------------------------------+-----------------------------------+-----------------------------------+-----------------------------------+-----------------------------------+-----------+----------+------+------+------+------+------+------+------+-----+-----+------+-----+--------------------+--------------------+----------+\n",
      "only showing top 5 rows\n",
      "\n"
     ]
    }
   ],
   "source": [
    "predictions = lsvcModel.transform(test_df)\n",
    "predictions.show(5, True)"
   ]
  },
  {
   "cell_type": "code",
   "execution_count": 575,
   "metadata": {},
   "outputs": [
    {
     "name": "stdout",
     "output_type": "stream",
     "text": [
      "Test accuracy = 0.7005536955961885\n",
      "Test recall = 0.7150265992995963\n",
      "Test precision = 0.9388316231616142\n"
     ]
    }
   ],
   "source": [
    "accuracy2 = BinaryClassificationEvaluator(labelCol=\"label\",\n",
    "                                        predictionCol=\"prediction\", metricName=\"accuracy\") \n",
    "recall2 = BinaryClassificationEvaluator(labelCol=\"label\",\n",
    "                                        predictionCol=\"prediction\", metricName=\"recallByLabel\") \n",
    "precision2 = BinaryClassificationEvaluator(labelCol=\"label\",\n",
    "                                        predictionCol=\"prediction\", metricName=\"precisionByLabel\") \n",
    "lsvcaccuracy = accuracy2.evaluate(predictions) \n",
    "\n",
    "lsvcrecall = recall2.evaluate(predictions)\n",
    "\n",
    "lsvcprecision = precision2.evaluate(predictions)\n",
    "\n",
    "print(\"Test accuracy = \" + str(lsvcaccuracy))\n",
    "print(\"Test recall = \" + str(lsvcrecall))\n",
    "print(\"Test precision = \" + str(lsvcprecision))"
   ]
  },
  {
   "cell_type": "code",
   "execution_count": null,
   "metadata": {},
   "outputs": [],
   "source": [
    "#Question 3"
   ]
  },
  {
   "cell_type": "code",
   "execution_count": 718,
   "metadata": {},
   "outputs": [],
   "source": [
    "from pyspark.ml.tuning import CrossValidator, ParamGridBuilder\n",
    "\n",
    "lr1 = LogisticRegression()\n",
    "\n",
    "paramGrid = ParamGridBuilder() \\\n",
    "    .addGrid(lr1.maxIter, [5, 15, 25]) \\\n",
    "    .addGrid(lr1.regParam, [0.001, 0.5, 1.0]) \\\n",
    "    .addGrid(lr1.elasticNetParam, [0.0, 0.5, 1.0]) \\\n",
    "    .build()\n",
    "\n",
    "crossval = CrossValidator(estimator=lr1,\n",
    "                          estimatorParamMaps=paramGrid,\n",
    "                          evaluator=MulticlassClassificationEvaluator(),\n",
    "                          numFolds=3) \n"
   ]
  },
  {
   "cell_type": "code",
   "execution_count": 719,
   "metadata": {},
   "outputs": [],
   "source": [
    "\n",
    "cvModel = crossval.fit(combined_train)"
   ]
  },
  {
   "cell_type": "code",
   "execution_count": 720,
   "metadata": {},
   "outputs": [],
   "source": [
    "cvprediction = cvModel.transform(test_df)"
   ]
  },
  {
   "cell_type": "code",
   "execution_count": 721,
   "metadata": {},
   "outputs": [
    {
     "name": "stdout",
     "output_type": "stream",
     "text": [
      "Test accuracy = 0.6747720364741642\n",
      "Test recall = 0.6802579515715574\n",
      "Test precision = 0.9437312582092141\n"
     ]
    }
   ],
   "source": [
    "cvaccuracy1 = MulticlassClassificationEvaluator(labelCol=\"label\",\n",
    "                                        predictionCol=\"prediction\", metricName=\"accuracy\") \n",
    "cvrecall1 = MulticlassClassificationEvaluator(labelCol=\"label\",\n",
    "                                        predictionCol=\"prediction\", metricName=\"recallByLabel\") \n",
    "cvprecision1 = MulticlassClassificationEvaluator(labelCol=\"label\",\n",
    "                                        predictionCol=\"prediction\", metricName=\"precisionByLabel\") \n",
    "cvlraccuracy = accuracy1.evaluate(cvprediction) \n",
    "\n",
    "cvlrrecall = recall1.evaluate(cvprediction)\n",
    "\n",
    "cvlrprecision = precision1.evaluate(cvprediction)\n",
    "\n",
    "print(\"Test accuracy = \" + str(cvlraccuracy))\n",
    "print(\"Test recall = \" + str(cvlrrecall))\n",
    "print(\"Test precision = \" + str(cvlrprecision))\n"
   ]
  },
  {
   "cell_type": "code",
   "execution_count": null,
   "metadata": {},
   "outputs": [],
   "source": [
    "#Question 4"
   ]
  },
  {
   "cell_type": "code",
   "execution_count": 726,
   "metadata": {},
   "outputs": [
    {
     "name": "stdout",
     "output_type": "stream",
     "text": [
      "+------------------+-------------+\n",
      "|          TRACK_ID|  GENRE_LABEL|\n",
      "+------------------+-------------+\n",
      "|TRAAGTO128F1497E3C|     Pop_Rock|\n",
      "|TRAAMFF12903CE8107|     Pop_Rock|\n",
      "|TRAAUIH128F4254C9D|       Reggae|\n",
      "|TRAAZNZ128F429EF86|     Pop_Rock|\n",
      "|TRAAZOZ12903C9CABF|     Pop_Rock|\n",
      "|TRABGUX12903CD11FF|          Rap|\n",
      "|TRABHCK128F423E15A|International|\n",
      "|TRABIRM128F92CA303|     Pop_Rock|\n",
      "|TRABMLM128F429BFA2|        Vocal|\n",
      "|TRABMSR128F428E581|     Pop_Rock|\n",
      "|TRABNRG128F425E087|     Pop_Rock|\n",
      "|TRABPRT128F1495762|      Country|\n",
      "|TRABTFI128F14905F6|International|\n",
      "|TRABUAU128F42B6DFB|     Pop_Rock|\n",
      "|TRABUDE128F4281A28|     Pop_Rock|\n",
      "|TRACARQ128F933B5CD|     Pop_Rock|\n",
      "|TRACBJC128F427EAAA|     Pop_Rock|\n",
      "|TRACEPD128F429B0CB|     Pop_Rock|\n",
      "|TRACFEP128F4268BF4|     Pop_Rock|\n",
      "|TRACJMX128F424BF1D|     Pop_Rock|\n",
      "+------------------+-------------+\n",
      "only showing top 20 rows\n",
      "\n"
     ]
    }
   ],
   "source": [
    "genres.show()"
   ]
  },
  {
   "cell_type": "code",
   "execution_count": 731,
   "metadata": {},
   "outputs": [],
   "source": [
    "multi_indexers = [\n",
    "    StringIndexer(inputCol=\"Method_of_Moments_Overall_Standard_Deviation_1\", outputCol = 'sd_1'),\n",
    "    StringIndexer(inputCol=\"Method_of_Moments_Overall_Standard_Deviation_2\", outputCol = 'sd_2'),\n",
    "    StringIndexer(inputCol=\"Method_of_Moments_Overall_Standard_Deviation_3\", outputCol = 'sd_3'),\n",
    "    StringIndexer(inputCol=\"Method_of_Moments_Overall_Standard_Deviation_4\", outputCol = 'sd_4'),\n",
    "    StringIndexer(inputCol=\"Method_of_Moments_Overall_Standard_Deviation_5\", outputCol = 'sd_5'),\n",
    "    StringIndexer(inputCol=\"Method_of_Moments_Overall_Average_1\", outputCol = 'a_1'),\n",
    "    StringIndexer(inputCol=\"Method_of_Moments_Overall_Average_2\", outputCol = 'a_2'),\n",
    "    StringIndexer(inputCol=\"Method_of_Moments_Overall_Average_3\", outputCol = 'a_3'),\n",
    "    StringIndexer(inputCol=\"Method_of_Moments_Overall_Average_4\", outputCol = 'a_4'),\n",
    "    StringIndexer(inputCol=\"Method_of_Moments_Overall_Average_5\", outputCol = 'a_5'),\n",
    "    StringIndexer(inputCol = \"GENRE_LABEL\", outputCol = \"label\")\n",
    "]\n"
   ]
  },
  {
   "cell_type": "code",
   "execution_count": 732,
   "metadata": {},
   "outputs": [
    {
     "name": "stdout",
     "output_type": "stream",
     "text": [
      "+------------------+----------------------------------------------+----------------------------------------------+----------------------------------------------+----------------------------------------------+----------------------------------------------+-----------------------------------+-----------------------------------+-----------------------------------+-----------------------------------+-----------------------------------+-----------+------+------+------+------+------+------+------+------+------+------+-----+\n",
      "|TRACK_ID          |Method_of_Moments_Overall_Standard_Deviation_1|Method_of_Moments_Overall_Standard_Deviation_2|Method_of_Moments_Overall_Standard_Deviation_3|Method_of_Moments_Overall_Standard_Deviation_4|Method_of_Moments_Overall_Standard_Deviation_5|Method_of_Moments_Overall_Average_1|Method_of_Moments_Overall_Average_2|Method_of_Moments_Overall_Average_3|Method_of_Moments_Overall_Average_4|Method_of_Moments_Overall_Average_5|GENRE_LABEL|sd_1  |sd_2  |sd_3  |sd_4  |sd_5  |a_1   |a_2   |a_3   |a_4   |a_5   |label|\n",
      "+------------------+----------------------------------------------+----------------------------------------------+----------------------------------------------+----------------------------------------------+----------------------------------------------+-----------------------------------+-----------------------------------+-----------------------------------+-----------------------------------+-----------------------------------+-----------+------+------+------+------+------+------+------+------+------+------+-----+\n",
      "|TRAAGTO128F1497E3C|0.1069                                        |8.987                                         |562.6                                         |43100.0                                       |7057000.0                                     |0.1007                             |22.9                               |1346.0                             |157700.0                           |2.738E7                            |Pop_Rock   |822.0 |1174.0|1160.0|1732.0|4061.0|4779.0|1189.0|588.0 |439.0 |786.0 |0.0  |\n",
      "|TRAAMFF12903CE8107|0.1385                                        |9.699                                         |581.6                                         |31590.0                                       |4569000.0                                     |0.3706                             |23.63                              |1554.0                             |163800.0                           |2.72E7                             |Pop_Rock   |342.0 |1511.0|2312.0|369.0 |937.0 |2458.0|1261.0|557.0 |481.0 |801.0 |0.0  |\n",
      "|TRAAUIH128F4254C9D|0.2276                                        |15.73                                         |639.9                                         |44820.0                                       |5118000.0                                     |0.4739                             |34.46                              |1963.0                             |174800.0                           |2.986E7                            |Reggae     |1376.0|547.0 |3176.0|1309.0|216.0 |2930.0|965.0 |406.0 |323.0 |278.0 |9.0  |\n",
      "|TRAAZNZ128F429EF86|0.06115                                       |6.73                                          |481.1                                         |47190.0                                       |7788000.0                                     |0.09972                            |10.13                              |556.9                              |74060.0                            |1.348E7                            |Pop_Rock   |4548.0|2819.0|218.0 |2732.0|6415.0|6966.0|3372.0|4004.0|2742.0|1782.0|0.0  |\n",
      "|TRAAZOZ12903C9CABF|0.1603                                        |11.84                                         |637.0                                         |34400.0                                       |5035000.0                                     |0.343                              |35.43                              |1511.0                             |84780.0                            |1.13E7                             |Pop_Rock   |331.0 |141.0 |2570.0|37.0  |153.0 |706.0 |1214.0|456.0 |3189.0|1008.0|0.0  |\n",
      "+------------------+----------------------------------------------+----------------------------------------------+----------------------------------------------+----------------------------------------------+----------------------------------------------+-----------------------------------+-----------------------------------+-----------------------------------+-----------------------------------+-----------------------------------+-----------+------+------+------+------+------+------+------+------+------+------+-----+\n",
      "only showing top 5 rows\n",
      "\n"
     ]
    }
   ],
   "source": [
    "pipeline1 = Pipeline(stages=multi_indexers)\n",
    "\n",
    "multi_indexed_df = pipeline1.fit(audio).transform(audio)\n",
    "\n",
    "multi_indexed_df.show(5, False)"
   ]
  },
  {
   "cell_type": "code",
   "execution_count": 735,
   "metadata": {},
   "outputs": [
    {
     "name": "stdout",
     "output_type": "stream",
     "text": [
      "+------------------+----------------------------------------------+----------------------------------------------+----------------------------------------------+----------------------------------------------+----------------------------------------------+-----------------------------------+-----------------------------------+-----------------------------------+-----------------------------------+-----------------------------------+-----------+------+------+------+------+------+------+------+------+------+------+-----+----------------------------------------------------------------------+\n",
      "|TRACK_ID          |Method_of_Moments_Overall_Standard_Deviation_1|Method_of_Moments_Overall_Standard_Deviation_2|Method_of_Moments_Overall_Standard_Deviation_3|Method_of_Moments_Overall_Standard_Deviation_4|Method_of_Moments_Overall_Standard_Deviation_5|Method_of_Moments_Overall_Average_1|Method_of_Moments_Overall_Average_2|Method_of_Moments_Overall_Average_3|Method_of_Moments_Overall_Average_4|Method_of_Moments_Overall_Average_5|GENRE_LABEL|sd_1  |sd_2  |sd_3  |sd_4  |sd_5  |a_1   |a_2   |a_3   |a_4   |a_5   |label|features                                                              |\n",
      "+------------------+----------------------------------------------+----------------------------------------------+----------------------------------------------+----------------------------------------------+----------------------------------------------+-----------------------------------+-----------------------------------+-----------------------------------+-----------------------------------+-----------------------------------+-----------+------+------+------+------+------+------+------+------+------+------+-----+----------------------------------------------------------------------+\n",
      "|TRAAGTO128F1497E3C|0.1069                                        |8.987                                         |562.6                                         |43100.0                                       |7057000.0                                     |0.1007                             |22.9                               |1346.0                             |157700.0                           |2.738E7                            |Pop_Rock   |822.0 |1174.0|1160.0|1732.0|4061.0|4779.0|1189.0|588.0 |439.0 |786.0 |0.0  |[822.0,1174.0,1160.0,1732.0,4061.0,4779.0,1189.0,588.0,439.0,786.0]   |\n",
      "|TRAAMFF12903CE8107|0.1385                                        |9.699                                         |581.6                                         |31590.0                                       |4569000.0                                     |0.3706                             |23.63                              |1554.0                             |163800.0                           |2.72E7                             |Pop_Rock   |342.0 |1511.0|2312.0|369.0 |937.0 |2458.0|1261.0|557.0 |481.0 |801.0 |0.0  |[342.0,1511.0,2312.0,369.0,937.0,2458.0,1261.0,557.0,481.0,801.0]     |\n",
      "|TRAAUIH128F4254C9D|0.2276                                        |15.73                                         |639.9                                         |44820.0                                       |5118000.0                                     |0.4739                             |34.46                              |1963.0                             |174800.0                           |2.986E7                            |Reggae     |1376.0|547.0 |3176.0|1309.0|216.0 |2930.0|965.0 |406.0 |323.0 |278.0 |9.0  |[1376.0,547.0,3176.0,1309.0,216.0,2930.0,965.0,406.0,323.0,278.0]     |\n",
      "|TRAAZNZ128F429EF86|0.06115                                       |6.73                                          |481.1                                         |47190.0                                       |7788000.0                                     |0.09972                            |10.13                              |556.9                              |74060.0                            |1.348E7                            |Pop_Rock   |4548.0|2819.0|218.0 |2732.0|6415.0|6966.0|3372.0|4004.0|2742.0|1782.0|0.0  |[4548.0,2819.0,218.0,2732.0,6415.0,6966.0,3372.0,4004.0,2742.0,1782.0]|\n",
      "|TRAAZOZ12903C9CABF|0.1603                                        |11.84                                         |637.0                                         |34400.0                                       |5035000.0                                     |0.343                              |35.43                              |1511.0                             |84780.0                            |1.13E7                             |Pop_Rock   |331.0 |141.0 |2570.0|37.0  |153.0 |706.0 |1214.0|456.0 |3189.0|1008.0|0.0  |[331.0,141.0,2570.0,37.0,153.0,706.0,1214.0,456.0,3189.0,1008.0]      |\n",
      "+------------------+----------------------------------------------+----------------------------------------------+----------------------------------------------+----------------------------------------------+----------------------------------------------+-----------------------------------+-----------------------------------+-----------------------------------+-----------------------------------+-----------------------------------+-----------+------+------+------+------+------+------+------+------+------+------+-----+----------------------------------------------------------------------+\n",
      "only showing top 5 rows\n",
      "\n"
     ]
    }
   ],
   "source": [
    "vectorAssembler1 = VectorAssembler(inputCols = ['sd_1', 'sd_2', 'sd_3','sd_4','sd_5','a_1','a_2','a_3','a_4','a_5'],\n",
    "                                  outputCol = 'features')\n",
    "multi_vindexed_df = vectorAssembler1.transform(multi_indexed_df)\n",
    "multi_vindexed_df.show(5, False)"
   ]
  },
  {
   "cell_type": "code",
   "execution_count": 736,
   "metadata": {},
   "outputs": [
    {
     "name": "stdout",
     "output_type": "stream",
     "text": [
      "+-----+------+\n",
      "|Label| count|\n",
      "+-----+------+\n",
      "| 19.0|   317|\n",
      "|  7.0|  7962|\n",
      "|  4.0| 12254|\n",
      "| 20.0|   140|\n",
      "|  9.0|  4850|\n",
      "| 18.0|   392|\n",
      "|  3.0| 12255|\n",
      "| 11.0|  4256|\n",
      "| 12.0|  3957|\n",
      "|  1.0| 27954|\n",
      "| 14.0|  1417|\n",
      "|  0.0|163007|\n",
      "|  2.0| 14312|\n",
      "|  6.0|  9715|\n",
      "| 13.0|  2818|\n",
      "| 16.0|  1057|\n",
      "| 10.0|  4762|\n",
      "|  5.0|  9908|\n",
      "| 17.0|   719|\n",
      "|  8.0|  6093|\n",
      "| 15.0|  1115|\n",
      "+-----+------+\n",
      "\n"
     ]
    }
   ],
   "source": [
    "(train_dat, test_dat) = multi_vindexed_df.randomSplit([0.7, 0.3], seed = 12)\n",
    "\n",
    "balance = (\n",
    "    train_dat\n",
    "    .groupBy(\"Label\")\n",
    "    .count()\n",
    ")\n",
    "\n",
    "balance.show(21)"
   ]
  },
  {
   "cell_type": "code",
   "execution_count": 741,
   "metadata": {},
   "outputs": [],
   "source": [
    "from pyspark.ml.classification import OneVsRest\n",
    "multi_lsvc = LinearSVC(maxIter=50, regParam=0.1)\n",
    "ovr = OneVsRest(classifier=multi_lsvc)"
   ]
  },
  {
   "cell_type": "code",
   "execution_count": 743,
   "metadata": {},
   "outputs": [],
   "source": [
    "multi_lsvcModel = ovr.fit(train_dat)"
   ]
  },
  {
   "cell_type": "code",
   "execution_count": 745,
   "metadata": {},
   "outputs": [],
   "source": [
    "multiprediction = multi_lsvcModel.transform(test_dat) "
   ]
  },
  {
   "cell_type": "code",
   "execution_count": 746,
   "metadata": {},
   "outputs": [
    {
     "name": "stdout",
     "output_type": "stream",
     "text": [
      "Test accuracy = 0.5628824587005071\n",
      "Test recall = 0.9969280009144555\n",
      "Test precision = 0.565587458050291\n"
     ]
    }
   ],
   "source": [
    "multiaccuracy1 = MulticlassClassificationEvaluator(labelCol=\"label\",\n",
    "                                      predictionCol=\"prediction\", metricName=\"accuracy\") \n",
    "multirecall1 = MulticlassClassificationEvaluator(labelCol=\"label\",\n",
    "                                      predictionCol=\"prediction\", metricName=\"recallByLabel\") \n",
    "multiprecision1 = MulticlassClassificationEvaluator(labelCol=\"label\",\n",
    "                                      predictionCol=\"prediction\", metricName=\"precisionByLabel\") \n",
    "multiaccuracy = multiaccuracy1.evaluate(multiprediction) \n",
    "\n",
    "multirecall = multirecall1.evaluate(multiprediction)\n",
    "\n",
    "multiprecision = multiprecision1.evaluate(multiprediction)\n",
    "\n",
    "print(\"Test accuracy = \" + str(multiaccuracy))\n",
    "print(\"Test recall = \" + str(multirecall))\n",
    "print(\"Test precision = \" + str(multiprecision))"
   ]
  },
  {
   "cell_type": "code",
   "execution_count": null,
   "metadata": {},
   "outputs": [],
   "source": [
    "#Song Recommendations\n",
    "#Question 1"
   ]
  },
  {
   "cell_type": "code",
   "execution_count": 751,
   "metadata": {},
   "outputs": [
    {
     "data": {
      "text/plain": [
       "378310"
      ]
     },
     "execution_count": 751,
     "metadata": {},
     "output_type": "execute_result"
    }
   ],
   "source": [
    "unique = (\n",
    "    triplets_matches\n",
    "    .select(\"SONG_ID\")\n",
    "    .dropDuplicates()\n",
    ")\n",
    "\n",
    "unique.count()"
   ]
  },
  {
   "cell_type": "code",
   "execution_count": 752,
   "metadata": {},
   "outputs": [
    {
     "data": {
      "text/plain": [
       "1019318"
      ]
     },
     "execution_count": 752,
     "metadata": {},
     "output_type": "execute_result"
    }
   ],
   "source": [
    "users = (\n",
    "    triplets_matches\n",
    "    .select(\"USER_ID\")\n",
    "    .dropDuplicates()\n",
    ")\n",
    "\n",
    "users.count()"
   ]
  },
  {
   "cell_type": "code",
   "execution_count": 784,
   "metadata": {},
   "outputs": [
    {
     "name": "stdout",
     "output_type": "stream",
     "text": [
      "+----------------------------------------+-------------+\n",
      "|USER_ID                                 |TOTAL_STREAMS|\n",
      "+----------------------------------------+-------------+\n",
      "|093cb74eb3c517c5179ae24caf0ebec51b24d2a2|13132        |\n",
      "|119b7c88d58d0c6eb051365c103da5caf817bea6|9884         |\n",
      "|3fa44653315697f42410a30cb766a4eb102080bb|8210         |\n",
      "|a2679496cd0af9779a92a13ff7c6af5c81ea8c7b|7015         |\n",
      "|d7d2d888ae04d16e994d6964214a1de81392ee04|6494         |\n",
      "+----------------------------------------+-------------+\n",
      "only showing top 5 rows\n",
      "\n"
     ]
    }
   ],
   "source": [
    "active_users = (\n",
    "    triplets\n",
    "    .groupBy(\"USER_ID\")\n",
    "    .agg({\"COUNT\":\"sum\"})\n",
    "    .select(\n",
    "        F.col(\"USER_ID\"),\n",
    "        F.col(\"sum(COUNT)\").alias(\"TOTAL_STREAMS\")\n",
    "    )\n",
    "    .orderBy('TOTAL_STREAMS', ascending=False)\n",
    ") \n",
    "\n",
    "active_users.show(5,False)"
   ]
  },
  {
   "cell_type": "code",
   "execution_count": 785,
   "metadata": {},
   "outputs": [
    {
     "data": {
      "text/plain": [
       "195"
      ]
     },
     "execution_count": 785,
     "metadata": {},
     "output_type": "execute_result"
    }
   ],
   "source": [
    "active_users_songs = (\n",
    "    triplets_matches\n",
    "    .where(\n",
    "        triplets_matches.USER_ID == \"093cb74eb3c517c5179ae24caf0ebec51b24d2a2\"\n",
    "    )\n",
    ")\n",
    "\n",
    "active_users_songs.count()\n",
    "# 0.05% of the total unique songs "
   ]
  },
  {
   "cell_type": "code",
   "execution_count": 786,
   "metadata": {},
   "outputs": [],
   "source": [
    "active_df = active_users.toPandas()"
   ]
  },
  {
   "cell_type": "code",
   "execution_count": 788,
   "metadata": {},
   "outputs": [
    {
     "data": {
      "image/png": "[encoded data removed]",
      "text/plain": [
       "<Figure size 1200x1000 with 1 Axes>"
      ]
     },
     "metadata": {
      "needs_background": "light"
     },
     "output_type": "display_data"
    }
   ],
   "source": [
    "plt.figure(figsize=(12, 10), dpi=100)\n",
    "\n",
    "plt.hist(active_df.TOTAL_STREAMS, bins = 200, color = '#FBCEB1', edgecolor = '#F79B60')\n",
    "plt.xlabel('Total Plays (Count)')\n",
    "plt.ylabel('Users (Count)')\n",
    "plt.title('Distribution of User Activity')\n",
    "\n",
    "plt.show()"
   ]
  },
  {
   "cell_type": "code",
   "execution_count": 789,
   "metadata": {},
   "outputs": [
    {
     "name": "stdout",
     "output_type": "stream",
     "text": [
      "+------------------+-----------+\n",
      "|SONG_ID           |TOTAL_PLAYS|\n",
      "+------------------+-----------+\n",
      "|SOBONKR12A58A7A7E0|726885     |\n",
      "|SOSXLTC12AF72A7F54|527893     |\n",
      "|SOEGIYH12A6D4FC0E3|389880     |\n",
      "|SOAXGDH12A8C13F8A1|356533     |\n",
      "|SONYKOW12AB01849C9|292642     |\n",
      "+------------------+-----------+\n",
      "only showing top 5 rows\n",
      "\n"
     ]
    }
   ],
   "source": [
    "song_popularity = (\n",
    "    triplets_matches\n",
    "    .groupBy(\"SONG_ID\")\n",
    "    .agg({\"COUNT\":\"sum\"})\n",
    "    .select(\n",
    "        F.col(\"SONG_ID\"),\n",
    "        F.col(\"sum(COUNT)\").alias(\"TOTAL_PLAYS\")\n",
    "    )\n",
    "    .orderBy('TOTAL_PLAYS', ascending=False)\n",
    ")\n",
    "\n",
    "song_popularity.show(5,False)"
   ]
  },
  {
   "cell_type": "code",
   "execution_count": 790,
   "metadata": {},
   "outputs": [],
   "source": [
    "popularity_df = song_popularity.toPandas()"
   ]
  },
  {
   "cell_type": "code",
   "execution_count": 791,
   "metadata": {},
   "outputs": [
    {
     "data": {
      "image/png": "[encoded data removed]",
      "text/plain": [
       "<Figure size 1200x1000 with 1 Axes>"
      ]
     },
     "metadata": {
      "needs_background": "light"
     },
     "output_type": "display_data"
    }
   ],
   "source": [
    "plt.figure(figsize=(12, 10), dpi=100)\n",
    "\n",
    "plt.hist(popularity_df.TOTAL_PLAYS, bins = 100, color = '#C3B1E1', edgecolor = '#9677cb')\n",
    "plt.xlabel('Total Plays')\n",
    "plt.ylabel('Songs (Count)')\n",
    "plt.title('Distribution of Song Popularity')\n",
    "\n",
    "plt.show()"
   ]
  },
  {
   "cell_type": "code",
   "execution_count": 771,
   "metadata": {},
   "outputs": [
    {
     "name": "stdout",
     "output_type": "stream",
     "text": [
      "TOTAL_COUNT    34.0\n",
      "Name: 0.25, dtype: float64\n"
     ]
    }
   ],
   "source": [
    "N = active_df.quantile(0.25)\n",
    "print(N)"
   ]
  },
  {
   "cell_type": "code",
   "execution_count": 792,
   "metadata": {},
   "outputs": [
    {
     "name": "stdout",
     "output_type": "stream",
     "text": [
      "+--------------------+-------------+\n",
      "|             USER_ID|TOTAL_STREAMS|\n",
      "+--------------------+-------------+\n",
      "|093cb74eb3c517c51...|        13132|\n",
      "|119b7c88d58d0c6eb...|         9884|\n",
      "|3fa44653315697f42...|         8210|\n",
      "|a2679496cd0af9779...|         7015|\n",
      "|d7d2d888ae04d16e9...|         6494|\n",
      "+--------------------+-------------+\n",
      "only showing top 5 rows\n",
      "\n"
     ]
    }
   ],
   "source": [
    "user_activity = (\n",
    "    active_users\n",
    "    .where(\n",
    "        active_users.TOTAL_STREAMS > N[0]\n",
    "    )\n",
    "    .orderBy('TOTAL_STREAMS', ascending=False)\n",
    ")\n",
    "\n",
    "user_activity.show(5)"
   ]
  },
  {
   "cell_type": "code",
   "execution_count": 778,
   "metadata": {},
   "outputs": [
    {
     "data": {
      "text/plain": [
       "755896"
      ]
     },
     "execution_count": 778,
     "metadata": {},
     "output_type": "execute_result"
    }
   ],
   "source": [
    "user_activity.count()"
   ]
  },
  {
   "cell_type": "code",
   "execution_count": 233,
   "metadata": {},
   "outputs": [
    {
     "name": "stdout",
     "output_type": "stream",
     "text": [
      "TOTAL_COUNT    8.0\n",
      "Name: 0.25, dtype: float64\n"
     ]
    }
   ],
   "source": [
    "M = popularity_df.quantile(0.25)\n",
    "print(M)"
   ]
  },
  {
   "cell_type": "code",
   "execution_count": 793,
   "metadata": {
    "scrolled": true
   },
   "outputs": [
    {
     "name": "stdout",
     "output_type": "stream",
     "text": [
      "+------------------+-----------+\n",
      "|           SONG_ID|TOTAL_PLAYS|\n",
      "+------------------+-----------+\n",
      "|SOBONKR12A58A7A7E0|     726885|\n",
      "|SOSXLTC12AF72A7F54|     527893|\n",
      "|SOEGIYH12A6D4FC0E3|     389880|\n",
      "|SOAXGDH12A8C13F8A1|     356533|\n",
      "|SONYKOW12AB01849C9|     292642|\n",
      "+------------------+-----------+\n",
      "only showing top 5 rows\n",
      "\n"
     ]
    }
   ],
   "source": [
    "song_activity = (\n",
    "    song_popularity\n",
    "    .where(\n",
    "        song_popularity.TOTAL_PLAYS > M[0]\n",
    "    )\n",
    "    .orderBy('TOTAL_PLAYS', ascending=False)\n",
    ")\n",
    "\n",
    "song_activity.show(5)"
   ]
  },
  {
   "cell_type": "code",
   "execution_count": 780,
   "metadata": {},
   "outputs": [
    {
     "data": {
      "text/plain": [
       "279978"
      ]
     },
     "execution_count": 780,
     "metadata": {},
     "output_type": "execute_result"
    }
   ],
   "source": [
    "song_activity.count()"
   ]
  },
  {
   "cell_type": "code",
   "execution_count": 796,
   "metadata": {},
   "outputs": [
    {
     "data": {
      "text/plain": [
       "41761793"
      ]
     },
     "execution_count": 796,
     "metadata": {},
     "output_type": "execute_result"
    }
   ],
   "source": [
    "clean_df = (\n",
    "    triplets_matches\n",
    "    .join(\n",
    "        user_activity,\n",
    "        on = \"USER_ID\",\n",
    "        how = \"inner\"\n",
    "    )\n",
    "    .join(\n",
    "        song_activity,\n",
    "        on = \"SONG_ID\",\n",
    "        how = \"inner\"\n",
    "    )\n",
    ")\n",
    "\n",
    "clean_df.count()"
   ]
  },
  {
   "cell_type": "code",
   "execution_count": 797,
   "metadata": {},
   "outputs": [
    {
     "name": "stdout",
     "output_type": "stream",
     "text": [
      "+------------------+--------------------+-----+-------------+-----------+\n",
      "|           SONG_ID|             USER_ID|COUNT|TOTAL_STREAMS|TOTAL_PLAYS|\n",
      "+------------------+--------------------+-----+-------------+-----------+\n",
      "|SOAACBK12A67ADD198|46ee9ef5645625b76...|    2|          447|         31|\n",
      "|SOAACBK12A67ADD198|39ec06138fcec3338...|    4|          105|         31|\n",
      "|SOAACBK12A67ADD198|5f2b3f01777a7c15c...|    1|          940|         31|\n",
      "|SOAACBK12A67ADD198|a410960175c16c375...|    1|           71|         31|\n",
      "|SOAACBK12A67ADD198|d56dfbde5a3d7b3d0...|    4|         1176|         31|\n",
      "|SOAACBK12A67ADD198|0280a936af3ee5e75...|    1|          347|         31|\n",
      "|SOAACBK12A67ADD198|5992ebb824cde1942...|    2|          166|         31|\n",
      "|SOAACBK12A67ADD198|c4bda7bd00ab43324...|    1|          727|         31|\n",
      "|SOAACBK12A67ADD198|a8c8c3318713528e0...|    1|          543|         31|\n",
      "|SOAACBK12A67ADD198|c0156afdd84f95147...|    3|         1716|         31|\n",
      "|SOAACBK12A67ADD198|65206d7a1a01543fe...|    8|         1397|         31|\n",
      "|SOAACBK12A67ADD198|aed7e513238e5790a...|    1|          260|         31|\n",
      "|SOAACBK12A67ADD198|b0e8a9206d13a9538...|    1|          656|         31|\n",
      "|SOAACQI12AB017F874|51d1a3d8e60987260...|    1|          206|         44|\n",
      "|SOAACQI12AB017F874|7b59b379f87c7e3db...|    1|         1301|         44|\n",
      "|SOAACQI12AB017F874|92171a5b9ef059ddc...|    1|          165|         44|\n",
      "|SOAACQI12AB017F874|154258c34818b02b2...|    1|          217|         44|\n",
      "|SOAACQI12AB017F874|0ac26ebc3584c5273...|    1|           52|         44|\n",
      "|SOAACQI12AB017F874|f9c86b54da1e52805...|    7|          271|         44|\n",
      "|SOAACQI12AB017F874|28cc9061455671c71...|    1|          273|         44|\n",
      "+------------------+--------------------+-----+-------------+-----------+\n",
      "only showing top 20 rows\n",
      "\n"
     ]
    }
   ],
   "source": [
    "clean_df.show()"
   ]
  },
  {
   "cell_type": "code",
   "execution_count": 782,
   "metadata": {},
   "outputs": [
    {
     "name": "stdout",
     "output_type": "stream",
     "text": [
      "131312858\n"
     ]
    }
   ],
   "source": [
    "num_sum = triplets_matches.agg({\"COUNT\":\"sum\"}).collect()[0]\n",
    "total_plays = num_sum[\"sum(COUNT)\"] \n",
    "print(total_plays)"
   ]
  },
  {
   "cell_type": "code",
   "execution_count": 830,
   "metadata": {},
   "outputs": [],
   "source": [
    "indexes4 = [StringIndexer(inputCol = \"USER_ID\", outputCol = \"USER_INDEX\"),\n",
    "            StringIndexer(inputCol = \"SONG_ID\", outputCol = \"SONG_INDEX\")]"
   ]
  },
  {
   "cell_type": "code",
   "execution_count": 831,
   "metadata": {},
   "outputs": [],
   "source": [
    "pipeline4 = Pipeline(stages=indexes4)"
   ]
  },
  {
   "cell_type": "code",
   "execution_count": 832,
   "metadata": {},
   "outputs": [],
   "source": [
    "pipelineals1 = pipeline4.fit(clean_df)\n",
    "als_clean_df = pipelineals1.transform(clean_df)\n"
   ]
  },
  {
   "cell_type": "code",
   "execution_count": 833,
   "metadata": {},
   "outputs": [],
   "source": [
    "def split_Data(dataset,seed):\n",
    "    for i in range(seed):\n",
    "        (a, b) = dataset.randomSplit([0.7, 0.3],i)\n",
    "\n",
    "        fractions = (\n",
    "            b\n",
    "            .select(\"USER_ID\")\n",
    "            .distinct()\n",
    "            .withColumn(\"fraction\", F.lit(0.25))\n",
    "            .rdd\n",
    "            .collectAsMap()\n",
    "        )\n",
    "\n",
    "        test = (\n",
    "            dataset\n",
    "            .stat\n",
    "            .sampleBy(\"USER_ID\", fractions)\n",
    "        )\n",
    "\n",
    "        test_plays =test.agg({\"COUNT\":\"sum\"}).collect()[0]\n",
    "        total_test_plays = test_plays[\"sum(COUNT)\"]\n",
    "\n",
    "        if 0.35 * total_plays >total_test_plays > 0.25 * total_plays:\n",
    "            break\n",
    "        else:\n",
    "            continue\n",
    "\n",
    "    training = (\n",
    "        dataset\n",
    "        .join(\n",
    "        test,\n",
    "        on = [\"SONG_ID\",\"USER_ID\"],\n",
    "        how = \"left_anti\")\n",
    "    )\n",
    "\n",
    "    return training, test"
   ]
  },
  {
   "cell_type": "code",
   "execution_count": 834,
   "metadata": {},
   "outputs": [],
   "source": [
    "trainData,testData = split_Data(als_clean_df, 12)"
   ]
  },
  {
   "cell_type": "code",
   "execution_count": 835,
   "metadata": {},
   "outputs": [
    {
     "name": "stdout",
     "output_type": "stream",
     "text": [
      "+------------------+--------------------+-----+-------------+-----------+----------+----------+\n",
      "|           SONG_ID|             USER_ID|COUNT|TOTAL_STREAMS|TOTAL_PLAYS|USER_INDEX|SONG_INDEX|\n",
      "+------------------+--------------------+-----+-------------+-----------+----------+----------+\n",
      "|SOAAAGK12AB0189572|3a52f7eaca9bf2839...|    9|          501|        100|  272113.0|   90999.0|\n",
      "|SOAAAGK12AB0189572|6af724e5d6c1c8e4f...|    1|          596|        100|   22500.0|   90999.0|\n",
      "|SOAAAGQ12A8C1420C8|127b8ed93572d3c04...|   19|          496|       2890|  193570.0|    9426.0|\n",
      "|SOAAAGQ12A8C1420C8|1d16b05cd9206b57e...|    1|          317|       2890|  178951.0|    9426.0|\n",
      "|SOAAAGQ12A8C1420C8|2c4c383c5cfe1158c...|    1|          164|       2890|  119332.0|    9426.0|\n",
      "|SOAAAGQ12A8C1420C8|357446c377d85f7f7...|    5|          145|       2890|  136314.0|    9426.0|\n",
      "|SOAAAGQ12A8C1420C8|42b96be1db66ee3a9...|    1|           74|       2890|  266326.0|    9426.0|\n",
      "|SOAAAGQ12A8C1420C8|5c4e986f8d37692b5...|    1|          101|       2890|  407155.0|    9426.0|\n",
      "|SOAAAGQ12A8C1420C8|b7c24f770be6b8028...|    1|         6150|       2890|       8.0|    9426.0|\n",
      "|SOAAAQN12AB01856D3|8da71dc6ef4c332a3...|    6|          326|        217|  145360.0|   64134.0|\n",
      "|SOAAAQN12AB01856D3|8e564d44a092322c3...|    1|          191|        217|  240509.0|   64134.0|\n",
      "|SOAAAQN12AB01856D3|ae4819b6ba2e6198e...|    2|          149|        217|  349446.0|   64134.0|\n",
      "|SOAABCT12AB0185A57|71b29b5f0a7a2d071...|    1|          600|         27|    4288.0|  173778.0|\n",
      "|SOAABLG12A6D4F73D2|6311ff0b0ee2a999a...|    1|          224|         68|  584318.0|  147077.0|\n",
      "|SOAABMP12A6D4F7633|18fbeb98119cf0eb9...|    1|          110|        107|   97652.0|   93221.0|\n",
      "|SOAABQR12AF72A2C11|ac57bf152a3ef0e36...|    1|           99|        221|  163914.0|  179693.0|\n",
      "|SOAABRT12A6D4F7940|37dbffc1ae9e899e3...|    1|          348|        322|   27656.0|   54008.0|\n",
      "|SOAABRT12A6D4F7940|705f22202afbd9c9f...|    2|          229|        322|   98235.0|   54008.0|\n",
      "|SOAABSB12A8C143E55|8c09b24c0e2d5ac30...|    1|           99|        385|  286859.0|   36757.0|\n",
      "|SOAACBE12A6D4F7A54|10ef77d19317dfa2f...|    2|          159|        255|  112658.0|   52226.0|\n",
      "+------------------+--------------------+-----+-------------+-----------+----------+----------+\n",
      "only showing top 20 rows\n",
      "\n"
     ]
    }
   ],
   "source": [
    "trainData.show()"
   ]
  },
  {
   "cell_type": "code",
   "execution_count": 836,
   "metadata": {},
   "outputs": [
    {
     "data": {
      "text/plain": [
       "31325968"
      ]
     },
     "execution_count": 836,
     "metadata": {},
     "output_type": "execute_result"
    }
   ],
   "source": [
    "trainData.count()"
   ]
  },
  {
   "cell_type": "code",
   "execution_count": 837,
   "metadata": {},
   "outputs": [
    {
     "data": {
      "text/plain": [
       "10435759"
      ]
     },
     "execution_count": 837,
     "metadata": {},
     "output_type": "execute_result"
    }
   ],
   "source": [
    "testData.count()"
   ]
  },
  {
   "cell_type": "code",
   "execution_count": null,
   "metadata": {},
   "outputs": [],
   "source": [
    "#Question 2"
   ]
  },
  {
   "cell_type": "code",
   "execution_count": 840,
   "metadata": {},
   "outputs": [],
   "source": [
    "als = ALS(maxIter=5, regParam=0.01, implicitPrefs = True, userCol=\"USER_INDEX\", itemCol=\"SONG_INDEX\", ratingCol=\"COUNT\")\n",
    "ALSModel = als.fit(trainData)\n"
   ]
  },
  {
   "cell_type": "code",
   "execution_count": 842,
   "metadata": {},
   "outputs": [],
   "source": [
    "user_recs = (testData\n",
    "            .select(\"USER_INDEX\").distinct().limit(5))"
   ]
  },
  {
   "cell_type": "code",
   "execution_count": 843,
   "metadata": {},
   "outputs": [
    {
     "name": "stdout",
     "output_type": "stream",
     "text": [
      "+----------+\n",
      "|USER_INDEX|\n",
      "+----------+\n",
      "|   94864.0|\n",
      "|  257174.0|\n",
      "|  376220.0|\n",
      "|  160250.0|\n",
      "|   25875.0|\n",
      "+----------+\n",
      "\n"
     ]
    }
   ],
   "source": [
    "user_recs.show()"
   ]
  },
  {
   "cell_type": "code",
   "execution_count": 847,
   "metadata": {},
   "outputs": [
    {
     "name": "stdout",
     "output_type": "stream",
     "text": [
      "+----------+-----------------------------------------------------------------------------------------------------------------------------------------------------------------------------------------+\n",
      "|USER_INDEX|recommendations                                                                                                                                                                          |\n",
      "+----------+-----------------------------------------------------------------------------------------------------------------------------------------------------------------------------------------+\n",
      "|97626     |[{73, 0.55388993}, {29, 0.51664567}, {3, 0.50635093}, {16, 0.5062884}, {34, 0.49227142}, {72, 0.49088863}, {12, 0.48267585}, {19, 0.4718768}, {23, 0.44417024}, {40, 0.43484014}]        |\n",
      "|4942      |[{10, 0.5233165}, {31, 0.4581347}, {185, 0.3956791}, {104, 0.38991287}, {6, 0.38542995}, {42, 0.35087687}, {141, 0.35030344}, {85, 0.34418672}, {333, 0.28609365}, {122, 0.28334212}]    |\n",
      "|497558    |[{24, 0.08124115}, {32, 0.066560514}, {43, 0.064965285}, {65, 0.060953137}, {40, 0.06082542}, {47, 0.059737876}, {45, 0.05873284}, {14, 0.05810251}, {75, 0.057144586}, {7, 0.056832664}]|\n",
      "|22801     |[{104, 0.120526955}, {10, 0.11844763}, {185, 0.10216069}, {31, 0.0989439}, {278, 0.09178698}, {95, 0.09045281}, {84, 0.0900329}, {153, 0.08681236}, {207, 0.084227026}, {6, 0.08223914}] |\n",
      "|179890    |[{0, 0.62935174}, {52, 0.5182128}, {92, 0.44829714}, {44, 0.4420601}, {94, 0.43918446}, {53, 0.42209992}, {82, 0.4156614}, {79, 0.3780128}, {105, 0.37453222}, {123, 0.34618765}]        |\n",
      "+----------+-----------------------------------------------------------------------------------------------------------------------------------------------------------------------------------------+\n",
      "\n"
     ]
    }
   ],
   "source": [
    "recommendations = ALSModel.recommendForUserSubset(user_recs, 10)\n",
    "recommendations.show(5,False)"
   ]
  },
  {
   "cell_type": "code",
   "execution_count": 845,
   "metadata": {},
   "outputs": [],
   "source": [
    "observed_songs = (\n",
    "    als_clean_df\n",
    "    .where(als_clean_df.USER_INDEX.isin([row.USER_INDEX for row in user_recs.select([\"USER_INDEX\"]).collect()])\n",
    "    )\n",
    ")"
   ]
  },
  {
   "cell_type": "code",
   "execution_count": 846,
   "metadata": {},
   "outputs": [
    {
     "name": "stdout",
     "output_type": "stream",
     "text": [
      "+------------------+----------------------------------------+-----+-------------+-----------+----------+----------+----------+\n",
      "|SONG_ID           |USER_ID                                 |COUNT|TOTAL_STREAMS|TOTAL_PLAYS|USER_INDEX|SONG_INDEX|prediction|\n",
      "+------------------+----------------------------------------+-----+-------------+-----------+----------+----------+----------+\n",
      "|SOULTKQ12AB018A183|31f6c9287aa6edb77d68d34f919edb3aadaeafc0|2    |1139         |87366      |2737.0    |38.0      |0.5850419 |\n",
      "|SOULTKQ12AB018A183|138a6ba502f32e491cd68af82c5d157cd26ed0f8|3    |845          |87366      |13218.0   |38.0      |0.74874496|\n",
      "|SOULTKQ12AB018A183|76cba284c8caf54fc659dcded28fa8103098a2f2|6    |906          |87366      |14419.0   |38.0      |0.7370652 |\n",
      "|SOULTKQ12AB018A183|42d93dac5922be170eb602f70ee6421dec8df77a|3    |637          |87366      |19065.0   |38.0      |0.34580496|\n",
      "|SOULTKQ12AB018A183|9cae34c992544f8cb48880d2ab232aec7b5e888b|3    |484          |87366      |25020.0   |38.0      |0.8836032 |\n",
      "+------------------+----------------------------------------+-----+-------------+-----------+----------+----------+----------+\n",
      "only showing top 5 rows\n",
      "\n"
     ]
    }
   ],
   "source": [
    "als_predictions = ALSModel.transform(testData)\n",
    "als_predictions.show(5,False)"
   ]
  },
  {
   "cell_type": "code",
   "execution_count": 848,
   "metadata": {},
   "outputs": [],
   "source": [
    "from pyspark.sql import Window\n",
    "from pyspark.mllib.evaluation import RankingMetrics\n",
    "\n",
    "w1 = Window.partitionBy(\"USER_INDEX\").orderBy(F.col(\"prediction\").desc())\n",
    "\n",
    "prediction_list = (\n",
    "    als_predictions\n",
    "    .withColumn(\"pred_list\", F.collect_list(\"SONG_INDEX\").over(w1))\n",
    "    .groupBy(\"USER_INDEX\")\n",
    "    .agg(F.max(\"pred_list\").alias(\"pred_list\"))\n",
    ")"
   ]
  },
  {
   "cell_type": "code",
   "execution_count": 849,
   "metadata": {},
   "outputs": [],
   "source": [
    "w2 = Window.partitionBy(\"USER_INDEX\").orderBy(F.col(\"COUNT\").desc())\n",
    "\n",
    "played = (\n",
    "    als_clean_df\n",
    "    .withColumn(\"actual_played\", F.collect_list(\"SONG_INDEX\").over(w2))\n",
    "    .groupBy(\"USER_INDEX\")\n",
    "    .agg(F.max(\"actual_played\").alias(\"actual_played\"))\n",
    ")"
   ]
  },
  {
   "cell_type": "code",
   "execution_count": 850,
   "metadata": {},
   "outputs": [
    {
     "name": "stdout",
     "output_type": "stream",
     "text": [
      "+--------------------+--------------------+\n",
      "|           pred_list|       actual_played|\n",
      "+--------------------+--------------------+\n",
      "|[47.0, 56.0, 63.0...|[31110.0, 496.0, ...|\n",
      "|[99.0, 717.0, 152...|[27682.0, 45821.0...|\n",
      "|[20.0, 14.0, 24.0...|[14.0, 4504.0, 30...|\n",
      "|[860.0, 349.0, 10...|[1983.0, 7819.0, ...|\n",
      "|[1100.0, 452.0, 1...|[43483.0, 93855.0...|\n",
      "+--------------------+--------------------+\n",
      "only showing top 5 rows\n",
      "\n"
     ]
    }
   ],
   "source": [
    "predictionAndLabels = (\n",
    "    prediction_list\n",
    "    .select([\"USER_INDEX\",\"pred_list\"])\n",
    "    .join(\n",
    "        played\n",
    "        .select([\"USER_INDEX\",\"actual_played\"]),\n",
    "        on = \"USER_INDEX\",\n",
    "        how = \"left\"\n",
    "    )\n",
    "    .select([\"pred_list\",\"actual_played\"])\n",
    ")\n",
    "predictionAndLabels.show(5)"
   ]
  },
  {
   "cell_type": "code",
   "execution_count": 851,
   "metadata": {},
   "outputs": [],
   "source": [
    "metrics = RankingMetrics(predictionAndLabels.rdd)"
   ]
  },
  {
   "cell_type": "code",
   "execution_count": 852,
   "metadata": {},
   "outputs": [
    {
     "data": {
      "text/plain": [
       "0.7560100934699033"
      ]
     },
     "execution_count": 852,
     "metadata": {},
     "output_type": "execute_result"
    }
   ],
   "source": [
    "metrics.precisionAt(10)"
   ]
  },
  {
   "cell_type": "code",
   "execution_count": 853,
   "metadata": {},
   "outputs": [
    {
     "data": {
      "text/plain": [
       "0.8208473044410545"
      ]
     },
     "execution_count": 853,
     "metadata": {},
     "output_type": "execute_result"
    }
   ],
   "source": [
    "metrics.ndcgAt(10)"
   ]
  },
  {
   "cell_type": "code",
   "execution_count": 854,
   "metadata": {},
   "outputs": [
    {
     "data": {
      "text/plain": [
       "0.2512344595147811"
      ]
     },
     "execution_count": 854,
     "metadata": {},
     "output_type": "execute_result"
    }
   ],
   "source": [
    "metrics.meanAveragePrecision"
   ]
  },
  {
   "cell_type": "code",
   "execution_count": 686,
   "metadata": {
    "scrolled": false
   },
   "outputs": [
    {
     "data": {
      "text/html": [
       "<p><b>Spark</b></p><p>The spark session is <b><span style=\"color:red\">stopped</span></b>, confirm that <code>ndu31 (jupyter)</code> is under the completed applications section in the Spark UI.</p><ul><li><a href=\"http://mathmadslinux2p.canterbury.ac.nz:8080/\" target=\"_blank\">Spark UI</a></li></ul>"
      ],
      "text/plain": [
       "<IPython.core.display.HTML object>"
      ]
     },
     "metadata": {},
     "output_type": "display_data"
    }
   ],
   "source": [
    "# Run this cell before closing the notebook or kill your spark application by hand using the link in the Spark UI\n",
    "\n",
    "stop_spark()"
   ]
  }
 ],
 "metadata": {
  "kernelspec": {
   "display_name": "Python 3",
   "language": "python",
   "name": "python3"
  },
  "language_info": {
   "codemirror_mode": {
    "name": "ipython",
    "version": 3
   },
   "file_extension": ".py",
   "mimetype": "text/x-python",
   "name": "python",
   "nbconvert_exporter": "python",
   "pygments_lexer": "ipython3",
   "version": "3.7.0"
  }
 },
 "nbformat": 4,
 "nbformat_minor": 2
}
