{
 "cells": [
  {
   "cell_type": "markdown",
   "metadata": {},
   "source": [
    "**Spark notebook**\n",
    "\n",
    "This notebook will only work in a Jupyter session running on `mathmadslinux2p`.\n",
    "\n",
    "You can start your own Jupyter session on `mathmadslinux2p` and open this notebook in Chrome on the MADS Windows server by\n",
    "\n",
    "1. Login to the MADS Windows server using https://mathportal.canterbury.ac.nz/.\n",
    "2. Download or copy this notebook to your home directory.\n",
    "3. Open powershell and run `ssh mathmadslinux2p`.\n",
    "4. Run `start_pyspark_notebook` or `/opt/anaconda3/bin/jupyter-notebook --ip 132.181.129.68 --port $((8000 + $((RANDOM % 999))))`.\n",
    "5. Copy / paste the url provided in the shell window into Chrome on the MADS Windows server.\n",
    "6. Open the notebook from the Jupyter root directory (which is your home directory).\n",
    "7. Run `start_spark()` to start a spark session in the notebook.\n",
    "8. Run `stop_spark()` before closing the notebook or kill your spark application by hand using the link in the Spark UI."
   ]
  },
  {
   "cell_type": "code",
   "execution_count": 67,
   "metadata": {},
   "outputs": [
    {
     "data": {
      "text/html": [
       "<style>pre { white-space: pre !important; }table.dataframe td { white-space: nowrap !important; }table.dataframe thead th:first-child, table.dataframe tbody th { display: none; }</style>"
      ],
      "text/plain": [
       "<IPython.core.display.HTML object>"
      ]
     },
     "metadata": {},
     "output_type": "display_data"
    },
    {
     "name": "stdout",
     "output_type": "stream",
     "text": [
      "Help on function start_spark in module __main__:\n",
      "\n",
      "start_spark(executor_instances=2, executor_cores=1, worker_memory=1, master_memory=1)\n",
      "    Start a new Spark session and define globals for SparkSession (spark) and SparkContext (sc).\n",
      "    \n",
      "    Args:\n",
      "        executor_instances (int): number of executors (default: 2)\n",
      "        executor_cores (int): number of cores per executor (default: 1)\n",
      "        worker_memory (float): worker memory (default: 1)\n",
      "        master_memory (float): master memory (default: 1)\n",
      "\n",
      "Help on function stop_spark in module __main__:\n",
      "\n",
      "stop_spark()\n",
      "    Stop the active Spark session and delete globals for SparkSession (spark) and SparkContext (sc).\n",
      "\n",
      "Help on function display_spark in module __main__:\n",
      "\n",
      "display_spark()\n",
      "    Display the status of the active Spark session if one is currently running.\n",
      "\n",
      "Help on function show_as_html in module __main__:\n",
      "\n",
      "show_as_html(df, n=20)\n",
      "    Leverage existing pandas jupyter integration to show a spark dataframe as html.\n",
      "    \n",
      "    Args:\n",
      "        n (int): number of rows to show (default: 20)\n",
      "\n"
     ]
    }
   ],
   "source": [
    "# Run this cell to import pyspark and to define start_spark() and stop_spark()\n",
    "\n",
    "import findspark\n",
    "\n",
    "findspark.init()\n",
    "\n",
    "import getpass\n",
    "import pandas\n",
    "import pyspark\n",
    "import random\n",
    "import re\n",
    "\n",
    "from IPython.display import display, HTML\n",
    "from pyspark import SparkContext\n",
    "from pyspark.sql import SparkSession\n",
    "\n",
    "\n",
    "# Functions used below\n",
    "\n",
    "def username():\n",
    "    \"\"\"Get username with any domain information removed.\n",
    "    \"\"\"\n",
    "\n",
    "    return re.sub('@.*', '', getpass.getuser())\n",
    "\n",
    "\n",
    "def dict_to_html(d):\n",
    "    \"\"\"Convert a Python dictionary into a two column table for display.\n",
    "    \"\"\"\n",
    "\n",
    "    html = []\n",
    "\n",
    "    html.append(f'<table width=\"100%\" style=\"width:100%; font-family: monospace;\">')\n",
    "    for k, v in d.items():\n",
    "        html.append(f'<tr><td style=\"text-align:left;\">{k}</td><td>{v}</td></tr>')\n",
    "    html.append(f'</table>')\n",
    "\n",
    "    return ''.join(html)\n",
    "\n",
    "\n",
    "def show_as_html(df, n=20):\n",
    "    \"\"\"Leverage existing pandas jupyter integration to show a spark dataframe as html.\n",
    "    \n",
    "    Args:\n",
    "        n (int): number of rows to show (default: 20)\n",
    "    \"\"\"\n",
    "\n",
    "    display(df.limit(n).toPandas())\n",
    "\n",
    "    \n",
    "def display_spark():\n",
    "    \"\"\"Display the status of the active Spark session if one is currently running.\n",
    "    \"\"\"\n",
    "    \n",
    "    if 'spark' in globals() and 'sc' in globals():\n",
    "\n",
    "        name = sc.getConf().get(\"spark.app.name\")\n",
    "        \n",
    "        html = [\n",
    "            f'<p><b>Spark</b></p>',\n",
    "            f'<p>The spark session is <b><span style=\"color:green\">active</span></b>, look for <code>{name}</code> under the running applications section in the Spark UI.</p>',\n",
    "            f'<ul>',\n",
    "            f'<li><a href=\"http://mathmadslinux2p.canterbury.ac.nz:8080/\" target=\"_blank\">Spark UI</a></li>',\n",
    "            f'<li><a href=\"{sc.uiWebUrl}\" target=\"_blank\">Spark Application UI</a></li>',\n",
    "            f'</ul>',\n",
    "            f'<p><b>Config</b></p>',\n",
    "            dict_to_html(dict(sc.getConf().getAll())),\n",
    "            f'<p><b>Notes</b></p>',\n",
    "            f'<ul>',\n",
    "            f'<li>The spark session <code>spark</code> and spark context <code>sc</code> global variables have been defined by <code>start_spark()</code>.</li>',\n",
    "            f'<li>Please run <code>stop_spark()</code> before closing the notebook or restarting the kernel or kill <code>{name}</code> by hand using the link in the Spark UI.</li>',\n",
    "            f'</ul>',\n",
    "        ]\n",
    "        display(HTML(''.join(html)))\n",
    "        \n",
    "    else:\n",
    "        \n",
    "        html = [\n",
    "            f'<p><b>Spark</b></p>',\n",
    "            f'<p>The spark session is <b><span style=\"color:red\">stopped</span></b>, confirm that <code>{username() + \" (jupyter)\"}</code> is under the completed applications section in the Spark UI.</p>',\n",
    "            f'<ul>',\n",
    "            f'<li><a href=\"http://mathmadslinux2p.canterbury.ac.nz:8080/\" target=\"_blank\">Spark UI</a></li>',\n",
    "            f'</ul>',\n",
    "        ]\n",
    "        display(HTML(''.join(html)))\n",
    "\n",
    "\n",
    "# Functions to start and stop spark\n",
    "\n",
    "def start_spark(executor_instances=2, executor_cores=1, worker_memory=1, master_memory=1):\n",
    "    \"\"\"Start a new Spark session and define globals for SparkSession (spark) and SparkContext (sc).\n",
    "    \n",
    "    Args:\n",
    "        executor_instances (int): number of executors (default: 2)\n",
    "        executor_cores (int): number of cores per executor (default: 1)\n",
    "        worker_memory (float): worker memory (default: 1)\n",
    "        master_memory (float): master memory (default: 1)\n",
    "    \"\"\"\n",
    "\n",
    "    global spark\n",
    "    global sc\n",
    "\n",
    "    user = username()\n",
    "    \n",
    "    cores = executor_instances * executor_cores\n",
    "    partitions = cores * 4\n",
    "    port = 4000 + random.randint(1, 999)\n",
    "\n",
    "    spark = (\n",
    "        SparkSession.builder\n",
    "        .master(\"spark://masternode2:7077\")\n",
    "        .config(\"spark.driver.extraJavaOptions\", f\"-Dderby.system.home=/tmp/{user}/spark/\")\n",
    "        .config(\"spark.dynamicAllocation.enabled\", \"false\")\n",
    "        .config(\"spark.executor.instances\", str(executor_instances))\n",
    "        .config(\"spark.executor.cores\", str(executor_cores))\n",
    "        .config(\"spark.cores.max\", str(cores))\n",
    "        .config(\"spark.executor.memory\", f\"{worker_memory}g\")\n",
    "        .config(\"spark.driver.memory\", f\"{master_memory}g\")\n",
    "        .config(\"spark.driver.maxResultSize\", \"0\")\n",
    "        .config(\"spark.sql.shuffle.partitions\", str(partitions))\n",
    "        .config(\"spark.ui.port\", str(port))\n",
    "        .appName(user + \" (jupyter)\")\n",
    "        .getOrCreate()\n",
    "    )\n",
    "    sc = SparkContext.getOrCreate()\n",
    "    \n",
    "    display_spark()\n",
    "\n",
    "    \n",
    "def stop_spark():\n",
    "    \"\"\"Stop the active Spark session and delete globals for SparkSession (spark) and SparkContext (sc).\n",
    "    \"\"\"\n",
    "\n",
    "    global spark\n",
    "    global sc\n",
    "\n",
    "    if 'spark' in globals() and 'sc' in globals():\n",
    "\n",
    "        spark.stop()\n",
    "\n",
    "        del spark\n",
    "        del sc\n",
    "\n",
    "    display_spark()\n",
    "\n",
    "\n",
    "# Make css changes to improve spark output readability\n",
    "\n",
    "html = [\n",
    "    '<style>',\n",
    "    'pre { white-space: pre !important; }',\n",
    "    'table.dataframe td { white-space: nowrap !important; }',\n",
    "    'table.dataframe thead th:first-child, table.dataframe tbody th { display: none; }',\n",
    "    '</style>',\n",
    "]\n",
    "display(HTML(''.join(html)))\n",
    "\n",
    "\n",
    "# Print function docstrings\n",
    "\n",
    "help(start_spark)\n",
    "help(stop_spark)\n",
    "help(display_spark)\n",
    "help(show_as_html)"
   ]
  },
  {
   "cell_type": "code",
   "execution_count": 243,
   "metadata": {
    "scrolled": true
   },
   "outputs": [
    {
     "data": {
      "text/html": [
       "<p><b>Spark</b></p><p>The spark session is <b><span style=\"color:green\">active</span></b>, look for <code>ndu31 (jupyter)</code> under the running applications section in the Spark UI.</p><ul><li><a href=\"http://mathmadslinux2p.canterbury.ac.nz:8080/\" target=\"_blank\">Spark UI</a></li><li><a href=\"http://mathmadslinux2p.canterbury.ac.nz:4657\" target=\"_blank\">Spark Application UI</a></li></ul><p><b>Config</b></p><table width=\"100%\" style=\"width:100%; font-family: monospace;\"><tr><td style=\"text-align:left;\">spark.dynamicAllocation.enabled</td><td>false</td></tr><tr><td style=\"text-align:left;\">spark.app.id</td><td>app-20220921213921-0997</td></tr><tr><td style=\"text-align:left;\">spark.executor.instances</td><td>4</td></tr><tr><td style=\"text-align:left;\">spark.driver.memory</td><td>4g</td></tr><tr><td style=\"text-align:left;\">spark.driver.extraJavaOptions</td><td>-Dderby.system.home=/tmp/ndu31/spark/</td></tr><tr><td style=\"text-align:left;\">spark.executor.memory</td><td>4g</td></tr><tr><td style=\"text-align:left;\">spark.master</td><td>spark://masternode2:7077</td></tr><tr><td style=\"text-align:left;\">spark.executor.id</td><td>driver</td></tr><tr><td style=\"text-align:left;\">spark.sql.warehouse.dir</td><td>file:/users/home/ndu31/spark-warehouse</td></tr><tr><td style=\"text-align:left;\">spark.executor.cores</td><td>2</td></tr><tr><td style=\"text-align:left;\">spark.driver.host</td><td>mathmadslinux2p.canterbury.ac.nz</td></tr><tr><td style=\"text-align:left;\">spark.sql.shuffle.partitions</td><td>32</td></tr><tr><td style=\"text-align:left;\">spark.rdd.compress</td><td>True</td></tr><tr><td style=\"text-align:left;\">spark.driver.port</td><td>36583</td></tr><tr><td style=\"text-align:left;\">spark.app.startTime</td><td>1663753161219</td></tr><tr><td style=\"text-align:left;\">spark.driver.maxResultSize</td><td>0</td></tr><tr><td style=\"text-align:left;\">spark.ui.port</td><td>4657</td></tr><tr><td style=\"text-align:left;\">spark.cores.max</td><td>8</td></tr><tr><td style=\"text-align:left;\">spark.submit.pyFiles</td><td></td></tr><tr><td style=\"text-align:left;\">spark.submit.deployMode</td><td>client</td></tr><tr><td style=\"text-align:left;\">spark.serializer.objectStreamReset</td><td>100</td></tr><tr><td style=\"text-align:left;\">spark.ui.showConsoleProgress</td><td>true</td></tr><tr><td style=\"text-align:left;\">spark.app.name</td><td>ndu31 (jupyter)</td></tr></table><p><b>Notes</b></p><ul><li>The spark session <code>spark</code> and spark context <code>sc</code> global variables have been defined by <code>start_spark()</code>.</li><li>Please run <code>stop_spark()</code> before closing the notebook or restarting the kernel or kill <code>ndu31 (jupyter)</code> by hand using the link in the Spark UI.</li></ul>"
      ],
      "text/plain": [
       "<IPython.core.display.HTML object>"
      ]
     },
     "metadata": {},
     "output_type": "display_data"
    }
   ],
   "source": [
    "# Run this cell to start a spark session in this notebook\n",
    "\n",
    "start_spark(executor_instances=4, executor_cores=2, worker_memory=4, master_memory=4)"
   ]
  },
  {
   "cell_type": "code",
   "execution_count": 244,
   "metadata": {},
   "outputs": [],
   "source": [
    "# Write your imports and code here or insert cells below\n",
    "\n",
    "from pyspark.sql import functions as F\n",
    "from pyspark.sql.types import *"
   ]
  },
  {
   "cell_type": "code",
   "execution_count": 5,
   "metadata": {},
   "outputs": [
    {
     "name": "stdout",
     "output_type": "stream",
     "text": [
      "Found 5 items\r\n",
      "drwxr-xr-x   - jsw93 supergroup          0 2022-08-08 01:20 /data/ghcnd/daily\r\n",
      "-rw-r--r--   8 jsw93 supergroup       3659 2022-08-08 01:21 /data/ghcnd/ghcnd-countries.txt\r\n",
      "-rw-r--r--   8 jsw93 supergroup   33384684 2022-08-08 01:21 /data/ghcnd/ghcnd-inventory.txt\r\n",
      "-rw-r--r--   8 jsw93 supergroup       1086 2022-08-08 01:21 /data/ghcnd/ghcnd-states.txt\r\n",
      "-rw-r--r--   8 jsw93 supergroup   10496042 2022-08-08 01:21 /data/ghcnd/ghcnd-stations.txt\r\n"
     ]
    }
   ],
   "source": [
    "!hdfs dfs -ls /data/ghcnd"
   ]
  },
  {
   "cell_type": "code",
   "execution_count": 6,
   "metadata": {},
   "outputs": [
    {
     "name": "stdout",
     "output_type": "stream",
     "text": [
      "Found 260 items\r\n",
      "-rw-r--r--   8 jsw93 supergroup       3358 2021-08-09 15:08 /data/ghcnd/daily/1763.csv.gz\r\n",
      "-rw-r--r--   8 jsw93 supergroup       3327 2021-08-09 15:03 /data/ghcnd/daily/1764.csv.gz\r\n",
      "-rw-r--r--   8 jsw93 supergroup       3335 2021-08-09 15:03 /data/ghcnd/daily/1765.csv.gz\r\n",
      "-rw-r--r--   8 jsw93 supergroup       3344 2021-08-09 14:56 /data/ghcnd/daily/1766.csv.gz\r\n",
      "-rw-r--r--   8 jsw93 supergroup       3356 2021-08-09 15:06 /data/ghcnd/daily/1767.csv.gz\r\n",
      "-rw-r--r--   8 jsw93 supergroup       3325 2021-08-09 15:02 /data/ghcnd/daily/1768.csv.gz\r\n",
      "-rw-r--r--   8 jsw93 supergroup       3418 2021-08-09 15:03 /data/ghcnd/daily/1769.csv.gz\r\n",
      "-rw-r--r--   8 jsw93 supergroup       3357 2021-08-09 15:07 /data/ghcnd/daily/1770.csv.gz\r\n",
      "-rw-r--r--   8 jsw93 supergroup       3373 2021-08-09 15:06 /data/ghcnd/daily/1771.csv.gz\r\n",
      "-rw-r--r--   8 jsw93 supergroup       3419 2021-08-09 15:05 /data/ghcnd/daily/1772.csv.gz\r\n",
      "-rw-r--r--   8 jsw93 supergroup       3368 2021-08-09 15:08 /data/ghcnd/daily/1773.csv.gz\r\n",
      "-rw-r--r--   8 jsw93 supergroup       3393 2021-08-09 15:03 /data/ghcnd/daily/1774.csv.gz\r\n",
      "-rw-r--r--   8 jsw93 supergroup       6435 2021-08-09 14:59 /data/ghcnd/daily/1775.csv.gz\r\n",
      "-rw-r--r--   8 jsw93 supergroup       6502 2021-08-09 15:06 /data/ghcnd/daily/1776.csv.gz\r\n",
      "-rw-r--r--   8 jsw93 supergroup       6432 2021-08-09 15:06 /data/ghcnd/daily/1777.csv.gz\r\n",
      "-rw-r--r--   8 jsw93 supergroup       6233 2021-08-09 14:57 /data/ghcnd/daily/1778.csv.gz\r\n",
      "-rw-r--r--   8 jsw93 supergroup       6158 2021-08-09 15:03 /data/ghcnd/daily/1779.csv.gz\r\n",
      "-rw-r--r--   8 jsw93 supergroup       6277 2021-08-09 14:57 /data/ghcnd/daily/1780.csv.gz\r\n",
      "-rw-r--r--   8 jsw93 supergroup       7729 2021-08-09 15:00 /data/ghcnd/daily/1781.csv.gz\r\n",
      "-rw-r--r--   8 jsw93 supergroup       7770 2021-08-09 15:00 /data/ghcnd/daily/1782.csv.gz\r\n",
      "-rw-r--r--   8 jsw93 supergroup       7838 2021-08-09 15:07 /data/ghcnd/daily/1783.csv.gz\r\n",
      "-rw-r--r--   8 jsw93 supergroup       7929 2021-08-09 15:00 /data/ghcnd/daily/1784.csv.gz\r\n",
      "-rw-r--r--   8 jsw93 supergroup       7822 2021-08-09 15:07 /data/ghcnd/daily/1785.csv.gz\r\n",
      "-rw-r--r--   8 jsw93 supergroup       7857 2021-08-09 14:59 /data/ghcnd/daily/1786.csv.gz\r\n",
      "-rw-r--r--   8 jsw93 supergroup       6339 2021-08-09 15:01 /data/ghcnd/daily/1787.csv.gz\r\n",
      "-rw-r--r--   8 jsw93 supergroup       6424 2021-08-09 15:03 /data/ghcnd/daily/1788.csv.gz\r\n",
      "-rw-r--r--   8 jsw93 supergroup       7751 2021-08-09 15:08 /data/ghcnd/daily/1789.csv.gz\r\n",
      "-rw-r--r--   8 jsw93 supergroup       7702 2021-08-09 15:01 /data/ghcnd/daily/1790.csv.gz\r\n",
      "-rw-r--r--   8 jsw93 supergroup       7718 2021-08-09 15:01 /data/ghcnd/daily/1791.csv.gz\r\n",
      "-rw-r--r--   8 jsw93 supergroup       7754 2021-08-09 15:00 /data/ghcnd/daily/1792.csv.gz\r\n",
      "-rw-r--r--   8 jsw93 supergroup       6322 2021-08-09 15:03 /data/ghcnd/daily/1793.csv.gz\r\n",
      "-rw-r--r--   8 jsw93 supergroup       7677 2021-08-09 14:57 /data/ghcnd/daily/1794.csv.gz\r\n",
      "-rw-r--r--   8 jsw93 supergroup       7766 2021-08-09 15:05 /data/ghcnd/daily/1795.csv.gz\r\n",
      "-rw-r--r--   8 jsw93 supergroup       7773 2021-08-09 14:57 /data/ghcnd/daily/1796.csv.gz\r\n",
      "-rw-r--r--   8 jsw93 supergroup       9174 2021-08-09 14:57 /data/ghcnd/daily/1797.csv.gz\r\n",
      "-rw-r--r--   8 jsw93 supergroup       9116 2021-08-09 14:57 /data/ghcnd/daily/1798.csv.gz\r\n",
      "-rw-r--r--   8 jsw93 supergroup       6329 2021-08-09 14:57 /data/ghcnd/daily/1799.csv.gz\r\n",
      "-rw-r--r--   8 jsw93 supergroup       7727 2021-08-09 14:58 /data/ghcnd/daily/1800.csv.gz\r\n",
      "-rw-r--r--   8 jsw93 supergroup       7752 2021-08-09 14:57 /data/ghcnd/daily/1801.csv.gz\r\n",
      "-rw-r--r--   8 jsw93 supergroup       9123 2021-08-09 15:07 /data/ghcnd/daily/1802.csv.gz\r\n",
      "-rw-r--r--   8 jsw93 supergroup       7858 2021-08-09 15:04 /data/ghcnd/daily/1803.csv.gz\r\n",
      "-rw-r--r--   8 jsw93 supergroup       8709 2021-08-09 15:02 /data/ghcnd/daily/1804.csv.gz\r\n",
      "-rw-r--r--   8 jsw93 supergroup       9023 2021-08-09 15:08 /data/ghcnd/daily/1805.csv.gz\r\n",
      "-rw-r--r--   8 jsw93 supergroup       8639 2021-08-09 15:00 /data/ghcnd/daily/1806.csv.gz\r\n",
      "-rw-r--r--   8 jsw93 supergroup       8731 2021-08-09 15:02 /data/ghcnd/daily/1807.csv.gz\r\n",
      "-rw-r--r--   8 jsw93 supergroup       8875 2021-08-09 14:57 /data/ghcnd/daily/1808.csv.gz\r\n",
      "-rw-r--r--   8 jsw93 supergroup       8736 2021-08-09 14:59 /data/ghcnd/daily/1809.csv.gz\r\n",
      "-rw-r--r--   8 jsw93 supergroup       8765 2021-08-09 15:00 /data/ghcnd/daily/1810.csv.gz\r\n",
      "-rw-r--r--   8 jsw93 supergroup       8790 2021-08-09 15:03 /data/ghcnd/daily/1811.csv.gz\r\n",
      "-rw-r--r--   8 jsw93 supergroup       8858 2021-08-09 15:07 /data/ghcnd/daily/1812.csv.gz\r\n",
      "-rw-r--r--   8 jsw93 supergroup       9393 2021-08-09 14:57 /data/ghcnd/daily/1813.csv.gz\r\n",
      "-rw-r--r--   8 jsw93 supergroup      12140 2021-08-09 15:07 /data/ghcnd/daily/1814.csv.gz\r\n",
      "-rw-r--r--   8 jsw93 supergroup      15282 2021-08-09 14:59 /data/ghcnd/daily/1815.csv.gz\r\n",
      "-rw-r--r--   8 jsw93 supergroup      15186 2021-08-09 15:06 /data/ghcnd/daily/1816.csv.gz\r\n",
      "-rw-r--r--   8 jsw93 supergroup      15064 2021-08-09 15:02 /data/ghcnd/daily/1817.csv.gz\r\n",
      "-rw-r--r--   8 jsw93 supergroup      15096 2021-08-09 14:57 /data/ghcnd/daily/1818.csv.gz\r\n",
      "-rw-r--r--   8 jsw93 supergroup      15100 2021-08-09 15:08 /data/ghcnd/daily/1819.csv.gz\r\n",
      "-rw-r--r--   8 jsw93 supergroup      15368 2021-08-09 14:56 /data/ghcnd/daily/1820.csv.gz\r\n",
      "-rw-r--r--   8 jsw93 supergroup      15183 2021-08-09 15:02 /data/ghcnd/daily/1821.csv.gz\r\n",
      "-rw-r--r--   8 jsw93 supergroup      15366 2021-08-09 15:01 /data/ghcnd/daily/1822.csv.gz\r\n",
      "-rw-r--r--   8 jsw93 supergroup      16178 2021-08-09 14:56 /data/ghcnd/daily/1823.csv.gz\r\n",
      "-rw-r--r--   8 jsw93 supergroup      19566 2021-08-09 14:58 /data/ghcnd/daily/1824.csv.gz\r\n",
      "-rw-r--r--   8 jsw93 supergroup      19706 2021-08-09 14:56 /data/ghcnd/daily/1825.csv.gz\r\n",
      "-rw-r--r--   8 jsw93 supergroup      19982 2021-08-09 15:03 /data/ghcnd/daily/1826.csv.gz\r\n",
      "-rw-r--r--   8 jsw93 supergroup      22600 2021-08-09 15:00 /data/ghcnd/daily/1827.csv.gz\r\n",
      "-rw-r--r--   8 jsw93 supergroup      22597 2021-08-09 14:57 /data/ghcnd/daily/1828.csv.gz\r\n",
      "-rw-r--r--   8 jsw93 supergroup      22850 2021-08-09 15:06 /data/ghcnd/daily/1829.csv.gz\r\n",
      "-rw-r--r--   8 jsw93 supergroup      23039 2021-08-09 15:02 /data/ghcnd/daily/1830.csv.gz\r\n",
      "-rw-r--r--   8 jsw93 supergroup      22981 2021-08-09 15:01 /data/ghcnd/daily/1831.csv.gz\r\n",
      "-rw-r--r--   8 jsw93 supergroup      24099 2021-08-09 15:00 /data/ghcnd/daily/1832.csv.gz\r\n",
      "-rw-r--r--   8 jsw93 supergroup      28718 2021-08-09 15:05 /data/ghcnd/daily/1833.csv.gz\r\n",
      "-rw-r--r--   8 jsw93 supergroup      28559 2021-08-09 14:57 /data/ghcnd/daily/1834.csv.gz\r\n",
      "-rw-r--r--   8 jsw93 supergroup      29203 2021-08-09 15:02 /data/ghcnd/daily/1835.csv.gz\r\n",
      "-rw-r--r--   8 jsw93 supergroup      30066 2021-08-09 14:58 /data/ghcnd/daily/1836.csv.gz\r\n",
      "-rw-r--r--   8 jsw93 supergroup      29663 2021-08-09 15:01 /data/ghcnd/daily/1837.csv.gz\r\n",
      "-rw-r--r--   8 jsw93 supergroup      32159 2021-08-09 15:02 /data/ghcnd/daily/1838.csv.gz\r\n",
      "-rw-r--r--   8 jsw93 supergroup      29761 2021-08-09 15:03 /data/ghcnd/daily/1839.csv.gz\r\n",
      "-rw-r--r--   8 jsw93 supergroup      34807 2021-08-09 14:57 /data/ghcnd/daily/1840.csv.gz\r\n",
      "-rw-r--r--   8 jsw93 supergroup      35950 2021-08-09 15:00 /data/ghcnd/daily/1841.csv.gz\r\n",
      "-rw-r--r--   8 jsw93 supergroup      38642 2021-08-09 15:00 /data/ghcnd/daily/1842.csv.gz\r\n",
      "-rw-r--r--   8 jsw93 supergroup      38428 2021-08-09 14:57 /data/ghcnd/daily/1843.csv.gz\r\n",
      "-rw-r--r--   8 jsw93 supergroup      42257 2021-08-09 15:03 /data/ghcnd/daily/1844.csv.gz\r\n",
      "-rw-r--r--   8 jsw93 supergroup      46156 2021-08-09 15:06 /data/ghcnd/daily/1845.csv.gz\r\n",
      "-rw-r--r--   8 jsw93 supergroup      43510 2021-08-09 15:03 /data/ghcnd/daily/1846.csv.gz\r\n",
      "-rw-r--r--   8 jsw93 supergroup      45014 2021-08-09 15:08 /data/ghcnd/daily/1847.csv.gz\r\n",
      "-rw-r--r--   8 jsw93 supergroup      43801 2021-08-09 15:03 /data/ghcnd/daily/1848.csv.gz\r\n",
      "-rw-r--r--   8 jsw93 supergroup      46100 2021-08-09 14:57 /data/ghcnd/daily/1849.csv.gz\r\n",
      "-rw-r--r--   8 jsw93 supergroup      46162 2021-08-09 15:07 /data/ghcnd/daily/1850.csv.gz\r\n",
      "-rw-r--r--   8 jsw93 supergroup      53942 2021-08-09 14:56 /data/ghcnd/daily/1851.csv.gz\r\n",
      "-rw-r--r--   8 jsw93 supergroup      58274 2021-08-09 15:02 /data/ghcnd/daily/1852.csv.gz\r\n",
      "-rw-r--r--   8 jsw93 supergroup      57673 2021-08-09 14:58 /data/ghcnd/daily/1853.csv.gz\r\n",
      "-rw-r--r--   8 jsw93 supergroup      56548 2021-08-09 15:05 /data/ghcnd/daily/1854.csv.gz\r\n",
      "-rw-r--r--   8 jsw93 supergroup      60272 2021-08-09 15:02 /data/ghcnd/daily/1855.csv.gz\r\n",
      "-rw-r--r--   8 jsw93 supergroup      72670 2021-08-09 15:05 /data/ghcnd/daily/1856.csv.gz\r\n",
      "-rw-r--r--   8 jsw93 supergroup      78635 2021-08-09 15:05 /data/ghcnd/daily/1857.csv.gz\r\n",
      "-rw-r--r--   8 jsw93 supergroup     112312 2021-08-09 14:57 /data/ghcnd/daily/1858.csv.gz\r\n",
      "-rw-r--r--   8 jsw93 supergroup     118703 2021-08-09 15:07 /data/ghcnd/daily/1859.csv.gz\r\n",
      "-rw-r--r--   8 jsw93 supergroup     125540 2021-08-09 14:56 /data/ghcnd/daily/1860.csv.gz\r\n",
      "-rw-r--r--   8 jsw93 supergroup     129755 2021-08-09 14:57 /data/ghcnd/daily/1861.csv.gz\r\n",
      "-rw-r--r--   8 jsw93 supergroup     125723 2021-08-09 15:00 /data/ghcnd/daily/1862.csv.gz\r\n",
      "-rw-r--r--   8 jsw93 supergroup     141287 2021-08-09 14:56 /data/ghcnd/daily/1863.csv.gz\r\n",
      "-rw-r--r--   8 jsw93 supergroup     139789 2021-08-09 15:03 /data/ghcnd/daily/1864.csv.gz\r\n",
      "-rw-r--r--   8 jsw93 supergroup     145257 2021-08-09 15:07 /data/ghcnd/daily/1865.csv.gz\r\n",
      "-rw-r--r--   8 jsw93 supergroup     188459 2021-08-09 14:58 /data/ghcnd/daily/1866.csv.gz\r\n",
      "-rw-r--r--   8 jsw93 supergroup     237921 2021-08-09 15:03 /data/ghcnd/daily/1867.csv.gz\r\n",
      "-rw-r--r--   8 jsw93 supergroup     257506 2021-08-09 15:01 /data/ghcnd/daily/1868.csv.gz\r\n",
      "-rw-r--r--   8 jsw93 supergroup     305230 2021-08-09 15:03 /data/ghcnd/daily/1869.csv.gz\r\n",
      "-rw-r--r--   8 jsw93 supergroup     355084 2021-08-09 14:58 /data/ghcnd/daily/1870.csv.gz\r\n",
      "-rw-r--r--   8 jsw93 supergroup     478357 2021-08-09 15:02 /data/ghcnd/daily/1871.csv.gz\r\n",
      "-rw-r--r--   8 jsw93 supergroup     652507 2021-08-09 14:59 /data/ghcnd/daily/1872.csv.gz\r\n",
      "-rw-r--r--   8 jsw93 supergroup     734687 2021-08-09 14:56 /data/ghcnd/daily/1873.csv.gz\r\n",
      "-rw-r--r--   8 jsw93 supergroup     820791 2021-08-09 15:03 /data/ghcnd/daily/1874.csv.gz\r\n",
      "-rw-r--r--   8 jsw93 supergroup     904919 2021-08-09 15:05 /data/ghcnd/daily/1875.csv.gz\r\n",
      "-rw-r--r--   8 jsw93 supergroup     999885 2021-08-09 15:06 /data/ghcnd/daily/1876.csv.gz\r\n",
      "-rw-r--r--   8 jsw93 supergroup    1114978 2021-08-09 15:05 /data/ghcnd/daily/1877.csv.gz\r\n",
      "-rw-r--r--   8 jsw93 supergroup    1342400 2021-08-09 15:01 /data/ghcnd/daily/1878.csv.gz\r\n",
      "-rw-r--r--   8 jsw93 supergroup    1538116 2021-08-09 15:07 /data/ghcnd/daily/1879.csv.gz\r\n",
      "-rw-r--r--   8 jsw93 supergroup    1902644 2021-08-09 15:05 /data/ghcnd/daily/1880.csv.gz\r\n",
      "-rw-r--r--   8 jsw93 supergroup    2423109 2021-08-09 15:02 /data/ghcnd/daily/1881.csv.gz\r\n",
      "-rw-r--r--   8 jsw93 supergroup    2781762 2021-08-09 14:57 /data/ghcnd/daily/1882.csv.gz\r\n",
      "-rw-r--r--   8 jsw93 supergroup    3114237 2021-08-09 15:01 /data/ghcnd/daily/1883.csv.gz\r\n",
      "-rw-r--r--   8 jsw93 supergroup    3779904 2021-08-09 15:04 /data/ghcnd/daily/1884.csv.gz\r\n",
      "-rw-r--r--   8 jsw93 supergroup    4351537 2021-08-09 15:05 /data/ghcnd/daily/1885.csv.gz\r\n",
      "-rw-r--r--   8 jsw93 supergroup    4795062 2021-08-09 15:05 /data/ghcnd/daily/1886.csv.gz\r\n",
      "-rw-r--r--   8 jsw93 supergroup    5395545 2021-08-09 15:02 /data/ghcnd/daily/1887.csv.gz\r\n",
      "-rw-r--r--   8 jsw93 supergroup    5818205 2021-08-09 14:59 /data/ghcnd/daily/1888.csv.gz\r\n",
      "-rw-r--r--   8 jsw93 supergroup    6326218 2021-08-09 15:02 /data/ghcnd/daily/1889.csv.gz\r\n",
      "-rw-r--r--   8 jsw93 supergroup    6920839 2021-08-09 14:58 /data/ghcnd/daily/1890.csv.gz\r\n",
      "-rw-r--r--   8 jsw93 supergroup    7253013 2021-08-09 15:01 /data/ghcnd/daily/1891.csv.gz\r\n",
      "-rw-r--r--   8 jsw93 supergroup    8462442 2021-08-09 15:08 /data/ghcnd/daily/1892.csv.gz\r\n",
      "-rw-r--r--   8 jsw93 supergroup   15516245 2021-08-09 14:57 /data/ghcnd/daily/1893.csv.gz\r\n",
      "-rw-r--r--   8 jsw93 supergroup   16567851 2021-08-09 15:01 /data/ghcnd/daily/1894.csv.gz\r\n",
      "-rw-r--r--   8 jsw93 supergroup   17917698 2021-08-09 15:07 /data/ghcnd/daily/1895.csv.gz\r\n",
      "-rw-r--r--   8 jsw93 supergroup   19332812 2021-08-09 15:03 /data/ghcnd/daily/1896.csv.gz\r\n",
      "-rw-r--r--   8 jsw93 supergroup   20872937 2021-08-09 15:08 /data/ghcnd/daily/1897.csv.gz\r\n",
      "-rw-r--r--   8 jsw93 supergroup   21794407 2021-08-09 15:00 /data/ghcnd/daily/1898.csv.gz\r\n",
      "-rw-r--r--   8 jsw93 supergroup   22700952 2021-08-09 15:01 /data/ghcnd/daily/1899.csv.gz\r\n",
      "-rw-r--r--   8 jsw93 supergroup   24336841 2021-08-09 15:00 /data/ghcnd/daily/1900.csv.gz\r\n",
      "-rw-r--r--   8 jsw93 supergroup   31706012 2021-08-09 15:05 /data/ghcnd/daily/1901.csv.gz\r\n",
      "-rw-r--r--   8 jsw93 supergroup   32886384 2021-08-09 15:01 /data/ghcnd/daily/1902.csv.gz\r\n",
      "-rw-r--r--   8 jsw93 supergroup   33660062 2021-08-09 15:02 /data/ghcnd/daily/1903.csv.gz\r\n",
      "-rw-r--r--   8 jsw93 supergroup   34812175 2021-08-09 15:08 /data/ghcnd/daily/1904.csv.gz\r\n",
      "-rw-r--r--   8 jsw93 supergroup   36585272 2021-08-09 15:02 /data/ghcnd/daily/1905.csv.gz\r\n",
      "-rw-r--r--   8 jsw93 supergroup   37481262 2021-08-09 15:07 /data/ghcnd/daily/1906.csv.gz\r\n",
      "-rw-r--r--   8 jsw93 supergroup   38648318 2021-08-09 14:59 /data/ghcnd/daily/1907.csv.gz\r\n",
      "-rw-r--r--   8 jsw93 supergroup   39546046 2021-08-09 15:02 /data/ghcnd/daily/1908.csv.gz\r\n",
      "-rw-r--r--   8 jsw93 supergroup   41606853 2021-08-09 14:58 /data/ghcnd/daily/1909.csv.gz\r\n",
      "-rw-r--r--   8 jsw93 supergroup   43061758 2021-08-09 14:57 /data/ghcnd/daily/1910.csv.gz\r\n",
      "-rw-r--r--   8 jsw93 supergroup   44771484 2021-08-09 15:06 /data/ghcnd/daily/1911.csv.gz\r\n",
      "-rw-r--r--   8 jsw93 supergroup   46604488 2021-08-09 14:56 /data/ghcnd/daily/1912.csv.gz\r\n",
      "-rw-r--r--   8 jsw93 supergroup   47957296 2021-08-09 15:01 /data/ghcnd/daily/1913.csv.gz\r\n",
      "-rw-r--r--   8 jsw93 supergroup   49524502 2021-08-09 15:02 /data/ghcnd/daily/1914.csv.gz\r\n",
      "-rw-r--r--   8 jsw93 supergroup   51064165 2021-08-09 14:56 /data/ghcnd/daily/1915.csv.gz\r\n",
      "-rw-r--r--   8 jsw93 supergroup   52775726 2021-08-09 14:58 /data/ghcnd/daily/1916.csv.gz\r\n",
      "-rw-r--r--   8 jsw93 supergroup   53049849 2021-08-09 15:07 /data/ghcnd/daily/1917.csv.gz\r\n",
      "-rw-r--r--   8 jsw93 supergroup   51751526 2021-08-09 14:57 /data/ghcnd/daily/1918.csv.gz\r\n",
      "-rw-r--r--   8 jsw93 supergroup   51172662 2021-08-09 15:03 /data/ghcnd/daily/1919.csv.gz\r\n",
      "-rw-r--r--   8 jsw93 supergroup   51523715 2021-08-09 15:01 /data/ghcnd/daily/1920.csv.gz\r\n",
      "-rw-r--r--   8 jsw93 supergroup   51976899 2021-08-09 15:01 /data/ghcnd/daily/1921.csv.gz\r\n",
      "-rw-r--r--   8 jsw93 supergroup   52991786 2021-08-09 15:03 /data/ghcnd/daily/1922.csv.gz\r\n",
      "-rw-r--r--   8 jsw93 supergroup   54049204 2021-08-09 15:03 /data/ghcnd/daily/1923.csv.gz\r\n",
      "-rw-r--r--   8 jsw93 supergroup   55120639 2021-08-09 15:03 /data/ghcnd/daily/1924.csv.gz\r\n",
      "-rw-r--r--   8 jsw93 supergroup   55488083 2021-08-09 14:59 /data/ghcnd/daily/1925.csv.gz\r\n",
      "-rw-r--r--   8 jsw93 supergroup   56968872 2021-08-09 15:03 /data/ghcnd/daily/1926.csv.gz\r\n",
      "-rw-r--r--   8 jsw93 supergroup   58011048 2021-08-09 14:59 /data/ghcnd/daily/1927.csv.gz\r\n",
      "-rw-r--r--   8 jsw93 supergroup   58778318 2021-08-09 15:08 /data/ghcnd/daily/1928.csv.gz\r\n",
      "-rw-r--r--   8 jsw93 supergroup   60037200 2021-08-09 15:06 /data/ghcnd/daily/1929.csv.gz\r\n",
      "-rw-r--r--   8 jsw93 supergroup   61790362 2021-08-09 15:05 /data/ghcnd/daily/1930.csv.gz\r\n",
      "-rw-r--r--   8 jsw93 supergroup   63880256 2021-08-09 14:56 /data/ghcnd/daily/1931.csv.gz\r\n",
      "-rw-r--r--   8 jsw93 supergroup   65148533 2021-08-09 15:07 /data/ghcnd/daily/1932.csv.gz\r\n",
      "-rw-r--r--   8 jsw93 supergroup   65800174 2021-08-09 15:05 /data/ghcnd/daily/1933.csv.gz\r\n",
      "-rw-r--r--   8 jsw93 supergroup   66307957 2021-08-09 15:05 /data/ghcnd/daily/1934.csv.gz\r\n",
      "-rw-r--r--   8 jsw93 supergroup   67484740 2021-08-09 15:02 /data/ghcnd/daily/1935.csv.gz\r\n",
      "-rw-r--r--   8 jsw93 supergroup   72120629 2021-08-09 15:07 /data/ghcnd/daily/1936.csv.gz\r\n",
      "-rw-r--r--   8 jsw93 supergroup   73944657 2021-08-09 15:03 /data/ghcnd/daily/1937.csv.gz\r\n",
      "-rw-r--r--   8 jsw93 supergroup   75508065 2021-08-09 15:06 /data/ghcnd/daily/1938.csv.gz\r\n",
      "-rw-r--r--   8 jsw93 supergroup   77887572 2021-08-09 15:01 /data/ghcnd/daily/1939.csv.gz\r\n",
      "-rw-r--r--   8 jsw93 supergroup   80794561 2021-08-09 15:00 /data/ghcnd/daily/1940.csv.gz\r\n",
      "-rw-r--r--   8 jsw93 supergroup   83426962 2021-08-09 14:59 /data/ghcnd/daily/1941.csv.gz\r\n",
      "-rw-r--r--   8 jsw93 supergroup   86080462 2021-08-09 15:02 /data/ghcnd/daily/1942.csv.gz\r\n",
      "-rw-r--r--   8 jsw93 supergroup   87393323 2021-08-09 14:59 /data/ghcnd/daily/1943.csv.gz\r\n",
      "-rw-r--r--   8 jsw93 supergroup   89592105 2021-08-09 15:02 /data/ghcnd/daily/1944.csv.gz\r\n",
      "-rw-r--r--   8 jsw93 supergroup   92888819 2021-08-09 15:01 /data/ghcnd/daily/1945.csv.gz\r\n",
      "-rw-r--r--   8 jsw93 supergroup   93637196 2021-08-09 15:02 /data/ghcnd/daily/1946.csv.gz\r\n",
      "-rw-r--r--   8 jsw93 supergroup   96205468 2021-08-09 14:56 /data/ghcnd/daily/1947.csv.gz\r\n",
      "-rw-r--r--   8 jsw93 supergroup  113945616 2021-08-09 15:00 /data/ghcnd/daily/1948.csv.gz\r\n",
      "-rw-r--r--   8 jsw93 supergroup  129580700 2021-08-09 15:05 /data/ghcnd/daily/1949.csv.gz\r\n",
      "-rw-r--r--   8 jsw93 supergroup  133412298 2021-08-09 14:59 /data/ghcnd/daily/1950.csv.gz\r\n",
      "-rw-r--r--   8 jsw93 supergroup  138488738 2021-08-09 15:06 /data/ghcnd/daily/1951.csv.gz\r\n",
      "-rw-r--r--   8 jsw93 supergroup  140470177 2021-08-09 14:59 /data/ghcnd/daily/1952.csv.gz\r\n"
     ]
    },
    {
     "name": "stdout",
     "output_type": "stream",
     "text": [
      "-rw-r--r--   8 jsw93 supergroup  142350529 2021-08-09 15:03 /data/ghcnd/daily/1953.csv.gz\r\n",
      "-rw-r--r--   8 jsw93 supergroup  145311928 2021-08-09 15:06 /data/ghcnd/daily/1954.csv.gz\r\n",
      "-rw-r--r--   8 jsw93 supergroup  148575733 2021-08-09 15:05 /data/ghcnd/daily/1955.csv.gz\r\n",
      "-rw-r--r--   8 jsw93 supergroup  151453029 2021-08-09 15:03 /data/ghcnd/daily/1956.csv.gz\r\n",
      "-rw-r--r--   8 jsw93 supergroup  154780951 2021-08-09 15:01 /data/ghcnd/daily/1957.csv.gz\r\n",
      "-rw-r--r--   8 jsw93 supergroup  156547861 2021-08-09 15:00 /data/ghcnd/daily/1958.csv.gz\r\n",
      "-rw-r--r--   8 jsw93 supergroup  160538756 2021-08-09 15:05 /data/ghcnd/daily/1959.csv.gz\r\n",
      "-rw-r--r--   8 jsw93 supergroup  163916212 2021-08-09 15:07 /data/ghcnd/daily/1960.csv.gz\r\n",
      "-rw-r--r--   8 jsw93 supergroup  169644718 2021-08-09 15:05 /data/ghcnd/daily/1961.csv.gz\r\n",
      "-rw-r--r--   8 jsw93 supergroup  173399072 2021-08-09 15:01 /data/ghcnd/daily/1962.csv.gz\r\n",
      "-rw-r--r--   8 jsw93 supergroup  177698967 2021-08-09 15:00 /data/ghcnd/daily/1963.csv.gz\r\n",
      "-rw-r--r--   8 jsw93 supergroup  178917920 2021-08-09 14:57 /data/ghcnd/daily/1964.csv.gz\r\n",
      "-rw-r--r--   8 jsw93 supergroup  184305621 2021-08-09 15:08 /data/ghcnd/daily/1965.csv.gz\r\n",
      "-rw-r--r--   8 jsw93 supergroup  187038607 2021-08-09 15:05 /data/ghcnd/daily/1966.csv.gz\r\n",
      "-rw-r--r--   8 jsw93 supergroup  189218306 2021-08-09 15:03 /data/ghcnd/daily/1967.csv.gz\r\n",
      "-rw-r--r--   8 jsw93 supergroup  189123086 2021-08-09 15:01 /data/ghcnd/daily/1968.csv.gz\r\n",
      "-rw-r--r--   8 jsw93 supergroup  191403853 2021-08-09 15:02 /data/ghcnd/daily/1969.csv.gz\r\n",
      "-rw-r--r--   8 jsw93 supergroup  192907037 2021-08-09 15:00 /data/ghcnd/daily/1970.csv.gz\r\n",
      "-rw-r--r--   8 jsw93 supergroup  183791008 2021-08-09 14:59 /data/ghcnd/daily/1971.csv.gz\r\n",
      "-rw-r--r--   8 jsw93 supergroup  182786757 2021-08-09 14:59 /data/ghcnd/daily/1972.csv.gz\r\n",
      "-rw-r--r--   8 jsw93 supergroup  191754717 2021-08-09 15:04 /data/ghcnd/daily/1973.csv.gz\r\n",
      "-rw-r--r--   8 jsw93 supergroup  193334332 2021-08-09 14:57 /data/ghcnd/daily/1974.csv.gz\r\n",
      "-rw-r--r--   8 jsw93 supergroup  192712958 2021-08-09 15:07 /data/ghcnd/daily/1975.csv.gz\r\n",
      "-rw-r--r--   8 jsw93 supergroup  192619974 2021-08-09 15:00 /data/ghcnd/daily/1976.csv.gz\r\n",
      "-rw-r--r--   8 jsw93 supergroup  192307060 2021-08-09 15:03 /data/ghcnd/daily/1977.csv.gz\r\n",
      "-rw-r--r--   8 jsw93 supergroup  192906924 2021-08-09 15:08 /data/ghcnd/daily/1978.csv.gz\r\n",
      "-rw-r--r--   8 jsw93 supergroup  193570416 2021-08-09 15:04 /data/ghcnd/daily/1979.csv.gz\r\n",
      "-rw-r--r--   8 jsw93 supergroup  194424553 2021-08-09 14:57 /data/ghcnd/daily/1980.csv.gz\r\n",
      "-rw-r--r--   8 jsw93 supergroup  198552484 2021-08-09 14:57 /data/ghcnd/daily/1981.csv.gz\r\n",
      "-rw-r--r--   8 jsw93 supergroup  200430771 2021-08-09 14:57 /data/ghcnd/daily/1982.csv.gz\r\n",
      "-rw-r--r--   8 jsw93 supergroup  202192765 2021-08-09 15:08 /data/ghcnd/daily/1983.csv.gz\r\n",
      "-rw-r--r--   8 jsw93 supergroup  198974417 2021-08-09 15:02 /data/ghcnd/daily/1984.csv.gz\r\n",
      "-rw-r--r--   8 jsw93 supergroup  197218960 2021-08-09 15:07 /data/ghcnd/daily/1985.csv.gz\r\n",
      "-rw-r--r--   8 jsw93 supergroup  195764826 2021-08-09 14:57 /data/ghcnd/daily/1986.csv.gz\r\n",
      "-rw-r--r--   8 jsw93 supergroup  195735803 2021-08-09 14:57 /data/ghcnd/daily/1987.csv.gz\r\n",
      "-rw-r--r--   8 jsw93 supergroup  196675478 2021-08-09 14:56 /data/ghcnd/daily/1988.csv.gz\r\n",
      "-rw-r--r--   8 jsw93 supergroup  197087415 2021-08-09 14:57 /data/ghcnd/daily/1989.csv.gz\r\n",
      "-rw-r--r--   8 jsw93 supergroup  197232897 2021-08-09 15:00 /data/ghcnd/daily/1990.csv.gz\r\n",
      "-rw-r--r--   8 jsw93 supergroup  197776512 2021-08-09 15:00 /data/ghcnd/daily/1991.csv.gz\r\n",
      "-rw-r--r--   8 jsw93 supergroup  197773341 2021-08-09 15:03 /data/ghcnd/daily/1992.csv.gz\r\n",
      "-rw-r--r--   8 jsw93 supergroup  196173163 2021-08-09 15:05 /data/ghcnd/daily/1993.csv.gz\r\n",
      "-rw-r--r--   8 jsw93 supergroup  195033397 2021-08-09 15:08 /data/ghcnd/daily/1994.csv.gz\r\n",
      "-rw-r--r--   8 jsw93 supergroup  194495954 2021-08-09 15:01 /data/ghcnd/daily/1995.csv.gz\r\n",
      "-rw-r--r--   8 jsw93 supergroup  194661682 2021-08-09 15:07 /data/ghcnd/daily/1996.csv.gz\r\n",
      "-rw-r--r--   8 jsw93 supergroup  192815021 2021-08-09 15:00 /data/ghcnd/daily/1997.csv.gz\r\n",
      "-rw-r--r--   8 jsw93 supergroup  194281477 2021-08-09 14:56 /data/ghcnd/daily/1998.csv.gz\r\n",
      "-rw-r--r--   8 jsw93 supergroup  197167444 2021-08-09 15:01 /data/ghcnd/daily/1999.csv.gz\r\n",
      "-rw-r--r--   8 jsw93 supergroup  198895721 2021-08-09 15:08 /data/ghcnd/daily/2000.csv.gz\r\n",
      "-rw-r--r--   8 jsw93 supergroup  201157448 2021-08-09 15:07 /data/ghcnd/daily/2001.csv.gz\r\n",
      "-rw-r--r--   8 jsw93 supergroup  203270754 2021-08-09 15:01 /data/ghcnd/daily/2002.csv.gz\r\n",
      "-rw-r--r--   8 jsw93 supergroup  207993792 2021-08-09 14:58 /data/ghcnd/daily/2003.csv.gz\r\n",
      "-rw-r--r--   8 jsw93 supergroup  211630534 2021-08-09 14:58 /data/ghcnd/daily/2004.csv.gz\r\n",
      "-rw-r--r--   8 jsw93 supergroup  208866094 2021-08-09 15:06 /data/ghcnd/daily/2005.csv.gz\r\n",
      "-rw-r--r--   8 jsw93 supergroup  210828782 2021-08-09 15:02 /data/ghcnd/daily/2006.csv.gz\r\n",
      "-rw-r--r--   8 jsw93 supergroup  215166023 2021-08-09 15:06 /data/ghcnd/daily/2007.csv.gz\r\n",
      "-rw-r--r--   8 jsw93 supergroup  225927991 2021-08-09 15:05 /data/ghcnd/daily/2008.csv.gz\r\n",
      "-rw-r--r--   8 jsw93 supergroup  230341316 2021-08-09 15:04 /data/ghcnd/daily/2009.csv.gz\r\n",
      "-rw-r--r--   8 jsw93 supergroup  232080599 2021-08-09 15:02 /data/ghcnd/daily/2010.csv.gz\r\n",
      "-rw-r--r--   8 jsw93 supergroup  220857715 2021-08-09 14:58 /data/ghcnd/daily/2011.csv.gz\r\n",
      "-rw-r--r--   8 jsw93 supergroup  216524992 2021-08-09 14:58 /data/ghcnd/daily/2012.csv.gz\r\n",
      "-rw-r--r--   8 jsw93 supergroup  210474832 2021-08-09 14:59 /data/ghcnd/daily/2013.csv.gz\r\n",
      "-rw-r--r--   8 jsw93 supergroup  205377559 2021-08-09 15:03 /data/ghcnd/daily/2014.csv.gz\r\n",
      "-rw-r--r--   8 jsw93 supergroup  207618101 2021-08-09 15:00 /data/ghcnd/daily/2015.csv.gz\r\n",
      "-rw-r--r--   8 jsw93 supergroup  209584081 2021-08-09 15:04 /data/ghcnd/daily/2016.csv.gz\r\n",
      "-rw-r--r--   8 jsw93 supergroup  207342349 2021-08-09 15:06 /data/ghcnd/daily/2017.csv.gz\r\n",
      "-rw-r--r--   8 jsw93 supergroup  163202973 2022-08-08 01:19 /data/ghcnd/daily/2018.csv.gz\r\n",
      "-rw-r--r--   8 jsw93 supergroup  161945469 2022-08-08 01:19 /data/ghcnd/daily/2019.csv.gz\r\n",
      "-rw-r--r--   8 jsw93 supergroup  161995783 2022-08-08 01:19 /data/ghcnd/daily/2020.csv.gz\r\n",
      "-rw-r--r--   8 jsw93 supergroup  159598394 2022-08-08 01:19 /data/ghcnd/daily/2021.csv.gz\r\n",
      "-rw-r--r--   8 jsw93 supergroup   88195367 2022-08-08 01:20 /data/ghcnd/daily/2022.csv.gz\r\n"
     ]
    }
   ],
   "source": [
    "!hdfs dfs -ls /data/ghcnd/daily"
   ]
  },
  {
   "cell_type": "code",
   "execution_count": 7,
   "metadata": {
    "scrolled": true
   },
   "outputs": [
    {
     "name": "stdout",
     "output_type": "stream",
     "text": [
      "SIZE    DISK_SPACE_CONSUMED_WITH_ALL_REPLICAS  FULL_PATH_NAME\r\n",
      "15.8 G  126.1 G                                /data/ghcnd/daily\r\n",
      "3.6 K   28.6 K                                 /data/ghcnd/ghcnd-countries.txt\r\n",
      "31.8 M  254.7 M                                /data/ghcnd/ghcnd-inventory.txt\r\n",
      "1.1 K   8.5 K                                  /data/ghcnd/ghcnd-states.txt\r\n",
      "10.0 M  80.1 M                                 /data/ghcnd/ghcnd-stations.txt\r\n"
     ]
    }
   ],
   "source": [
    "!hdfs dfs -du -h -v /data/ghcnd"
   ]
  },
  {
   "cell_type": "code",
   "execution_count": 8,
   "metadata": {},
   "outputs": [
    {
     "name": "stdout",
     "output_type": "stream",
     "text": [
      "15.8 G  126.5 G  /data/ghcnd\r\n"
     ]
    }
   ],
   "source": [
    "!hdfs dfs -du -s -h /data/ghcnd"
   ]
  },
  {
   "cell_type": "code",
   "execution_count": 9,
   "metadata": {},
   "outputs": [
    {
     "name": "stdout",
     "output_type": "stream",
     "text": [
      "SIZE     DISK_SPACE_CONSUMED_WITH_ALL_REPLICAS  FULL_PATH_NAME\n",
      "3.3 K    26.2 K                                 /data/ghcnd/daily/1763.csv.gz\n",
      "3.2 K    26.0 K                                 /data/ghcnd/daily/1764.csv.gz\n",
      "3.3 K    26.1 K                                 /data/ghcnd/daily/1765.csv.gz\n",
      "3.3 K    26.1 K                                 /data/ghcnd/daily/1766.csv.gz\n",
      "3.3 K    26.2 K                                 /data/ghcnd/daily/1767.csv.gz\n",
      "3.2 K    26.0 K                                 /data/ghcnd/daily/1768.csv.gz\n",
      "3.3 K    26.7 K                                 /data/ghcnd/daily/1769.csv.gz\n",
      "3.3 K    26.2 K                                 /data/ghcnd/daily/1770.csv.gz\n",
      "3.3 K    26.4 K                                 /data/ghcnd/daily/1771.csv.gz\n",
      "3.3 K    26.7 K                                 /data/ghcnd/daily/1772.csv.gz\n",
      "3.3 K    26.3 K                                 /data/ghcnd/daily/1773.csv.gz\n",
      "3.3 K    26.5 K                                 /data/ghcnd/daily/1774.csv.gz\n",
      "6.3 K    50.3 K                                 /data/ghcnd/daily/1775.csv.gz\n",
      "6.3 K    50.8 K                                 /data/ghcnd/daily/1776.csv.gz\n",
      "6.3 K    50.3 K                                 /data/ghcnd/daily/1777.csv.gz\n",
      "6.1 K    48.7 K                                 /data/ghcnd/daily/1778.csv.gz\n",
      "6.0 K    48.1 K                                 /data/ghcnd/daily/1779.csv.gz\n",
      "6.1 K    49.0 K                                 /data/ghcnd/daily/1780.csv.gz\n",
      "7.5 K    60.4 K                                 /data/ghcnd/daily/1781.csv.gz\n",
      "7.6 K    60.7 K                                 /data/ghcnd/daily/1782.csv.gz\n",
      "7.7 K    61.2 K                                 /data/ghcnd/daily/1783.csv.gz\n",
      "7.7 K    61.9 K                                 /data/ghcnd/daily/1784.csv.gz\n",
      "7.6 K    61.1 K                                 /data/ghcnd/daily/1785.csv.gz\n",
      "7.7 K    61.4 K                                 /data/ghcnd/daily/1786.csv.gz\n",
      "6.2 K    49.5 K                                 /data/ghcnd/daily/1787.csv.gz\n",
      "6.3 K    50.2 K                                 /data/ghcnd/daily/1788.csv.gz\n",
      "7.6 K    60.6 K                                 /data/ghcnd/daily/1789.csv.gz\n",
      "7.5 K    60.2 K                                 /data/ghcnd/daily/1790.csv.gz\n",
      "7.5 K    60.3 K                                 /data/ghcnd/daily/1791.csv.gz\n",
      "7.6 K    60.6 K                                 /data/ghcnd/daily/1792.csv.gz\n",
      "6.2 K    49.4 K                                 /data/ghcnd/daily/1793.csv.gz\n",
      "7.5 K    60.0 K                                 /data/ghcnd/daily/1794.csv.gz\n",
      "7.6 K    60.7 K                                 /data/ghcnd/daily/1795.csv.gz\n",
      "7.6 K    60.7 K                                 /data/ghcnd/daily/1796.csv.gz\n",
      "9.0 K    71.7 K                                 /data/ghcnd/daily/1797.csv.gz\n",
      "8.9 K    71.2 K                                 /data/ghcnd/daily/1798.csv.gz\n",
      "6.2 K    49.4 K                                 /data/ghcnd/daily/1799.csv.gz\n",
      "7.5 K    60.4 K                                 /data/ghcnd/daily/1800.csv.gz\n",
      "7.6 K    60.6 K                                 /data/ghcnd/daily/1801.csv.gz\n",
      "8.9 K    71.3 K                                 /data/ghcnd/daily/1802.csv.gz\n",
      "7.7 K    61.4 K                                 /data/ghcnd/daily/1803.csv.gz\n",
      "8.5 K    68.0 K                                 /data/ghcnd/daily/1804.csv.gz\n",
      "8.8 K    70.5 K                                 /data/ghcnd/daily/1805.csv.gz\n",
      "8.4 K    67.5 K                                 /data/ghcnd/daily/1806.csv.gz\n",
      "8.5 K    68.2 K                                 /data/ghcnd/daily/1807.csv.gz\n",
      "8.7 K    69.3 K                                 /data/ghcnd/daily/1808.csv.gz\n",
      "8.5 K    68.3 K                                 /data/ghcnd/daily/1809.csv.gz\n",
      "8.6 K    68.5 K                                 /data/ghcnd/daily/1810.csv.gz\n",
      "8.6 K    68.7 K                                 /data/ghcnd/daily/1811.csv.gz\n",
      "8.7 K    69.2 K                                 /data/ghcnd/daily/1812.csv.gz\n",
      "9.2 K    73.4 K                                 /data/ghcnd/daily/1813.csv.gz\n",
      "11.9 K   94.8 K                                 /data/ghcnd/daily/1814.csv.gz\n",
      "14.9 K   119.4 K                                /data/ghcnd/daily/1815.csv.gz\n",
      "14.8 K   118.6 K                                /data/ghcnd/daily/1816.csv.gz\n",
      "14.7 K   117.7 K                                /data/ghcnd/daily/1817.csv.gz\n",
      "14.7 K   117.9 K                                /data/ghcnd/daily/1818.csv.gz\n",
      "14.7 K   118.0 K                                /data/ghcnd/daily/1819.csv.gz\n",
      "15.0 K   120.1 K                                /data/ghcnd/daily/1820.csv.gz\n",
      "14.8 K   118.6 K                                /data/ghcnd/daily/1821.csv.gz\n",
      "15.0 K   120.0 K                                /data/ghcnd/daily/1822.csv.gz\n",
      "15.8 K   126.4 K                                /data/ghcnd/daily/1823.csv.gz\n",
      "19.1 K   152.9 K                                /data/ghcnd/daily/1824.csv.gz\n",
      "19.2 K   154.0 K                                /data/ghcnd/daily/1825.csv.gz\n",
      "19.5 K   156.1 K                                /data/ghcnd/daily/1826.csv.gz\n",
      "22.1 K   176.6 K                                /data/ghcnd/daily/1827.csv.gz\n",
      "22.1 K   176.5 K                                /data/ghcnd/daily/1828.csv.gz\n",
      "22.3 K   178.5 K                                /data/ghcnd/daily/1829.csv.gz\n",
      "22.5 K   180.0 K                                /data/ghcnd/daily/1830.csv.gz\n",
      "22.4 K   179.5 K                                /data/ghcnd/daily/1831.csv.gz\n",
      "23.5 K   188.3 K                                /data/ghcnd/daily/1832.csv.gz\n",
      "28.0 K   224.4 K                                /data/ghcnd/daily/1833.csv.gz\n",
      "27.9 K   223.1 K                                /data/ghcnd/daily/1834.csv.gz\n",
      "28.5 K   228.1 K                                /data/ghcnd/daily/1835.csv.gz\n",
      "29.4 K   234.9 K                                /data/ghcnd/daily/1836.csv.gz\n",
      "29.0 K   231.7 K                                /data/ghcnd/daily/1837.csv.gz\n",
      "31.4 K   251.2 K                                /data/ghcnd/daily/1838.csv.gz\n",
      "29.1 K   232.5 K                                /data/ghcnd/daily/1839.csv.gz\n",
      "34.0 K   271.9 K                                /data/ghcnd/daily/1840.csv.gz\n",
      "35.1 K   280.9 K                                /data/ghcnd/daily/1841.csv.gz\n",
      "37.7 K   301.9 K                                /data/ghcnd/daily/1842.csv.gz\n",
      "37.5 K   300.2 K                                /data/ghcnd/daily/1843.csv.gz\n",
      "41.3 K   330.1 K                                /data/ghcnd/daily/1844.csv.gz\n",
      "45.1 K   360.6 K                                /data/ghcnd/daily/1845.csv.gz\n",
      "42.5 K   339.9 K                                /data/ghcnd/daily/1846.csv.gz\n",
      "44.0 K   351.7 K                                /data/ghcnd/daily/1847.csv.gz\n",
      "42.8 K   342.2 K                                /data/ghcnd/daily/1848.csv.gz\n",
      "45.0 K   360.2 K                                /data/ghcnd/daily/1849.csv.gz\n",
      "45.1 K   360.6 K                                /data/ghcnd/daily/1850.csv.gz\n",
      "52.7 K   421.4 K                                /data/ghcnd/daily/1851.csv.gz\n",
      "56.9 K   455.3 K                                /data/ghcnd/daily/1852.csv.gz\n",
      "56.3 K   450.6 K                                /data/ghcnd/daily/1853.csv.gz\n",
      "55.2 K   441.8 K                                /data/ghcnd/daily/1854.csv.gz\n",
      "58.9 K   470.9 K                                /data/ghcnd/daily/1855.csv.gz\n",
      "71.0 K   567.7 K                                /data/ghcnd/daily/1856.csv.gz\n",
      "76.8 K   614.3 K                                /data/ghcnd/daily/1857.csv.gz\n",
      "109.7 K  877.4 K                                /data/ghcnd/daily/1858.csv.gz\n",
      "115.9 K  927.4 K                                /data/ghcnd/daily/1859.csv.gz\n",
      "122.6 K  980.8 K                                /data/ghcnd/daily/1860.csv.gz\n",
      "126.7 K  1013.7 K                               /data/ghcnd/daily/1861.csv.gz\n",
      "122.8 K  982.2 K                                /data/ghcnd/daily/1862.csv.gz\n",
      "138.0 K  1.1 M                                  /data/ghcnd/daily/1863.csv.gz\n",
      "136.5 K  1.1 M                                  /data/ghcnd/daily/1864.csv.gz\n",
      "141.9 K  1.1 M                                  /data/ghcnd/daily/1865.csv.gz\n",
      "184.0 K  1.4 M                                  /data/ghcnd/daily/1866.csv.gz\n",
      "232.3 K  1.8 M                                  /data/ghcnd/daily/1867.csv.gz\n",
      "251.5 K  2.0 M                                  /data/ghcnd/daily/1868.csv.gz\n",
      "298.1 K  2.3 M                                  /data/ghcnd/daily/1869.csv.gz\n",
      "346.8 K  2.7 M                                  /data/ghcnd/daily/1870.csv.gz\n",
      "467.1 K  3.6 M                                  /data/ghcnd/daily/1871.csv.gz\n",
      "637.2 K  5.0 M                                  /data/ghcnd/daily/1872.csv.gz\n",
      "717.5 K  5.6 M                                  /data/ghcnd/daily/1873.csv.gz\n",
      "801.6 K  6.3 M                                  /data/ghcnd/daily/1874.csv.gz\n",
      "883.7 K  6.9 M                                  /data/ghcnd/daily/1875.csv.gz\n",
      "976.5 K  7.6 M                                  /data/ghcnd/daily/1876.csv.gz\n",
      "1.1 M    8.5 M                                  /data/ghcnd/daily/1877.csv.gz\n",
      "1.3 M    10.2 M                                 /data/ghcnd/daily/1878.csv.gz\n",
      "1.5 M    11.7 M                                 /data/ghcnd/daily/1879.csv.gz\n",
      "1.8 M    14.5 M                                 /data/ghcnd/daily/1880.csv.gz\n",
      "2.3 M    18.5 M                                 /data/ghcnd/daily/1881.csv.gz\n",
      "2.7 M    21.2 M                                 /data/ghcnd/daily/1882.csv.gz\n",
      "3.0 M    23.8 M                                 /data/ghcnd/daily/1883.csv.gz\n",
      "3.6 M    28.8 M                                 /data/ghcnd/daily/1884.csv.gz\n",
      "4.1 M    33.2 M                                 /data/ghcnd/daily/1885.csv.gz\n",
      "4.6 M    36.6 M                                 /data/ghcnd/daily/1886.csv.gz\n",
      "5.1 M    41.2 M                                 /data/ghcnd/daily/1887.csv.gz\n",
      "5.5 M    44.4 M                                 /data/ghcnd/daily/1888.csv.gz\n",
      "6.0 M    48.3 M                                 /data/ghcnd/daily/1889.csv.gz\n",
      "6.6 M    52.8 M                                 /data/ghcnd/daily/1890.csv.gz\n",
      "6.9 M    55.3 M                                 /data/ghcnd/daily/1891.csv.gz\n",
      "8.1 M    64.6 M                                 /data/ghcnd/daily/1892.csv.gz\n",
      "14.8 M   118.4 M                                /data/ghcnd/daily/1893.csv.gz\n",
      "15.8 M   126.4 M                                /data/ghcnd/daily/1894.csv.gz\n",
      "17.1 M   136.7 M                                /data/ghcnd/daily/1895.csv.gz\n",
      "18.4 M   147.5 M                                /data/ghcnd/daily/1896.csv.gz\n",
      "19.9 M   159.2 M                                /data/ghcnd/daily/1897.csv.gz\n",
      "20.8 M   166.3 M                                /data/ghcnd/daily/1898.csv.gz\n",
      "21.6 M   173.2 M                                /data/ghcnd/daily/1899.csv.gz\n",
      "23.2 M   185.7 M                                /data/ghcnd/daily/1900.csv.gz\n",
      "30.2 M   241.9 M                                /data/ghcnd/daily/1901.csv.gz\n",
      "31.4 M   250.9 M                                /data/ghcnd/daily/1902.csv.gz\n",
      "32.1 M   256.8 M                                /data/ghcnd/daily/1903.csv.gz\n",
      "33.2 M   265.6 M                                /data/ghcnd/daily/1904.csv.gz\n",
      "34.9 M   279.1 M                                /data/ghcnd/daily/1905.csv.gz\n",
      "35.7 M   286.0 M                                /data/ghcnd/daily/1906.csv.gz\n",
      "36.9 M   294.9 M                                /data/ghcnd/daily/1907.csv.gz\n",
      "37.7 M   301.7 M                                /data/ghcnd/daily/1908.csv.gz\n",
      "39.7 M   317.4 M                                /data/ghcnd/daily/1909.csv.gz\n",
      "41.1 M   328.5 M                                /data/ghcnd/daily/1910.csv.gz\n",
      "42.7 M   341.6 M                                /data/ghcnd/daily/1911.csv.gz\n",
      "44.4 M   355.6 M                                /data/ghcnd/daily/1912.csv.gz\n",
      "45.7 M   365.9 M                                /data/ghcnd/daily/1913.csv.gz\n",
      "47.2 M   377.8 M                                /data/ghcnd/daily/1914.csv.gz\n",
      "48.7 M   389.6 M                                /data/ghcnd/daily/1915.csv.gz\n",
      "50.3 M   402.6 M                                /data/ghcnd/daily/1916.csv.gz\n",
      "50.6 M   404.7 M                                /data/ghcnd/daily/1917.csv.gz\n",
      "49.4 M   394.8 M                                /data/ghcnd/daily/1918.csv.gz\n",
      "48.8 M   390.4 M                                /data/ghcnd/daily/1919.csv.gz\n",
      "49.1 M   393.1 M                                /data/ghcnd/daily/1920.csv.gz\n",
      "49.6 M   396.6 M                                /data/ghcnd/daily/1921.csv.gz\n",
      "50.5 M   404.3 M                                /data/ghcnd/daily/1922.csv.gz\n",
      "51.5 M   412.4 M                                /data/ghcnd/daily/1923.csv.gz\n",
      "52.6 M   420.5 M                                /data/ghcnd/daily/1924.csv.gz\n",
      "52.9 M   423.3 M                                /data/ghcnd/daily/1925.csv.gz\n",
      "54.3 M   434.6 M                                /data/ghcnd/daily/1926.csv.gz\n",
      "55.3 M   442.6 M                                /data/ghcnd/daily/1927.csv.gz\n",
      "56.1 M   448.4 M                                /data/ghcnd/daily/1928.csv.gz\n",
      "57.3 M   458.0 M                                /data/ghcnd/daily/1929.csv.gz\n",
      "58.9 M   471.4 M                                /data/ghcnd/daily/1930.csv.gz\n",
      "60.9 M   487.4 M                                /data/ghcnd/daily/1931.csv.gz\n",
      "62.1 M   497.0 M                                /data/ghcnd/daily/1932.csv.gz\n",
      "62.8 M   502.0 M                                /data/ghcnd/daily/1933.csv.gz\n",
      "63.2 M   505.9 M                                /data/ghcnd/daily/1934.csv.gz\n",
      "64.4 M   514.9 M                                /data/ghcnd/daily/1935.csv.gz\n",
      "68.8 M   550.2 M                                /data/ghcnd/daily/1936.csv.gz\n",
      "70.5 M   564.2 M                                /data/ghcnd/daily/1937.csv.gz\n",
      "72.0 M   576.1 M                                /data/ghcnd/daily/1938.csv.gz\n",
      "74.3 M   594.2 M                                /data/ghcnd/daily/1939.csv.gz\n",
      "77.1 M   616.4 M                                /data/ghcnd/daily/1940.csv.gz\n",
      "79.6 M   636.5 M                                /data/ghcnd/daily/1941.csv.gz\n",
      "82.1 M   656.7 M                                /data/ghcnd/daily/1942.csv.gz\n",
      "83.3 M   666.8 M                                /data/ghcnd/daily/1943.csv.gz\n",
      "85.4 M   683.5 M                                /data/ghcnd/daily/1944.csv.gz\n",
      "88.6 M   708.7 M                                /data/ghcnd/daily/1945.csv.gz\n",
      "89.3 M   714.4 M                                /data/ghcnd/daily/1946.csv.gz\n",
      "91.7 M   734.0 M                                /data/ghcnd/daily/1947.csv.gz\n",
      "108.7 M  869.3 M                                /data/ghcnd/daily/1948.csv.gz\n",
      "123.6 M  988.6 M                                /data/ghcnd/daily/1949.csv.gz\n",
      "127.2 M  1017.9 M                               /data/ghcnd/daily/1950.csv.gz\n",
      "132.1 M  1.0 G                                  /data/ghcnd/daily/1951.csv.gz\n",
      "134.0 M  1.0 G                                  /data/ghcnd/daily/1952.csv.gz\n",
      "135.8 M  1.1 G                                  /data/ghcnd/daily/1953.csv.gz\n",
      "138.6 M  1.1 G                                  /data/ghcnd/daily/1954.csv.gz\n",
      "141.7 M  1.1 G                                  /data/ghcnd/daily/1955.csv.gz\n",
      "144.4 M  1.1 G                                  /data/ghcnd/daily/1956.csv.gz\n",
      "147.6 M  1.2 G                                  /data/ghcnd/daily/1957.csv.gz\n",
      "149.3 M  1.2 G                                  /data/ghcnd/daily/1958.csv.gz\n",
      "153.1 M  1.2 G                                  /data/ghcnd/daily/1959.csv.gz\n",
      "156.3 M  1.2 G                                  /data/ghcnd/daily/1960.csv.gz\n",
      "161.8 M  1.3 G                                  /data/ghcnd/daily/1961.csv.gz\n",
      "165.4 M  1.3 G                                  /data/ghcnd/daily/1962.csv.gz\n",
      "169.5 M  1.3 G                                  /data/ghcnd/daily/1963.csv.gz\n",
      "170.6 M  1.3 G                                  /data/ghcnd/daily/1964.csv.gz\n",
      "175.8 M  1.4 G                                  /data/ghcnd/daily/1965.csv.gz\n",
      "178.4 M  1.4 G                                  /data/ghcnd/daily/1966.csv.gz\n",
      "180.5 M  1.4 G                                  /data/ghcnd/daily/1967.csv.gz\n",
      "180.4 M  1.4 G                                  /data/ghcnd/daily/1968.csv.gz\n",
      "182.5 M  1.4 G                                  /data/ghcnd/daily/1969.csv.gz\n",
      "184.0 M  1.4 G                                  /data/ghcnd/daily/1970.csv.gz\n",
      "175.3 M  1.4 G                                  /data/ghcnd/daily/1971.csv.gz\n",
      "174.3 M  1.4 G                                  /data/ghcnd/daily/1972.csv.gz\n",
      "182.9 M  1.4 G                                  /data/ghcnd/daily/1973.csv.gz\n",
      "184.4 M  1.4 G                                  /data/ghcnd/daily/1974.csv.gz\n",
      "183.8 M  1.4 G                                  /data/ghcnd/daily/1975.csv.gz\n",
      "183.7 M  1.4 G                                  /data/ghcnd/daily/1976.csv.gz\n",
      "183.4 M  1.4 G                                  /data/ghcnd/daily/1977.csv.gz\n",
      "184.0 M  1.4 G                                  /data/ghcnd/daily/1978.csv.gz\n",
      "184.6 M  1.4 G                                  /data/ghcnd/daily/1979.csv.gz\n",
      "185.4 M  1.4 G                                  /data/ghcnd/daily/1980.csv.gz\n",
      "189.4 M  1.5 G                                  /data/ghcnd/daily/1981.csv.gz\n",
      "191.1 M  1.5 G                                  /data/ghcnd/daily/1982.csv.gz\n",
      "192.8 M  1.5 G                                  /data/ghcnd/daily/1983.csv.gz\n",
      "189.8 M  1.5 G                                  /data/ghcnd/daily/1984.csv.gz\n",
      "188.1 M  1.5 G                                  /data/ghcnd/daily/1985.csv.gz\n",
      "186.7 M  1.5 G                                  /data/ghcnd/daily/1986.csv.gz\n",
      "186.7 M  1.5 G                                  /data/ghcnd/daily/1987.csv.gz\n",
      "187.6 M  1.5 G                                  /data/ghcnd/daily/1988.csv.gz\n",
      "188.0 M  1.5 G                                  /data/ghcnd/daily/1989.csv.gz\n",
      "188.1 M  1.5 G                                  /data/ghcnd/daily/1990.csv.gz\n",
      "188.6 M  1.5 G                                  /data/ghcnd/daily/1991.csv.gz\n",
      "188.6 M  1.5 G                                  /data/ghcnd/daily/1992.csv.gz\n",
      "187.1 M  1.5 G                                  /data/ghcnd/daily/1993.csv.gz\n",
      "186.0 M  1.5 G                                  /data/ghcnd/daily/1994.csv.gz\n",
      "185.5 M  1.4 G                                  /data/ghcnd/daily/1995.csv.gz\n",
      "185.6 M  1.5 G                                  /data/ghcnd/daily/1996.csv.gz\n",
      "183.9 M  1.4 G                                  /data/ghcnd/daily/1997.csv.gz\n",
      "185.3 M  1.4 G                                  /data/ghcnd/daily/1998.csv.gz\n",
      "188.0 M  1.5 G                                  /data/ghcnd/daily/1999.csv.gz\n",
      "189.7 M  1.5 G                                  /data/ghcnd/daily/2000.csv.gz\n",
      "191.8 M  1.5 G                                  /data/ghcnd/daily/2001.csv.gz\n",
      "193.9 M  1.5 G                                  /data/ghcnd/daily/2002.csv.gz\n",
      "198.4 M  1.5 G                                  /data/ghcnd/daily/2003.csv.gz\n",
      "201.8 M  1.6 G                                  /data/ghcnd/daily/2004.csv.gz\n",
      "199.2 M  1.6 G                                  /data/ghcnd/daily/2005.csv.gz\n",
      "201.1 M  1.6 G                                  /data/ghcnd/daily/2006.csv.gz\n",
      "205.2 M  1.6 G                                  /data/ghcnd/daily/2007.csv.gz\n",
      "215.5 M  1.7 G                                  /data/ghcnd/daily/2008.csv.gz\n",
      "219.7 M  1.7 G                                  /data/ghcnd/daily/2009.csv.gz\n",
      "221.3 M  1.7 G                                  /data/ghcnd/daily/2010.csv.gz\n",
      "210.6 M  1.6 G                                  /data/ghcnd/daily/2011.csv.gz\n",
      "206.5 M  1.6 G                                  /data/ghcnd/daily/2012.csv.gz\n",
      "200.7 M  1.6 G                                  /data/ghcnd/daily/2013.csv.gz\n",
      "195.9 M  1.5 G                                  /data/ghcnd/daily/2014.csv.gz\n",
      "198.0 M  1.5 G                                  /data/ghcnd/daily/2015.csv.gz\n",
      "199.9 M  1.6 G                                  /data/ghcnd/daily/2016.csv.gz\n",
      "197.7 M  1.5 G                                  /data/ghcnd/daily/2017.csv.gz\n",
      "155.6 M  1.2 G                                  /data/ghcnd/daily/2018.csv.gz\n",
      "154.4 M  1.2 G                                  /data/ghcnd/daily/2019.csv.gz\n",
      "154.5 M  1.2 G                                  /data/ghcnd/daily/2020.csv.gz\n",
      "152.2 M  1.2 G                                  /data/ghcnd/daily/2021.csv.gz\n",
      "84.1 M   672.9 M                                /data/ghcnd/daily/2022.csv.gz\n"
     ]
    }
   ],
   "source": [
    "!hdfs dfs -du -h -v /data/ghcnd/daily"
   ]
  },
  {
   "cell_type": "code",
   "execution_count": 71,
   "metadata": {},
   "outputs": [],
   "source": [
    "# DateTime and Timestamp does not work for the schema\n",
    "\n",
    "daily_schema = StructType([\n",
    "    StructField('ID', StringType()),\n",
    "    StructField('DATE', StringType()),\n",
    "    StructField('ELEMENT', StringType()),\n",
    "    StructField('VALUE', FloatType()),\n",
    "    StructField('MEASUREMENT_FLAG', StringType()),\n",
    "    StructField('QUALITY_FLAG', StringType()),\n",
    "    StructField('SOURCE_FLAG', StringType()),\n",
    "    StructField('OBSERVATION_TIME', StringType())\n",
    "])"
   ]
  },
  {
   "cell_type": "code",
   "execution_count": 72,
   "metadata": {
    "scrolled": true
   },
   "outputs": [
    {
     "name": "stdout",
     "output_type": "stream",
     "text": [
      "+-----------+--------+-------+-----+----------------+------------+-----------+----------------+\n",
      "|ID         |DATE    |ELEMENT|VALUE|MEASUREMENT_FLAG|QUALITY_FLAG|SOURCE_FLAG|OBSERVATION_TIME|\n",
      "+-----------+--------+-------+-----+----------------+------------+-----------+----------------+\n",
      "|AE000041196|20220101|TAVG   |204.0|H               |null        |S          |null            |\n",
      "|AEM00041194|20220101|TAVG   |211.0|H               |null        |S          |null            |\n",
      "|AEM00041217|20220101|TAVG   |209.0|H               |null        |S          |null            |\n",
      "|AEM00041218|20220101|TAVG   |207.0|H               |null        |S          |null            |\n",
      "|AG000060390|20220101|TAVG   |121.0|H               |null        |S          |null            |\n",
      "|AG000060590|20220101|TAVG   |151.0|H               |null        |S          |null            |\n",
      "|AG000060611|20220101|TAVG   |111.0|H               |null        |S          |null            |\n",
      "|AGE00147708|20220101|TMIN   |73.0 |null            |null        |S          |null            |\n",
      "|AGE00147708|20220101|PRCP   |0.0  |null            |null        |S          |null            |\n",
      "|AGE00147708|20220101|TAVG   |133.0|H               |null        |S          |null            |\n",
      "|AGE00147716|20220101|TMIN   |107.0|null            |null        |S          |null            |\n",
      "|AGE00147716|20220101|PRCP   |0.0  |null            |null        |S          |null            |\n",
      "|AGE00147716|20220101|TAVG   |133.0|H               |null        |S          |null            |\n",
      "|AGE00147718|20220101|TMIN   |90.0 |null            |null        |S          |null            |\n",
      "|AGE00147718|20220101|TAVG   |152.0|H               |null        |S          |null            |\n",
      "+-----------+--------+-------+-----+----------------+------------+-----------+----------------+\n",
      "only showing top 15 rows\n",
      "\n"
     ]
    }
   ],
   "source": [
    "daily_info = (spark.read.format(\"com.databricks.spark.csv\")\n",
    "              .option(\"header\", \"false\")\n",
    "              .option(\"inferSchema\", \"false\")\n",
    "              .schema(daily_schema)\n",
    "              .load(\"hdfs:///data/ghcnd/daily/2022.csv.gz\")\n",
    "              .limit(1000))\n",
    "daily_info.cache()\n",
    "daily_info.show(15, False)"
   ]
  },
  {
   "cell_type": "code",
   "execution_count": 12,
   "metadata": {
    "scrolled": true
   },
   "outputs": [
    {
     "name": "stdout",
     "output_type": "stream",
     "text": [
      "AE000041196,20220101,TAVG,204,H,,S,\r\n",
      "AEM00041194,20220101,TAVG,211,H,,S,\r\n",
      "AEM00041217,20220101,TAVG,209,H,,S,\r\n",
      "AEM00041218,20220101,TAVG,207,H,,S,\r\n",
      "AG000060390,20220101,TAVG,121,H,,S,\r\n",
      "AG000060590,20220101,TAVG,151,H,,S,\r\n",
      "AG000060611,20220101,TAVG,111,H,,S,\r\n",
      "AGE00147708,20220101,TMIN,73,,,S,\r\n",
      "AGE00147708,20220101,PRCP,0,,,S,\r\n",
      "AGE00147708,20220101,TAVG,133,H,,S,\r\n",
      "\r\n",
      "gzip: stdout: Broken pipe\r\n",
      "cat: Unable to write to output stream.\r\n"
     ]
    }
   ],
   "source": [
    "!hdfs dfs -cat /data/ghcnd/daily/2022.csv.gz | zcat | head"
   ]
  },
  {
   "cell_type": "code",
   "execution_count": 73,
   "metadata": {
    "scrolled": true
   },
   "outputs": [
    {
     "name": "stdout",
     "output_type": "stream",
     "text": [
      "+-------------------------------------------------------------------------------------+\n",
      "|value                                                                                |\n",
      "+-------------------------------------------------------------------------------------+\n",
      "|ACW00011604  17.1167  -61.7833   10.1    ST JOHNS COOLIDGE FLD                       |\n",
      "|ACW00011647  17.1333  -61.7833   19.2    ST JOHNS                                    |\n",
      "|AE000041196  25.3330   55.5170   34.0    SHARJAH INTER. AIRP            GSN     41196|\n",
      "|AEM00041194  25.2550   55.3640   10.4    DUBAI INTL                             41194|\n",
      "|AEM00041217  24.4330   54.6510   26.8    ABU DHABI INTL                         41217|\n",
      "|AEM00041218  24.2620   55.6090  264.9    AL AIN INTL                            41218|\n",
      "|AF000040930  35.3170   69.0170 3366.0    NORTH-SALANG                   GSN     40930|\n",
      "|AFM00040938  34.2100   62.2280  977.2    HERAT                                  40938|\n",
      "|AFM00040948  34.5660   69.2120 1791.3    KABUL INTL                             40948|\n",
      "|AFM00040990  31.5000   65.8500 1010.0    KANDAHAR AIRPORT                       40990|\n",
      "|AG000060390  36.7167    3.2500   24.0    ALGER-DAR EL BEIDA             GSN     60390|\n",
      "|AG000060590  30.5667    2.8667  397.0    EL-GOLEA                       GSN     60590|\n",
      "|AG000060611  28.0500    9.6331  561.0    IN-AMENAS                      GSN     60611|\n",
      "|AG000060680  22.8000    5.4331 1362.0    TAMANRASSET                    GSN     60680|\n",
      "|AGE00135039  35.7297    0.6500   50.0    ORAN-HOPITAL MILITAIRE                      |\n",
      "+-------------------------------------------------------------------------------------+\n",
      "only showing top 15 rows\n",
      "\n"
     ]
    }
   ],
   "source": [
    "station_info = (\n",
    "spark.read.format(\"text\")\n",
    ".load(\"hdfs:///data/ghcnd/ghcnd-stations.txt\"))\n",
    "station_info.show(15,False)"
   ]
  },
  {
   "cell_type": "code",
   "execution_count": 138,
   "metadata": {
    "scrolled": true
   },
   "outputs": [
    {
     "name": "stdout",
     "output_type": "stream",
     "text": [
      "+-----------+--------+---------+---------+----------+-------------------------------+--------+------------+------+\n",
      "|ID         |LATITUDE|LONGITUDE|ELEVATION|STATE_CODE|STATION_NAME                   |GSN_FLAG|HCN_CRN_FLAG|WMO_ID|\n",
      "+-----------+--------+---------+---------+----------+-------------------------------+--------+------------+------+\n",
      "|ACW00011604|17.116  |-61.783  |10.1     |          |ST JOHNS COOLIDGE FLD          |        |            |      |\n",
      "|ACW00011647|17.133  |-61.783  |19.2     |          |ST JOHNS                       |        |            |      |\n",
      "|AE000041196|25.333  |55.517   |34.0     |          |SHARJAH INTER. AIRP            |GSN     |            |41196 |\n",
      "|AEM00041194|25.255  |55.364   |10.4     |          |DUBAI INTL                     |        |            |41194 |\n",
      "|AEM00041217|24.433  |54.651   |26.8     |          |ABU DHABI INTL                 |        |            |41217 |\n",
      "|AEM00041218|24.262  |55.609   |264.9    |          |AL AIN INTL                    |        |            |41218 |\n",
      "|AF000040930|35.317  |69.017   |3366.0   |          |NORTH-SALANG                   |GSN     |            |40930 |\n",
      "|AFM00040938|34.21   |62.228   |977.2    |          |HERAT                          |        |            |40938 |\n",
      "|AFM00040948|34.566  |69.212   |1791.3   |          |KABUL INTL                     |        |            |40948 |\n",
      "|AFM00040990|31.5    |65.85    |1010.0   |          |KANDAHAR AIRPORT               |        |            |40990 |\n",
      "|AG000060390|36.716  |3.25     |24.0     |          |ALGER-DAR EL BEIDA             |GSN     |            |60390 |\n",
      "|AG000060590|30.566  |2.866    |397.0    |          |EL-GOLEA                       |GSN     |            |60590 |\n",
      "|AG000060611|28.05   |9.633    |561.0    |          |IN-AMENAS                      |GSN     |            |60611 |\n",
      "|AG000060680|22.8    |5.433    |1362.0   |          |TAMANRASSET                    |GSN     |            |60680 |\n",
      "|AGE00135039|35.729  |0.65     |50.0     |          |ORAN-HOPITAL MILITAIRE         |        |            |      |\n",
      "+-----------+--------+---------+---------+----------+-------------------------------+--------+------------+------+\n",
      "only showing top 15 rows\n",
      "\n"
     ]
    },
    {
     "data": {
      "text/plain": [
       "122047"
      ]
     },
     "execution_count": 138,
     "metadata": {},
     "output_type": "execute_result"
    }
   ],
   "source": [
    "stations = station_info.select(station_info.value.substr(1,11).cast(\"string\").alias(\"ID\"),\n",
    "                    station_info.value.substr(13,7).cast(\"float\").alias(\"LATITUDE\"),\n",
    "                    station_info.value.substr(22,8).cast(\"float\").alias(\"LONGITUDE\"),\n",
    "                    station_info.value.substr(32,7).cast(\"float\").alias(\"ELEVATION\"),\n",
    "                    station_info.value.substr(39,2).cast(\"string\").alias(\"STATE_CODE\"),\n",
    "                    station_info.value.substr(42,31).cast(\"string\").alias(\"STATION_NAME\"),\n",
    "                    station_info.value.substr(73,3).cast(\"string\").alias(\"GSN_FLAG\"),\n",
    "                    station_info.value.substr(77,3).cast(\"string\").alias(\"HCN_CRN_FLAG\"),\n",
    "                    station_info.value.substr(81,6).cast(\"string\").alias(\"WMO_ID\")\n",
    "                   )\n",
    "stations.show(15,False)\n",
    "stations.count()\n"
   ]
  },
  {
   "cell_type": "code",
   "execution_count": 93,
   "metadata": {},
   "outputs": [
    {
     "data": {
      "text/plain": [
       "113953"
      ]
     },
     "execution_count": 93,
     "metadata": {},
     "output_type": "execute_result"
    }
   ],
   "source": [
    "stations.filter(stations.WMO_ID == \"     \").count()"
   ]
  },
  {
   "cell_type": "code",
   "execution_count": 139,
   "metadata": {
    "scrolled": true
   },
   "outputs": [
    {
     "name": "stdout",
     "output_type": "stream",
     "text": [
      "+--------------------------------------------------+\n",
      "|value                                             |\n",
      "+--------------------------------------------------+\n",
      "|AB ALBERTA                                        |\n",
      "|AK ALASKA                                         |\n",
      "|AL ALABAMA                                        |\n",
      "|AR ARKANSAS                                       |\n",
      "|AS AMERICAN SAMOA                                 |\n",
      "|AZ ARIZONA                                        |\n",
      "|BC BRITISH COLUMBIA                               |\n",
      "|CA CALIFORNIA                                     |\n",
      "|CO COLORADO                                       |\n",
      "|CT CONNECTICUT                                    |\n",
      "|DC DISTRICT OF COLUMBIA                           |\n",
      "|DE DELAWARE                                       |\n",
      "|FL FLORIDA                                        |\n",
      "|FM MICRONESIA                                     |\n",
      "|GA GEORGIA                                        |\n",
      "+--------------------------------------------------+\n",
      "only showing top 15 rows\n",
      "\n"
     ]
    }
   ],
   "source": [
    "state_info = (\n",
    "spark.read.format(\"text\")\n",
    ".load(\"hdfs:///data/ghcnd/ghcnd-states.txt\"))\n",
    "state_info.show(15,False)"
   ]
  },
  {
   "cell_type": "code",
   "execution_count": 140,
   "metadata": {},
   "outputs": [
    {
     "name": "stdout",
     "output_type": "stream",
     "text": [
      "+----------+----------------------------------------------+\n",
      "|STATE_CODE|STATE_NAME                                    |\n",
      "+----------+----------------------------------------------+\n",
      "|AB        |ALBERTA                                       |\n",
      "|AK        |ALASKA                                        |\n",
      "|AL        |ALABAMA                                       |\n",
      "|AR        |ARKANSAS                                      |\n",
      "|AS        |AMERICAN SAMOA                                |\n",
      "|AZ        |ARIZONA                                       |\n",
      "|BC        |BRITISH COLUMBIA                              |\n",
      "|CA        |CALIFORNIA                                    |\n",
      "|CO        |COLORADO                                      |\n",
      "|CT        |CONNECTICUT                                   |\n",
      "|DC        |DISTRICT OF COLUMBIA                          |\n",
      "|DE        |DELAWARE                                      |\n",
      "|FL        |FLORIDA                                       |\n",
      "|FM        |MICRONESIA                                    |\n",
      "|GA        |GEORGIA                                       |\n",
      "+----------+----------------------------------------------+\n",
      "only showing top 15 rows\n",
      "\n"
     ]
    },
    {
     "data": {
      "text/plain": [
       "74"
      ]
     },
     "execution_count": 140,
     "metadata": {},
     "output_type": "execute_result"
    }
   ],
   "source": [
    "states = state_info.select(state_info.value.substr(1,2).cast(\"string\").alias(\"STATE_CODE\"),\n",
    "                    state_info.value.substr(4,46).cast(\"string\").alias(\"STATE_NAME\")\n",
    "                    )\n",
    "\n",
    "states.show(15,False)\n",
    "states.count()"
   ]
  },
  {
   "cell_type": "code",
   "execution_count": 78,
   "metadata": {},
   "outputs": [
    {
     "name": "stdout",
     "output_type": "stream",
     "text": [
      "+----------------------------------+\n",
      "|value                             |\n",
      "+----------------------------------+\n",
      "|AC Antigua and Barbuda            |\n",
      "|AE United Arab Emirates           |\n",
      "|AF Afghanistan                    |\n",
      "|AG Algeria                        |\n",
      "|AJ Azerbaijan                     |\n",
      "|AL Albania                        |\n",
      "|AM Armenia                        |\n",
      "|AO Angola                         |\n",
      "|AQ American Samoa [United States] |\n",
      "|AR Argentina                      |\n",
      "|AS Australia                      |\n",
      "|AU Austria                        |\n",
      "|AY Antarctica                     |\n",
      "|BA Bahrain                        |\n",
      "|BB Barbados                       |\n",
      "+----------------------------------+\n",
      "only showing top 15 rows\n",
      "\n"
     ]
    }
   ],
   "source": [
    "country_info = (\n",
    "spark.read.format(\"text\")\n",
    ".load(\"hdfs:///data/ghcnd/ghcnd-countries.txt\"))\n",
    "country_info.show(15,False)"
   ]
  },
  {
   "cell_type": "code",
   "execution_count": 144,
   "metadata": {},
   "outputs": [
    {
     "name": "stdout",
     "output_type": "stream",
     "text": [
      "+----+-------------------------------+\n",
      "|CODE|COUNTRY_NAME                   |\n",
      "+----+-------------------------------+\n",
      "|AC  |Antigua and Barbuda            |\n",
      "|AE  |United Arab Emirates           |\n",
      "|AF  |Afghanistan                    |\n",
      "|AG  |Algeria                        |\n",
      "|AJ  |Azerbaijan                     |\n",
      "|AL  |Albania                        |\n",
      "|AM  |Armenia                        |\n",
      "|AO  |Angola                         |\n",
      "|AQ  |American Samoa [United States] |\n",
      "|AR  |Argentina                      |\n",
      "|AS  |Australia                      |\n",
      "|AU  |Austria                        |\n",
      "|AY  |Antarctica                     |\n",
      "|BA  |Bahrain                        |\n",
      "|BB  |Barbados                       |\n",
      "+----+-------------------------------+\n",
      "only showing top 15 rows\n",
      "\n"
     ]
    },
    {
     "data": {
      "text/plain": [
       "219"
      ]
     },
     "execution_count": 144,
     "metadata": {},
     "output_type": "execute_result"
    }
   ],
   "source": [
    "countries = country_info.select(country_info.value.substr(1,2).cast(\"string\").alias(\"CODE\"),\n",
    "                    country_info.value.substr(4,60).cast(\"string\").alias(\"COUNTRY_NAME\")\n",
    "                    )\n",
    "\n",
    "countries.cache\n",
    "countries.show(15,False)\n",
    "countries.count()\n"
   ]
  },
  {
   "cell_type": "code",
   "execution_count": 145,
   "metadata": {},
   "outputs": [
    {
     "name": "stdout",
     "output_type": "stream",
     "text": [
      "+---------------------------------------------+\n",
      "|value                                        |\n",
      "+---------------------------------------------+\n",
      "|ACW00011604  17.1167  -61.7833 TMAX 1949 1949|\n",
      "|ACW00011604  17.1167  -61.7833 TMIN 1949 1949|\n",
      "|ACW00011604  17.1167  -61.7833 PRCP 1949 1949|\n",
      "|ACW00011604  17.1167  -61.7833 SNOW 1949 1949|\n",
      "|ACW00011604  17.1167  -61.7833 SNWD 1949 1949|\n",
      "|ACW00011604  17.1167  -61.7833 PGTM 1949 1949|\n",
      "|ACW00011604  17.1167  -61.7833 WDFG 1949 1949|\n",
      "|ACW00011604  17.1167  -61.7833 WSFG 1949 1949|\n",
      "|ACW00011604  17.1167  -61.7833 WT03 1949 1949|\n",
      "|ACW00011604  17.1167  -61.7833 WT08 1949 1949|\n",
      "|ACW00011604  17.1167  -61.7833 WT16 1949 1949|\n",
      "|ACW00011647  17.1333  -61.7833 TMAX 1961 1961|\n",
      "|ACW00011647  17.1333  -61.7833 TMIN 1961 1961|\n",
      "|ACW00011647  17.1333  -61.7833 PRCP 1957 1970|\n",
      "|ACW00011647  17.1333  -61.7833 SNOW 1957 1970|\n",
      "+---------------------------------------------+\n",
      "only showing top 15 rows\n",
      "\n"
     ]
    }
   ],
   "source": [
    "inventory_info = (\n",
    "spark.read.format(\"text\")\n",
    ".load(\"hdfs:///data/ghcnd/ghcnd-inventory.txt\"))\n",
    "inventory_info.show(15,False)"
   ]
  },
  {
   "cell_type": "code",
   "execution_count": 159,
   "metadata": {},
   "outputs": [
    {
     "name": "stdout",
     "output_type": "stream",
     "text": [
      "+-----------+--------+---------+-------+---------+--------+\n",
      "|ID         |LATITUDE|LONGITUDE|ELEMENT|FIRSTYEAR|LASTYEAR|\n",
      "+-----------+--------+---------+-------+---------+--------+\n",
      "|ACW00011604|17.1167 |-61.7833 |TMAX   |1949     |1949    |\n",
      "|ACW00011604|17.1167 |-61.7833 |TMIN   |1949     |1949    |\n",
      "|ACW00011604|17.1167 |-61.7833 |PRCP   |1949     |1949    |\n",
      "|ACW00011604|17.1167 |-61.7833 |SNOW   |1949     |1949    |\n",
      "|ACW00011604|17.1167 |-61.7833 |SNWD   |1949     |1949    |\n",
      "|ACW00011604|17.1167 |-61.7833 |PGTM   |1949     |1949    |\n",
      "|ACW00011604|17.1167 |-61.7833 |WDFG   |1949     |1949    |\n",
      "|ACW00011604|17.1167 |-61.7833 |WSFG   |1949     |1949    |\n",
      "|ACW00011604|17.1167 |-61.7833 |WT03   |1949     |1949    |\n",
      "|ACW00011604|17.1167 |-61.7833 |WT08   |1949     |1949    |\n",
      "|ACW00011604|17.1167 |-61.7833 |WT16   |1949     |1949    |\n",
      "|ACW00011647|17.1333 |-61.7833 |TMAX   |1961     |1961    |\n",
      "|ACW00011647|17.1333 |-61.7833 |TMIN   |1961     |1961    |\n",
      "|ACW00011647|17.1333 |-61.7833 |PRCP   |1957     |1970    |\n",
      "|ACW00011647|17.1333 |-61.7833 |SNOW   |1957     |1970    |\n",
      "+-----------+--------+---------+-------+---------+--------+\n",
      "only showing top 15 rows\n",
      "\n"
     ]
    },
    {
     "data": {
      "text/plain": [
       "725754"
      ]
     },
     "execution_count": 159,
     "metadata": {},
     "output_type": "execute_result"
    }
   ],
   "source": [
    "inventories = inventory_info.select(inventory_info.value.substr(1,11).cast(\"string\").alias(\"ID\"),\n",
    "                    inventory_info.value.substr(13,8).cast(\"float\").alias(\"LATITUDE\"),\n",
    "                      inventory_info.value.substr(22,9).cast(\"float\").alias(\"LONGITUDE\"),\n",
    "                      inventory_info.value.substr(32,4).cast(\"string\").alias(\"ELEMENT\"),\n",
    "                      inventory_info.value.substr(37,4).cast(\"integer\").alias(\"FIRSTYEAR\"),\n",
    "                      inventory_info.value.substr(42,4).cast(\"integer\").alias(\"LASTYEAR\")\n",
    "                    )\n",
    "\n",
    "inventories.show(15,False)\n",
    "inventories.count()"
   ]
  },
  {
   "cell_type": "code",
   "execution_count": 147,
   "metadata": {},
   "outputs": [
    {
     "name": "stdout",
     "output_type": "stream",
     "text": [
      "+-----------+--------+---------+---------+----------+-------------------------------+--------+------------+------+----+\n",
      "|ID         |LATITUDE|LONGITUDE|ELEVATION|STATE_CODE|STATION_NAME                   |GSN_FLAG|HCN_CRN_FLAG|WMO_ID|CODE|\n",
      "+-----------+--------+---------+---------+----------+-------------------------------+--------+------------+------+----+\n",
      "|ACW00011604|17.116  |-61.783  |10.1     |          |ST JOHNS COOLIDGE FLD          |        |            |      |AC  |\n",
      "|ACW00011647|17.133  |-61.783  |19.2     |          |ST JOHNS                       |        |            |      |AC  |\n",
      "|AE000041196|25.333  |55.517   |34.0     |          |SHARJAH INTER. AIRP            |GSN     |            |41196 |AE  |\n",
      "|AEM00041194|25.255  |55.364   |10.4     |          |DUBAI INTL                     |        |            |41194 |AE  |\n",
      "|AEM00041217|24.433  |54.651   |26.8     |          |ABU DHABI INTL                 |        |            |41217 |AE  |\n",
      "|AEM00041218|24.262  |55.609   |264.9    |          |AL AIN INTL                    |        |            |41218 |AE  |\n",
      "|AF000040930|35.317  |69.017   |3366.0   |          |NORTH-SALANG                   |GSN     |            |40930 |AF  |\n",
      "|AFM00040938|34.21   |62.228   |977.2    |          |HERAT                          |        |            |40938 |AF  |\n",
      "|AFM00040948|34.566  |69.212   |1791.3   |          |KABUL INTL                     |        |            |40948 |AF  |\n",
      "|AFM00040990|31.5    |65.85    |1010.0   |          |KANDAHAR AIRPORT               |        |            |40990 |AF  |\n",
      "|AG000060390|36.716  |3.25     |24.0     |          |ALGER-DAR EL BEIDA             |GSN     |            |60390 |AG  |\n",
      "|AG000060590|30.566  |2.866    |397.0    |          |EL-GOLEA                       |GSN     |            |60590 |AG  |\n",
      "|AG000060611|28.05   |9.633    |561.0    |          |IN-AMENAS                      |GSN     |            |60611 |AG  |\n",
      "|AG000060680|22.8    |5.433    |1362.0   |          |TAMANRASSET                    |GSN     |            |60680 |AG  |\n",
      "|AGE00135039|35.729  |0.65     |50.0     |          |ORAN-HOPITAL MILITAIRE         |        |            |      |AG  |\n",
      "+-----------+--------+---------+---------+----------+-------------------------------+--------+------------+------+----+\n",
      "only showing top 15 rows\n",
      "\n"
     ]
    }
   ],
   "source": [
    "stations = (\n",
    "stations\n",
    ".withColumn(\"CODE\", stations.ID[0:2]))\n",
    "stations.show(15, False)"
   ]
  },
  {
   "cell_type": "code",
   "execution_count": 148,
   "metadata": {
    "scrolled": true
   },
   "outputs": [
    {
     "name": "stdout",
     "output_type": "stream",
     "text": [
      "+----+-----------+--------+---------+---------+----------+-------------------------------+--------+------------+------+---------------------+\n",
      "|CODE|ID         |LATITUDE|LONGITUDE|ELEVATION|STATE_CODE|STATION_NAME                   |GSN_FLAG|HCN_CRN_FLAG|WMO_ID|COUNTRY_NAME         |\n",
      "+----+-----------+--------+---------+---------+----------+-------------------------------+--------+------------+------+---------------------+\n",
      "|AC  |ACW00011604|17.116  |-61.783  |10.1     |          |ST JOHNS COOLIDGE FLD          |        |            |      |Antigua and Barbuda  |\n",
      "|AC  |ACW00011647|17.133  |-61.783  |19.2     |          |ST JOHNS                       |        |            |      |Antigua and Barbuda  |\n",
      "|AE  |AE000041196|25.333  |55.517   |34.0     |          |SHARJAH INTER. AIRP            |GSN     |            |41196 |United Arab Emirates |\n",
      "|AE  |AEM00041194|25.255  |55.364   |10.4     |          |DUBAI INTL                     |        |            |41194 |United Arab Emirates |\n",
      "|AE  |AEM00041217|24.433  |54.651   |26.8     |          |ABU DHABI INTL                 |        |            |41217 |United Arab Emirates |\n",
      "|AE  |AEM00041218|24.262  |55.609   |264.9    |          |AL AIN INTL                    |        |            |41218 |United Arab Emirates |\n",
      "|AF  |AF000040930|35.317  |69.017   |3366.0   |          |NORTH-SALANG                   |GSN     |            |40930 |Afghanistan          |\n",
      "|AF  |AFM00040938|34.21   |62.228   |977.2    |          |HERAT                          |        |            |40938 |Afghanistan          |\n",
      "|AF  |AFM00040948|34.566  |69.212   |1791.3   |          |KABUL INTL                     |        |            |40948 |Afghanistan          |\n",
      "|AF  |AFM00040990|31.5    |65.85    |1010.0   |          |KANDAHAR AIRPORT               |        |            |40990 |Afghanistan          |\n",
      "|AG  |AG000060390|36.716  |3.25     |24.0     |          |ALGER-DAR EL BEIDA             |GSN     |            |60390 |Algeria              |\n",
      "|AG  |AG000060590|30.566  |2.866    |397.0    |          |EL-GOLEA                       |GSN     |            |60590 |Algeria              |\n",
      "|AG  |AG000060611|28.05   |9.633    |561.0    |          |IN-AMENAS                      |GSN     |            |60611 |Algeria              |\n",
      "|AG  |AG000060680|22.8    |5.433    |1362.0   |          |TAMANRASSET                    |GSN     |            |60680 |Algeria              |\n",
      "|AG  |AGE00135039|35.729  |0.65     |50.0     |          |ORAN-HOPITAL MILITAIRE         |        |            |      |Algeria              |\n",
      "+----+-----------+--------+---------+---------+----------+-------------------------------+--------+------------+------+---------------------+\n",
      "only showing top 15 rows\n",
      "\n"
     ]
    }
   ],
   "source": [
    "stations_countries = stations.join(\n",
    "  countries,\n",
    "  on=\"CODE\",\n",
    "  how=\"left\"\n",
    ")\n",
    "\n",
    "stations_countries.show(15,False)"
   ]
  },
  {
   "cell_type": "code",
   "execution_count": 155,
   "metadata": {
    "scrolled": false
   },
   "outputs": [
    {
     "name": "stdout",
     "output_type": "stream",
     "text": [
      "+----------+----+-----------+--------+---------+---------+-------------------------------+--------+------------+------+---------------------+----------+\n",
      "|STATE_CODE|CODE|ID         |LATITUDE|LONGITUDE|ELEVATION|STATION_NAME                   |GSN_FLAG|HCN_CRN_FLAG|WMO_ID|COUNTRY_NAME         |STATE_NAME|\n",
      "+----------+----+-----------+--------+---------+---------+-------------------------------+--------+------------+------+---------------------+----------+\n",
      "|          |AC  |ACW00011604|17.116  |-61.783  |10.1     |ST JOHNS COOLIDGE FLD          |        |            |      |Antigua and Barbuda  |          |\n",
      "|          |AC  |ACW00011647|17.133  |-61.783  |19.2     |ST JOHNS                       |        |            |      |Antigua and Barbuda  |          |\n",
      "|          |AE  |AE000041196|25.333  |55.517   |34.0     |SHARJAH INTER. AIRP            |GSN     |            |41196 |United Arab Emirates |          |\n",
      "|          |AE  |AEM00041194|25.255  |55.364   |10.4     |DUBAI INTL                     |        |            |41194 |United Arab Emirates |          |\n",
      "|          |AE  |AEM00041217|24.433  |54.651   |26.8     |ABU DHABI INTL                 |        |            |41217 |United Arab Emirates |          |\n",
      "|          |AE  |AEM00041218|24.262  |55.609   |264.9    |AL AIN INTL                    |        |            |41218 |United Arab Emirates |          |\n",
      "|          |AF  |AF000040930|35.317  |69.017   |3366.0   |NORTH-SALANG                   |GSN     |            |40930 |Afghanistan          |          |\n",
      "|          |AF  |AFM00040938|34.21   |62.228   |977.2    |HERAT                          |        |            |40938 |Afghanistan          |          |\n",
      "|          |AF  |AFM00040948|34.566  |69.212   |1791.3   |KABUL INTL                     |        |            |40948 |Afghanistan          |          |\n",
      "|          |AF  |AFM00040990|31.5    |65.85    |1010.0   |KANDAHAR AIRPORT               |        |            |40990 |Afghanistan          |          |\n",
      "|          |AG  |AG000060390|36.716  |3.25     |24.0     |ALGER-DAR EL BEIDA             |GSN     |            |60390 |Algeria              |          |\n",
      "|          |AG  |AG000060590|30.566  |2.866    |397.0    |EL-GOLEA                       |GSN     |            |60590 |Algeria              |          |\n",
      "|          |AG  |AG000060611|28.05   |9.633    |561.0    |IN-AMENAS                      |GSN     |            |60611 |Algeria              |          |\n",
      "|          |AG  |AG000060680|22.8    |5.433    |1362.0   |TAMANRASSET                    |GSN     |            |60680 |Algeria              |          |\n",
      "|          |AG  |AGE00135039|35.729  |0.65     |50.0     |ORAN-HOPITAL MILITAIRE         |        |            |      |Algeria              |          |\n",
      "+----------+----+-----------+--------+---------+---------+-------------------------------+--------+------------+------+---------------------+----------+\n",
      "only showing top 15 rows\n",
      "\n"
     ]
    }
   ],
   "source": [
    "stations_states = (stations_countries.join(\n",
    "  states,\n",
    "  on=\"STATE_CODE\",\n",
    "  how=\"left\"\n",
    ").fillna({\"STATE_NAME\":\"\"}))\n",
    "\n",
    "\n",
    "stations_states.show(15,False)"
   ]
  },
  {
   "cell_type": "code",
   "execution_count": 156,
   "metadata": {
    "scrolled": true
   },
   "outputs": [
    {
     "name": "stdout",
     "output_type": "stream",
     "text": [
      "+----------+----+-----------+--------+---------+---------+----------------------+--------+------------+------+--------------------+----------+\n",
      "|STATE_CODE|CODE|ID         |LATITUDE|LONGITUDE|ELEVATION|STATION_NAME          |GSN_FLAG|HCN_CRN_FLAG|WMO_ID|COUNTRY_NAME        |STATE_NAME|\n",
      "+----------+----+-----------+--------+---------+---------+----------------------+--------+------------+------+--------------------+----------+\n",
      "|          |AC  |ACW00011604|17.116  |-61.783  |10.1     |ST JOHNS COOLIDGE FLD |        |            |      |Antigua and Barbuda |          |\n",
      "|          |AC  |ACW00011647|17.133  |-61.783  |19.2     |ST JOHNS              |        |            |      |Antigua and Barbuda |          |\n",
      "|          |AE  |AE000041196|25.333  |55.517   |34.0     |SHARJAH INTER. AIRP   |GSN     |            |41196 |United Arab Emirates|          |\n",
      "|          |AE  |AEM00041194|25.255  |55.364   |10.4     |DUBAI INTL            |        |            |41194 |United Arab Emirates|          |\n",
      "|          |AE  |AEM00041217|24.433  |54.651   |26.8     |ABU DHABI INTL        |        |            |41217 |United Arab Emirates|          |\n",
      "|          |AE  |AEM00041218|24.262  |55.609   |264.9    |AL AIN INTL           |        |            |41218 |United Arab Emirates|          |\n",
      "|          |AF  |AF000040930|35.317  |69.017   |3366.0   |NORTH-SALANG          |GSN     |            |40930 |Afghanistan         |          |\n",
      "|          |AF  |AFM00040938|34.21   |62.228   |977.2    |HERAT                 |        |            |40938 |Afghanistan         |          |\n",
      "|          |AF  |AFM00040948|34.566  |69.212   |1791.3   |KABUL INTL            |        |            |40948 |Afghanistan         |          |\n",
      "|          |AF  |AFM00040990|31.5    |65.85    |1010.0   |KANDAHAR AIRPORT      |        |            |40990 |Afghanistan         |          |\n",
      "|          |AG  |AG000060390|36.716  |3.25     |24.0     |ALGER-DAR EL BEIDA    |GSN     |            |60390 |Algeria             |          |\n",
      "|          |AG  |AG000060590|30.566  |2.866    |397.0    |EL-GOLEA              |GSN     |            |60590 |Algeria             |          |\n",
      "|          |AG  |AG000060611|28.05   |9.633    |561.0    |IN-AMENAS             |GSN     |            |60611 |Algeria             |          |\n",
      "|          |AG  |AG000060680|22.8    |5.433    |1362.0   |TAMANRASSET           |GSN     |            |60680 |Algeria             |          |\n",
      "|          |AG  |AGE00135039|35.729  |0.65     |50.0     |ORAN-HOPITAL MILITAIRE|        |            |      |Algeria             |          |\n",
      "+----------+----+-----------+--------+---------+---------+----------------------+--------+------------+------+--------------------+----------+\n",
      "only showing top 15 rows\n",
      "\n"
     ]
    }
   ],
   "source": [
    "for colname in stations_states.columns:\n",
    "    if isinstance(stations_states.schema[colname].dataType,\n",
    "                 StringType):\n",
    "        stations_states = stations_states.withColumn(colname, F.trim(F.col(colname)))\n",
    "        \n",
    "stations_states.show(15,False)"
   ]
  },
  {
   "cell_type": "code",
   "execution_count": 157,
   "metadata": {},
   "outputs": [
    {
     "name": "stdout",
     "output_type": "stream",
     "text": [
      "+----------+----+-----------+--------+---------+---------+----------------------+--------+------------+------+--------------------+----------+\n",
      "|STATE_CODE|CODE|ID         |LATITUDE|LONGITUDE|ELEVATION|STATION_NAME          |GSN_FLAG|HCN_CRN_FLAG|WMO_ID|COUNTRY_NAME        |STATE_NAME|\n",
      "+----------+----+-----------+--------+---------+---------+----------------------+--------+------------+------+--------------------+----------+\n",
      "|N/A       |AC  |ACW00011604|17.116  |-61.783  |10.1     |ST JOHNS COOLIDGE FLD |        |            |      |Antigua and Barbuda |          |\n",
      "|N/A       |AC  |ACW00011647|17.133  |-61.783  |19.2     |ST JOHNS              |        |            |      |Antigua and Barbuda |          |\n",
      "|N/A       |AE  |AE000041196|25.333  |55.517   |34.0     |SHARJAH INTER. AIRP   |GSN     |            |41196 |United Arab Emirates|          |\n",
      "|N/A       |AE  |AEM00041194|25.255  |55.364   |10.4     |DUBAI INTL            |        |            |41194 |United Arab Emirates|          |\n",
      "|N/A       |AE  |AEM00041217|24.433  |54.651   |26.8     |ABU DHABI INTL        |        |            |41217 |United Arab Emirates|          |\n",
      "|N/A       |AE  |AEM00041218|24.262  |55.609   |264.9    |AL AIN INTL           |        |            |41218 |United Arab Emirates|          |\n",
      "|N/A       |AF  |AF000040930|35.317  |69.017   |3366.0   |NORTH-SALANG          |GSN     |            |40930 |Afghanistan         |          |\n",
      "|N/A       |AF  |AFM00040938|34.21   |62.228   |977.2    |HERAT                 |        |            |40938 |Afghanistan         |          |\n",
      "|N/A       |AF  |AFM00040948|34.566  |69.212   |1791.3   |KABUL INTL            |        |            |40948 |Afghanistan         |          |\n",
      "|N/A       |AF  |AFM00040990|31.5    |65.85    |1010.0   |KANDAHAR AIRPORT      |        |            |40990 |Afghanistan         |          |\n",
      "|N/A       |AG  |AG000060390|36.716  |3.25     |24.0     |ALGER-DAR EL BEIDA    |GSN     |            |60390 |Algeria             |          |\n",
      "|N/A       |AG  |AG000060590|30.566  |2.866    |397.0    |EL-GOLEA              |GSN     |            |60590 |Algeria             |          |\n",
      "|N/A       |AG  |AG000060611|28.05   |9.633    |561.0    |IN-AMENAS             |GSN     |            |60611 |Algeria             |          |\n",
      "|N/A       |AG  |AG000060680|22.8    |5.433    |1362.0   |TAMANRASSET           |GSN     |            |60680 |Algeria             |          |\n",
      "|N/A       |AG  |AGE00135039|35.729  |0.65     |50.0     |ORAN-HOPITAL MILITAIRE|        |            |      |Algeria             |          |\n",
      "+----------+----+-----------+--------+---------+---------+----------------------+--------+------------+------+--------------------+----------+\n",
      "only showing top 15 rows\n",
      "\n"
     ]
    }
   ],
   "source": [
    "null_filled_df = stations_states.withColumn(\"STATE_CODE\", \n",
    "                                            F.when(F.col(\"STATE_CODE\")== \"\" , \"N/A\")\n",
    "                                            .otherwise(F.col(\"STATE_CODE\")))\n",
    "\n",
    "\n",
    "    \n",
    "null_filled_df.show(15,False)"
   ]
  },
  {
   "cell_type": "code",
   "execution_count": 183,
   "metadata": {},
   "outputs": [
    {
     "name": "stdout",
     "output_type": "stream",
     "text": [
      "+-----------+---------+--------+--------------+\n",
      "|         ID|FIRSTYEAR|LASTYEAR|TOTAL_ELEMENTS|\n",
      "+-----------+---------+--------+--------------+\n",
      "|AEM00041217|     1983|    2022|             4|\n",
      "|AGE00147708|     1879|    2022|             5|\n",
      "|AGE00147714|     1896|    1938|             3|\n",
      "|AGM00060452|     1985|    2022|             4|\n",
      "|AGM00060511|     1983|    2022|             5|\n",
      "|AJ000037749|     1936|    2022|             5|\n",
      "|ALE00100939|     1940|    2000|             2|\n",
      "|AQC00914021|     1955|    1957|            10|\n",
      "|AQC00914424|     1969|    1975|             5|\n",
      "|AQC00914873|     1955|    1967|            12|\n",
      "|AR000000002|     1981|    2000|             1|\n",
      "|AR000087374|     1956|    2022|             5|\n",
      "|AR000870470|     1956|    2022|             5|\n",
      "|AR000877500|     1956|    2022|             5|\n",
      "|ARM00087480|     1965|    2022|             5|\n",
      "|ARM00087509|     1973|    2022|             5|\n",
      "|ARM00087679|     1973|    2022|             4|\n",
      "|ASN00001006|     1951|    2022|             6|\n",
      "|ASN00001020|     2004|    2022|             9|\n",
      "|ASN00001021|     1941|    2005|            10|\n",
      "+-----------+---------+--------+--------------+\n",
      "only showing top 20 rows\n",
      "\n"
     ]
    }
   ],
   "source": [
    "years = inventories.groupby(\"ID\").agg(F.min(\"FIRSTYEAR\").alias(\"FIRSTYEAR\"), F.max(\"LASTYEAR\").alias(\"LASTYEAR\"),\n",
    "                                      F.countDistinct(\"ELEMENT\").alias(\"TOTAL_ELEMENTS\"))\n",
    "years.show()"
   ]
  },
  {
   "cell_type": "code",
   "execution_count": 173,
   "metadata": {},
   "outputs": [
    {
     "name": "stdout",
     "output_type": "stream",
     "text": [
      "+---+--------+---------+-------+---------+--------+\n",
      "|ID |LATITUDE|LONGITUDE|ELEMENT|FIRSTYEAR|LASTYEAR|\n",
      "+---+--------+---------+-------+---------+--------+\n",
      "+---+--------+---------+-------+---------+--------+\n",
      "\n"
     ]
    }
   ],
   "source": [
    "for colname in inventories.columns:\n",
    "    if isinstance(inventories.schema[colname].dataType,\n",
    "                 StringType):\n",
    "        inventories = inventories.withColumn(colname, F.trim(F.col(colname)))\n",
    "        \n",
    "inventories.filter(inventories.ELEMENT == \"\").show(truncate=False)\n"
   ]
  },
  {
   "cell_type": "code",
   "execution_count": 191,
   "metadata": {},
   "outputs": [],
   "source": [
    "core_elements = inventories.select([\"ID\", \"ELEMENT\"]).where(\n",
    "    (inventories.ELEMENT == \"PRCP\") |\n",
    "    (inventories.ELEMENT == \"SNOW\") |\n",
    "    (inventories.ELEMENT == \"SNWD\") |\n",
    "    (inventories.ELEMENT == \"TMAX\") |\n",
    "    (inventories.ELEMENT == \"TMIN\")).groupBy(\"ID\").pivot(\"ELEMENT\").agg({\"ELEMENT\":\"count\"})"
   ]
  },
  {
   "cell_type": "code",
   "execution_count": 193,
   "metadata": {},
   "outputs": [],
   "source": [
    "other_elements = inventories.select([\"ID\", \"ELEMENT\"]).where(\n",
    "    (inventories.ELEMENT != \"PRCP\") |\n",
    "    (inventories.ELEMENT != \"SNOW\") |\n",
    "    (inventories.ELEMENT != \"SNWD\") |\n",
    "    (inventories.ELEMENT != \"TMAX\") |\n",
    "    (inventories.ELEMENT != \"TMIN\")).groupBy(\"ID\").agg({\"ELEMENT\":\"count\"}).select(F.col(\"ID\"), F.col(\"count(ELEMENT)\").alias(\"OTHER_ELEMENTS\"))"
   ]
  },
  {
   "cell_type": "code",
   "execution_count": 195,
   "metadata": {},
   "outputs": [
    {
     "name": "stdout",
     "output_type": "stream",
     "text": [
      "+-----------+---------+--------+--------------+----+----+----+----+----+--------------+\n",
      "|         ID|FIRSTYEAR|LASTYEAR|TOTAL_ELEMENTS|PRCP|SNOW|SNWD|TMAX|TMIN|OTHER_ELEMENTS|\n",
      "+-----------+---------+--------+--------------+----+----+----+----+----+--------------+\n",
      "|AEM00041217|     1983|    2022|             4|   1|   0|   0|   1|   1|             4|\n",
      "|AGE00147708|     1879|    2022|             5|   1|   0|   1|   1|   1|             5|\n",
      "|AGE00147710|     1909|    2009|             4|   1|   0|   0|   1|   1|             4|\n",
      "|AGE00147714|     1896|    1938|             3|   1|   0|   0|   1|   1|             3|\n",
      "|AGE00147719|     1888|    2022|             4|   1|   0|   0|   1|   1|             4|\n",
      "|AGM00060360|     1945|    2022|             4|   1|   0|   0|   1|   1|             4|\n",
      "|AGM00060445|     1957|    2022|             5|   1|   0|   1|   1|   1|             5|\n",
      "|AGM00060452|     1985|    2022|             4|   1|   0|   0|   1|   1|             4|\n",
      "|AGM00060511|     1983|    2022|             5|   1|   0|   1|   1|   1|             5|\n",
      "|AGM00060540|     1981|    2022|             5|   1|   0|   1|   1|   1|             5|\n",
      "|AJ000037679|     1959|    1987|             1|   1|   0|   0|   0|   0|             1|\n",
      "|AJ000037749|     1936|    2022|             5|   1|   0|   1|   1|   1|             5|\n",
      "|AJ000037831|     1955|    1987|             1|   1|   0|   0|   0|   0|             1|\n",
      "|AJ000037912|     1955|    1991|             1|   1|   0|   0|   0|   0|             1|\n",
      "|AJ000037981|     1959|    1987|             1|   1|   0|   0|   0|   0|             1|\n",
      "|AJ000037989|     1936|    2017|             5|   1|   0|   1|   1|   1|             5|\n",
      "|ALE00100939|     1940|    2000|             2|   1|   0|   0|   1|   0|             2|\n",
      "|AM000037683|     1936|    1988|             1|   1|   0|   0|   0|   0|             1|\n",
      "|AM000037698|     1959|    1976|             1|   1|   0|   0|   0|   0|             1|\n",
      "|AM000037719|     1912|    1992|             5|   1|   0|   1|   1|   1|             5|\n",
      "+-----------+---------+--------+--------------+----+----+----+----+----+--------------+\n",
      "only showing top 20 rows\n",
      "\n"
     ]
    }
   ],
   "source": [
    "inventory_elements = (years.join(\n",
    "  core_elements,\n",
    "  on=\"ID\",\n",
    "  how=\"left\"\n",
    ")\n",
    "  .join(\n",
    "  other_elements,\n",
    "  on=\"ID\",\n",
    "  how=\"left\"\n",
    ").fillna(0))\n",
    "\n",
    "inventory_elements.show()"
   ]
  },
  {
   "cell_type": "code",
   "execution_count": 207,
   "metadata": {},
   "outputs": [
    {
     "data": {
      "text/plain": [
       "20300"
      ]
     },
     "execution_count": 207,
     "metadata": {},
     "output_type": "execute_result"
    }
   ],
   "source": [
    "inv_count = inventory_elements.select([\"ID\", \"PRCP\", \"SNOW\", \"SNWD\", \"TMAX\", \"TMIN\"]).where(\n",
    "    (inventory_elements.PRCP != 0) &\n",
    "    (inventory_elements.SNOW != 0) &\n",
    "    (inventory_elements.SNWD != 0) &\n",
    "    (inventory_elements.TMAX != 0) &\n",
    "    (inventory_elements.TMIN != 0)\n",
    ")\n",
    "\n",
    "inv_count.count()"
   ]
  },
  {
   "cell_type": "code",
   "execution_count": 205,
   "metadata": {},
   "outputs": [
    {
     "data": {
      "text/plain": [
       "16159"
      ]
     },
     "execution_count": 205,
     "metadata": {},
     "output_type": "execute_result"
    }
   ],
   "source": [
    "prcp_count = (\n",
    "    inventory_elements.where(\n",
    "    (inventory_elements.PRCP != 0) &\n",
    "    (inventory_elements.TOTAL_ELEMENTS == inventory_elements.PRCP)\n",
    "))\n",
    "prcp_count.count()\n"
   ]
  },
  {
   "cell_type": "code",
   "execution_count": 209,
   "metadata": {},
   "outputs": [
    {
     "name": "stdout",
     "output_type": "stream",
     "text": [
      "+-----------+----------+----+--------+---------+---------+--------------------+--------+------------+------+--------------------+----------+---------+--------+--------------+----+----+----+----+----+--------------+\n",
      "|         ID|STATE_CODE|CODE|LATITUDE|LONGITUDE|ELEVATION|        STATION_NAME|GSN_FLAG|HCN_CRN_FLAG|WMO_ID|        COUNTRY_NAME|STATE_NAME|FIRSTYEAR|LASTYEAR|TOTAL_ELEMENTS|PRCP|SNOW|SNWD|TMAX|TMIN|OTHER_ELEMENTS|\n",
      "+-----------+----------+----+--------+---------+---------+--------------------+--------+------------+------+--------------------+----------+---------+--------+--------------+----+----+----+----+----+--------------+\n",
      "|AEM00041217|       N/A|  AE|  24.433|   54.651|     26.8|      ABU DHABI INTL|        |            | 41217|United Arab Emirates|          |     1983|    2022|             4|   1|   0|   0|   1|   1|             4|\n",
      "|AGE00147708|       N/A|  AG|   36.72|     4.05|    222.0|          TIZI OUZOU|        |            | 60395|             Algeria|          |     1879|    2022|             5|   1|   0|   1|   1|   1|             5|\n",
      "|AGE00147710|       N/A|  AG|   36.75|      5.1|      9.0|BEJAIA-BOUGIE (PORT)|        |            | 60401|             Algeria|          |     1909|    2009|             4|   1|   0|   0|   1|   1|             4|\n",
      "|AGE00147714|       N/A|  AG|   35.77|      0.8|     78.0|     ORAN-CAP FALCON|        |            |      |             Algeria|          |     1896|    1938|             3|   1|   0|   0|   1|   1|             3|\n",
      "|AGE00147719|       N/A|  AG|  33.799|     2.89|    767.0|            LAGHOUAT|        |            | 60545|             Algeria|          |     1888|    2022|             4|   1|   0|   0|   1|   1|             4|\n",
      "|AGM00060360|       N/A|  AG|  36.822|    7.809|      4.9|              ANNABA|        |            | 60360|             Algeria|          |     1945|    2022|             4|   1|   0|   0|   1|   1|             4|\n",
      "|AGM00060445|       N/A|  AG|  36.178|    5.324|   1050.0|     SETIF AIN ARNAT|        |            | 60445|             Algeria|          |     1957|    2022|             5|   1|   0|   1|   1|   1|             5|\n",
      "|AGM00060452|       N/A|  AG|  35.817|   -0.267|      4.0|               ARZEW|        |            | 60452|             Algeria|          |     1985|    2022|             4|   1|   0|   0|   1|   1|             4|\n",
      "|AGM00060511|       N/A|  AG|  35.341|    1.463|    989.1|          BOU CHEKIF|        |            | 60511|             Algeria|          |     1983|    2022|             5|   1|   0|   1|   1|   1|             5|\n",
      "|AGM00060540|       N/A|  AG|   34.15|    0.067|   1001.0|          EL-KHEITER|        |            | 60540|             Algeria|          |     1981|    2022|             5|   1|   0|   1|   1|   1|             5|\n",
      "|AJ000037679|       N/A|  AJ|    41.1|     49.2|    -26.0|             SIASAN'|        |            | 37679|          Azerbaijan|          |     1959|    1987|             1|   1|   0|   0|   0|   0|             1|\n",
      "|AJ000037749|       N/A|  AJ|   40.65|    47.75|     95.0|             GOYCHAY|        |            | 37749|          Azerbaijan|          |     1936|    2022|             5|   1|   0|   1|   1|   1|             5|\n",
      "|AJ000037831|       N/A|  AJ|    40.4|     47.0|    160.0|          MIR-BASHIR|        |            | 37831|          Azerbaijan|          |     1955|    1987|             1|   1|   0|   0|   0|   0|             1|\n",
      "|AJ000037912|       N/A|  AJ|    39.9|     48.5|    -16.0|           DJAFARHAN|        |            | 37912|          Azerbaijan|          |     1955|    1991|             1|   1|   0|   0|   0|   0|             1|\n",
      "|AJ000037981|       N/A|  AJ|    38.9|     48.2|    794.0|            JARDIMLY|        |            | 37981|          Azerbaijan|          |     1959|    1987|             1|   1|   0|   0|   0|   0|             1|\n",
      "|AJ000037989|       N/A|  AJ|    38.5|     48.9|    -22.0|              ASTARA|     GSN|            | 37989|          Azerbaijan|          |     1936|    2017|             5|   1|   0|   1|   1|   1|             5|\n",
      "|ALE00100939|       N/A|  AL|  41.333|   19.783|     89.0|              TIRANA|        |            |      |             Albania|          |     1940|    2000|             2|   1|   0|   0|   1|   0|             2|\n",
      "|AM000037683|       N/A|  AM|  40.867|    43.95|   1798.0|   JABJUR-IN-ARMENIA|        |            | 37683|             Armenia|          |     1936|    1988|             1|   1|   0|   0|   0|   0|             1|\n",
      "|AM000037698|       N/A|  AM|    40.6|     44.5|   1986.0|             ANKAVAN|        |            | 37698|             Armenia|          |     1959|    1976|             1|   1|   0|   0|   0|   0|             1|\n",
      "|AM000037719|       N/A|  AM|    40.6|    45.35|   1834.0|           CHAMBARAK|        |            | 37719|             Armenia|          |     1912|    1992|             5|   1|   0|   1|   1|   1|             5|\n",
      "+-----------+----------+----+--------+---------+---------+--------------------+--------+------------+------+--------------------+----------+---------+--------+--------------+----+----+----+----+----+--------------+\n",
      "only showing top 20 rows\n",
      "\n"
     ]
    }
   ],
   "source": [
    "data = (null_filled_df.join(\n",
    "  inventory_elements,\n",
    "  on=\"ID\",\n",
    "  how=\"left\"\n",
    "))\n",
    "        \n",
    "data.show()"
   ]
  },
  {
   "cell_type": "code",
   "execution_count": 226,
   "metadata": {},
   "outputs": [],
   "source": [
    "name = \"ndu31\"\n",
    "\n",
    "data.write.parquet(f\"hdfs:///user/{name}/outputs/ghcnd/stations.parquet\", mode=\"overwrite\")\n",
    "\n"
   ]
  },
  {
   "cell_type": "code",
   "execution_count": 231,
   "metadata": {},
   "outputs": [
    {
     "name": "stdout",
     "output_type": "stream",
     "text": [
      "rmr: DEPRECATED: Please use '-rm -r' instead.\n",
      "Deleted /user/ndu31/outputs/ghcnd/stations\n"
     ]
    }
   ],
   "source": [
    "!hdfs dfs -rmr /user/ndu31/outputs/ghcnd/stations"
   ]
  },
  {
   "cell_type": "code",
   "execution_count": 232,
   "metadata": {},
   "outputs": [
    {
     "name": "stdout",
     "output_type": "stream",
     "text": [
      "Found 1 items\r\n",
      "drwxr-xr-x   - ndu31 ndu31          0 2022-09-21 21:23 /user/ndu31/outputs/ghcnd/stations.parquet\r\n"
     ]
    }
   ],
   "source": [
    "!hdfs dfs -ls /user/ndu31/outputs/ghcnd/"
   ]
  },
  {
   "cell_type": "code",
   "execution_count": 234,
   "metadata": {},
   "outputs": [
    {
     "name": "stdout",
     "output_type": "stream",
     "text": [
      "+-----------+----------+----+--------+---------+---------+-------------------+--------+------------+------+--------------------+----------+---------+--------+--------------+----+----+----+----+----+--------------+\n",
      "|ID         |STATE_CODE|CODE|LATITUDE|LONGITUDE|ELEVATION|STATION_NAME       |GSN_FLAG|HCN_CRN_FLAG|WMO_ID|COUNTRY_NAME        |STATE_NAME|FIRSTYEAR|LASTYEAR|TOTAL_ELEMENTS|PRCP|SNOW|SNWD|TMAX|TMIN|OTHER_ELEMENTS|\n",
      "+-----------+----------+----+--------+---------+---------+-------------------+--------+------------+------+--------------------+----------+---------+--------+--------------+----+----+----+----+----+--------------+\n",
      "|AE000041196|N/A       |AE  |25.333  |55.517   |34.0     |SHARJAH INTER. AIRP|GSN     |            |41196 |United Arab Emirates|          |1944     |2022    |4             |1   |0   |0   |1   |1   |4             |\n",
      "|AEM00041218|N/A       |AE  |24.262  |55.609   |264.9    |AL AIN INTL        |        |            |41218 |United Arab Emirates|          |1994     |2022    |4             |1   |0   |0   |1   |1   |4             |\n",
      "|AGE00147715|N/A       |AG  |35.42   |8.119    |863.0    |TEBESSA            |        |            |      |Algeria             |          |1879     |1938    |3             |1   |0   |0   |1   |1   |3             |\n",
      "|AGE00147794|N/A       |AG  |36.78   |5.1      |225.0    |BEJAIA-CAP CARBON  |        |            |      |Algeria             |          |1926     |1938    |2             |0   |0   |0   |1   |1   |2             |\n",
      "|AGM00060402|N/A       |AG  |36.712  |5.07     |6.1      |SOUMMAM            |        |            |60402 |Algeria             |          |1973     |2022    |5             |1   |0   |1   |1   |1   |5             |\n",
      "|AGM00060430|N/A       |AG  |36.3    |2.233    |721.0    |MILIANA            |        |            |60430 |Algeria             |          |1957     |2022    |5             |1   |0   |1   |1   |1   |5             |\n",
      "|AGM00060461|N/A       |AG  |35.7    |-0.65    |22.0     |ORAN-PORT          |        |            |60461 |Algeria             |          |1995     |2022    |4             |1   |0   |0   |1   |1   |4             |\n",
      "|AGM00060514|N/A       |AG  |35.167  |2.317    |801.0    |KSAR CHELLALA      |        |            |60514 |Algeria             |          |1995     |2022    |5             |1   |0   |1   |1   |1   |5             |\n",
      "|AGM00060515|N/A       |AG  |35.333  |4.206    |459.0    |BOU SAADA          |        |            |60515 |Algeria             |          |1984     |2022    |4             |1   |0   |0   |1   |1   |4             |\n",
      "|AGM00060550|N/A       |AG  |33.667  |1.0      |1347.0   |EL-BAYADH          |        |            |60550 |Algeria             |          |1973     |2022    |5             |1   |0   |1   |1   |1   |5             |\n",
      "|AGM00060563|N/A       |AG  |32.933  |3.283    |764.0    |HASSIR'MEL         |        |            |60563 |Algeria             |          |2001     |2004    |5             |1   |0   |1   |1   |1   |5             |\n",
      "|AGM00060670|N/A       |AG  |24.293  |9.452    |968.0    |TISKA              |        |            |60670 |Algeria             |          |1965     |2022    |4             |1   |0   |0   |1   |1   |4             |\n",
      "|AJ000037656|N/A       |AJ  |41.2    |46.8     |403.0    |ADJINAURSKAYA_STEP'|        |            |37656 |Azerbaijan          |          |1977     |1991    |1             |1   |0   |0   |0   |0   |1             |\n",
      "|AJ000037674|N/A       |AJ  |41.2    |48.2     |999.0    |KRIC               |        |            |37674 |Azerbaijan          |          |1966     |1992    |1             |1   |0   |0   |0   |0   |1             |\n",
      "|AJ000037734|N/A       |AJ  |40.8    |46.0     |404.0    |SHAMHOR            |        |            |37734 |Azerbaijan          |          |1936     |1991    |1             |1   |0   |0   |0   |0   |1             |\n",
      "+-----------+----------+----+--------+---------+---------+-------------------+--------+------------+------+--------------------+----------+---------+--------+--------------+----+----+----+----+----+--------------+\n",
      "only showing top 15 rows\n",
      "\n"
     ]
    }
   ],
   "source": [
    "stations = (\n",
    "spark.read.format(\"parquet\")\n",
    ".load(f\"hdfs:///user/{name}/outputs/ghcnd/stations.parquet\"))\n",
    "stations.show(15,False)"
   ]
  },
  {
   "cell_type": "code",
   "execution_count": 235,
   "metadata": {},
   "outputs": [
    {
     "name": "stdout",
     "output_type": "stream",
     "text": [
      "+-----------+--------+-------+-----+----------------+------------+-----------+----------------+----------+----+--------+---------+---------+-------------------+--------+------------+------+--------------------+----------+---------+--------+--------------+----+----+----+----+----+--------------+\n",
      "|         ID|    DATE|ELEMENT|VALUE|MEASUREMENT_FLAG|QUALITY_FLAG|SOURCE_FLAG|OBSERVATION_TIME|STATE_CODE|CODE|LATITUDE|LONGITUDE|ELEVATION|       STATION_NAME|GSN_FLAG|HCN_CRN_FLAG|WMO_ID|        COUNTRY_NAME|STATE_NAME|FIRSTYEAR|LASTYEAR|TOTAL_ELEMENTS|PRCP|SNOW|SNWD|TMAX|TMIN|OTHER_ELEMENTS|\n",
      "+-----------+--------+-------+-----+----------------+------------+-----------+----------------+----------+----+--------+---------+---------+-------------------+--------+------------+------+--------------------+----------+---------+--------+--------------+----+----+----+----+----+--------------+\n",
      "|AE000041196|20220101|   TAVG|204.0|               H|        null|          S|            null|       N/A|  AE|  25.333|   55.517|     34.0|SHARJAH INTER. AIRP|     GSN|            | 41196|United Arab Emirates|          |     1944|    2022|             4|   1|   0|   0|   1|   1|             4|\n",
      "|AEM00041194|20220101|   TAVG|211.0|               H|        null|          S|            null|       N/A|  AE|  25.255|   55.364|     10.4|         DUBAI INTL|        |            | 41194|United Arab Emirates|          |     1983|    2022|             4|   1|   0|   0|   1|   1|             4|\n",
      "|AEM00041217|20220101|   TAVG|209.0|               H|        null|          S|            null|       N/A|  AE|  24.433|   54.651|     26.8|     ABU DHABI INTL|        |            | 41217|United Arab Emirates|          |     1983|    2022|             4|   1|   0|   0|   1|   1|             4|\n",
      "|AEM00041218|20220101|   TAVG|207.0|               H|        null|          S|            null|       N/A|  AE|  24.262|   55.609|    264.9|        AL AIN INTL|        |            | 41218|United Arab Emirates|          |     1994|    2022|             4|   1|   0|   0|   1|   1|             4|\n",
      "|AG000060390|20220101|   TAVG|121.0|               H|        null|          S|            null|       N/A|  AG|  36.716|     3.25|     24.0| ALGER-DAR EL BEIDA|     GSN|            | 60390|             Algeria|          |     1940|    2022|             5|   1|   0|   1|   1|   1|             5|\n",
      "|AG000060590|20220101|   TAVG|151.0|               H|        null|          S|            null|       N/A|  AG|  30.566|    2.866|    397.0|           EL-GOLEA|     GSN|            | 60590|             Algeria|          |     1892|    2022|             4|   1|   0|   0|   1|   1|             4|\n",
      "|AG000060611|20220101|   TAVG|111.0|               H|        null|          S|            null|       N/A|  AG|   28.05|    9.633|    561.0|          IN-AMENAS|     GSN|            | 60611|             Algeria|          |     1958|    2022|             5|   1|   0|   1|   1|   1|             5|\n",
      "|AGE00147708|20220101|   TMIN| 73.0|            null|        null|          S|            null|       N/A|  AG|   36.72|     4.05|    222.0|         TIZI OUZOU|        |            | 60395|             Algeria|          |     1879|    2022|             5|   1|   0|   1|   1|   1|             5|\n",
      "|AGE00147708|20220101|   PRCP|  0.0|            null|        null|          S|            null|       N/A|  AG|   36.72|     4.05|    222.0|         TIZI OUZOU|        |            | 60395|             Algeria|          |     1879|    2022|             5|   1|   0|   1|   1|   1|             5|\n",
      "|AGE00147708|20220101|   TAVG|133.0|               H|        null|          S|            null|       N/A|  AG|   36.72|     4.05|    222.0|         TIZI OUZOU|        |            | 60395|             Algeria|          |     1879|    2022|             5|   1|   0|   1|   1|   1|             5|\n",
      "|AGE00147716|20220101|   TMIN|107.0|            null|        null|          S|            null|       N/A|  AG|    35.1|    -1.85|     83.0|NEMOURS (GHAZAOUET)|        |            | 60517|             Algeria|          |     1878|    2022|             4|   1|   0|   0|   1|   1|             4|\n",
      "|AGE00147716|20220101|   PRCP|  0.0|            null|        null|          S|            null|       N/A|  AG|    35.1|    -1.85|     83.0|NEMOURS (GHAZAOUET)|        |            | 60517|             Algeria|          |     1878|    2022|             4|   1|   0|   0|   1|   1|             4|\n",
      "|AGE00147716|20220101|   TAVG|133.0|               H|        null|          S|            null|       N/A|  AG|    35.1|    -1.85|     83.0|NEMOURS (GHAZAOUET)|        |            | 60517|             Algeria|          |     1878|    2022|             4|   1|   0|   0|   1|   1|             4|\n",
      "|AGE00147718|20220101|   TMIN| 90.0|            null|        null|          S|            null|       N/A|  AG|   34.85|     5.72|    125.0|             BISKRA|        |            | 60525|             Algeria|          |     1880|    2022|             4|   1|   0|   0|   1|   1|             4|\n",
      "|AGE00147718|20220101|   TAVG|152.0|               H|        null|          S|            null|       N/A|  AG|   34.85|     5.72|    125.0|             BISKRA|        |            | 60525|             Algeria|          |     1880|    2022|             4|   1|   0|   0|   1|   1|             4|\n",
      "|AGE00147719|20220101|   TMAX|201.0|            null|        null|          S|            null|       N/A|  AG|  33.799|     2.89|    767.0|           LAGHOUAT|        |            | 60545|             Algeria|          |     1888|    2022|             4|   1|   0|   0|   1|   1|             4|\n",
      "|AGE00147719|20220101|   PRCP|  0.0|            null|        null|          S|            null|       N/A|  AG|  33.799|     2.89|    767.0|           LAGHOUAT|        |            | 60545|             Algeria|          |     1888|    2022|             4|   1|   0|   0|   1|   1|             4|\n",
      "|AGE00147719|20220101|   TAVG|119.0|               H|        null|          S|            null|       N/A|  AG|  33.799|     2.89|    767.0|           LAGHOUAT|        |            | 60545|             Algeria|          |     1888|    2022|             4|   1|   0|   0|   1|   1|             4|\n",
      "|AGM00060351|20220101|   PRCP|  0.0|            null|        null|          S|            null|       N/A|  AG|  36.795|    5.874|     11.0|              JIJEL|        |            | 60351|             Algeria|          |     1981|    2022|             4|   1|   0|   0|   1|   1|             4|\n",
      "|AGM00060351|20220101|   TAVG|126.0|               H|        null|          S|            null|       N/A|  AG|  36.795|    5.874|     11.0|              JIJEL|        |            | 60351|             Algeria|          |     1981|    2022|             4|   1|   0|   0|   1|   1|             4|\n",
      "+-----------+--------+-------+-----+----------------+------------+-----------+----------------+----------+----+--------+---------+---------+-------------------+--------+------------+------+--------------------+----------+---------+--------+--------------+----+----+----+----+----+--------------+\n",
      "only showing top 20 rows\n",
      "\n"
     ]
    }
   ],
   "source": [
    "daily = (\n",
    "    daily_info.join(\n",
    "    stations,\n",
    "    on=\"ID\",\n",
    "    how=\"left\")\n",
    ")\n",
    "\n",
    "daily.show()"
   ]
  },
  {
   "cell_type": "code",
   "execution_count": 240,
   "metadata": {},
   "outputs": [
    {
     "data": {
      "text/plain": [
       "0"
      ]
     },
     "execution_count": 240,
     "metadata": {},
     "output_type": "execute_result"
    }
   ],
   "source": [
    "nullcount = (daily.select([\"ID\", \"STATION_NAME\"])\n",
    "            .where(daily.STATION_NAME.isNull()))\n",
    "\n",
    "nullcount.count()\n",
    "\n"
   ]
  },
  {
   "cell_type": "code",
   "execution_count": 241,
   "metadata": {},
   "outputs": [
    {
     "data": {
      "text/plain": [
       "0"
      ]
     },
     "execution_count": 241,
     "metadata": {},
     "output_type": "execute_result"
    }
   ],
   "source": [
    "nullcount2 = (daily.select(\"ID\")\n",
    "              .subtract(stations.select(\"ID\")))\n",
    "              \n",
    "nullcount2.count()"
   ]
  },
  {
   "cell_type": "code",
   "execution_count": 245,
   "metadata": {
    "scrolled": false
   },
   "outputs": [
    {
     "data": {
      "text/html": [
       "<p><b>Spark</b></p><p>The spark session is <b><span style=\"color:red\">stopped</span></b>, confirm that <code>ndu31 (jupyter)</code> is under the completed applications section in the Spark UI.</p><ul><li><a href=\"http://mathmadslinux2p.canterbury.ac.nz:8080/\" target=\"_blank\">Spark UI</a></li></ul>"
      ],
      "text/plain": [
       "<IPython.core.display.HTML object>"
      ]
     },
     "metadata": {},
     "output_type": "display_data"
    }
   ],
   "source": [
    "# Run this cell before closing the notebook or kill your spark application by hand using the link in the Spark UI\n",
    "\n",
    "stop_spark()"
   ]
  }
 ],
 "metadata": {
  "kernelspec": {
   "display_name": "Python 3",
   "language": "python",
   "name": "python3"
  },
  "language_info": {
   "codemirror_mode": {
    "name": "ipython",
    "version": 3
   },
   "file_extension": ".py",
   "mimetype": "text/x-python",
   "name": "python",
   "nbconvert_exporter": "python",
   "pygments_lexer": "ipython3",
   "version": "3.7.0"
  }
 },
 "nbformat": 4,
 "nbformat_minor": 2
}
