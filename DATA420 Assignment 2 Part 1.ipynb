{
 "cells": [
  {
   "cell_type": "markdown",
   "metadata": {},
   "source": [
    "**Spark notebook**\n",
    "\n",
    "This notebook will only work in a Jupyter session running on `mathmadslinux2p`.\n",
    "\n",
    "You can start your own Jupyter session on `mathmadslinux2p` and open this notebook in Chrome on the MADS Windows server by\n",
    "\n",
    "1. Login to the MADS Windows server using https://mathportal.canterbury.ac.nz/.\n",
    "2. Download or copy this notebook to your home directory.\n",
    "3. Open powershell and run `ssh mathmadslinux2p`.\n",
    "4. Run `start_pyspark_notebook` or `/opt/anaconda3/bin/jupyter-notebook --ip 132.181.129.68 --port $((8000 + $((RANDOM % 999))))`.\n",
    "5. Copy / paste the url provided in the shell window into Chrome on the MADS Windows server.\n",
    "6. Open the notebook from the Jupyter root directory (which is your home directory).\n",
    "7. Run `start_spark()` to start a spark session in the notebook.\n",
    "8. Run `stop_spark()` before closing the notebook or kill your spark application by hand using the link in the Spark UI."
   ]
  },
  {
   "cell_type": "code",
   "execution_count": 1,
   "metadata": {},
   "outputs": [
    {
     "data": {
      "text/html": [
       "<style>pre { white-space: pre !important; }table.dataframe td { white-space: nowrap !important; }table.dataframe thead th:first-child, table.dataframe tbody th { display: none; }</style>"
      ],
      "text/plain": [
       "<IPython.core.display.HTML object>"
      ]
     },
     "metadata": {},
     "output_type": "display_data"
    },
    {
     "name": "stdout",
     "output_type": "stream",
     "text": [
      "Help on function start_spark in module __main__:\n",
      "\n",
      "start_spark(executor_instances=2, executor_cores=1, worker_memory=1, master_memory=1)\n",
      "    Start a new Spark session and define globals for SparkSession (spark) and SparkContext (sc).\n",
      "    \n",
      "    Args:\n",
      "        executor_instances (int): number of executors (default: 2)\n",
      "        executor_cores (int): number of cores per executor (default: 1)\n",
      "        worker_memory (float): worker memory (default: 1)\n",
      "        master_memory (float): master memory (default: 1)\n",
      "\n",
      "Help on function stop_spark in module __main__:\n",
      "\n",
      "stop_spark()\n",
      "    Stop the active Spark session and delete globals for SparkSession (spark) and SparkContext (sc).\n",
      "\n",
      "Help on function display_spark in module __main__:\n",
      "\n",
      "display_spark()\n",
      "    Display the status of the active Spark session if one is currently running.\n",
      "\n",
      "Help on function show_as_html in module __main__:\n",
      "\n",
      "show_as_html(df, n=20)\n",
      "    Leverage existing pandas jupyter integration to show a spark dataframe as html.\n",
      "    \n",
      "    Args:\n",
      "        n (int): number of rows to show (default: 20)\n",
      "\n"
     ]
    }
   ],
   "source": [
    "# Run this cell to import pyspark and to define start_spark() and stop_spark()\n",
    "\n",
    "import findspark\n",
    "\n",
    "findspark.init()\n",
    "\n",
    "import getpass\n",
    "import pandas\n",
    "import pyspark\n",
    "import random\n",
    "import re\n",
    "\n",
    "from IPython.display import display, HTML\n",
    "from pyspark import SparkContext\n",
    "from pyspark.sql import SparkSession\n",
    "\n",
    "\n",
    "# Functions used below\n",
    "\n",
    "def username():\n",
    "    \"\"\"Get username with any domain information removed.\n",
    "    \"\"\"\n",
    "\n",
    "    return re.sub('@.*', '', getpass.getuser())\n",
    "\n",
    "\n",
    "def dict_to_html(d):\n",
    "    \"\"\"Convert a Python dictionary into a two column table for display.\n",
    "    \"\"\"\n",
    "\n",
    "    html = []\n",
    "\n",
    "    html.append(f'<table width=\"100%\" style=\"width:100%; font-family: monospace;\">')\n",
    "    for k, v in d.items():\n",
    "        html.append(f'<tr><td style=\"text-align:left;\">{k}</td><td>{v}</td></tr>')\n",
    "    html.append(f'</table>')\n",
    "\n",
    "    return ''.join(html)\n",
    "\n",
    "\n",
    "def show_as_html(df, n=20):\n",
    "    \"\"\"Leverage existing pandas jupyter integration to show a spark dataframe as html.\n",
    "    \n",
    "    Args:\n",
    "        n (int): number of rows to show (default: 20)\n",
    "    \"\"\"\n",
    "\n",
    "    display(df.limit(n).toPandas())\n",
    "\n",
    "    \n",
    "def display_spark():\n",
    "    \"\"\"Display the status of the active Spark session if one is currently running.\n",
    "    \"\"\"\n",
    "    \n",
    "    if 'spark' in globals() and 'sc' in globals():\n",
    "\n",
    "        name = sc.getConf().get(\"spark.app.name\")\n",
    "        \n",
    "        html = [\n",
    "            f'<p><b>Spark</b></p>',\n",
    "            f'<p>The spark session is <b><span style=\"color:green\">active</span></b>, look for <code>{name}</code> under the running applications section in the Spark UI.</p>',\n",
    "            f'<ul>',\n",
    "            f'<li><a href=\"http://mathmadslinux2p.canterbury.ac.nz:8080/\" target=\"_blank\">Spark UI</a></li>',\n",
    "            f'<li><a href=\"{sc.uiWebUrl}\" target=\"_blank\">Spark Application UI</a></li>',\n",
    "            f'</ul>',\n",
    "            f'<p><b>Config</b></p>',\n",
    "            dict_to_html(dict(sc.getConf().getAll())),\n",
    "            f'<p><b>Notes</b></p>',\n",
    "            f'<ul>',\n",
    "            f'<li>The spark session <code>spark</code> and spark context <code>sc</code> global variables have been defined by <code>start_spark()</code>.</li>',\n",
    "            f'<li>Please run <code>stop_spark()</code> before closing the notebook or restarting the kernel or kill <code>{name}</code> by hand using the link in the Spark UI.</li>',\n",
    "            f'</ul>',\n",
    "        ]\n",
    "        display(HTML(''.join(html)))\n",
    "        \n",
    "    else:\n",
    "        \n",
    "        html = [\n",
    "            f'<p><b>Spark</b></p>',\n",
    "            f'<p>The spark session is <b><span style=\"color:red\">stopped</span></b>, confirm that <code>{username() + \" (jupyter)\"}</code> is under the completed applications section in the Spark UI.</p>',\n",
    "            f'<ul>',\n",
    "            f'<li><a href=\"http://mathmadslinux2p.canterbury.ac.nz:8080/\" target=\"_blank\">Spark UI</a></li>',\n",
    "            f'</ul>',\n",
    "        ]\n",
    "        display(HTML(''.join(html)))\n",
    "\n",
    "\n",
    "# Functions to start and stop spark\n",
    "\n",
    "def start_spark(executor_instances=2, executor_cores=1, worker_memory=1, master_memory=1):\n",
    "    \"\"\"Start a new Spark session and define globals for SparkSession (spark) and SparkContext (sc).\n",
    "    \n",
    "    Args:\n",
    "        executor_instances (int): number of executors (default: 2)\n",
    "        executor_cores (int): number of cores per executor (default: 1)\n",
    "        worker_memory (float): worker memory (default: 1)\n",
    "        master_memory (float): master memory (default: 1)\n",
    "    \"\"\"\n",
    "\n",
    "    global spark\n",
    "    global sc\n",
    "\n",
    "    user = username()\n",
    "    \n",
    "    cores = executor_instances * executor_cores\n",
    "    partitions = cores * 4\n",
    "    port = 4000 + random.randint(1, 999)\n",
    "\n",
    "    spark = (\n",
    "        SparkSession.builder\n",
    "        .master(\"spark://masternode2:7077\")\n",
    "        .config(\"spark.driver.extraJavaOptions\", f\"-Dderby.system.home=/tmp/{user}/spark/\")\n",
    "        .config(\"spark.dynamicAllocation.enabled\", \"false\")\n",
    "        .config(\"spark.executor.instances\", str(executor_instances))\n",
    "        .config(\"spark.executor.cores\", str(executor_cores))\n",
    "        .config(\"spark.cores.max\", str(cores))\n",
    "        .config(\"spark.executor.memory\", f\"{worker_memory}g\")\n",
    "        .config(\"spark.driver.memory\", f\"{master_memory}g\")\n",
    "        .config(\"spark.driver.maxResultSize\", \"0\")\n",
    "        .config(\"spark.sql.shuffle.partitions\", str(partitions))\n",
    "        .config(\"spark.ui.port\", str(port))\n",
    "        .appName(user + \" (jupyter)\")\n",
    "        .getOrCreate()\n",
    "    )\n",
    "    sc = SparkContext.getOrCreate()\n",
    "    \n",
    "    display_spark()\n",
    "\n",
    "    \n",
    "def stop_spark():\n",
    "    \"\"\"Stop the active Spark session and delete globals for SparkSession (spark) and SparkContext (sc).\n",
    "    \"\"\"\n",
    "\n",
    "    global spark\n",
    "    global sc\n",
    "\n",
    "    if 'spark' in globals() and 'sc' in globals():\n",
    "\n",
    "        spark.stop()\n",
    "\n",
    "        del spark\n",
    "        del sc\n",
    "\n",
    "    display_spark()\n",
    "\n",
    "\n",
    "# Make css changes to improve spark output readability\n",
    "\n",
    "html = [\n",
    "    '<style>',\n",
    "    'pre { white-space: pre !important; }',\n",
    "    'table.dataframe td { white-space: nowrap !important; }',\n",
    "    'table.dataframe thead th:first-child, table.dataframe tbody th { display: none; }',\n",
    "    '</style>',\n",
    "]\n",
    "display(HTML(''.join(html)))\n",
    "\n",
    "\n",
    "# Print function docstrings\n",
    "\n",
    "help(start_spark)\n",
    "help(stop_spark)\n",
    "help(display_spark)\n",
    "help(show_as_html)"
   ]
  },
  {
   "cell_type": "code",
   "execution_count": 84,
   "metadata": {
    "scrolled": true
   },
   "outputs": [
    {
     "data": {
      "text/html": [
       "<p><b>Spark</b></p><p>The spark session is <b><span style=\"color:green\">active</span></b>, look for <code>ndu31 (jupyter)</code> under the running applications section in the Spark UI.</p><ul><li><a href=\"http://mathmadslinux2p.canterbury.ac.nz:8080/\" target=\"_blank\">Spark UI</a></li><li><a href=\"http://mathmadslinux2p.canterbury.ac.nz:4537\" target=\"_blank\">Spark Application UI</a></li></ul><p><b>Config</b></p><table width=\"100%\" style=\"width:100%; font-family: monospace;\"><tr><td style=\"text-align:left;\">spark.dynamicAllocation.enabled</td><td>false</td></tr><tr><td style=\"text-align:left;\">spark.executor.instances</td><td>4</td></tr><tr><td style=\"text-align:left;\">spark.driver.memory</td><td>4g</td></tr><tr><td style=\"text-align:left;\">spark.driver.extraJavaOptions</td><td>-Dderby.system.home=/tmp/ndu31/spark/</td></tr><tr><td style=\"text-align:left;\">spark.executor.memory</td><td>4g</td></tr><tr><td style=\"text-align:left;\">spark.app.id</td><td>app-20221031202254-0314</td></tr><tr><td style=\"text-align:left;\">spark.master</td><td>spark://masternode2:7077</td></tr><tr><td style=\"text-align:left;\">spark.executor.id</td><td>driver</td></tr><tr><td style=\"text-align:left;\">spark.sql.warehouse.dir</td><td>file:/users/home/ndu31/spark-warehouse</td></tr><tr><td style=\"text-align:left;\">spark.executor.cores</td><td>2</td></tr><tr><td style=\"text-align:left;\">spark.driver.host</td><td>mathmadslinux2p.canterbury.ac.nz</td></tr><tr><td style=\"text-align:left;\">spark.sql.shuffle.partitions</td><td>32</td></tr><tr><td style=\"text-align:left;\">spark.driver.port</td><td>36565</td></tr><tr><td style=\"text-align:left;\">spark.rdd.compress</td><td>True</td></tr><tr><td style=\"text-align:left;\">spark.app.startTime</td><td>1667200973862</td></tr><tr><td style=\"text-align:left;\">spark.serializer.objectStreamReset</td><td>100</td></tr><tr><td style=\"text-align:left;\">spark.driver.maxResultSize</td><td>0</td></tr><tr><td style=\"text-align:left;\">spark.cores.max</td><td>8</td></tr><tr><td style=\"text-align:left;\">spark.submit.pyFiles</td><td></td></tr><tr><td style=\"text-align:left;\">spark.submit.deployMode</td><td>client</td></tr><tr><td style=\"text-align:left;\">spark.ui.port</td><td>4537</td></tr><tr><td style=\"text-align:left;\">spark.ui.showConsoleProgress</td><td>true</td></tr><tr><td style=\"text-align:left;\">spark.app.name</td><td>ndu31 (jupyter)</td></tr></table><p><b>Notes</b></p><ul><li>The spark session <code>spark</code> and spark context <code>sc</code> global variables have been defined by <code>start_spark()</code>.</li><li>Please run <code>stop_spark()</code> before closing the notebook or restarting the kernel or kill <code>ndu31 (jupyter)</code> by hand using the link in the Spark UI.</li></ul>"
      ],
      "text/plain": [
       "<IPython.core.display.HTML object>"
      ]
     },
     "metadata": {},
     "output_type": "display_data"
    }
   ],
   "source": [
    "# Run this cell to start a spark session in this notebook\n",
    "\n",
    "start_spark(executor_instances=4, executor_cores=2, worker_memory=4, master_memory=4)"
   ]
  },
  {
   "cell_type": "code",
   "execution_count": 3,
   "metadata": {},
   "outputs": [],
   "source": [
    "# Write your imports and code here or insert cells below\n",
    "\n",
    "from pyspark.sql import functions as F\n",
    "from pyspark.sql.types import *"
   ]
  },
  {
   "cell_type": "code",
   "execution_count": null,
   "metadata": {},
   "outputs": [],
   "source": [
    "#Question 1"
   ]
  },
  {
   "cell_type": "code",
   "execution_count": 28,
   "metadata": {},
   "outputs": [
    {
     "name": "stdout",
     "output_type": "stream",
     "text": [
      "drwxr-xr-x   - jsw93 supergroup          0 2021-09-29 10:35 /data/msd/audio\n",
      "drwxr-xr-x   - jsw93 supergroup          0 2021-09-29 10:35 /data/msd/audio/attributes\n",
      "-rw-r--r--   8 jsw93 supergroup      1.0 K 2021-09-29 10:35 /data/msd/audio/attributes/msd-jmir-area-of-moments-all-v1.0.attributes.csv\n",
      "-rw-r--r--   8 jsw93 supergroup        671 2021-09-29 10:35 /data/msd/audio/attributes/msd-jmir-lpc-all-v1.0.attributes.csv\n",
      "-rw-r--r--   8 jsw93 supergroup        484 2021-09-29 10:35 /data/msd/audio/attributes/msd-jmir-methods-of-moments-all-v1.0.attributes.csv\n",
      "-rw-r--r--   8 jsw93 supergroup        898 2021-09-29 10:35 /data/msd/audio/attributes/msd-jmir-mfcc-all-v1.0.attributes.csv\n",
      "-rw-r--r--   8 jsw93 supergroup        777 2021-09-29 10:35 /data/msd/audio/attributes/msd-jmir-spectral-all-all-v1.0.attributes.csv\n",
      "-rw-r--r--   8 jsw93 supergroup        777 2021-09-29 10:35 /data/msd/audio/attributes/msd-jmir-spectral-derivatives-all-all-v1.0.attributes.csv\n",
      "-rw-r--r--   8 jsw93 supergroup     12.0 K 2021-09-29 10:35 /data/msd/audio/attributes/msd-marsyas-timbral-v1.0.attributes.csv\n",
      "-rw-r--r--   8 jsw93 supergroup      9.8 K 2021-09-29 10:35 /data/msd/audio/attributes/msd-mvd-v1.0.attributes.csv\n",
      "-rw-r--r--   8 jsw93 supergroup      1.4 K 2021-09-29 10:35 /data/msd/audio/attributes/msd-rh-v1.0.attributes.csv\n",
      "-rw-r--r--   8 jsw93 supergroup     34.1 K 2021-09-29 10:35 /data/msd/audio/attributes/msd-rp-v1.0.attributes.csv\n",
      "-rw-r--r--   8 jsw93 supergroup      3.8 K 2021-09-29 10:35 /data/msd/audio/attributes/msd-ssd-v1.0.attributes.csv\n",
      "-rw-r--r--   8 jsw93 supergroup      9.8 K 2021-09-29 10:35 /data/msd/audio/attributes/msd-trh-v1.0.attributes.csv\n",
      "-rw-r--r--   8 jsw93 supergroup     27.6 K 2021-09-29 10:35 /data/msd/audio/attributes/msd-tssd-v1.0.attributes.csv\n",
      "drwxr-xr-x   - jsw93 supergroup          0 2021-09-29 10:35 /data/msd/audio/features\n",
      "drwxr-xr-x   - jsw93 supergroup          0 2021-09-29 10:31 /data/msd/audio/features/msd-jmir-area-of-moments-all-v1.0.csv\n",
      "-rw-r--r--   8 jsw93 supergroup      8.2 M 2021-09-29 10:31 /data/msd/audio/features/msd-jmir-area-of-moments-all-v1.0.csv/part-00000.csv.gz\n",
      "-rw-r--r--   8 jsw93 supergroup      8.2 M 2021-09-29 10:31 /data/msd/audio/features/msd-jmir-area-of-moments-all-v1.0.csv/part-00001.csv.gz\n",
      "-rw-r--r--   8 jsw93 supergroup      8.2 M 2021-09-29 10:31 /data/msd/audio/features/msd-jmir-area-of-moments-all-v1.0.csv/part-00002.csv.gz\n",
      "-rw-r--r--   8 jsw93 supergroup      8.2 M 2021-09-29 10:31 /data/msd/audio/features/msd-jmir-area-of-moments-all-v1.0.csv/part-00003.csv.gz\n",
      "-rw-r--r--   8 jsw93 supergroup      8.2 M 2021-09-29 10:31 /data/msd/audio/features/msd-jmir-area-of-moments-all-v1.0.csv/part-00004.csv.gz\n",
      "-rw-r--r--   8 jsw93 supergroup      8.2 M 2021-09-29 10:31 /data/msd/audio/features/msd-jmir-area-of-moments-all-v1.0.csv/part-00005.csv.gz\n",
      "-rw-r--r--   8 jsw93 supergroup      8.2 M 2021-09-29 10:31 /data/msd/audio/features/msd-jmir-area-of-moments-all-v1.0.csv/part-00006.csv.gz\n",
      "-rw-r--r--   8 jsw93 supergroup      7.9 M 2021-09-29 10:31 /data/msd/audio/features/msd-jmir-area-of-moments-all-v1.0.csv/part-00007.csv.gz\n",
      "drwxr-xr-x   - jsw93 supergroup          0 2021-09-29 10:33 /data/msd/audio/features/msd-jmir-lpc-all-v1.0.csv\n",
      "-rw-r--r--   8 jsw93 supergroup      6.7 M 2021-09-29 10:33 /data/msd/audio/features/msd-jmir-lpc-all-v1.0.csv/part-00000.csv.gz\n",
      "-rw-r--r--   8 jsw93 supergroup      6.7 M 2021-09-29 10:33 /data/msd/audio/features/msd-jmir-lpc-all-v1.0.csv/part-00001.csv.gz\n",
      "-rw-r--r--   8 jsw93 supergroup      6.7 M 2021-09-29 10:33 /data/msd/audio/features/msd-jmir-lpc-all-v1.0.csv/part-00002.csv.gz\n",
      "-rw-r--r--   8 jsw93 supergroup      6.7 M 2021-09-29 10:33 /data/msd/audio/features/msd-jmir-lpc-all-v1.0.csv/part-00003.csv.gz\n",
      "-rw-r--r--   8 jsw93 supergroup      6.7 M 2021-09-29 10:33 /data/msd/audio/features/msd-jmir-lpc-all-v1.0.csv/part-00004.csv.gz\n",
      "-rw-r--r--   8 jsw93 supergroup      6.7 M 2021-09-29 10:33 /data/msd/audio/features/msd-jmir-lpc-all-v1.0.csv/part-00005.csv.gz\n",
      "-rw-r--r--   8 jsw93 supergroup      6.7 M 2021-09-29 10:33 /data/msd/audio/features/msd-jmir-lpc-all-v1.0.csv/part-00006.csv.gz\n",
      "-rw-r--r--   8 jsw93 supergroup      6.4 M 2021-09-29 10:33 /data/msd/audio/features/msd-jmir-lpc-all-v1.0.csv/part-00007.csv.gz\n",
      "drwxr-xr-x   - jsw93 supergroup          0 2021-09-29 10:35 /data/msd/audio/features/msd-jmir-methods-of-moments-all-v1.0.csv\n",
      "-rw-r--r--   8 jsw93 supergroup      4.5 M 2021-09-29 10:35 /data/msd/audio/features/msd-jmir-methods-of-moments-all-v1.0.csv/part-00000.csv.gz\n",
      "-rw-r--r--   8 jsw93 supergroup      4.5 M 2021-09-29 10:35 /data/msd/audio/features/msd-jmir-methods-of-moments-all-v1.0.csv/part-00001.csv.gz\n",
      "-rw-r--r--   8 jsw93 supergroup      4.5 M 2021-09-29 10:35 /data/msd/audio/features/msd-jmir-methods-of-moments-all-v1.0.csv/part-00002.csv.gz\n",
      "-rw-r--r--   8 jsw93 supergroup      4.5 M 2021-09-29 10:35 /data/msd/audio/features/msd-jmir-methods-of-moments-all-v1.0.csv/part-00003.csv.gz\n",
      "-rw-r--r--   8 jsw93 supergroup      4.5 M 2021-09-29 10:35 /data/msd/audio/features/msd-jmir-methods-of-moments-all-v1.0.csv/part-00004.csv.gz\n",
      "-rw-r--r--   8 jsw93 supergroup      4.5 M 2021-09-29 10:35 /data/msd/audio/features/msd-jmir-methods-of-moments-all-v1.0.csv/part-00005.csv.gz\n",
      "-rw-r--r--   8 jsw93 supergroup      4.5 M 2021-09-29 10:35 /data/msd/audio/features/msd-jmir-methods-of-moments-all-v1.0.csv/part-00006.csv.gz\n",
      "-rw-r--r--   8 jsw93 supergroup      4.3 M 2021-09-29 10:35 /data/msd/audio/features/msd-jmir-methods-of-moments-all-v1.0.csv/part-00007.csv.gz\n",
      "drwxr-xr-x   - jsw93 supergroup          0 2021-09-29 10:35 /data/msd/audio/features/msd-jmir-mfcc-all-v1.0.csv\n",
      "-rw-r--r--   8 jsw93 supergroup      8.9 M 2021-09-29 10:35 /data/msd/audio/features/msd-jmir-mfcc-all-v1.0.csv/part-00000.csv.gz\n",
      "-rw-r--r--   8 jsw93 supergroup      8.9 M 2021-09-29 10:35 /data/msd/audio/features/msd-jmir-mfcc-all-v1.0.csv/part-00001.csv.gz\n",
      "-rw-r--r--   8 jsw93 supergroup      8.9 M 2021-09-29 10:35 /data/msd/audio/features/msd-jmir-mfcc-all-v1.0.csv/part-00002.csv.gz\n",
      "-rw-r--r--   8 jsw93 supergroup      8.9 M 2021-09-29 10:35 /data/msd/audio/features/msd-jmir-mfcc-all-v1.0.csv/part-00003.csv.gz\n",
      "-rw-r--r--   8 jsw93 supergroup      8.9 M 2021-09-29 10:35 /data/msd/audio/features/msd-jmir-mfcc-all-v1.0.csv/part-00004.csv.gz\n",
      "-rw-r--r--   8 jsw93 supergroup      8.9 M 2021-09-29 10:35 /data/msd/audio/features/msd-jmir-mfcc-all-v1.0.csv/part-00005.csv.gz\n",
      "-rw-r--r--   8 jsw93 supergroup      8.9 M 2021-09-29 10:35 /data/msd/audio/features/msd-jmir-mfcc-all-v1.0.csv/part-00006.csv.gz\n",
      "-rw-r--r--   8 jsw93 supergroup      8.5 M 2021-09-29 10:35 /data/msd/audio/features/msd-jmir-mfcc-all-v1.0.csv/part-00007.csv.gz\n",
      "drwxr-xr-x   - jsw93 supergroup          0 2021-09-29 10:33 /data/msd/audio/features/msd-jmir-spectral-all-all-v1.0.csv\n",
      "-rw-r--r--   8 jsw93 supergroup      6.4 M 2021-09-29 10:33 /data/msd/audio/features/msd-jmir-spectral-all-all-v1.0.csv/part-00000.csv.gz\n",
      "-rw-r--r--   8 jsw93 supergroup      6.4 M 2021-09-29 10:33 /data/msd/audio/features/msd-jmir-spectral-all-all-v1.0.csv/part-00001.csv.gz\n",
      "-rw-r--r--   8 jsw93 supergroup      6.4 M 2021-09-29 10:33 /data/msd/audio/features/msd-jmir-spectral-all-all-v1.0.csv/part-00002.csv.gz\n",
      "-rw-r--r--   8 jsw93 supergroup      6.4 M 2021-09-29 10:33 /data/msd/audio/features/msd-jmir-spectral-all-all-v1.0.csv/part-00003.csv.gz\n",
      "-rw-r--r--   8 jsw93 supergroup      6.4 M 2021-09-29 10:33 /data/msd/audio/features/msd-jmir-spectral-all-all-v1.0.csv/part-00004.csv.gz\n",
      "-rw-r--r--   8 jsw93 supergroup      6.4 M 2021-09-29 10:33 /data/msd/audio/features/msd-jmir-spectral-all-all-v1.0.csv/part-00005.csv.gz\n",
      "-rw-r--r--   8 jsw93 supergroup      6.4 M 2021-09-29 10:33 /data/msd/audio/features/msd-jmir-spectral-all-all-v1.0.csv/part-00006.csv.gz\n",
      "-rw-r--r--   8 jsw93 supergroup      6.1 M 2021-09-29 10:33 /data/msd/audio/features/msd-jmir-spectral-all-all-v1.0.csv/part-00007.csv.gz\n",
      "drwxr-xr-x   - jsw93 supergroup          0 2021-09-29 10:35 /data/msd/audio/features/msd-jmir-spectral-derivatives-all-all-v1.0.csv\n",
      "-rw-r--r--   8 jsw93 supergroup      6.4 M 2021-09-29 10:35 /data/msd/audio/features/msd-jmir-spectral-derivatives-all-all-v1.0.csv/part-00000.csv.gz\n",
      "-rw-r--r--   8 jsw93 supergroup      6.4 M 2021-09-29 10:35 /data/msd/audio/features/msd-jmir-spectral-derivatives-all-all-v1.0.csv/part-00001.csv.gz\n",
      "-rw-r--r--   8 jsw93 supergroup      6.4 M 2021-09-29 10:35 /data/msd/audio/features/msd-jmir-spectral-derivatives-all-all-v1.0.csv/part-00002.csv.gz\n",
      "-rw-r--r--   8 jsw93 supergroup      6.4 M 2021-09-29 10:35 /data/msd/audio/features/msd-jmir-spectral-derivatives-all-all-v1.0.csv/part-00003.csv.gz\n",
      "-rw-r--r--   8 jsw93 supergroup      6.4 M 2021-09-29 10:35 /data/msd/audio/features/msd-jmir-spectral-derivatives-all-all-v1.0.csv/part-00004.csv.gz\n",
      "-rw-r--r--   8 jsw93 supergroup      6.4 M 2021-09-29 10:35 /data/msd/audio/features/msd-jmir-spectral-derivatives-all-all-v1.0.csv/part-00005.csv.gz\n",
      "-rw-r--r--   8 jsw93 supergroup      6.4 M 2021-09-29 10:35 /data/msd/audio/features/msd-jmir-spectral-derivatives-all-all-v1.0.csv/part-00006.csv.gz\n",
      "-rw-r--r--   8 jsw93 supergroup      6.1 M 2021-09-29 10:35 /data/msd/audio/features/msd-jmir-spectral-derivatives-all-all-v1.0.csv/part-00007.csv.gz\n",
      "drwxr-xr-x   - jsw93 supergroup          0 2021-09-29 10:35 /data/msd/audio/features/msd-marsyas-timbral-v1.0.csv\n",
      "-rw-r--r--   8 jsw93 supergroup     51.8 M 2021-09-29 10:35 /data/msd/audio/features/msd-marsyas-timbral-v1.0.csv/part-00000.csv.gz\n",
      "-rw-r--r--   8 jsw93 supergroup     51.8 M 2021-09-29 10:35 /data/msd/audio/features/msd-marsyas-timbral-v1.0.csv/part-00001.csv.gz\n",
      "-rw-r--r--   8 jsw93 supergroup     51.8 M 2021-09-29 10:35 /data/msd/audio/features/msd-marsyas-timbral-v1.0.csv/part-00002.csv.gz\n",
      "-rw-r--r--   8 jsw93 supergroup     51.8 M 2021-09-29 10:35 /data/msd/audio/features/msd-marsyas-timbral-v1.0.csv/part-00003.csv.gz\n",
      "-rw-r--r--   8 jsw93 supergroup     51.8 M 2021-09-29 10:35 /data/msd/audio/features/msd-marsyas-timbral-v1.0.csv/part-00004.csv.gz\n",
      "-rw-r--r--   8 jsw93 supergroup     51.8 M 2021-09-29 10:35 /data/msd/audio/features/msd-marsyas-timbral-v1.0.csv/part-00005.csv.gz\n",
      "-rw-r--r--   8 jsw93 supergroup     51.8 M 2021-09-29 10:35 /data/msd/audio/features/msd-marsyas-timbral-v1.0.csv/part-00006.csv.gz\n",
      "-rw-r--r--   8 jsw93 supergroup     49.7 M 2021-09-29 10:35 /data/msd/audio/features/msd-marsyas-timbral-v1.0.csv/part-00007.csv.gz\n",
      "drwxr-xr-x   - jsw93 supergroup          0 2021-09-29 10:29 /data/msd/audio/features/msd-mvd-v1.0.csv\n",
      "-rw-r--r--   8 jsw93 supergroup    165.9 M 2021-09-29 10:28 /data/msd/audio/features/msd-mvd-v1.0.csv/part-00000.csv.gz\n",
      "-rw-r--r--   8 jsw93 supergroup    166.0 M 2021-09-29 10:29 /data/msd/audio/features/msd-mvd-v1.0.csv/part-00001.csv.gz\n",
      "-rw-r--r--   8 jsw93 supergroup    165.9 M 2021-09-29 10:28 /data/msd/audio/features/msd-mvd-v1.0.csv/part-00002.csv.gz\n",
      "-rw-r--r--   8 jsw93 supergroup    165.9 M 2021-09-29 10:28 /data/msd/audio/features/msd-mvd-v1.0.csv/part-00003.csv.gz\n",
      "-rw-r--r--   8 jsw93 supergroup    166.0 M 2021-09-29 10:28 /data/msd/audio/features/msd-mvd-v1.0.csv/part-00004.csv.gz\n",
      "-rw-r--r--   8 jsw93 supergroup    165.9 M 2021-09-29 10:29 /data/msd/audio/features/msd-mvd-v1.0.csv/part-00005.csv.gz\n",
      "-rw-r--r--   8 jsw93 supergroup    166.0 M 2021-09-29 10:29 /data/msd/audio/features/msd-mvd-v1.0.csv/part-00006.csv.gz\n",
      "-rw-r--r--   8 jsw93 supergroup    158.3 M 2021-09-29 10:28 /data/msd/audio/features/msd-mvd-v1.0.csv/part-00007.csv.gz\n",
      "drwxr-xr-x   - jsw93 supergroup          0 2021-09-29 10:35 /data/msd/audio/features/msd-rh-v1.0.csv\n",
      "-rw-r--r--   8 jsw93 supergroup     30.2 M 2021-09-29 10:35 /data/msd/audio/features/msd-rh-v1.0.csv/part-00000.csv.gz\n",
      "-rw-r--r--   8 jsw93 supergroup     30.2 M 2021-09-29 10:35 /data/msd/audio/features/msd-rh-v1.0.csv/part-00001.csv.gz\n",
      "-rw-r--r--   8 jsw93 supergroup     30.2 M 2021-09-29 10:35 /data/msd/audio/features/msd-rh-v1.0.csv/part-00002.csv.gz\n",
      "-rw-r--r--   8 jsw93 supergroup     30.2 M 2021-09-29 10:35 /data/msd/audio/features/msd-rh-v1.0.csv/part-00003.csv.gz\n",
      "-rw-r--r--   8 jsw93 supergroup     30.2 M 2021-09-29 10:35 /data/msd/audio/features/msd-rh-v1.0.csv/part-00004.csv.gz\n",
      "-rw-r--r--   8 jsw93 supergroup     30.2 M 2021-09-29 10:35 /data/msd/audio/features/msd-rh-v1.0.csv/part-00005.csv.gz\n",
      "-rw-r--r--   8 jsw93 supergroup     30.2 M 2021-09-29 10:35 /data/msd/audio/features/msd-rh-v1.0.csv/part-00006.csv.gz\n",
      "-rw-r--r--   8 jsw93 supergroup     28.8 M 2021-09-29 10:35 /data/msd/audio/features/msd-rh-v1.0.csv/part-00007.csv.gz\n",
      "drwxr-xr-x   - jsw93 supergroup          0 2021-09-29 10:33 /data/msd/audio/features/msd-rp-v1.0.csv\n",
      "-rw-r--r--   8 jsw93 supergroup    518.9 M 2021-09-29 10:32 /data/msd/audio/features/msd-rp-v1.0.csv/part-00000.csv.gz\n",
      "-rw-r--r--   8 jsw93 supergroup    519.2 M 2021-09-29 10:33 /data/msd/audio/features/msd-rp-v1.0.csv/part-00001.csv.gz\n",
      "-rw-r--r--   8 jsw93 supergroup    519.0 M 2021-09-29 10:32 /data/msd/audio/features/msd-rp-v1.0.csv/part-00002.csv.gz\n",
      "-rw-r--r--   8 jsw93 supergroup    519.2 M 2021-09-29 10:32 /data/msd/audio/features/msd-rp-v1.0.csv/part-00003.csv.gz\n",
      "-rw-r--r--   8 jsw93 supergroup    519.2 M 2021-09-29 10:33 /data/msd/audio/features/msd-rp-v1.0.csv/part-00004.csv.gz\n",
      "-rw-r--r--   8 jsw93 supergroup    519.1 M 2021-09-29 10:33 /data/msd/audio/features/msd-rp-v1.0.csv/part-00005.csv.gz\n",
      "-rw-r--r--   8 jsw93 supergroup    519.1 M 2021-09-29 10:33 /data/msd/audio/features/msd-rp-v1.0.csv/part-00006.csv.gz\n",
      "-rw-r--r--   8 jsw93 supergroup    495.0 M 2021-09-29 10:32 /data/msd/audio/features/msd-rp-v1.0.csv/part-00007.csv.gz\n",
      "drwxr-xr-x   - jsw93 supergroup          0 2021-09-29 10:34 /data/msd/audio/features/msd-ssd-v1.0.csv\n"
     ]
    },
    {
     "name": "stdout",
     "output_type": "stream",
     "text": [
      "-rw-r--r--   8 jsw93 supergroup     80.5 M 2021-09-29 10:34 /data/msd/audio/features/msd-ssd-v1.0.csv/part-00000.csv.gz\r\n",
      "-rw-r--r--   8 jsw93 supergroup     80.6 M 2021-09-29 10:34 /data/msd/audio/features/msd-ssd-v1.0.csv/part-00001.csv.gz\r\n",
      "-rw-r--r--   8 jsw93 supergroup     80.5 M 2021-09-29 10:34 /data/msd/audio/features/msd-ssd-v1.0.csv/part-00002.csv.gz\r\n",
      "-rw-r--r--   8 jsw93 supergroup     80.5 M 2021-09-29 10:34 /data/msd/audio/features/msd-ssd-v1.0.csv/part-00003.csv.gz\r\n",
      "-rw-r--r--   8 jsw93 supergroup     80.5 M 2021-09-29 10:34 /data/msd/audio/features/msd-ssd-v1.0.csv/part-00004.csv.gz\r\n",
      "-rw-r--r--   8 jsw93 supergroup     80.6 M 2021-09-29 10:34 /data/msd/audio/features/msd-ssd-v1.0.csv/part-00005.csv.gz\r\n",
      "-rw-r--r--   8 jsw93 supergroup     80.5 M 2021-09-29 10:34 /data/msd/audio/features/msd-ssd-v1.0.csv/part-00006.csv.gz\r\n",
      "-rw-r--r--   8 jsw93 supergroup     76.8 M 2021-09-29 10:34 /data/msd/audio/features/msd-ssd-v1.0.csv/part-00007.csv.gz\r\n",
      "drwxr-xr-x   - jsw93 supergroup          0 2021-09-29 10:35 /data/msd/audio/features/msd-trh-v1.0.csv\r\n",
      "-rw-r--r--   8 jsw93 supergroup    185.4 M 2021-09-29 10:34 /data/msd/audio/features/msd-trh-v1.0.csv/part-00000.csv.gz\r\n",
      "-rw-r--r--   8 jsw93 supergroup    185.5 M 2021-09-29 10:35 /data/msd/audio/features/msd-trh-v1.0.csv/part-00001.csv.gz\r\n",
      "-rw-r--r--   8 jsw93 supergroup    185.4 M 2021-09-29 10:34 /data/msd/audio/features/msd-trh-v1.0.csv/part-00002.csv.gz\r\n",
      "-rw-r--r--   8 jsw93 supergroup    185.4 M 2021-09-29 10:34 /data/msd/audio/features/msd-trh-v1.0.csv/part-00003.csv.gz\r\n",
      "-rw-r--r--   8 jsw93 supergroup    185.4 M 2021-09-29 10:34 /data/msd/audio/features/msd-trh-v1.0.csv/part-00004.csv.gz\r\n",
      "-rw-r--r--   8 jsw93 supergroup    185.5 M 2021-09-29 10:34 /data/msd/audio/features/msd-trh-v1.0.csv/part-00005.csv.gz\r\n",
      "-rw-r--r--   8 jsw93 supergroup    185.5 M 2021-09-29 10:34 /data/msd/audio/features/msd-trh-v1.0.csv/part-00006.csv.gz\r\n",
      "-rw-r--r--   8 jsw93 supergroup    176.8 M 2021-09-29 10:34 /data/msd/audio/features/msd-trh-v1.0.csv/part-00007.csv.gz\r\n",
      "drwxr-xr-x   - jsw93 supergroup          0 2021-09-29 10:31 /data/msd/audio/features/msd-tssd-v1.0.csv\r\n",
      "-rw-r--r--   8 jsw93 supergroup    499.4 M 2021-09-29 10:30 /data/msd/audio/features/msd-tssd-v1.0.csv/part-00000.csv.gz\r\n",
      "-rw-r--r--   8 jsw93 supergroup    499.7 M 2021-09-29 10:31 /data/msd/audio/features/msd-tssd-v1.0.csv/part-00001.csv.gz\r\n",
      "-rw-r--r--   8 jsw93 supergroup    499.6 M 2021-09-29 10:29 /data/msd/audio/features/msd-tssd-v1.0.csv/part-00002.csv.gz\r\n",
      "-rw-r--r--   8 jsw93 supergroup    499.4 M 2021-09-29 10:29 /data/msd/audio/features/msd-tssd-v1.0.csv/part-00003.csv.gz\r\n",
      "-rw-r--r--   8 jsw93 supergroup    499.5 M 2021-09-29 10:30 /data/msd/audio/features/msd-tssd-v1.0.csv/part-00004.csv.gz\r\n",
      "-rw-r--r--   8 jsw93 supergroup    499.7 M 2021-09-29 10:30 /data/msd/audio/features/msd-tssd-v1.0.csv/part-00005.csv.gz\r\n",
      "-rw-r--r--   8 jsw93 supergroup    499.7 M 2021-09-29 10:30 /data/msd/audio/features/msd-tssd-v1.0.csv/part-00006.csv.gz\r\n",
      "-rw-r--r--   8 jsw93 supergroup    476.4 M 2021-09-29 10:29 /data/msd/audio/features/msd-tssd-v1.0.csv/part-00007.csv.gz\r\n",
      "drwxr-xr-x   - jsw93 supergroup          0 2021-09-29 10:28 /data/msd/audio/statistics\r\n",
      "-rw-r--r--   8 jsw93 supergroup     40.3 M 2021-09-29 10:28 /data/msd/audio/statistics/sample_properties.csv.gz\r\n",
      "drwxr-xr-x   - jsw93 supergroup          0 2021-09-29 10:35 /data/msd/genre\r\n",
      "-rw-r--r--   8 jsw93 supergroup     11.1 M 2021-09-29 10:35 /data/msd/genre/msd-MAGD-genreAssignment.tsv\r\n",
      "-rw-r--r--   8 jsw93 supergroup      8.4 M 2021-09-29 10:35 /data/msd/genre/msd-MASD-styleAssignment.tsv\r\n",
      "-rw-r--r--   8 jsw93 supergroup     10.6 M 2021-09-29 10:35 /data/msd/genre/msd-topMAGD-genreAssignment.tsv\r\n",
      "drwxr-xr-x   - jsw93 supergroup          0 2021-09-29 10:28 /data/msd/main\r\n",
      "drwxr-xr-x   - jsw93 supergroup          0 2022-05-23 12:11 /data/msd/main/summary\r\n",
      "-rw-r--r--   8 jsw93 supergroup     55.9 M 2021-09-29 10:28 /data/msd/main/summary/analysis.csv.gz\r\n",
      "-rw-r--r--   8 jsw93 supergroup    118.5 M 2021-09-29 10:28 /data/msd/main/summary/metadata.csv.gz\r\n",
      "drwxr-xr-x   - jsw93 supergroup          0 2021-09-29 10:35 /data/msd/tasteprofile\r\n",
      "drwxr-xr-x   - jsw93 supergroup          0 2021-09-29 10:35 /data/msd/tasteprofile/mismatches\r\n",
      "-rw-r--r--   8 jsw93 supergroup     89.2 K 2021-09-29 10:35 /data/msd/tasteprofile/mismatches/sid_matches_manually_accepted.txt\r\n",
      "-rw-r--r--   8 jsw93 supergroup      1.9 M 2021-09-29 10:35 /data/msd/tasteprofile/mismatches/sid_mismatches.txt\r\n",
      "drwxr-xr-x   - jsw93 supergroup          0 2021-09-29 10:35 /data/msd/tasteprofile/triplets.tsv\r\n",
      "-rw-r--r--   8 jsw93 supergroup     61.1 M 2021-09-29 10:35 /data/msd/tasteprofile/triplets.tsv/part-00000.tsv.gz\r\n",
      "-rw-r--r--   8 jsw93 supergroup     61.1 M 2021-09-29 10:35 /data/msd/tasteprofile/triplets.tsv/part-00001.tsv.gz\r\n",
      "-rw-r--r--   8 jsw93 supergroup     61.1 M 2021-09-29 10:35 /data/msd/tasteprofile/triplets.tsv/part-00002.tsv.gz\r\n",
      "-rw-r--r--   8 jsw93 supergroup     61.1 M 2021-09-29 10:35 /data/msd/tasteprofile/triplets.tsv/part-00003.tsv.gz\r\n",
      "-rw-r--r--   8 jsw93 supergroup     61.0 M 2021-09-29 10:35 /data/msd/tasteprofile/triplets.tsv/part-00004.tsv.gz\r\n",
      "-rw-r--r--   8 jsw93 supergroup     61.1 M 2021-09-29 10:35 /data/msd/tasteprofile/triplets.tsv/part-00005.tsv.gz\r\n",
      "-rw-r--r--   8 jsw93 supergroup     61.1 M 2021-09-29 10:35 /data/msd/tasteprofile/triplets.tsv/part-00006.tsv.gz\r\n",
      "-rw-r--r--   8 jsw93 supergroup     60.8 M 2021-09-29 10:35 /data/msd/tasteprofile/triplets.tsv/part-00007.tsv.gz\r\n"
     ]
    }
   ],
   "source": [
    "!hdfs dfs -ls -R -h /data/msd/"
   ]
  },
  {
   "cell_type": "code",
   "execution_count": 70,
   "metadata": {},
   "outputs": [
    {
     "name": "stdout",
     "output_type": "stream",
     "text": [
      "SIZE     DISK_SPACE_CONSUMED_WITH_ALL_REPLICAS  FULL_PATH_NAME\r\n",
      "65.5 M   524.2 M                                /data/msd/audio/features/msd-jmir-area-of-moments-all-v1.0.csv\r\n",
      "53.1 M   424.6 M                                /data/msd/audio/features/msd-jmir-lpc-all-v1.0.csv\r\n",
      "35.8 M   286.5 M                                /data/msd/audio/features/msd-jmir-methods-of-moments-all-v1.0.csv\r\n",
      "70.8 M   566.1 M                                /data/msd/audio/features/msd-jmir-mfcc-all-v1.0.csv\r\n",
      "51.1 M   408.9 M                                /data/msd/audio/features/msd-jmir-spectral-all-all-v1.0.csv\r\n",
      "51.1 M   408.9 M                                /data/msd/audio/features/msd-jmir-spectral-derivatives-all-all-v1.0.csv\r\n",
      "412.2 M  3.2 G                                  /data/msd/audio/features/msd-marsyas-timbral-v1.0.csv\r\n",
      "1.3 G    10.3 G                                 /data/msd/audio/features/msd-mvd-v1.0.csv\r\n",
      "240.3 M  1.9 G                                  /data/msd/audio/features/msd-rh-v1.0.csv\r\n",
      "4.0 G    32.3 G                                 /data/msd/audio/features/msd-rp-v1.0.csv\r\n",
      "640.6 M  5.0 G                                  /data/msd/audio/features/msd-ssd-v1.0.csv\r\n",
      "1.4 G    11.5 G                                 /data/msd/audio/features/msd-trh-v1.0.csv\r\n",
      "3.9 G    31.0 G                                 /data/msd/audio/features/msd-tssd-v1.0.csv\r\n"
     ]
    }
   ],
   "source": [
    "!hdfs dfs -du -h -v /data/msd/audio/features/"
   ]
  },
  {
   "cell_type": "code",
   "execution_count": 4,
   "metadata": {},
   "outputs": [
    {
     "name": "stdout",
     "output_type": "stream",
     "text": [
      "Found 4 items\r\n",
      "drwxr-xr-x   - jsw93 supergroup          0 2021-09-29 10:35 /data/msd/audio\r\n",
      "drwxr-xr-x   - jsw93 supergroup          0 2021-09-29 10:35 /data/msd/genre\r\n",
      "drwxr-xr-x   - jsw93 supergroup          0 2021-09-29 10:28 /data/msd/main\r\n",
      "drwxr-xr-x   - jsw93 supergroup          0 2021-09-29 10:35 /data/msd/tasteprofile\r\n"
     ]
    }
   ],
   "source": [
    "!hdfs dfs -ls /data/msd"
   ]
  },
  {
   "cell_type": "code",
   "execution_count": 5,
   "metadata": {},
   "outputs": [
    {
     "name": "stdout",
     "output_type": "stream",
     "text": [
      "SIZE     DISK_SPACE_CONSUMED_WITH_ALL_REPLICAS  FULL_PATH_NAME\r\n",
      "279.9 M  2.2 G                                  /data/crime\r\n",
      "143.8 M  1.1 G                                  /data/fraud\r\n",
      "15.8 G   126.5 G                                /data/ghcnd\r\n",
      "1.9 K    7.5 K                                  /data/helloworld\r\n",
      "1.2 G    9.4 G                                  /data/ml\r\n",
      "12.9 G   103.5 G                                /data/msd\r\n",
      "3.7 M    29.3 M                                 /data/openflights\r\n",
      "19.1 M   152.9 M                                /data/shakespeare\r\n",
      "0        0                                      /data/temp\r\n"
     ]
    }
   ],
   "source": [
    "!hdfs dfs -du -h -v /data/"
   ]
  },
  {
   "cell_type": "code",
   "execution_count": 6,
   "metadata": {
    "scrolled": true
   },
   "outputs": [
    {
     "name": "stdout",
     "output_type": "stream",
     "text": [
      "SIZE     DISK_SPACE_CONSUMED_WITH_ALL_REPLICAS  FULL_PATH_NAME\r\n",
      "12.3 G   98.1 G                                 /data/msd/audio\r\n",
      "30.1 M   241.0 M                                /data/msd/genre\r\n",
      "174.4 M  1.4 G                                  /data/msd/main\r\n",
      "490.4 M  3.8 G                                  /data/msd/tasteprofile\r\n"
     ]
    }
   ],
   "source": [
    "!hdfs dfs -du -h -v /data/msd"
   ]
  },
  {
   "cell_type": "code",
   "execution_count": 10,
   "metadata": {
    "scrolled": true
   },
   "outputs": [
    {
     "name": "stdout",
     "output_type": "stream",
     "text": [
      "SIZE    DISK_SPACE_CONSUMED_WITH_ALL_REPLICAS  FULL_PATH_NAME\r\n",
      "1.0 K   8.2 K                                  /data/msd/audio/attributes/msd-jmir-area-of-moments-all-v1.0.attributes.csv\r\n",
      "671     5.2 K                                  /data/msd/audio/attributes/msd-jmir-lpc-all-v1.0.attributes.csv\r\n",
      "484     3.8 K                                  /data/msd/audio/attributes/msd-jmir-methods-of-moments-all-v1.0.attributes.csv\r\n",
      "898     7.0 K                                  /data/msd/audio/attributes/msd-jmir-mfcc-all-v1.0.attributes.csv\r\n",
      "777     6.1 K                                  /data/msd/audio/attributes/msd-jmir-spectral-all-all-v1.0.attributes.csv\r\n",
      "777     6.1 K                                  /data/msd/audio/attributes/msd-jmir-spectral-derivatives-all-all-v1.0.attributes.csv\r\n",
      "12.0 K  96.2 K                                 /data/msd/audio/attributes/msd-marsyas-timbral-v1.0.attributes.csv\r\n",
      "9.8 K   78.0 K                                 /data/msd/audio/attributes/msd-mvd-v1.0.attributes.csv\r\n",
      "1.4 K   10.9 K                                 /data/msd/audio/attributes/msd-rh-v1.0.attributes.csv\r\n",
      "34.1 K  272.8 K                                /data/msd/audio/attributes/msd-rp-v1.0.attributes.csv\r\n",
      "3.8 K   30.8 K                                 /data/msd/audio/attributes/msd-ssd-v1.0.attributes.csv\r\n",
      "9.8 K   78.0 K                                 /data/msd/audio/attributes/msd-trh-v1.0.attributes.csv\r\n",
      "27.6 K  221.2 K                                /data/msd/audio/attributes/msd-tssd-v1.0.attributes.csv\r\n"
     ]
    }
   ],
   "source": [
    "!hdfs dfs -du -h -v /data/msd/audio/attributes"
   ]
  },
  {
   "cell_type": "code",
   "execution_count": 18,
   "metadata": {
    "scrolled": false
   },
   "outputs": [
    {
     "name": "stdout",
     "output_type": "stream",
     "text": [
      "Area_Method_of_Moments_Overall_Standard_Deviation_1,real\n",
      "Area_Method_of_Moments_Overall_Standard_Deviation_2,real\n",
      "Area_Method_of_Moments_Overall_Standard_Deviation_3,real\n",
      "LPC_Overall_Standard_Deviation_1,real\n",
      "LPC_Overall_Standard_Deviation_2,real\n",
      "LPC_Overall_Standard_Deviation_3,real\n",
      "Method_of_Moments_Overall_Standard_Deviation_1,real\n",
      "Method_of_Moments_Overall_Standard_Deviation_2,real\n",
      "Method_of_Moments_Overall_Standard_Deviation_3,real\n",
      "MFCC_Overall_Standard_Deviation_1,real\n",
      "MFCC_Overall_Standard_Deviation_2,real\n",
      "MFCC_Overall_Standard_Deviation_3,real\n",
      "Spectral_Centroid_Overall_Standard_Deviation_1,real\n",
      "Spectral_Rolloff_Point_Overall_Standard_Deviation_1,real\n",
      "Spectral_Flux_Overall_Standard_Deviation_1,real\n",
      "Spectral_Centroid_Overall_Standard_Deviation_1,real\n",
      "Spectral_Rolloff_Point_Overall_Standard_Deviation_1,real\n",
      "Spectral_Flux_Overall_Standard_Deviation_1,real\n",
      "Mean_Acc5_Mean_Mem20_ZeroCrossings_HopSize512_WinSize512_Sum_AudioCh0,real\n",
      "Mean_Acc5_Mean_Mem20_Centroid_Power_powerFFT_WinHamming_HopSize512_WinSize512_Sum_AudioCh0,real\n",
      "Mean_Acc5_Mean_Mem20_Rolloff_Power_powerFFT_WinHamming_HopSize512_WinSize512_Sum_AudioCh0,real\n",
      "\"component_0\",NUMERIC\n",
      "\"component_1\",NUMERIC\n",
      "\"component_2\",NUMERIC\n",
      "\"component_0\",NUMERIC\n",
      "\"component_1\",NUMERIC\n",
      "\"component_2\",NUMERIC\n",
      "\"component_1\",NUMERIC\n",
      "\"component_2\",NUMERIC\n",
      "\"component_3\",NUMERIC\n",
      "cat: Unable to write to output stream.\n",
      "\"component_0\",NUMERIC\n",
      "\"component_1\",NUMERIC\n",
      "\"component_2\",NUMERIC\n",
      "\"component_0\",NUMERIC\n",
      "\"component_1\",NUMERIC\n",
      "\"component_2\",NUMERIC\n",
      "\"component_1\",NUMERIC\n",
      "\"component_2\",NUMERIC\n",
      "\"component_3\",NUMERIC\n",
      "cat: Unable to write to output stream.\n"
     ]
    }
   ],
   "source": [
    "!hdfs dfs -cat /data/msd/audio/attributes/msd-jmir-area-of-moments-all-v1.0.attributes.csv | head -n3\n",
    "!hdfs dfs -cat /data/msd/audio/attributes/msd-jmir-lpc-all-v1.0.attributes.csv | head -n3\n",
    "!hdfs dfs -cat /data/msd/audio/attributes/msd-jmir-methods-of-moments-all-v1.0.attributes.csv | head -n3\n",
    "!hdfs dfs -cat /data/msd/audio/attributes/msd-jmir-mfcc-all-v1.0.attributes.csv | head -n3\n",
    "!hdfs dfs -cat /data/msd/audio/attributes/msd-jmir-spectral-all-all-v1.0.attributes.csv | head -n3\n",
    "!hdfs dfs -cat /data/msd/audio/attributes/msd-jmir-spectral-derivatives-all-all-v1.0.attributes.csv | head -n3\n",
    "!hdfs dfs -cat /data/msd/audio/attributes/msd-marsyas-timbral-v1.0.attributes.csv | head -n3\n",
    "!hdfs dfs -cat /data/msd/audio/attributes/msd-mvd-v1.0.attributes.csv | head -n3\n",
    "!hdfs dfs -cat /data/msd/audio/attributes/msd-rh-v1.0.attributes.csv | head -n3\n",
    "!hdfs dfs -cat /data/msd/audio/attributes/msd-rp-v1.0.attributes.csv | head -n3\n",
    "!hdfs dfs -cat /data/msd/audio/attributes/msd-ssd-v1.0.attributes.csv | head -n3\n",
    "!hdfs dfs -cat /data/msd/audio/attributes/msd-trh-v1.0.attributes.csv | head -n3\n",
    "!hdfs dfs -cat /data/msd/audio/attributes/msd-tssd-v1.0.attributes.csv | head -n3"
   ]
  },
  {
   "cell_type": "code",
   "execution_count": 26,
   "metadata": {
    "scrolled": false
   },
   "outputs": [
    {
     "name": "stdout",
     "output_type": "stream",
     "text": [
      "SIZE   DISK_SPACE_CONSUMED_WITH_ALL_REPLICAS  FULL_PATH_NAME\r\n",
      "8.2 M  65.9 M                                 /data/msd/audio/features/msd-jmir-area-of-moments-all-v1.0.csv/part-00000.csv.gz\r\n",
      "8.2 M  65.9 M                                 /data/msd/audio/features/msd-jmir-area-of-moments-all-v1.0.csv/part-00001.csv.gz\r\n",
      "8.2 M  65.9 M                                 /data/msd/audio/features/msd-jmir-area-of-moments-all-v1.0.csv/part-00002.csv.gz\r\n",
      "8.2 M  65.9 M                                 /data/msd/audio/features/msd-jmir-area-of-moments-all-v1.0.csv/part-00003.csv.gz\r\n",
      "8.2 M  65.9 M                                 /data/msd/audio/features/msd-jmir-area-of-moments-all-v1.0.csv/part-00004.csv.gz\r\n",
      "8.2 M  65.9 M                                 /data/msd/audio/features/msd-jmir-area-of-moments-all-v1.0.csv/part-00005.csv.gz\r\n",
      "8.2 M  65.9 M                                 /data/msd/audio/features/msd-jmir-area-of-moments-all-v1.0.csv/part-00006.csv.gz\r\n",
      "7.9 M  63.0 M                                 /data/msd/audio/features/msd-jmir-area-of-moments-all-v1.0.csv/part-00007.csv.gz\r\n"
     ]
    }
   ],
   "source": [
    "!hdfs dfs -du -h -v /data/msd/audio/features/msd-jmir-area-of-moments-all-v1.0.csv"
   ]
  },
  {
   "cell_type": "code",
   "execution_count": 73,
   "metadata": {
    "scrolled": true
   },
   "outputs": [
    {
     "name": "stdout",
     "output_type": "stream",
     "text": [
      "% created mar/april 2012 by Vienna University of Technology (htpp://www.ifs.tuwien.ac.at/mir)\r\n",
      "% feature vector version 1.0\r\n",
      "% EXTRACTOR Matlab rp_extract v 0.6411 by tml\r\n",
      "0.335626,0.293309,0.269617,0.274498,0.27573,0.136495,0.172581,0.138023,0.122016,0.117078,0.14321,0.122968,0.120988,0.119766,0.088223,0.104574,0.097663,0.096552,0.094822,0.145181,0.13806,0.221093,0.212537,0.103136,0.09823,0.09391,0.092932,0.102117,0.081064,0.089218,0.091501,0.082726,0.068686,0.10342,0.074859,0.071769,0.083853,0.083103,0.072527,0.083324,0.082416,0.093413,0.101421,0.178391,0.311757,0.154964,0.086146,0.088218,0.080622,0.058603,0.072397,0.077172,0.064931,0.070569,0.077536,0.074917,0.067045,0.060431,0.066273,0.057028,0.0844,0.057521,0.034129,0.052506,0.03966,0.007516,0.015773,0.007397,0.006701,0.008612,0.009319,0.005393,0.007201,0.007596,0.003088,0.006249,0.004489,0.004243,0.003426,0.00684,0.007613,0.036646,0.026974,0.005504,0.003797,0.004725,0.004632,0.004081,0.003407,0.003504,0.003481,0.00212,0.002255,0.004013,0.002382,0.002753,0.003364,0.003105,0.002578,0.004212,0.003169,0.002923,0.00393,0.010956,0.030588,0.007255,0.003387,0.003188,0.003388,9.85E-4,0.002843,0.002539,0.001846,0.001956,0.003532,0.002991,0.001885,0.001409,0.001778,0.001758,0.987124,0.323808,0.670557,0.891665,0.634803,0.389967,0.420179,0.419074,0.480123,0.922579,0.713914,0.501562,1.053519,0.788092,0.454006,1.241503,1.010489,0.372065,0.812758,0.056131,0.19687,1.324376,0.994652,1.227466,0.260084,0.529491,0.916883,0.30948,0.808592,0.614652,0.957898,0.374534,0.55249,0.564064,0.69012,0.745317,0.615336,0.532687,0.834416,0.882486,0.624855,0.534436,0.398909,0.281894,0.183642,0.042256,0.631418,0.620797,0.608195,0.057617,0.768631,0.437233,0.52418,0.442334,0.736664,0.476075,0.44137,0.356515,0.773869,0.602411,3.247949,2.005251,3.028806,3.464928,2.913826,2.618991,2.43585,2.825524,2.819108,3.379596,3.113264,2.954961,4.708484,3.303219,2.976707,5.038485,4.129149,2.368705,3.679174,2.343475,2.041334,4.685934,4.042044,5.211362,2.253904,2.673089,3.499885,2.556119,3.237409,3.205712,4.491488,2.797904,2.754492,3.707639,3.491463,3.323649,2.555304,2.692051,3.639916,3.874084,2.852027,3.327221,2.648945,2.627191,2.968294,2.688331,3.06552,3.340796,3.202839,2.717429,3.101842,2.616908,2.540911,2.868002,2.918704,2.441354,2.717158,2.966017,3.475478,2.952025,0.241644,0.262311,0.259224,0.261152,0.252243,0.135596,0.145853,0.132573,0.110317,0.095342,0.132279,0.115919,0.106972,0.101218,0.084842,0.088499,0.088433,0.094169,0.086897,0.13426,0.129112,0.172696,0.188426,0.086965,0.097768,0.079991,0.089405,0.102311,0.069964,0.086137,0.084816,0.075523,0.06789,0.102274,0.071577,0.063368,0.069841,0.077202,0.067477,0.080421,0.075059,0.090833,0.097978,0.180195,0.308027,0.16686,0.076931,0.086111,0.071341,0.061648,0.062113,0.06887,0.055285,0.068008,0.065783,0.067624,0.064613,0.06177,0.062435,0.04797,4.0E-6,4.0E-6,4.0E-6,4.0E-6,4.0E-6,4.0E-6,4.0E-6,4.0E-6,4.0E-6,4.0E-6,4.0E-6,4.0E-6,4.0E-6,4.0E-6,4.0E-6,4.0E-6,4.0E-6,4.0E-6,4.0E-6,4.0E-6,4.0E-6,4.0E-6,4.0E-6,4.0E-6,4.0E-6,4.0E-6,4.0E-6,4.0E-6,4.0E-6,4.0E-6,4.0E-6,4.0E-6,4.0E-6,4.0E-6,4.0E-6,4.0E-6,4.0E-6,4.0E-6,4.0E-6,4.0E-6,4.0E-6,4.0E-6,4.0E-6,4.0E-6,4.0E-6,4.0E-6,4.0E-6,4.0E-6,4.0E-6,4.0E-6,4.0E-6,4.0E-6,4.0E-6,4.0E-6,4.0E-6,4.0E-6,4.0E-6,4.0E-6,4.0E-6,4.0E-6,1.013504,0.702274,0.721992,0.791025,0.731173,0.322883,0.411405,0.341323,0.299737,0.339235,0.37076,0.289972,0.351719,0.33275,0.215904,0.340958,0.278779,0.229346,0.249243,0.287424,0.293996,0.750195,0.622991,0.312818,0.215433,0.235323,0.254765,0.238405,0.212333,0.221584,0.249902,0.184291,0.175491,0.255118,0.191501,0.201193,0.211067,0.210264,0.209463,0.243956,0.207453,0.232041,0.240467,0.356371,0.708422,0.307855,0.224257,0.224886,0.223133,0.126835,0.205163,0.189272,0.155625,0.175056,0.203409,0.187625,0.163744,0.147144,0.171832,0.153328,'TRUNNPU128F42509AF',\r\n",
      "0.536086,0.422502,0.281914,0.266701,0.226248,0.192649,0.194404,0.2068,0.168928,0.226275,0.17815,0.171956,0.166969,0.165133,0.131306,0.145657,0.112868,0.112358,0.091917,0.107889,0.10036,0.107098,0.103809,0.105049,0.098416,0.143997,0.096984,0.0938,0.071497,0.076182,0.075464,0.061594,0.05898,0.058994,0.058662,0.061974,0.062379,0.063917,0.052737,0.062912,0.053959,0.050365,0.049631,0.038519,0.043818,0.044935,0.042463,0.045417,0.041154,0.040574,0.041449,0.043778,0.046366,0.04148,0.038004,0.037757,0.038522,0.034594,0.034717,0.031412,0.166956,0.122354,0.060235,0.060869,0.039262,0.024648,0.024888,0.020523,0.016966,0.035456,0.019936,0.027845,0.02371,0.011393,0.007583,0.013187,0.009859,0.00882,0.004828,0.008317,0.007899,0.012738,0.006572,0.008276,0.010391,0.007768,0.004682,0.004287,0.003773,0.003188,0.003769,0.002656,0.00157,0.002788,0.002724,0.002708,0.002767,0.002365,0.002371,0.002481,0.001829,0.001523,0.001625,7.96E-4,0.001292,9.04E-4,0.001262,0.001178,0.001198,0.001092,9.37E-4,0.001332,0.001065,8.76E-4,8.28E-4,7.71E-4,0.001051,7.38E-4,7.2E-4,7.85E-4,0.70789,1.58615,1.413306,1.461396,0.80634,1.408111,1.027752,0.827055,0.598059,0.905444,0.752399,1.240666,1.064709,0.595801,0.558811,1.008814,0.722943,1.263968,1.141871,0.908082,1.177564,1.661239,0.912891,1.220108,1.635614,0.318908,0.575756,0.65516,0.950954,1.190519,0.936788,0.946896,0.611988,1.130157,1.101844,1.136315,1.057112,0.595101,1.265337,0.815669,0.953174,0.935801,1.000383,0.766738,1.012215,0.563125,0.833923,0.981664,1.074834,1.260678,1.075354,0.5507,0.693584,0.457299,1.104933,0.699246,1.395881,0.47587,0.856688,1.660761,2.866505,6.096697,5.884721,6.13534,3.138031,6.146144,3.80136,4.080093,2.783439,3.534038,2.941119,4.151207,4.123725,3.048577,3.006424,3.75634,2.46389,4.375109,4.439157,3.448256,4.236064,5.811058,3.727173,3.99544,6.067235,2.648022,2.67585,2.987179,3.513787,5.632949,3.251845,3.219748,2.91946,3.991614,3.61097,4.007785,3.718966,2.441797,4.217226,3.043293,3.51692,3.423167,3.337783,2.928594,4.173935,3.356305,3.00963,3.774258,3.569761,4.473826,4.222434,2.393953,2.900701,2.300551,4.25687,2.870839,5.662358,2.246771,3.309508,6.153905,0.453538,0.339999,0.2649,0.20907,0.216952,0.17071,0.162986,0.196812,0.147278,0.191288,0.159549,0.127305,0.160119,0.164805,0.135715,0.125849,0.084045,0.093218,0.077786,0.076594,0.090875,0.084397,0.095096,0.087085,0.078761,0.141243,0.089999,0.09462,0.059151,0.074882,0.063688,0.051396,0.056998,0.049981,0.041838,0.055002,0.049577,0.054543,0.039945,0.056422,0.04854,0.041695,0.042566,0.030658,0.04052,0.04415,0.033847,0.038932,0.033582,0.03561,0.036949,0.039532,0.041702,0.03726,0.034918,0.031688,0.033231,0.031279,0.028749,0.02654,4.0E-6,4.0E-6,4.0E-6,4.0E-6,4.0E-6,4.0E-6,4.0E-6,4.0E-6,4.0E-6,4.0E-6,4.0E-6,4.0E-6,4.0E-6,4.0E-6,4.0E-6,4.0E-6,4.0E-6,4.0E-6,4.0E-6,4.0E-6,4.0E-6,4.0E-6,4.0E-6,4.0E-6,4.0E-6,4.0E-6,4.0E-6,4.0E-6,4.0E-6,4.0E-6,4.0E-6,4.0E-6,4.0E-6,4.0E-6,4.0E-6,4.0E-6,4.0E-6,4.0E-6,4.0E-6,4.0E-6,4.0E-6,4.0E-6,4.0E-6,4.0E-6,4.0E-6,4.0E-6,4.0E-6,4.0E-6,4.0E-6,4.0E-6,4.0E-6,4.0E-6,4.0E-6,4.0E-6,4.0E-6,4.0E-6,4.0E-6,4.0E-6,4.0E-6,4.0E-6,1.435345,1.417459,1.016333,1.007714,0.697368,0.625004,0.622243,0.511721,0.423814,0.671286,0.490957,0.544774,0.56196,0.401333,0.33717,0.437093,0.325318,0.356532,0.271197,0.321233,0.341039,0.392542,0.32012,0.327866,0.402774,0.322079,0.249043,0.232065,0.220158,0.218202,0.216926,0.177394,0.147724,0.187512,0.186894,0.18494,0.201093,0.160083,0.184854,0.181761,0.168316,0.143902,0.147087,0.097647,0.139192,0.103075,0.125011,0.133244,0.127698,0.128317,0.12361,0.117179,0.12199,0.103731,0.116413,0.100772,0.137463,0.085711,0.098455,0.116033,'TRHOCGC128F4289D7E',\r\n",
      "0.203485,0.276116,0.159323,0.167955,0.111791,0.118766,0.153905,0.149681,0.102207,0.115399,0.146909,0.090982,0.100323,0.070076,0.238048,0.072577,0.063509,0.082693,0.146346,0.131822,0.105556,0.091405,0.095929,0.057178,0.05769,0.077026,0.084219,0.100516,0.062744,0.407693,0.078744,0.086118,0.063579,0.078616,0.060047,0.069289,0.092171,0.095847,0.052684,0.072483,0.087496,0.059578,0.053702,0.049303,0.172366,0.054975,0.067122,0.065151,0.086753,0.068581,0.08888,0.077509,0.08194,0.055754,0.05589,0.07517,0.066953,0.08089,0.044696,0.20436,0.059436,0.213822,0.026866,0.021348,0.007529,0.012623,0.017463,0.014977,0.007276,0.01256,0.008561,0.006509,0.017309,0.003235,0.068986,0.002115,0.002521,0.00247,0.006565,0.012038,0.006612,0.006192,0.00749,0.002153,0.002126,0.004193,0.003768,0.017477,0.001545,0.057866,0.003163,0.005548,0.00224,0.002472,0.001211,0.003766,0.005422,0.003566,0.001094,0.004316,0.003843,0.002402,0.001892,0.001319,0.021522,0.001744,0.00275,0.002359,0.002594,0.003548,0.007523,0.008246,0.00442,0.001768,0.002187,0.002744,0.002457,0.006748,0.001063,0.017561,0.968187,2.298228,1.385568,1.693763,1.116188,1.236733,1.346317,1.525357,0.98256,0.927191,0.590388,1.655601,2.102916,1.595321,2.664797,0.638906,1.302606,0.575749,0.480347,1.262291,1.038997,0.912389,1.245735,1.07108,1.338514,1.659778,0.838162,2.117498,0.514241,1.259445,1.826863,1.702298,1.041971,0.776142,0.180793,0.653317,1.02001,0.542633,0.644131,1.730335,0.760774,1.233019,1.124895,1.160712,1.448118,0.964727,1.28252,1.137281,0.639392,1.097593,1.205441,1.170141,0.970119,0.804752,1.066293,0.884639,1.387579,1.688441,0.917121,0.822128,3.26279,7.404881,5.646332,6.112304,4.681744,4.563776,5.312718,5.183175,3.631199,3.804276,2.776972,6.659889,7.592579,5.99102,10.976731,3.715047,4.949947,3.842764,3.086037,4.403322,3.203765,3.503544,4.031206,4.311254,4.868092,6.031923,4.393998,7.280434,2.611161,5.519379,7.544457,5.413323,3.68402,2.996291,2.418961,2.538001,3.335522,3.059412,2.800014,5.80279,3.315458,4.641526,4.705794,3.997453,5.701608,3.958578,4.388681,4.180374,3.321803,3.652169,3.675881,3.309811,3.379424,2.654542,3.275924,3.547497,5.157511,5.251628,3.348038,3.025655,0.132688,0.147408,0.119643,0.133524,0.103103,0.098745,0.132042,0.132888,0.084381,0.099029,0.13873,0.073252,0.068994,0.052343,0.179623,0.066434,0.054642,0.076576,0.140525,0.104583,0.088434,0.07925,0.078801,0.045244,0.045477,0.064505,0.077163,0.068289,0.0596,0.355156,0.069958,0.066738,0.05566,0.066622,0.057007,0.05674,0.074447,0.090222,0.046555,0.054583,0.074802,0.052152,0.043698,0.03934,0.144898,0.049882,0.054888,0.05347,0.076967,0.057991,0.059354,0.045487,0.070664,0.047726,0.042369,0.064638,0.056827,0.051048,0.039312,0.172987,4.0E-6,4.0E-6,4.0E-6,4.0E-6,4.0E-6,4.0E-6,4.0E-6,4.0E-6,4.0E-6,4.0E-6,4.0E-6,4.0E-6,4.0E-6,4.0E-6,4.0E-6,4.0E-6,4.0E-6,4.0E-6,4.0E-6,4.0E-6,4.0E-6,4.0E-6,4.0E-6,4.0E-6,4.0E-6,4.0E-6,4.0E-6,4.0E-6,4.0E-6,4.0E-6,4.0E-6,4.0E-6,4.0E-6,4.0E-6,4.0E-6,4.0E-6,4.0E-6,4.0E-6,4.0E-6,4.0E-6,4.0E-6,4.0E-6,4.0E-6,4.0E-6,4.0E-6,4.0E-6,4.0E-6,4.0E-6,4.0E-6,4.0E-6,4.0E-6,4.0E-6,4.0E-6,4.0E-6,4.0E-6,4.0E-6,4.0E-6,4.0E-6,4.0E-6,4.0E-6,0.675616,1.64856,0.621545,0.623755,0.350436,0.419451,0.521972,0.477023,0.298054,0.353867,0.347512,0.347917,0.498255,0.240232,1.150057,0.194491,0.216637,0.212644,0.336696,0.418639,0.294657,0.270399,0.293318,0.174745,0.190621,0.272462,0.241964,0.508955,0.148443,1.077811,0.263066,0.288685,0.179464,0.19324,0.129178,0.191839,0.254654,0.238744,0.126513,0.273288,0.248646,0.203859,0.17462,0.142829,0.589478,0.163145,0.204726,0.198295,0.191693,0.222116,0.30131,0.274312,0.246382,0.14155,0.16968,0.207866,0.209569,0.315474,0.129531,0.478322,'TRUCDEN128F422F002',\r\n",
      "0.269043,0.194921,0.181191,0.139678,0.160424,0.133284,0.113647,0.108985,0.114054,0.164973,0.11585,0.094024,0.085907,0.073549,0.101755,0.077808,0.092593,0.078564,0.073476,0.076706,0.055667,0.0541,0.048139,0.046291,0.044658,0.044308,0.040652,0.042581,0.041848,0.048143,0.040555,0.038972,0.038735,0.035608,0.032814,0.029913,0.030852,0.03023,0.036197,0.034219,0.025057,0.025691,0.022174,0.025664,0.023476,0.023046,0.02594,0.022153,0.023952,0.022747,0.020058,0.019936,0.020666,0.020163,0.01849,0.018936,0.017446,0.018745,0.018755,0.017137,0.092816,0.044693,0.046654,0.023352,0.032483,0.023758,0.014949,0.013723,0.014498,0.031397,0.013938,0.009796,0.008208,0.00645,0.010658,0.006983,0.009169,0.005342,0.004906,0.005966,0.003136,0.003185,0.002726,0.002147,0.002178,0.002132,0.00212,0.001995,0.002434,0.003329,0.002014,0.002066,0.001558,0.001519,0.001113,9.42E-4,0.001208,0.001113,0.00139,0.001429,7.18E-4,9.64E-4,5.46E-4,9.04E-4,6.97E-4,5.63E-4,7.98E-4,4.84E-4,5.85E-4,6.84E-4,5.52E-4,4.5E-4,4.68E-4,5.4E-4,4.9E-4,4.74E-4,3.2E-4,5.12E-4,3.45E-4,3.54E-4,1.054572,1.038376,1.073826,0.947683,1.223852,1.175974,1.200062,1.105345,1.216643,1.359932,0.92064,1.132892,0.916529,1.236672,0.819247,0.964892,0.772671,0.691192,0.841191,1.156024,0.995815,0.958429,1.156922,1.026399,1.018043,1.316431,1.085358,1.016684,1.265393,1.354622,1.313057,1.271939,0.821286,1.044173,0.83662,1.223361,1.611768,1.295947,1.031829,1.295588,1.420141,1.364501,1.126638,1.41072,1.201882,0.943336,1.265426,0.730735,0.771627,1.271241,1.502397,1.357842,1.043894,1.668341,1.603751,1.660983,0.910255,1.549224,0.959025,1.254718,3.551056,3.33885,3.478201,3.290434,3.976378,3.987558,4.175295,3.697759,4.166374,4.842762,2.984138,3.810183,2.857611,4.036925,3.106761,2.936384,2.802971,3.001258,3.04677,4.308925,3.250295,3.468559,3.965042,3.834746,3.045365,5.320484,3.521951,3.381727,4.240098,4.269641,4.247441,3.914808,2.780157,3.373028,2.796865,4.783712,6.332407,4.232384,3.608006,4.25566,5.090996,4.570109,3.765252,4.815918,3.957171,3.046493,4.423191,2.419253,2.515039,4.222485,4.886667,5.344243,3.389912,6.250644,6.1397,6.231139,2.94707,5.03764,3.411695,4.406807,0.191128,0.136631,0.110716,0.109257,0.111372,0.088165,0.080988,0.077469,0.086591,0.124658,0.084572,0.06324,0.061392,0.051695,0.081978,0.058142,0.073639,0.07319,0.061901,0.063077,0.041575,0.044477,0.032171,0.036692,0.035581,0.035934,0.028201,0.03142,0.026342,0.024997,0.028945,0.022251,0.028705,0.027089,0.024617,0.023574,0.024199,0.021343,0.026847,0.022045,0.018617,0.015831,0.014087,0.017388,0.016399,0.016605,0.019541,0.015893,0.016477,0.015696,0.013268,0.014752,0.014419,0.014971,0.011848,0.014382,0.011294,0.010736,0.015901,0.010802,4.0E-6,4.0E-6,4.0E-6,4.0E-6,4.0E-6,4.0E-6,4.0E-6,4.0E-6,4.0E-6,4.0E-6,4.0E-6,4.0E-6,4.0E-6,4.0E-6,4.0E-6,4.0E-6,4.0E-6,4.0E-6,4.0E-6,4.0E-6,4.0E-6,4.0E-6,4.0E-6,4.0E-6,4.0E-6,4.0E-6,4.0E-6,4.0E-6,4.0E-6,4.0E-6,4.0E-6,4.0E-6,4.0E-6,4.0E-6,4.0E-6,4.0E-6,4.0E-6,4.0E-6,4.0E-6,4.0E-6,4.0E-6,4.0E-6,4.0E-6,4.0E-6,4.0E-6,4.0E-6,4.0E-6,4.0E-6,4.0E-6,4.0E-6,4.0E-6,4.0E-6,4.0E-6,4.0E-6,4.0E-6,4.0E-6,4.0E-6,4.0E-6,4.0E-6,4.0E-6,1.045463,0.715908,0.725744,0.508617,0.634491,0.532956,0.445588,0.395548,0.420941,0.650355,0.394198,0.348299,0.295028,0.281685,0.332207,0.274543,0.283826,0.237501,0.251529,0.287549,0.196361,0.181793,0.183984,0.159055,0.151784,0.170628,0.15517,0.148805,0.167451,0.18696,0.157477,0.16063,0.128311,0.129497,0.110175,0.114169,0.139482,0.119894,0.130965,0.137418,0.103655,0.108174,0.081826,0.112549,0.087102,0.079293,0.103462,0.070089,0.077897,0.09543,0.087317,0.078097,0.076545,0.090081,0.086053,0.087105,0.059306,0.0814,0.06619,0.067514,'TRIRBZT128F4248E8E',\r\n",
      "0.265176,0.220795,0.20055,0.168114,0.144465,0.148508,0.116443,0.136809,0.115651,0.094163,0.098146,0.086087,0.076796,0.112142,0.091248,0.085641,0.092403,0.073259,0.070543,0.071374,0.062399,0.081251,0.133527,0.056518,0.053922,0.060282,0.051458,0.056761,0.065312,0.047592,0.05991,0.053954,0.047117,0.072458,0.045506,0.041606,0.061032,0.043832,0.044601,0.045807,0.041271,0.040418,0.047388,0.035742,0.052384,0.069845,0.045511,0.03218,0.043229,0.036616,0.055719,0.041092,0.043295,0.037826,0.036078,0.035892,0.036548,0.030501,0.032286,0.044146,0.031308,0.020738,0.022756,0.015555,0.008619,0.00835,0.008877,0.00787,0.007323,0.003317,0.003304,0.002524,0.002642,0.005774,0.00371,0.002896,0.002835,0.00183,0.002286,0.002774,0.002428,0.002791,0.00565,0.001229,0.00127,0.00119,0.001599,0.001081,0.00148,0.001087,0.001419,8.94E-4,8.41E-4,0.007341,9.88E-4,9.12E-4,9.3E-4,0.001185,8.82E-4,9.95E-4,7.67E-4,7.48E-4,9.63E-4,5.94E-4,0.001181,0.00237,8.12E-4,4.62E-4,0.001199,6.98E-4,0.00253,8.52E-4,8.73E-4,6.58E-4,7.01E-4,4.37E-4,7.69E-4,4.06E-4,5.29E-4,6.34E-4,0.938908,0.475503,0.886619,0.98009,0.469196,0.46961,0.760136,0.484204,1.098758,0.585409,0.322858,0.422818,0.60572,0.722957,0.506895,0.530412,0.191928,0.452714,0.81963,1.517127,1.046078,0.633616,0.853474,0.626097,0.299479,0.496452,1.218194,0.343954,0.481233,0.785174,0.858619,0.330111,0.175127,1.672332,0.700321,1.053567,-0.09739,1.451872,0.975432,0.542457,1.268645,0.473479,0.765781,0.739014,0.595667,0.928741,0.813809,0.930445,0.75847,0.614452,0.976613,0.488106,0.933848,0.82494,1.059244,0.426183,0.797112,0.538157,1.380627,0.663967,4.193306,3.018264,3.027572,4.134529,3.149686,2.571613,2.802887,2.919358,4.457005,2.993218,2.492443,3.084338,2.769704,3.085671,2.933341,2.927437,2.274838,2.717093,3.405775,6.559139,3.931847,2.973089,4.974355,3.031924,2.102027,2.95034,4.939675,2.59292,2.77545,3.054174,3.752003,3.083757,2.521421,5.843024,3.069055,4.698423,2.635453,5.799309,4.240604,3.165647,5.189099,2.9547,3.356894,3.480086,3.284778,3.685791,4.01633,3.451207,3.270779,2.545008,3.15837,2.26712,4.001153,3.678232,3.78073,2.814741,3.367919,2.421258,5.093182,3.564566,0.228714,0.214409,0.159999,0.143694,0.143557,0.132324,0.099515,0.126997,0.106072,0.089022,0.092799,0.084368,0.069899,0.105409,0.08406,0.081016,0.088929,0.068606,0.06026,0.06017,0.053175,0.073924,0.124451,0.054664,0.053415,0.056508,0.041995,0.052997,0.060052,0.040784,0.05159,0.054405,0.044115,0.05154,0.038683,0.03794,0.062887,0.036401,0.03974,0.041515,0.035841,0.036365,0.043945,0.034946,0.051924,0.054981,0.041795,0.027028,0.035372,0.031178,0.045389,0.036039,0.03961,0.036286,0.031991,0.03255,0.033412,0.027204,0.027756,0.039606,4.0E-6,4.0E-6,4.0E-6,4.0E-6,4.0E-6,4.0E-6,4.0E-6,4.0E-6,4.0E-6,4.0E-6,4.0E-6,4.0E-6,4.0E-6,4.0E-6,4.0E-6,4.0E-6,4.0E-6,4.0E-6,4.0E-6,4.0E-6,4.0E-6,4.0E-6,4.0E-6,4.0E-6,4.0E-6,4.0E-6,4.0E-6,4.0E-6,4.0E-6,4.0E-6,4.0E-6,4.0E-6,4.0E-6,4.0E-6,4.0E-6,4.0E-6,4.0E-6,4.0E-6,4.0E-6,4.0E-6,4.0E-6,4.0E-6,4.0E-6,4.0E-6,4.0E-6,4.0E-6,4.0E-6,4.0E-6,4.0E-6,4.0E-6,4.0E-6,4.0E-6,4.0E-6,4.0E-6,4.0E-6,4.0E-6,4.0E-6,4.0E-6,4.0E-6,4.0E-6,0.698203,0.5561,0.556093,0.492619,0.362706,0.341826,0.318908,0.316142,0.355021,0.234894,0.21327,0.202939,0.19256,0.286583,0.232544,0.210483,0.195644,0.169464,0.189343,0.237015,0.19445,0.201899,0.330476,0.141843,0.123838,0.140519,0.167463,0.12683,0.149435,0.124862,0.158238,0.12066,0.105492,0.314944,0.116102,0.126372,0.12091,0.152228,0.125307,0.118765,0.125789,0.101454,0.12608,0.099972,0.127476,0.184354,0.123555,0.086587,0.125039,0.092214,0.176757,0.102955,0.119009,0.106217,0.102874,0.081362,0.101439,0.071175,0.101297,0.105127,'TRURGGS12903CC654D',\r\n",
      "0.206226,0.119755,0.117678,0.075197,0.086357,0.0888,0.074146,0.071744,0.085619,0.052678,0.055268,0.057635,0.043138,0.058119,0.070315,0.057866,0.046813,0.049191,0.041742,0.046543,0.058865,0.058519,0.066978,0.061188,0.036853,0.041086,0.037245,0.040688,0.041134,0.038325,0.033961,0.033851,0.029926,0.025859,0.035306,0.029326,0.036451,0.047822,0.032851,0.050018,0.035858,0.028501,0.027056,0.041029,0.038302,0.029116,0.029915,0.02485,0.020505,0.022512,0.021644,0.025961,0.035274,0.023142,0.029856,0.024964,0.02305,0.025865,0.030242,0.027906,0.044073,0.014624,0.016536,0.005623,0.008121,0.011048,0.006735,0.004512,0.008856,0.003144,0.004948,0.003361,0.002512,0.006431,0.004807,0.005583,0.002123,0.00472,0.004077,0.002257,0.004002,0.005175,0.006373,0.003729,0.001017,0.001441,9.89E-4,0.001346,0.001424,0.001584,0.001819,0.001549,0.001378,6.71E-4,0.001543,9.75E-4,0.001525,0.003225,0.001246,0.011524,0.00134,9.07E-4,7.49E-4,0.001365,0.002145,8.31E-4,8.34E-4,7.23E-4,4.28E-4,4.28E-4,3.35E-4,5.96E-4,0.001695,5.84E-4,9.15E-4,4.37E-4,4.58E-4,5.65E-4,9.95E-4,9.82E-4,1.095487,0.702099,1.156068,0.815048,0.888209,1.408427,0.763157,0.76136,1.207941,0.967113,1.506747,1.186779,1.068416,1.621377,1.388807,1.127029,0.770408,1.47561,1.672578,1.331648,0.755076,1.650583,1.21174,0.725044,0.583451,0.766772,0.672874,0.648896,0.901989,0.969786,1.913226,1.405169,1.540667,1.088887,1.442277,0.933767,0.856567,1.318579,1.209953,3.135307,1.661882,0.891345,0.992252,0.921198,1.613854,1.142864,1.027025,1.269365,0.774286,0.747777,0.48061,0.742468,1.531981,1.511257,0.914332,0.677678,0.840044,0.66679,0.827179,1.595217,4.010344,2.520156,3.794217,3.14428,3.158912,5.305474,2.57069,2.531606,4.06431,3.692137,6.692933,4.123848,3.551932,7.193151,4.982755,3.923707,2.885488,5.59742,7.631804,4.899782,2.653482,6.585023,4.345187,2.842176,3.018514,2.947125,2.901709,2.46613,3.248264,3.386194,7.003226,6.371947,6.22867,4.02358,5.713864,3.365895,3.276688,4.541126,4.515918,14.071876,6.424496,3.682182,3.850622,3.436997,6.129748,4.157354,3.320878,4.417889,2.866084,2.70151,2.795918,2.878378,5.028832,5.484996,2.926859,2.90406,3.848908,2.756742,3.141779,6.92911,0.143984,0.092679,0.075379,0.056502,0.061995,0.062134,0.046096,0.055025,0.057467,0.038906,0.047765,0.046023,0.030482,0.04294,0.055633,0.037514,0.037849,0.030902,0.031267,0.033409,0.038061,0.048676,0.046282,0.049776,0.034457,0.034552,0.037022,0.038767,0.033892,0.029251,0.024542,0.026584,0.022408,0.016388,0.023844,0.022955,0.026746,0.027567,0.027567,0.033507,0.025369,0.020705,0.020349,0.042231,0.031056,0.021906,0.022369,0.020057,0.015121,0.01963,0.021303,0.018801,0.024205,0.018137,0.019107,0.02291,0.021753,0.02126,0.027176,0.023321,4.0E-6,4.0E-6,4.0E-6,4.0E-6,4.0E-6,4.0E-6,4.0E-6,4.0E-6,4.0E-6,4.0E-6,4.0E-6,4.0E-6,4.0E-6,4.0E-6,4.0E-6,4.0E-6,4.0E-6,4.0E-6,4.0E-6,4.0E-6,4.0E-6,4.0E-6,4.0E-6,4.0E-6,4.0E-6,4.0E-6,4.0E-6,4.0E-6,4.0E-6,4.0E-6,4.0E-6,4.0E-6,4.0E-6,4.0E-6,4.0E-6,4.0E-6,4.0E-6,4.0E-6,4.0E-6,4.0E-6,4.0E-6,4.0E-6,4.0E-6,4.0E-6,4.0E-6,4.0E-6,4.0E-6,4.0E-6,4.0E-6,4.0E-6,4.0E-6,4.0E-6,4.0E-6,4.0E-6,4.0E-6,4.0E-6,4.0E-6,4.0E-6,4.0E-6,4.0E-6,0.747445,0.366606,0.435765,0.249676,0.297087,0.397959,0.235256,0.211853,0.326673,0.199801,0.268393,0.196204,0.16196,0.300631,0.260498,0.247042,0.151224,0.236961,0.227442,0.180688,0.185097,0.264127,0.280328,0.196385,0.114058,0.128688,0.107714,0.113717,0.130561,0.127514,0.163331,0.154036,0.133681,0.094341,0.139903,0.097587,0.133142,0.20255,0.127609,0.409931,0.131281,0.102627,0.095474,0.127649,0.17878,0.104326,0.099428,0.091762,0.063222,0.068136,0.062671,0.082868,0.152032,0.095983,0.092956,0.073643,0.073076,0.078158,0.101411,0.126437,'TROVXIR128F4258300',\r\n",
      "0.778785,0.533959,0.405298,0.354033,0.280628,0.539235,0.261787,0.377824,0.237934,0.316297,0.350973,0.325533,0.313728,0.332404,0.18378,0.178712,0.218353,0.183608,0.159944,0.133994,0.172599,0.152722,0.209442,0.524194,0.331154,0.181424,0.134712,0.115713,0.119864,0.150475,0.118764,0.128163,0.115332,0.107387,0.119462,0.128693,0.154808,0.126813,0.097011,0.09453,0.10424,0.109945,0.11862,0.082187,0.098914,0.090169,0.104965,0.151138,0.319257,0.113434,0.099883,0.079347,0.080018,0.081535,0.100616,0.070935,0.077465,0.083295,0.080512,0.080688,0.293024,0.138518,0.099431,0.062484,0.045817,0.094304,0.029896,0.055363,0.027096,0.043719,0.062228,0.037647,0.046543,0.047486,0.013986,0.012637,0.018839,0.015584,0.009918,0.008033,0.016063,0.00874,0.014262,0.043565,0.02262,0.009521,0.007089,0.005148,0.006037,0.008395,0.006759,0.008256,0.006498,0.005206,0.007474,0.008889,0.00832,0.007556,0.004125,0.004028,0.00406,0.005194,0.005524,0.003254,0.004764,0.002818,0.004075,0.005811,0.025107,0.005975,0.004255,0.002733,0.003191,0.003303,0.00408,0.003013,0.002899,0.003146,0.002657,0.002942,0.572002,0.719828,0.859058,0.6557,0.725268,0.286137,0.591202,0.496918,0.630582,0.629764,0.707614,0.528113,0.660901,0.748686,0.569707,0.416568,0.316019,0.488469,0.276678,0.915005,0.912102,0.410126,0.128463,-0.162929,0.095693,0.209338,0.597496,0.628982,0.662508,0.469797,1.026065,0.793155,0.566752,0.504573,0.734979,0.952077,0.623109,0.489112,0.608612,0.8622,0.626952,0.48745,0.531783,0.894225,0.664506,0.360248,0.399414,0.315855,0.377455,0.457448,0.618918,0.627125,0.546373,1.083796,0.674739,0.739765,0.681495,0.674474,0.528616,0.56188,2.993395,3.214198,3.947957,2.662743,2.63779,2.576671,2.644717,2.625368,2.923868,2.933378,3.195598,2.542471,3.562105,3.470851,2.764484,2.666497,2.616772,2.274086,2.299778,3.959535,3.97383,2.629435,2.182784,2.825105,2.923019,2.234828,2.748744,3.045584,3.100606,2.476806,3.61229,3.341139,2.709101,2.559797,3.119377,3.326599,2.847249,2.421197,2.668769,3.287027,2.965004,2.56306,2.444601,3.533469,2.737433,2.372783,2.502635,2.663004,2.585529,2.82734,2.656003,3.057287,2.616837,4.924572,3.064088,2.973432,2.74568,3.142841,3.048546,2.803716,0.694407,0.483292,0.395173,0.307486,0.236384,0.532252,0.242808,0.357995,0.209741,0.282942,0.310152,0.299452,0.294054,0.292497,0.156627,0.16223,0.200697,0.163619,0.146831,0.116478,0.157455,0.141981,0.203668,0.498367,0.324271,0.177559,0.120028,0.102484,0.111229,0.137317,0.097704,0.115787,0.107505,0.101165,0.111964,0.104789,0.146457,0.112478,0.085125,0.08481,0.096259,0.099976,0.105663,0.07277,0.089121,0.084742,0.09769,0.147311,0.291157,0.101926,0.08641,0.074713,0.071832,0.074875,0.091716,0.062413,0.066284,0.077491,0.076864,0.075166,0.019723,0.018194,0.01196,0.011356,0.010028,0.019815,0.008899,0.011608,0.011735,0.011875,0.011568,0.045324,0.011917,0.016472,0.009864,0.006777,0.010658,0.010786,0.00813,0.009493,0.006199,0.009438,0.013683,0.056095,0.034684,0.015761,0.008012,0.004731,0.006962,0.010357,0.00955,0.006647,0.007097,0.006729,0.009191,0.020444,0.025475,0.010015,0.009055,0.00584,0.007091,0.005151,0.009394,0.005071,0.003751,0.006555,0.007895,0.016641,0.036834,0.00775,0.00754,0.005401,0.002835,0.004053,0.0054,0.002789,0.00348,0.00428,0.003313,0.005219,2.009622,1.422656,1.23889,0.905698,0.739699,1.186433,0.619215,0.882504,0.616314,0.791232,0.927086,0.723832,0.8221,0.842509,0.434276,0.43109,0.503325,0.432932,0.368407,0.362237,0.506679,0.357543,0.436243,0.906033,0.647658,0.359841,0.327016,0.278273,0.300452,0.33596,0.326065,0.353779,0.295518,0.258844,0.313295,0.330642,0.358515,0.298642,0.245641,0.250475,0.257643,0.265033,0.27341,0.229786,0.258814,0.204934,0.238184,0.302158,0.648902,0.26965,0.239871,0.202197,0.203506,0.235557,0.257589,0.196025,0.195474,0.219587,0.198556,0.197249,'TRSUICJ12903CC2B98',\r\n",
      "\r\n",
      "gzip: stdout: Broken pipe\r\n",
      "cat: Unable to write to output stream.\r\n"
     ]
    }
   ],
   "source": [
    "!hdfs dfs -cat /data/msd/audio/features/msd-mvd-v1.0.csv/part-00000.csv.gz |zcat | head -n10"
   ]
  },
  {
   "cell_type": "code",
   "execution_count": 44,
   "metadata": {},
   "outputs": [
    {
     "name": "stdout",
     "output_type": "stream",
     "text": [
      "track_id,title,artist_name,duration,7digita_Id,sample_bitrate,sample_length,sample_rate,sample_mode,sample_version,filesize\r\n",
      "TRMMMYQ128F932D901,\"Silent Night\",\"Faster Pussy cat\",252.05506,7032331,128,60.1935770567,22050,1,2,960887\r\n",
      "TRMMMKD128F425225D,\"Tanssi vaan\",Karkkiautomaatti,156.55138,1514808,64,30.2244270016,22050,1,2,242038\r\n",
      "\r\n",
      "gzip: stdout: Broken pipe\r\n",
      "cat: Unable to write to output stream.\r\n"
     ]
    }
   ],
   "source": [
    "!hdfs dfs -cat /data/msd/audio/statistics/sample_properties.csv.gz | zcat | head -n3"
   ]
  },
  {
   "cell_type": "code",
   "execution_count": 38,
   "metadata": {
    "scrolled": true
   },
   "outputs": [
    {
     "name": "stdout",
     "output_type": "stream",
     "text": [
      "SIZE    DISK_SPACE_CONSUMED_WITH_ALL_REPLICAS  FULL_PATH_NAME\n",
      "11.1 M  88.7 M                                 /data/msd/genre/msd-MAGD-genreAssignment.tsv\n",
      "8.4 M   67.3 M                                 /data/msd/genre/msd-MASD-styleAssignment.tsv\n",
      "10.6 M  85.0 M                                 /data/msd/genre/msd-topMAGD-genreAssignment.tsv\n",
      "TRAAAAK128F9318786\tPop_Rock\n",
      "TRAAAAV128F421A322\tPop_Rock\n",
      "TRAAAAW128F429D538\tRap\n",
      "cat: Unable to write to output stream.\n",
      "TRAAAAK128F9318786\tMetal_Alternative\n",
      "TRAAAAV128F421A322\tPunk\n",
      "TRAAAAW128F429D538\tHip_Hop_Rap\n",
      "cat: Unable to write to output stream.\n",
      "TRAAAAK128F9318786\tPop_Rock\n",
      "TRAAAAV128F421A322\tPop_Rock\n",
      "TRAAAAW128F429D538\tRap\n",
      "cat: Unable to write to output stream.\n"
     ]
    }
   ],
   "source": [
    "!hdfs dfs -du -h -v /data/msd/genre\n",
    "!hdfs dfs -cat /data/msd/genre/msd-MAGD-genreAssignment.tsv | head -n3\n",
    "!hdfs dfs -cat /data/msd/genre/msd-MASD-styleAssignment.tsv | head -n3\n",
    "!hdfs dfs -cat /data/msd/genre/msd-topMAGD-genreAssignment.tsv | head -n3"
   ]
  },
  {
   "cell_type": "code",
   "execution_count": 40,
   "metadata": {
    "scrolled": true
   },
   "outputs": [
    {
     "name": "stdout",
     "output_type": "stream",
     "text": [
      "analysis_sample_rate,audio_md5,danceability,duration,end_of_fade_in,energy,idx_bars_confidence,idx_bars_start,idx_beats_confidence,idx_beats_start,idx_sections_confidence,idx_sections_start,idx_segments_confidence,idx_segments_loudness_max,idx_segments_loudness_max_time,idx_segments_loudness_start,idx_segments_pitches,idx_segments_start,idx_segments_timbre,idx_tatums_confidence,idx_tatums_start,key,key_confidence,loudness,mode,mode_confidence,start_of_fade_out,tempo,time_signature,time_signature_confidence,track_id\r\n",
      "22050,aee9820911781c734e7694c5432990ca,0.0,252.05506,2.049,0.0,0,0,0,0,0,0,0,0,0,0,0,0,0,0,0,10,0.777,-4.829,0,0.688,236.635,87.002,4,0.94,TRMMMYQ128F932D901\r\n",
      "22050,ed222d07c83bac7689d52753610a513a,0.0,156.55138,0.258,0.0,0,0,0,0,0,0,0,0,0,0,0,0,0,0,0,9,0.808,-10.555,1,0.355,148.66,150.778,1,0.0,TRMMMKD128F425225D\r\n",
      "\r\n",
      "gzip: stdout: Broken pipe\r\n",
      "cat: Unable to write to output stream.\r\n"
     ]
    }
   ],
   "source": [
    "!hdfs dfs -cat /data/msd/main/summary/analysis.csv.gz | zcat | head -n3"
   ]
  },
  {
   "cell_type": "code",
   "execution_count": 41,
   "metadata": {
    "scrolled": false
   },
   "outputs": [
    {
     "name": "stdout",
     "output_type": "stream",
     "text": [
      "analyzer_version,artist_7digitalid,artist_familiarity,artist_hotttnesss,artist_id,artist_latitude,artist_location,artist_longitude,artist_mbid,artist_name,artist_playmeid,genre,idx_artist_terms,idx_similar_artists,release,release_7digitalid,song_hotttnesss,song_id,title,track_7digitalid\r\n",
      ",4069,0.6498221002008776,0.3940318927141434,ARYZTJS1187B98C555,,,,357ff05d-848a-44cf-b608-cb34b5701ae5,Faster Pussy cat,44895,,0,0,Monster Ballads X-Mas,633681,0.5428987432910862,SOQMMHC12AB0180CB8,Silent Night,7032331\r\n",
      ",113480,0.4396039666767154,0.3569921077564064,ARMVN3U1187FB3A1EB,,,,8d7ef530-a6fd-4f8f-b2e2-74aec765e0f9,Karkkiautomaatti,-1,,0,0,Karkuteillä,145266,0.2998774882739778,SOVFVAK12A8C1350D9,Tanssi vaan,1514808\r\n",
      "\r\n",
      "gzip: stdout: Broken pipe\r\n",
      "cat: Unable to write to output stream.\r\n"
     ]
    }
   ],
   "source": [
    "!hdfs dfs -cat /data/msd/main/summary/metadata.csv.gz | zcat | head -n3\n"
   ]
  },
  {
   "cell_type": "code",
   "execution_count": 81,
   "metadata": {},
   "outputs": [
    {
     "name": "stdout",
     "output_type": "stream",
     "text": [
      "9d8\n",
      "< ERROR: <SOFQHZM12A8C142342 TRMWMFG128F92FFEF2> Josipa Lisac  -  razloga  !=  Lisac Josipa  -  1000 razloga\n",
      "19d17\n",
      "< ERROR: <SODXUTF12AB018A3DA TRMWPCD12903CCE5ED> Lutan Fyah  -  Nuh Matter the Crisis Feat. Midnite  !=  Midnite  -  Nah Matter the Crisis\n",
      "29d26\n",
      "< ERROR: <SOASCRF12A8C1372E6 TRMHIPJ128F426A2E2> Gaetano Donizetti  -  L'Elisir d'Amore: Act Two: Come sen va contento!  !=  Gianandrea Gavazzeni_ Orchestra E Coro Del Maggio Musicale Fiorentino_ Carlo Bergonzi_ Renata Scotto  -  L'Elisir D'Amore_ Act 2: Come Sen Va Contento (Adina) (Donizetti)\n",
      "33d29\n",
      "< ERROR: <SOITDUN12A58A7AACA TRMHXGK128F42446AB> C.J. Chenier  -  Ay, Ai Ai  !=  Clifton Chenier  -  Ay_ Ai Ai\n",
      "52d47\n",
      "< ERROR: <SOLZXUM12AB018BE39 TRMRSOF12903CCF516> 許志安  -  男人最痛  !=  Andy Hui  -  Nan Ren Zui Tong\n",
      "cat: Unable to write to output stream.\n",
      "ERROR: <SOUMNSI12AB0182807 TRMMGKQ128F9325E10> Digital Underground  -  The Way We Swing  !=  Linkwood  -  Whats up with the Underground\n",
      "ERROR: <SOCMRBE12AB018C546 TRMMREB12903CEB1B1> Jimmy Reed  -  The Sun Is Shining (Digitally Remastered)  !=  Slim Harpo  -  I Got Love If You Want It\n",
      "ERROR: <SOLPHZY12AC468ABA8 TRMMBOC12903CEB46E> Africa HiTech  -  Footstep  !=  Marcus Worgull  -  Drumstern (BONUS TRACK)\n",
      "cat: Unable to write to output stream.\n"
     ]
    }
   ],
   "source": [
    "!hdfs dfs -cat /data/msd/tasteprofile/mismatches/sid_matches_manually_accepted.txt | head -n10\n",
    "\n",
    "!hdfs dfs -cat /data/msd/tasteprofile/mismatches/sid_mismatches.txt | head -n3 "
   ]
  },
  {
   "cell_type": "code",
   "execution_count": 48,
   "metadata": {},
   "outputs": [
    {
     "name": "stdout",
     "output_type": "stream",
     "text": [
      "SIZE    DISK_SPACE_CONSUMED_WITH_ALL_REPLICAS  FULL_PATH_NAME\n",
      "61.1 M  488.4 M                                /data/msd/tasteprofile/triplets.tsv/part-00000.tsv.gz\n",
      "61.1 M  488.6 M                                /data/msd/tasteprofile/triplets.tsv/part-00001.tsv.gz\n",
      "61.1 M  488.9 M                                /data/msd/tasteprofile/triplets.tsv/part-00002.tsv.gz\n",
      "61.1 M  489.1 M                                /data/msd/tasteprofile/triplets.tsv/part-00003.tsv.gz\n",
      "61.0 M  488.3 M                                /data/msd/tasteprofile/triplets.tsv/part-00004.tsv.gz\n",
      "61.1 M  488.7 M                                /data/msd/tasteprofile/triplets.tsv/part-00005.tsv.gz\n",
      "61.1 M  488.8 M                                /data/msd/tasteprofile/triplets.tsv/part-00006.tsv.gz\n",
      "60.8 M  486.7 M                                /data/msd/tasteprofile/triplets.tsv/part-00007.tsv.gz\n"
     ]
    }
   ],
   "source": [
    "!hdfs dfs -du -h -v /data/msd/tasteprofile/triplets.tsv/\n"
   ]
  },
  {
   "cell_type": "code",
   "execution_count": 52,
   "metadata": {},
   "outputs": [
    {
     "name": "stdout",
     "output_type": "stream",
     "text": [
      "3929\r\n"
     ]
    }
   ],
   "source": [
    "!hdfs dfs -cat /data/msd/audio/attributes/* | wc -l"
   ]
  },
  {
   "cell_type": "code",
   "execution_count": 51,
   "metadata": {},
   "outputs": [
    {
     "name": "stdout",
     "output_type": "stream",
     "text": [
      "21\n",
      "21\n",
      "11\n",
      "27\n",
      "17\n",
      "17\n",
      "125\n",
      "421\n",
      "61\n",
      "1441\n",
      "169\n",
      "421\n",
      "1177\n"
     ]
    }
   ],
   "source": [
    "!hdfs dfs -cat /data/msd/audio/attributes/msd-jmir-area-of-moments-all-v1.0.attributes.csv | wc -l\n",
    "!hdfs dfs -cat /data/msd/audio/attributes/msd-jmir-lpc-all-v1.0.attributes.csv | wc -l\n",
    "!hdfs dfs -cat /data/msd/audio/attributes/msd-jmir-methods-of-moments-all-v1.0.attributes.csv | wc -l\n",
    "!hdfs dfs -cat /data/msd/audio/attributes/msd-jmir-mfcc-all-v1.0.attributes.csv | wc -l\n",
    "!hdfs dfs -cat /data/msd/audio/attributes/msd-jmir-spectral-all-all-v1.0.attributes.csv | wc -l\n",
    "!hdfs dfs -cat /data/msd/audio/attributes/msd-jmir-spectral-derivatives-all-all-v1.0.attributes.csv | wc -l\n",
    "!hdfs dfs -cat /data/msd/audio/attributes/msd-marsyas-timbral-v1.0.attributes.csv | wc -l\n",
    "!hdfs dfs -cat /data/msd/audio/attributes/msd-mvd-v1.0.attributes.csv | wc -l\n",
    "!hdfs dfs -cat /data/msd/audio/attributes/msd-rh-v1.0.attributes.csv | wc -l\n",
    "!hdfs dfs -cat /data/msd/audio/attributes/msd-rp-v1.0.attributes.csv | wc -l\n",
    "!hdfs dfs -cat /data/msd/audio/attributes/msd-ssd-v1.0.attributes.csv | wc -l\n",
    "!hdfs dfs -cat /data/msd/audio/attributes/msd-trh-v1.0.attributes.csv | wc -l\n",
    "!hdfs dfs -cat /data/msd/audio/attributes/msd-tssd-v1.0.attributes.csv | wc -l"
   ]
  },
  {
   "cell_type": "code",
   "execution_count": 87,
   "metadata": {
    "scrolled": true
   },
   "outputs": [
    {
     "name": "stdout",
     "output_type": "stream",
     "text": [
      "994623\n",
      "994623\n",
      "994623\n",
      "994623\n",
      "994623\n",
      "994623\n",
      "995001\n",
      "994188\n",
      "994188\n",
      "994188\n",
      "994188\n",
      "994188\n",
      "994188\n"
     ]
    }
   ],
   "source": [
    "\n",
    "!hdfs dfs -cat /data/msd/audio/features/msd-jmir-area-of-moments-all-v1.0.csv/* | zcat | wc -l\n",
    "!hdfs dfs -cat /data/msd/audio/features/msd-jmir-lpc-all-v1.0.csv/* | zcat | wc -l\n",
    "!hdfs dfs -cat /data/msd/audio/features/msd-jmir-methods-of-moments-all-v1.0.csv/* | zcat | wc -l\n",
    "!hdfs dfs -cat /data/msd/audio/features/msd-jmir-mfcc-all-v1.0.csv/* | zcat | wc -l\n",
    "!hdfs dfs -cat /data/msd/audio/features/msd-jmir-spectral-all-all-v1.0.csv/* | zcat | wc -l\n",
    "!hdfs dfs -cat /data/msd/audio/features/msd-jmir-spectral-derivatives-all-all-v1.0.csv/* | zcat | wc -l\n",
    "!hdfs dfs -cat /data/msd/audio/features/msd-marsyas-timbral-v1.0.csv/* | zcat | wc -l\n",
    "!hdfs dfs -cat /data/msd/audio/features/msd-mvd-v1.0.csv/* | zcat | wc -l\n",
    "!hdfs dfs -cat /data/msd/audio/features/msd-rh-v1.0.csv/* | zcat | wc -l\n",
    "!hdfs dfs -cat /data/msd/audio/features/msd-rp-v1.0.csv/* | zcat | wc -l\n",
    "!hdfs dfs -cat /data/msd/audio/features/msd-ssd-v1.0.csv/* | zcat | wc -l\n",
    "!hdfs dfs -cat /data/msd/audio/features/msd-trh-v1.0.csv/* | zcat | wc -l\n",
    "!hdfs dfs -cat /data/msd/audio/features/msd-tssd-v1.0.csv/* | zcat | wc -l\n"
   ]
  },
  {
   "cell_type": "code",
   "execution_count": 61,
   "metadata": {},
   "outputs": [
    {
     "name": "stdout",
     "output_type": "stream",
     "text": [
      "992866\r\n"
     ]
    }
   ],
   "source": [
    "!hdfs dfs -cat /data/msd/audio/statistics/sample_properties.csv.gz | zcat | wc -l"
   ]
  },
  {
   "cell_type": "code",
   "execution_count": 63,
   "metadata": {},
   "outputs": [
    {
     "name": "stdout",
     "output_type": "stream",
     "text": [
      "422714\n",
      "273936\n",
      "406427\n"
     ]
    }
   ],
   "source": [
    "!hdfs dfs -cat /data/msd/genre/msd-MAGD-genreAssignment.tsv | wc -l\n",
    "!hdfs dfs -cat /data/msd/genre/msd-MASD-styleAssignment.tsv | wc -l\n",
    "!hdfs dfs -cat /data/msd/genre/msd-topMAGD-genreAssignment.tsv | wc -l"
   ]
  },
  {
   "cell_type": "code",
   "execution_count": 67,
   "metadata": {},
   "outputs": [
    {
     "name": "stdout",
     "output_type": "stream",
     "text": [
      "1000001\n",
      "1000001\n"
     ]
    }
   ],
   "source": [
    "!hdfs dfs -cat /data/msd/main/summary/analysis.csv.gz | zcat | wc -l\n",
    "\n",
    "!hdfs dfs -cat /data/msd/main/summary/metadata.csv.gz | zcat | wc -l"
   ]
  },
  {
   "cell_type": "code",
   "execution_count": 68,
   "metadata": {},
   "outputs": [
    {
     "name": "stdout",
     "output_type": "stream",
     "text": [
      "938\n",
      "19094\n",
      "48373586\n"
     ]
    }
   ],
   "source": [
    "!hdfs dfs -cat /data/msd/tasteprofile/mismatches/sid_matches_manually_accepted.txt | wc -l\n",
    "\n",
    "\n",
    "!hdfs dfs -cat /data/msd/tasteprofile/mismatches/sid_mismatches.txt | wc -l\n",
    "\n",
    "\n",
    "!hdfs dfs -cat /data/msd/tasteprofile/triplets.tsv/* | zcat | wc -l"
   ]
  },
  {
   "cell_type": "code",
   "execution_count": 88,
   "metadata": {
    "scrolled": false
   },
   "outputs": [
    {
     "data": {
      "text/html": [
       "<p><b>Spark</b></p><p>The spark session is <b><span style=\"color:red\">stopped</span></b>, confirm that <code>ndu31 (jupyter)</code> is under the completed applications section in the Spark UI.</p><ul><li><a href=\"http://mathmadslinux2p.canterbury.ac.nz:8080/\" target=\"_blank\">Spark UI</a></li></ul>"
      ],
      "text/plain": [
       "<IPython.core.display.HTML object>"
      ]
     },
     "metadata": {},
     "output_type": "display_data"
    }
   ],
   "source": [
    "# Run this cell before closing the notebook or kill your spark application by hand using the link in the Spark UI\n",
    "\n",
    "stop_spark()"
   ]
  }
 ],
 "metadata": {
  "kernelspec": {
   "display_name": "Python 3",
   "language": "python",
   "name": "python3"
  },
  "language_info": {
   "codemirror_mode": {
    "name": "ipython",
    "version": 3
   },
   "file_extension": ".py",
   "mimetype": "text/x-python",
   "name": "python",
   "nbconvert_exporter": "python",
   "pygments_lexer": "ipython3",
   "version": "3.7.0"
  }
 },
 "nbformat": 4,
 "nbformat_minor": 2
}
